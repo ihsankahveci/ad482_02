{
 "cells": [
  {
   "cell_type": "markdown",
   "metadata": {},
   "source": [
    "# NAIVE BAYES WITH SMS SPAM COLLECTION DATASET: A TEXT MINING CASE"
   ]
  },
  {
   "cell_type": "markdown",
   "metadata": {},
   "source": [
    "To develop the Naive Bayes classifier, we will use data adapted from the SMS Spam\n",
    "Collection at http://www.dt.fee.unicamp.br/~tiago/smsspamcollection/."
   ]
  },
  {
   "cell_type": "markdown",
   "metadata": {},
   "source": [
    "This dataset includes the text of SMS messages along with a label indicating\n",
    "whether the message is unwanted. Junk messages are labeled spam, while\n",
    "legitimate messages are labeled ham. "
   ]
  },
  {
   "cell_type": "markdown",
   "metadata": {},
   "source": [
    "If you want to continue from a previously saved session state:"
   ]
  },
  {
   "cell_type": "code",
   "execution_count": 1,
   "metadata": {},
   "outputs": [],
   "source": [
    "sessionfile <- \"02_naive_bayes_01.RData\"\n",
    "\n",
    "if(file.exists(sessionfile)) load(sessionfile)"
   ]
  },
  {
   "cell_type": "markdown",
   "metadata": {},
   "source": [
    "Load the necessary libraries:"
   ]
  },
  {
   "cell_type": "code",
   "execution_count": 2,
   "metadata": {},
   "outputs": [
    {
     "name": "stderr",
     "output_type": "stream",
     "text": [
      "── Attaching packages ─────────────────────────────────────── tidyverse 1.2.1 ──\n",
      "✔ ggplot2 3.0.0     ✔ purrr   0.2.5\n",
      "✔ tibble  1.4.2     ✔ dplyr   0.7.6\n",
      "✔ tidyr   0.8.1     ✔ stringr 1.3.1\n",
      "✔ readr   1.1.1     ✔ forcats 0.3.0\n",
      "── Conflicts ────────────────────────────────────────── tidyverse_conflicts() ──\n",
      "✖ dplyr::between()   masks data.table::between()\n",
      "✖ dplyr::filter()    masks stats::filter()\n",
      "✖ dplyr::first()     masks data.table::first()\n",
      "✖ dplyr::lag()       masks stats::lag()\n",
      "✖ dplyr::last()      masks data.table::last()\n",
      "✖ purrr::transpose() masks data.table::transpose()\n",
      "Loading required package: NLP\n",
      "\n",
      "Attaching package: ‘NLP’\n",
      "\n",
      "The following object is masked from ‘package:ggplot2’:\n",
      "\n",
      "    annotate\n",
      "\n",
      "\n",
      "Attaching package: ‘gridExtra’\n",
      "\n",
      "The following object is masked from ‘package:dplyr’:\n",
      "\n",
      "    combine\n",
      "\n",
      "Loading required package: RColorBrewer\n",
      "\n",
      "Attaching package: ‘scales’\n",
      "\n",
      "The following object is masked from ‘package:purrr’:\n",
      "\n",
      "    discard\n",
      "\n",
      "The following object is masked from ‘package:readr’:\n",
      "\n",
      "    col_factor\n",
      "\n",
      "\n",
      "Attaching package: ‘magrittr’\n",
      "\n",
      "The following object is masked from ‘package:purrr’:\n",
      "\n",
      "    set_names\n",
      "\n",
      "The following object is masked from ‘package:tidyr’:\n",
      "\n",
      "    extract\n",
      "\n"
     ]
    }
   ],
   "source": [
    "library(data.table) # to handle the data in a more convenient manner\n",
    "library(tidyverse) # for a better work flow and more tools to wrangle and visualize the data\n",
    "library(tm) # for text mining\n",
    "library(SnowballC) # for word stemming\n",
    "library(gridExtra) # for multiple plots\n",
    "library(wordcloud) # visualize text data\n",
    "library(RColorBrewer) # for beautifying visualizations with custom colors\n",
    "library(e1071) # for naive bayes\n",
    "library(gmodels) # model evaluation\n",
    "library(knitr) # for better table printing\n",
    "library(kableExtra) # for better table printing\n",
    "library(scales) # for formatting numbers\n",
    "library(magrittr) # tools for better handling data structures\n",
    "library(purrr) # tools for better handling data structures\n",
    "library(IRdisplay) # printing html tables from kable\n",
    "options(warn = -1) # for suppressing messages"
   ]
  },
  {
   "cell_type": "markdown",
   "metadata": {},
   "source": [
    "# Data preparation"
   ]
  },
  {
   "cell_type": "markdown",
   "metadata": {},
   "source": [
    "First let's read the data into a data.table object:"
   ]
  },
  {
   "cell_type": "code",
   "execution_count": 3,
   "metadata": {},
   "outputs": [],
   "source": [
    "sms_raw <- fread(\"../data/csv/02_01_sms_spam.csv\")"
   ]
  },
  {
   "cell_type": "markdown",
   "metadata": {},
   "source": [
    "Review the data:"
   ]
  },
  {
   "cell_type": "code",
   "execution_count": 4,
   "metadata": {},
   "outputs": [
    {
     "data": {
      "text/html": [
       "<table>\n",
       "<thead><tr><th scope=col>type</th><th scope=col>text</th></tr></thead>\n",
       "<tbody>\n",
       "\t<tr><td>ham                                                                                                                                                              </td><td>Hope you are having a good week. Just checking in                                                                                                                </td></tr>\n",
       "\t<tr><td>ham                                                                                                                                                              </td><td>K..give back my thanks.                                                                                                                                          </td></tr>\n",
       "\t<tr><td>ham                                                                                                                                                              </td><td>Am also doing in cbe only. But have to pay.                                                                                                                      </td></tr>\n",
       "\t<tr><td>spam                                                                                                                                                             </td><td>complimentary 4 STAR Ibiza Holiday or £10,000 cash needs your URGENT collection. 09066364349 NOW from Landline not to lose out! Box434SK38WP150PPM18+            </td></tr>\n",
       "\t<tr><td>spam                                                                                                                                                             </td><td>okmail: Dear Dave this is your final notice to collect your 4* Tenerife Holiday or #5000 CASH award! Call 09061743806 from landline. TCs SAE Box326 CW25WX 150ppm</td></tr>\n",
       "\t<tr><td>ham                                                                                                                                                              </td><td>Aiya we discuss later lar... Pick u up at 4 is it?                                                                                                               </td></tr>\n",
       "</tbody>\n",
       "</table>\n"
      ],
      "text/latex": [
       "\\begin{tabular}{r|ll}\n",
       " type & text\\\\\n",
       "\\hline\n",
       "\t ham                                                                                                                                                               & Hope you are having a good week. Just checking in                                                                                                                \\\\\n",
       "\t ham                                                                                                                                                               & K..give back my thanks.                                                                                                                                          \\\\\n",
       "\t ham                                                                                                                                                               & Am also doing in cbe only. But have to pay.                                                                                                                      \\\\\n",
       "\t spam                                                                                                                                                              & complimentary 4 STAR Ibiza Holiday or £10,000 cash needs your URGENT collection. 09066364349 NOW from Landline not to lose out! Box434SK38WP150PPM18+            \\\\\n",
       "\t spam                                                                                                                                                                & okmail: Dear Dave this is your final notice to collect your 4* Tenerife Holiday or \\#5000 CASH award! Call 09061743806 from landline. TCs SAE Box326 CW25WX 150ppm\\\\\n",
       "\t ham                                                                                                                                                               & Aiya we discuss later lar... Pick u up at 4 is it?                                                                                                               \\\\\n",
       "\\end{tabular}\n"
      ],
      "text/markdown": [
       "\n",
       "type | text | \n",
       "|---|---|---|---|---|---|\n",
       "| ham                                                                                                                                                               | Hope you are having a good week. Just checking in                                                                                                                 | \n",
       "| ham                                                                                                                                                               | K..give back my thanks.                                                                                                                                           | \n",
       "| ham                                                                                                                                                               | Am also doing in cbe only. But have to pay.                                                                                                                       | \n",
       "| spam                                                                                                                                                              | complimentary 4 STAR Ibiza Holiday or £10,000 cash needs your URGENT collection. 09066364349 NOW from Landline not to lose out! Box434SK38WP150PPM18+             | \n",
       "| spam                                                                                                                                                              | okmail: Dear Dave this is your final notice to collect your 4* Tenerife Holiday or #5000 CASH award! Call 09061743806 from landline. TCs SAE Box326 CW25WX 150ppm | \n",
       "| ham                                                                                                                                                               | Aiya we discuss later lar... Pick u up at 4 is it?                                                                                                                | \n",
       "\n",
       "\n"
      ],
      "text/plain": [
       "  type\n",
       "1 ham \n",
       "2 ham \n",
       "3 ham \n",
       "4 spam\n",
       "5 spam\n",
       "6 ham \n",
       "  text                                                                                                                                                             \n",
       "1 Hope you are having a good week. Just checking in                                                                                                                \n",
       "2 K..give back my thanks.                                                                                                                                          \n",
       "3 Am also doing in cbe only. But have to pay.                                                                                                                      \n",
       "4 complimentary 4 STAR Ibiza Holiday or £10,000 cash needs your URGENT collection. 09066364349 NOW from Landline not to lose out! Box434SK38WP150PPM18+            \n",
       "5 okmail: Dear Dave this is your final notice to collect your 4* Tenerife Holiday or #5000 CASH award! Call 09061743806 from landline. TCs SAE Box326 CW25WX 150ppm\n",
       "6 Aiya we discuss later lar... Pick u up at 4 is it?                                                                                                               "
      ]
     },
     "metadata": {},
     "output_type": "display_data"
    }
   ],
   "source": [
    "head(sms_raw)"
   ]
  },
  {
   "cell_type": "markdown",
   "metadata": {},
   "source": [
    "Let's sample 10 ham and 10 spam entries:"
   ]
  },
  {
   "cell_type": "code",
   "execution_count": 5,
   "metadata": {},
   "outputs": [],
   "source": [
    "set.seed(2018)\n",
    "sample1 <- data.table(ham = sms_raw[type == \"ham\"][sample(.N, 10), text],\n",
    "           spam = sms_raw[type == \"spam\"][sample(.N, 10), text])\n",
    "\n"
   ]
  },
  {
   "cell_type": "code",
   "execution_count": 6,
   "metadata": {
    "scrolled": false
   },
   "outputs": [
    {
     "data": {
      "text/html": [
       "<table>\n",
       "<thead><tr><th scope=col>ham</th><th scope=col>spam</th></tr></thead>\n",
       "<tbody>\n",
       "\t<tr><td>Hi, wkend ok but journey terrible. Wk not good as have huge back log of marking to do                                                                                        </td><td>Please call our customer service representative on FREEPHONE 0808 145 4742 between 9am-11pm as you have WON a guaranteed £1000 cash or £5000 prize!                          </td></tr>\n",
       "\t<tr><td>Designation is software developer and may be she get chennai:)                                                                                                               </td><td>Are you unique enough? Find out from 30th August. www.areyouunique.co.uk                                                                                                     </td></tr>\n",
       "\t<tr><td>Yo im right by yo work                                                                                                                                                       </td><td>For the most sparkling shopping breaks from 45 per person; call 0121 2025050 or visit www.shortbreaks.org.uk                                                                 </td></tr>\n",
       "\t<tr><td><span style=white-space:pre-wrap>Sorry, I can't text &amp; drive coherently, see you in twenty                                                                                     </span>                           </td><td><span style=white-space:pre-wrap>WELL DONE! Your 4* Costa Del Sol Holiday or £5000 await collection. Call 09050090044 Now toClaim. SAE, TCs, POBox334, Stockport, SK38xh, Cost£1.50/pm, Max10mins             </span></td></tr>\n",
       "\t<tr><td>Is ur lecture over?                                                                                                                                                          </td><td>U have a secret admirer. REVEAL who thinks U R So special. Call 09065174042. To opt out Reply REVEAL STOP. 1.50 per msg recd. Cust care 07821230901                          </td></tr>\n",
       "\t<tr><td>I'm stuck in da middle of da row on da right hand side of da lt...                                                                                                           </td><td>44 7732584351, Do you want a New Nokia 3510i colour phone DeliveredTomorrow? With 300 free minutes to any mobile + 100 free texts + Free Camcorder reply or call 08000930705.</td></tr>\n",
       "\t<tr><td>EY! CALM DOWNON THEACUSATIONS.. ITXT U COS IWANA KNOW WOTU R DOIN AT THEW/END... HAVENTCN U IN AGES..RING ME IF UR UP4 NETHING SAT.LOVE J XXX.                               </td><td>Please CALL 08712402902 immediately as there is an urgent message waiting for you.                                                                                           </td></tr>\n",
       "\t<tr><td>K, jason says he's gonna be around so I'll be up there around  #                                                                                                             </td><td>Congratulations! Thanks to a good friend U have WON the £2,000 Xmas prize. 2 claim is easy, just call 08718726978 NOW! Only 10p per minute. BT-national-rate                 </td></tr>\n",
       "\t<tr><td>No need to buy lunch for me.. I eat maggi mee..                                                                                                                              </td><td>You have won a guaranteed 32000 award or maybe even £1000 cash to claim ur award call free on 0800 ..... (18+). Its a legitimat efreefone number wat do u think???           </td></tr>\n",
       "\t<tr><td>Can you pls send me that company name. In saibaba colany                                                                                                                     </td><td>URGENT! We are trying to contact U. Todays draw shows that you have won a £800 prize GUARANTEED. Call 09050003091 from land line. Claim C52. Valid 12hrs only                </td></tr>\n",
       "</tbody>\n",
       "</table>\n"
      ],
      "text/latex": [
       "\\begin{tabular}{r|ll}\n",
       " ham & spam\\\\\n",
       "\\hline\n",
       "\t Hi, wkend ok but journey terrible. Wk not good as have huge back log of marking to do                                                                                         & Please call our customer service representative on FREEPHONE 0808 145 4742 between 9am-11pm as you have WON a guaranteed £1000 cash or £5000 prize!                          \\\\\n",
       "\t Designation is software developer and may be she get chennai:)                                                                                                                & Are you unique enough? Find out from 30th August. www.areyouunique.co.uk                                                                                                     \\\\\n",
       "\t Yo im right by yo work                                                                                                                                                        & For the most sparkling shopping breaks from 45 per person; call 0121 2025050 or visit www.shortbreaks.org.uk                                                                 \\\\\n",
       "\t Sorry, I can't text \\& drive coherently, see you in twenty                                                                                                                   & WELL DONE! Your 4* Costa Del Sol Holiday or £5000 await collection. Call 09050090044 Now toClaim. SAE, TCs, POBox334, Stockport, SK38xh, Cost£1.50/pm, Max10mins             \\\\\n",
       "\t Is ur lecture over?                                                                                                                                                           & U have a secret admirer. REVEAL who thinks U R So special. Call 09065174042. To opt out Reply REVEAL STOP. 1.50 per msg recd. Cust care 07821230901                          \\\\\n",
       "\t I'm stuck in da middle of da row on da right hand side of da lt...                                                                                                            & 44 7732584351, Do you want a New Nokia 3510i colour phone DeliveredTomorrow? With 300 free minutes to any mobile + 100 free texts + Free Camcorder reply or call 08000930705.\\\\\n",
       "\t EY! CALM DOWNON THEACUSATIONS.. ITXT U COS IWANA KNOW WOTU R DOIN AT THEW/END... HAVENTCN U IN AGES..RING ME IF UR UP4 NETHING SAT.LOVE J XXX.                                & Please CALL 08712402902 immediately as there is an urgent message waiting for you.                                                                                           \\\\\n",
       "\t K, jason says he's gonna be around so I'll be up there around  \\#                                                                                                            & Congratulations! Thanks to a good friend U have WON the £2,000 Xmas prize. 2 claim is easy, just call 08718726978 NOW! Only 10p per minute. BT-national-rate                 \\\\\n",
       "\t No need to buy lunch for me.. I eat maggi mee..                                                                                                                               & You have won a guaranteed 32000 award or maybe even £1000 cash to claim ur award call free on 0800 ..... (18+). Its a legitimat efreefone number wat do u think???           \\\\\n",
       "\t Can you pls send me that company name. In saibaba colany                                                                                                                      & URGENT! We are trying to contact U. Todays draw shows that you have won a £800 prize GUARANTEED. Call 09050003091 from land line. Claim C52. Valid 12hrs only                \\\\\n",
       "\\end{tabular}\n"
      ],
      "text/markdown": [
       "\n",
       "ham | spam | \n",
       "|---|---|---|---|---|---|---|---|---|---|\n",
       "| Hi, wkend ok but journey terrible. Wk not good as have huge back log of marking to do                                                                                         | Please call our customer service representative on FREEPHONE 0808 145 4742 between 9am-11pm as you have WON a guaranteed £1000 cash or £5000 prize!                           | \n",
       "| Designation is software developer and may be she get chennai:)                                                                                                                | Are you unique enough? Find out from 30th August. www.areyouunique.co.uk                                                                                                      | \n",
       "| Yo im right by yo work                                                                                                                                                        | For the most sparkling shopping breaks from 45 per person; call 0121 2025050 or visit www.shortbreaks.org.uk                                                                  | \n",
       "| Sorry, I can't text & drive coherently, see you in twenty                                                                                                                     | WELL DONE! Your 4* Costa Del Sol Holiday or £5000 await collection. Call 09050090044 Now toClaim. SAE, TCs, POBox334, Stockport, SK38xh, Cost£1.50/pm, Max10mins              | \n",
       "| Is ur lecture over?                                                                                                                                                           | U have a secret admirer. REVEAL who thinks U R So special. Call 09065174042. To opt out Reply REVEAL STOP. 1.50 per msg recd. Cust care 07821230901                           | \n",
       "| I'm stuck in da middle of da row on da right hand side of da lt...                                                                                                            | 44 7732584351, Do you want a New Nokia 3510i colour phone DeliveredTomorrow? With 300 free minutes to any mobile + 100 free texts + Free Camcorder reply or call 08000930705. | \n",
       "| EY! CALM DOWNON THEACUSATIONS.. ITXT U COS IWANA KNOW WOTU R DOIN AT THEW/END... HAVENTCN U IN AGES..RING ME IF UR UP4 NETHING SAT.LOVE J XXX.                                | Please CALL 08712402902 immediately as there is an urgent message waiting for you.                                                                                            | \n",
       "| K, jason says he's gonna be around so I'll be up there around  #                                                                                                              | Congratulations! Thanks to a good friend U have WON the £2,000 Xmas prize. 2 claim is easy, just call 08718726978 NOW! Only 10p per minute. BT-national-rate                  | \n",
       "| No need to buy lunch for me.. I eat maggi mee..                                                                                                                               | You have won a guaranteed 32000 award or maybe even £1000 cash to claim ur award call free on 0800 ..... (18+). Its a legitimat efreefone number wat do u think???            | \n",
       "| Can you pls send me that company name. In saibaba colany                                                                                                                      | URGENT! We are trying to contact U. Todays draw shows that you have won a £800 prize GUARANTEED. Call 09050003091 from land line. Claim C52. Valid 12hrs only                 | \n",
       "\n",
       "\n"
      ],
      "text/plain": [
       "   ham                                                                                                                                           \n",
       "1  Hi, wkend ok but journey terrible. Wk not good as have huge back log of marking to do                                                         \n",
       "2  Designation is software developer and may be she get chennai:)                                                                                \n",
       "3  Yo im right by yo work                                                                                                                        \n",
       "4  Sorry, I can't text & drive coherently, see you in twenty                                                                                     \n",
       "5  Is ur lecture over?                                                                                                                           \n",
       "6  I'm stuck in da middle of da row on da right hand side of da lt...                                                                            \n",
       "7  EY! CALM DOWNON THEACUSATIONS.. ITXT U COS IWANA KNOW WOTU R DOIN AT THEW/END... HAVENTCN U IN AGES..RING ME IF UR UP4 NETHING SAT.LOVE J XXX.\n",
       "8  K, jason says he's gonna be around so I'll be up there around  #                                                                              \n",
       "9  No need to buy lunch for me.. I eat maggi mee..                                                                                               \n",
       "10 Can you pls send me that company name. In saibaba colany                                                                                      \n",
       "   spam                                                                                                                                                                         \n",
       "1  Please call our customer service representative on FREEPHONE 0808 145 4742 between 9am-11pm as you have WON a guaranteed £1000 cash or £5000 prize!                          \n",
       "2  Are you unique enough? Find out from 30th August. www.areyouunique.co.uk                                                                                                     \n",
       "3  For the most sparkling shopping breaks from 45 per person; call 0121 2025050 or visit www.shortbreaks.org.uk                                                                 \n",
       "4  WELL DONE! Your 4* Costa Del Sol Holiday or £5000 await collection. Call 09050090044 Now toClaim. SAE, TCs, POBox334, Stockport, SK38xh, Cost£1.50/pm, Max10mins             \n",
       "5  U have a secret admirer. REVEAL who thinks U R So special. Call 09065174042. To opt out Reply REVEAL STOP. 1.50 per msg recd. Cust care 07821230901                          \n",
       "6  44 7732584351, Do you want a New Nokia 3510i colour phone DeliveredTomorrow? With 300 free minutes to any mobile + 100 free texts + Free Camcorder reply or call 08000930705.\n",
       "7  Please CALL 08712402902 immediately as there is an urgent message waiting for you.                                                                                           \n",
       "8  Congratulations! Thanks to a good friend U have WON the £2,000 Xmas prize. 2 claim is easy, just call 08718726978 NOW! Only 10p per minute. BT-national-rate                 \n",
       "9  You have won a guaranteed 32000 award or maybe even £1000 cash to claim ur award call free on 0800 ..... (18+). Its a legitimat efreefone number wat do u think???           \n",
       "10 URGENT! We are trying to contact U. Todays draw shows that you have won a £800 prize GUARANTEED. Call 09050003091 from land line. Claim C52. Valid 12hrs only                "
      ]
     },
     "metadata": {},
     "output_type": "display_data"
    }
   ],
   "source": [
    "sample1"
   ]
  },
  {
   "cell_type": "markdown",
   "metadata": {},
   "source": [
    "\"free\" and \"urgent\" words appear in spams while not in hams"
   ]
  },
  {
   "cell_type": "markdown",
   "metadata": {},
   "source": [
    "View the structure of the object:"
   ]
  },
  {
   "cell_type": "code",
   "execution_count": 7,
   "metadata": {},
   "outputs": [
    {
     "name": "stdout",
     "output_type": "stream",
     "text": [
      "Classes ‘data.table’ and 'data.frame':\t5559 obs. of  2 variables:\n",
      " $ type: chr  \"ham\" \"ham\" \"ham\" \"spam\" ...\n",
      " $ text: chr  \"Hope you are having a good week. Just checking in\" \"K..give back my thanks.\" \"Am also doing in cbe only. But have to pay.\" \"complimentary 4 STAR Ibiza Holiday or £10,000 cash needs your URGENT collection. 09066364349 NOW from Landline \"| __truncated__ ...\n",
      " - attr(*, \".internal.selfref\")=<externalptr> \n",
      " - attr(*, \"index\")= int \n",
      "  ..- attr(*, \"__type\")= int  1 2 3 6 7 8 10 11 12 13 ...\n"
     ]
    }
   ],
   "source": [
    "str(sms_raw)"
   ]
  },
  {
   "cell_type": "markdown",
   "metadata": {},
   "source": [
    "It is better that we convert \"type\" from character to factor: "
   ]
  },
  {
   "cell_type": "code",
   "execution_count": 8,
   "metadata": {},
   "outputs": [
    {
     "data": {},
     "metadata": {},
     "output_type": "display_data"
    }
   ],
   "source": [
    "sms_raw[,type := as.factor(type)]"
   ]
  },
  {
   "cell_type": "code",
   "execution_count": 9,
   "metadata": {},
   "outputs": [
    {
     "name": "stdout",
     "output_type": "stream",
     "text": [
      "Classes ‘data.table’ and 'data.frame':\t5559 obs. of  2 variables:\n",
      " $ type: Factor w/ 2 levels \"ham\",\"spam\": 1 1 1 2 2 1 1 1 2 1 ...\n",
      " $ text: chr  \"Hope you are having a good week. Just checking in\" \"K..give back my thanks.\" \"Am also doing in cbe only. But have to pay.\" \"complimentary 4 STAR Ibiza Holiday or £10,000 cash needs your URGENT collection. 09066364349 NOW from Landline \"| __truncated__ ...\n",
      " - attr(*, \".internal.selfref\")=<externalptr> \n",
      " - attr(*, \"index\")= int \n"
     ]
    }
   ],
   "source": [
    "str(sms_raw)"
   ]
  },
  {
   "cell_type": "markdown",
   "metadata": {},
   "source": [
    "## Clean and Standardize Text Data"
   ]
  },
  {
   "cell_type": "markdown",
   "metadata": {},
   "source": [
    "SMS messages are strings of text composed of words, spaces, numbers, and\n",
    "punctuation.\n",
    "\n",
    "Handling this type of complex data takes a lot of thought and\n",
    "effort.\n",
    "\n",
    "One needs to consider how to remove numbers and punctuation; handle\n",
    "uninteresting words such as and, but, and or; and how to break apart sentences into\n",
    "individual words."
   ]
  },
  {
   "cell_type": "markdown",
   "metadata": {},
   "source": [
    "The first step in processing text data involves creating a corpus, which is a collection of text documents.\n",
    "\n",
    "The documents can be short or long, from individual news articles, pages in a book or on the web, or entire books.\n",
    "\n",
    "In our case, the corpus will be a collection of SMS messages."
   ]
  },
  {
   "cell_type": "code",
   "execution_count": 10,
   "metadata": {},
   "outputs": [],
   "source": [
    "# read text with VectorSource and create corpus with VCorpus\n",
    "\n",
    "sms_corpus <- sms_raw[,tm::VectorSource(text)] %>% tm::VCorpus()"
   ]
  },
  {
   "cell_type": "markdown",
   "metadata": {},
   "source": [
    "Corpus holds documents for each of the messages:"
   ]
  },
  {
   "cell_type": "code",
   "execution_count": 11,
   "metadata": {},
   "outputs": [
    {
     "data": {
      "text/plain": [
       "<<VCorpus>>\n",
       "Metadata:  corpus specific: 0, document level (indexed): 0\n",
       "Content:  documents: 5559"
      ]
     },
     "metadata": {},
     "output_type": "display_data"
    }
   ],
   "source": [
    "sms_corpus"
   ]
  },
  {
   "cell_type": "markdown",
   "metadata": {},
   "source": [
    "We can get a summary of specific messages with tm::inspect() function"
   ]
  },
  {
   "cell_type": "code",
   "execution_count": 12,
   "metadata": {},
   "outputs": [
    {
     "name": "stdout",
     "output_type": "stream",
     "text": [
      "<<VCorpus>>\n",
      "Metadata:  corpus specific: 0, document level (indexed): 0\n",
      "Content:  documents: 2\n",
      "\n",
      "[[1]]\n",
      "<<PlainTextDocument>>\n",
      "Metadata:  7\n",
      "Content:  chars: 49\n",
      "\n",
      "[[2]]\n",
      "<<PlainTextDocument>>\n",
      "Metadata:  7\n",
      "Content:  chars: 23\n",
      "\n"
     ]
    }
   ],
   "source": [
    "tm::inspect(sms_corpus[1:2])"
   ]
  },
  {
   "cell_type": "markdown",
   "metadata": {},
   "source": [
    "To get the actual message, we should convert a list item to character:"
   ]
  },
  {
   "cell_type": "code",
   "execution_count": 13,
   "metadata": {},
   "outputs": [
    {
     "data": {
      "text/html": [
       "'Hope you are having a good week. Just checking in'"
      ],
      "text/latex": [
       "'Hope you are having a good week. Just checking in'"
      ],
      "text/markdown": [
       "'Hope you are having a good week. Just checking in'"
      ],
      "text/plain": [
       "[1] \"Hope you are having a good week. Just checking in\""
      ]
     },
     "metadata": {},
     "output_type": "display_data"
    }
   ],
   "source": [
    "as.character(sms_corpus[[1]])"
   ]
  },
  {
   "cell_type": "markdown",
   "metadata": {},
   "source": [
    "For viewing multiple messages, we'll use sapply:"
   ]
  },
  {
   "cell_type": "code",
   "execution_count": 14,
   "metadata": {},
   "outputs": [
    {
     "data": {
      "text/html": [
       "<dl class=dl-horizontal>\n",
       "\t<dt>1</dt>\n",
       "\t\t<dd>'Hope you are having a good week. Just checking in'</dd>\n",
       "\t<dt>2</dt>\n",
       "\t\t<dd>'K..give back my thanks.'</dd>\n",
       "</dl>\n"
      ],
      "text/latex": [
       "\\begin{description*}\n",
       "\\item[1] 'Hope you are having a good week. Just checking in'\n",
       "\\item[2] 'K..give back my thanks.'\n",
       "\\end{description*}\n"
      ],
      "text/markdown": [
       "1\n",
       ":   'Hope you are having a good week. Just checking in'2\n",
       ":   'K..give back my thanks.'\n",
       "\n"
      ],
      "text/plain": [
       "                                                  1 \n",
       "\"Hope you are having a good week. Just checking in\" \n",
       "                                                  2 \n",
       "                          \"K..give back my thanks.\" "
      ]
     },
     "metadata": {},
     "output_type": "display_data"
    }
   ],
   "source": [
    "sapply(sms_corpus[1:2], as.character)"
   ]
  },
  {
   "cell_type": "markdown",
   "metadata": {},
   "source": [
    "In order to perform our analysis, we need to divide these messages into individual words.\n",
    "\n",
    "But first, we need to clean the text, in order to standardize the words, by removing punctuation and other characters that clutter the result.\n",
    "\n",
    "For example, we would like the strings Hello!, HELLO, and hello to be counted as instances of the same word.\n",
    "\n",
    "The tm_map() function provides a method to apply a transformation (also known as mapping) to a tm corpus."
   ]
  },
  {
   "cell_type": "markdown",
   "metadata": {},
   "source": [
    "**tm_map to a corpus object is what \"lapply\" to an ordinary list object is: It applies the same function to all of its items and returns a corpus object**"
   ]
  },
  {
   "cell_type": "markdown",
   "metadata": {},
   "source": [
    "### Case lowering"
   ]
  },
  {
   "cell_type": "markdown",
   "metadata": {},
   "source": [
    "Our first order of business will be to standardize the messages to use only lowercase\n",
    "characters. "
   ]
  },
  {
   "cell_type": "code",
   "execution_count": 15,
   "metadata": {},
   "outputs": [],
   "source": [
    "sms_corpus_clean <- tm::tm_map(sms_corpus, tm::content_transformer(tolower))"
   ]
  },
  {
   "cell_type": "markdown",
   "metadata": {},
   "source": [
    "Let's compare a message before and after transformation:"
   ]
  },
  {
   "cell_type": "code",
   "execution_count": 16,
   "metadata": {},
   "outputs": [
    {
     "data": {
      "text/html": [
       "'Hope you are having a good week. Just checking in'"
      ],
      "text/latex": [
       "'Hope you are having a good week. Just checking in'"
      ],
      "text/markdown": [
       "'Hope you are having a good week. Just checking in'"
      ],
      "text/plain": [
       "[1] \"Hope you are having a good week. Just checking in\""
      ]
     },
     "metadata": {},
     "output_type": "display_data"
    },
    {
     "data": {
      "text/html": [
       "'hope you are having a good week. just checking in'"
      ],
      "text/latex": [
       "'hope you are having a good week. just checking in'"
      ],
      "text/markdown": [
       "'hope you are having a good week. just checking in'"
      ],
      "text/plain": [
       "[1] \"hope you are having a good week. just checking in\""
      ]
     },
     "metadata": {},
     "output_type": "display_data"
    }
   ],
   "source": [
    "as.character(sms_corpus[[1]])\n",
    "as.character(sms_corpus_clean[[1]])"
   ]
  },
  {
   "cell_type": "markdown",
   "metadata": {},
   "source": [
    "### Cleaning numbers"
   ]
  },
  {
   "cell_type": "markdown",
   "metadata": {},
   "source": [
    "Let's remove numbers from messages:"
   ]
  },
  {
   "cell_type": "code",
   "execution_count": 17,
   "metadata": {},
   "outputs": [],
   "source": [
    "sms_corpus_clean <- tm::tm_map(sms_corpus_clean, removeNumbers)"
   ]
  },
  {
   "cell_type": "markdown",
   "metadata": {},
   "source": [
    "And the result:"
   ]
  },
  {
   "cell_type": "code",
   "execution_count": 18,
   "metadata": {
    "scrolled": false
   },
   "outputs": [
    {
     "data": {
      "text/html": [
       "<dl class=dl-horizontal>\n",
       "\t<dt>4</dt>\n",
       "\t\t<dd>'complimentary 4 STAR Ibiza Holiday or £10,000 cash needs your URGENT collection. 09066364349 NOW from Landline not to lose out! Box434SK38WP150PPM18+'</dd>\n",
       "\t<dt>5</dt>\n",
       "\t\t<dd>'okmail: Dear Dave this is your final notice to collect your 4* Tenerife Holiday or #5000 CASH award! Call 09061743806 from landline. TCs SAE Box326 CW25WX 150ppm'</dd>\n",
       "</dl>\n"
      ],
      "text/latex": [
       "\\begin{description*}\n",
       "\\item[4] 'complimentary 4 STAR Ibiza Holiday or £10,000 cash needs your URGENT collection. 09066364349 NOW from Landline not to lose out! Box434SK38WP150PPM18+'\n",
       "\\item[5] 'okmail: Dear Dave this is your final notice to collect your 4* Tenerife Holiday or \\#5000 CASH award! Call 09061743806 from landline. TCs SAE Box326 CW25WX 150ppm'\n",
       "\\end{description*}\n"
      ],
      "text/markdown": [
       "4\n",
       ":   'complimentary 4 STAR Ibiza Holiday or £10,000 cash needs your URGENT collection. 09066364349 NOW from Landline not to lose out! Box434SK38WP150PPM18+'5\n",
       ":   'okmail: Dear Dave this is your final notice to collect your 4* Tenerife Holiday or #5000 CASH award! Call 09061743806 from landline. TCs SAE Box326 CW25WX 150ppm'\n",
       "\n"
      ],
      "text/plain": [
       "                                                                                                                                                                  4 \n",
       "            \"complimentary 4 STAR Ibiza Holiday or £10,000 cash needs your URGENT collection. 09066364349 NOW from Landline not to lose out! Box434SK38WP150PPM18+\" \n",
       "                                                                                                                                                                  5 \n",
       "\"okmail: Dear Dave this is your final notice to collect your 4* Tenerife Holiday or #5000 CASH award! Call 09061743806 from landline. TCs SAE Box326 CW25WX 150ppm\" "
      ]
     },
     "metadata": {},
     "output_type": "display_data"
    },
    {
     "data": {
      "text/html": [
       "<dl class=dl-horizontal>\n",
       "\t<dt>4</dt>\n",
       "\t\t<dd><span style=white-space:pre-wrap>'complimentary  star ibiza holiday or £, cash needs your urgent collection.  now from landline not to lose out! boxskwpppm+'</span></dd>\n",
       "\t<dt>5</dt>\n",
       "\t\t<dd><span style=white-space:pre-wrap>'okmail: dear dave this is your final notice to collect your * tenerife holiday or # cash award! call  from landline. tcs sae box cwwx ppm'</span></dd>\n",
       "</dl>\n"
      ],
      "text/latex": [
       "\\begin{description*}\n",
       "\\item[4] 'complimentary  star ibiza holiday or £, cash needs your urgent collection.  now from landline not to lose out! boxskwpppm+'\n",
       "\\item[5] 'okmail: dear dave this is your final notice to collect your * tenerife holiday or \\# cash award! call  from landline. tcs sae box cwwx ppm'\n",
       "\\end{description*}\n"
      ],
      "text/markdown": [
       "4\n",
       ":   <span style=white-space:pre-wrap>'complimentary  star ibiza holiday or £, cash needs your urgent collection.  now from landline not to lose out! boxskwpppm+'</span>5\n",
       ":   <span style=white-space:pre-wrap>'okmail: dear dave this is your final notice to collect your * tenerife holiday or # cash award! call  from landline. tcs sae box cwwx ppm'</span>\n",
       "\n"
      ],
      "text/plain": [
       "                                                                                                                                          4 \n",
       "               \"complimentary  star ibiza holiday or £, cash needs your urgent collection.  now from landline not to lose out! boxskwpppm+\" \n",
       "                                                                                                                                          5 \n",
       "\"okmail: dear dave this is your final notice to collect your * tenerife holiday or # cash award! call  from landline. tcs sae box cwwx ppm\" "
      ]
     },
     "metadata": {},
     "output_type": "display_data"
    }
   ],
   "source": [
    "sapply(sms_corpus[4:5], as.character)\n",
    "sapply(sms_corpus_clean[4:5], as.character)"
   ]
  },
  {
   "cell_type": "markdown",
   "metadata": {},
   "source": [
    "### Clean stop words"
   ]
  },
  {
   "cell_type": "markdown",
   "metadata": {},
   "source": [
    "Our next task is to remove filler words such as to, and, but, and or from our SMS\n",
    "messages.\n",
    "\n",
    "These terms are known as stop words and are typically removed prior to\n",
    "text mining.\n",
    "\n",
    "This is due to the fact that although they appear very frequently, they do\n",
    "not provide much useful information for machine learning."
   ]
  },
  {
   "cell_type": "code",
   "execution_count": 19,
   "metadata": {},
   "outputs": [
    {
     "data": {
      "text/html": [
       "<ol class=list-inline>\n",
       "\t<li>'i'</li>\n",
       "\t<li>'me'</li>\n",
       "\t<li>'my'</li>\n",
       "\t<li>'myself'</li>\n",
       "\t<li>'we'</li>\n",
       "\t<li>'our'</li>\n",
       "\t<li>'ours'</li>\n",
       "\t<li>'ourselves'</li>\n",
       "\t<li>'you'</li>\n",
       "\t<li>'your'</li>\n",
       "\t<li>'yours'</li>\n",
       "\t<li>'yourself'</li>\n",
       "\t<li>'yourselves'</li>\n",
       "\t<li>'he'</li>\n",
       "\t<li>'him'</li>\n",
       "\t<li>'his'</li>\n",
       "\t<li>'himself'</li>\n",
       "\t<li>'she'</li>\n",
       "\t<li>'her'</li>\n",
       "\t<li>'hers'</li>\n",
       "\t<li>'herself'</li>\n",
       "\t<li>'it'</li>\n",
       "\t<li>'its'</li>\n",
       "\t<li>'itself'</li>\n",
       "\t<li>'they'</li>\n",
       "\t<li>'them'</li>\n",
       "\t<li>'their'</li>\n",
       "\t<li>'theirs'</li>\n",
       "\t<li>'themselves'</li>\n",
       "\t<li>'what'</li>\n",
       "\t<li>'which'</li>\n",
       "\t<li>'who'</li>\n",
       "\t<li>'whom'</li>\n",
       "\t<li>'this'</li>\n",
       "\t<li>'that'</li>\n",
       "\t<li>'these'</li>\n",
       "\t<li>'those'</li>\n",
       "\t<li>'am'</li>\n",
       "\t<li>'is'</li>\n",
       "\t<li>'are'</li>\n",
       "\t<li>'was'</li>\n",
       "\t<li>'were'</li>\n",
       "\t<li>'be'</li>\n",
       "\t<li>'been'</li>\n",
       "\t<li>'being'</li>\n",
       "\t<li>'have'</li>\n",
       "\t<li>'has'</li>\n",
       "\t<li>'had'</li>\n",
       "\t<li>'having'</li>\n",
       "\t<li>'do'</li>\n",
       "\t<li>'does'</li>\n",
       "\t<li>'did'</li>\n",
       "\t<li>'doing'</li>\n",
       "\t<li>'would'</li>\n",
       "\t<li>'should'</li>\n",
       "\t<li>'could'</li>\n",
       "\t<li>'ought'</li>\n",
       "\t<li>'i\\'m'</li>\n",
       "\t<li>'you\\'re'</li>\n",
       "\t<li>'he\\'s'</li>\n",
       "\t<li>'she\\'s'</li>\n",
       "\t<li>'it\\'s'</li>\n",
       "\t<li>'we\\'re'</li>\n",
       "\t<li>'they\\'re'</li>\n",
       "\t<li>'i\\'ve'</li>\n",
       "\t<li>'you\\'ve'</li>\n",
       "\t<li>'we\\'ve'</li>\n",
       "\t<li>'they\\'ve'</li>\n",
       "\t<li>'i\\'d'</li>\n",
       "\t<li>'you\\'d'</li>\n",
       "\t<li>'he\\'d'</li>\n",
       "\t<li>'she\\'d'</li>\n",
       "\t<li>'we\\'d'</li>\n",
       "\t<li>'they\\'d'</li>\n",
       "\t<li>'i\\'ll'</li>\n",
       "\t<li>'you\\'ll'</li>\n",
       "\t<li>'he\\'ll'</li>\n",
       "\t<li>'she\\'ll'</li>\n",
       "\t<li>'we\\'ll'</li>\n",
       "\t<li>'they\\'ll'</li>\n",
       "\t<li>'isn\\'t'</li>\n",
       "\t<li>'aren\\'t'</li>\n",
       "\t<li>'wasn\\'t'</li>\n",
       "\t<li>'weren\\'t'</li>\n",
       "\t<li>'hasn\\'t'</li>\n",
       "\t<li>'haven\\'t'</li>\n",
       "\t<li>'hadn\\'t'</li>\n",
       "\t<li>'doesn\\'t'</li>\n",
       "\t<li>'don\\'t'</li>\n",
       "\t<li>'didn\\'t'</li>\n",
       "\t<li>'won\\'t'</li>\n",
       "\t<li>'wouldn\\'t'</li>\n",
       "\t<li>'shan\\'t'</li>\n",
       "\t<li>'shouldn\\'t'</li>\n",
       "\t<li>'can\\'t'</li>\n",
       "\t<li>'cannot'</li>\n",
       "\t<li>'couldn\\'t'</li>\n",
       "\t<li>'mustn\\'t'</li>\n",
       "\t<li>'let\\'s'</li>\n",
       "\t<li>'that\\'s'</li>\n",
       "\t<li>'who\\'s'</li>\n",
       "\t<li>'what\\'s'</li>\n",
       "\t<li>'here\\'s'</li>\n",
       "\t<li>'there\\'s'</li>\n",
       "\t<li>'when\\'s'</li>\n",
       "\t<li>'where\\'s'</li>\n",
       "\t<li>'why\\'s'</li>\n",
       "\t<li>'how\\'s'</li>\n",
       "\t<li>'a'</li>\n",
       "\t<li>'an'</li>\n",
       "\t<li>'the'</li>\n",
       "\t<li>'and'</li>\n",
       "\t<li>'but'</li>\n",
       "\t<li>'if'</li>\n",
       "\t<li>'or'</li>\n",
       "\t<li>'because'</li>\n",
       "\t<li>'as'</li>\n",
       "\t<li>'until'</li>\n",
       "\t<li>'while'</li>\n",
       "\t<li>'of'</li>\n",
       "\t<li>'at'</li>\n",
       "\t<li>'by'</li>\n",
       "\t<li>'for'</li>\n",
       "\t<li>'with'</li>\n",
       "\t<li>'about'</li>\n",
       "\t<li>'against'</li>\n",
       "\t<li>'between'</li>\n",
       "\t<li>'into'</li>\n",
       "\t<li>'through'</li>\n",
       "\t<li>'during'</li>\n",
       "\t<li>'before'</li>\n",
       "\t<li>'after'</li>\n",
       "\t<li>'above'</li>\n",
       "\t<li>'below'</li>\n",
       "\t<li>'to'</li>\n",
       "\t<li>'from'</li>\n",
       "\t<li>'up'</li>\n",
       "\t<li>'down'</li>\n",
       "\t<li>'in'</li>\n",
       "\t<li>'out'</li>\n",
       "\t<li>'on'</li>\n",
       "\t<li>'off'</li>\n",
       "\t<li>'over'</li>\n",
       "\t<li>'under'</li>\n",
       "\t<li>'again'</li>\n",
       "\t<li>'further'</li>\n",
       "\t<li>'then'</li>\n",
       "\t<li>'once'</li>\n",
       "\t<li>'here'</li>\n",
       "\t<li>'there'</li>\n",
       "\t<li>'when'</li>\n",
       "\t<li>'where'</li>\n",
       "\t<li>'why'</li>\n",
       "\t<li>'how'</li>\n",
       "\t<li>'all'</li>\n",
       "\t<li>'any'</li>\n",
       "\t<li>'both'</li>\n",
       "\t<li>'each'</li>\n",
       "\t<li>'few'</li>\n",
       "\t<li>'more'</li>\n",
       "\t<li>'most'</li>\n",
       "\t<li>'other'</li>\n",
       "\t<li>'some'</li>\n",
       "\t<li>'such'</li>\n",
       "\t<li>'no'</li>\n",
       "\t<li>'nor'</li>\n",
       "\t<li>'not'</li>\n",
       "\t<li>'only'</li>\n",
       "\t<li>'own'</li>\n",
       "\t<li>'same'</li>\n",
       "\t<li>'so'</li>\n",
       "\t<li>'than'</li>\n",
       "\t<li>'too'</li>\n",
       "\t<li>'very'</li>\n",
       "</ol>\n"
      ],
      "text/latex": [
       "\\begin{enumerate*}\n",
       "\\item 'i'\n",
       "\\item 'me'\n",
       "\\item 'my'\n",
       "\\item 'myself'\n",
       "\\item 'we'\n",
       "\\item 'our'\n",
       "\\item 'ours'\n",
       "\\item 'ourselves'\n",
       "\\item 'you'\n",
       "\\item 'your'\n",
       "\\item 'yours'\n",
       "\\item 'yourself'\n",
       "\\item 'yourselves'\n",
       "\\item 'he'\n",
       "\\item 'him'\n",
       "\\item 'his'\n",
       "\\item 'himself'\n",
       "\\item 'she'\n",
       "\\item 'her'\n",
       "\\item 'hers'\n",
       "\\item 'herself'\n",
       "\\item 'it'\n",
       "\\item 'its'\n",
       "\\item 'itself'\n",
       "\\item 'they'\n",
       "\\item 'them'\n",
       "\\item 'their'\n",
       "\\item 'theirs'\n",
       "\\item 'themselves'\n",
       "\\item 'what'\n",
       "\\item 'which'\n",
       "\\item 'who'\n",
       "\\item 'whom'\n",
       "\\item 'this'\n",
       "\\item 'that'\n",
       "\\item 'these'\n",
       "\\item 'those'\n",
       "\\item 'am'\n",
       "\\item 'is'\n",
       "\\item 'are'\n",
       "\\item 'was'\n",
       "\\item 'were'\n",
       "\\item 'be'\n",
       "\\item 'been'\n",
       "\\item 'being'\n",
       "\\item 'have'\n",
       "\\item 'has'\n",
       "\\item 'had'\n",
       "\\item 'having'\n",
       "\\item 'do'\n",
       "\\item 'does'\n",
       "\\item 'did'\n",
       "\\item 'doing'\n",
       "\\item 'would'\n",
       "\\item 'should'\n",
       "\\item 'could'\n",
       "\\item 'ought'\n",
       "\\item 'i\\textbackslash{}'m'\n",
       "\\item 'you\\textbackslash{}'re'\n",
       "\\item 'he\\textbackslash{}'s'\n",
       "\\item 'she\\textbackslash{}'s'\n",
       "\\item 'it\\textbackslash{}'s'\n",
       "\\item 'we\\textbackslash{}'re'\n",
       "\\item 'they\\textbackslash{}'re'\n",
       "\\item 'i\\textbackslash{}'ve'\n",
       "\\item 'you\\textbackslash{}'ve'\n",
       "\\item 'we\\textbackslash{}'ve'\n",
       "\\item 'they\\textbackslash{}'ve'\n",
       "\\item 'i\\textbackslash{}'d'\n",
       "\\item 'you\\textbackslash{}'d'\n",
       "\\item 'he\\textbackslash{}'d'\n",
       "\\item 'she\\textbackslash{}'d'\n",
       "\\item 'we\\textbackslash{}'d'\n",
       "\\item 'they\\textbackslash{}'d'\n",
       "\\item 'i\\textbackslash{}'ll'\n",
       "\\item 'you\\textbackslash{}'ll'\n",
       "\\item 'he\\textbackslash{}'ll'\n",
       "\\item 'she\\textbackslash{}'ll'\n",
       "\\item 'we\\textbackslash{}'ll'\n",
       "\\item 'they\\textbackslash{}'ll'\n",
       "\\item 'isn\\textbackslash{}'t'\n",
       "\\item 'aren\\textbackslash{}'t'\n",
       "\\item 'wasn\\textbackslash{}'t'\n",
       "\\item 'weren\\textbackslash{}'t'\n",
       "\\item 'hasn\\textbackslash{}'t'\n",
       "\\item 'haven\\textbackslash{}'t'\n",
       "\\item 'hadn\\textbackslash{}'t'\n",
       "\\item 'doesn\\textbackslash{}'t'\n",
       "\\item 'don\\textbackslash{}'t'\n",
       "\\item 'didn\\textbackslash{}'t'\n",
       "\\item 'won\\textbackslash{}'t'\n",
       "\\item 'wouldn\\textbackslash{}'t'\n",
       "\\item 'shan\\textbackslash{}'t'\n",
       "\\item 'shouldn\\textbackslash{}'t'\n",
       "\\item 'can\\textbackslash{}'t'\n",
       "\\item 'cannot'\n",
       "\\item 'couldn\\textbackslash{}'t'\n",
       "\\item 'mustn\\textbackslash{}'t'\n",
       "\\item 'let\\textbackslash{}'s'\n",
       "\\item 'that\\textbackslash{}'s'\n",
       "\\item 'who\\textbackslash{}'s'\n",
       "\\item 'what\\textbackslash{}'s'\n",
       "\\item 'here\\textbackslash{}'s'\n",
       "\\item 'there\\textbackslash{}'s'\n",
       "\\item 'when\\textbackslash{}'s'\n",
       "\\item 'where\\textbackslash{}'s'\n",
       "\\item 'why\\textbackslash{}'s'\n",
       "\\item 'how\\textbackslash{}'s'\n",
       "\\item 'a'\n",
       "\\item 'an'\n",
       "\\item 'the'\n",
       "\\item 'and'\n",
       "\\item 'but'\n",
       "\\item 'if'\n",
       "\\item 'or'\n",
       "\\item 'because'\n",
       "\\item 'as'\n",
       "\\item 'until'\n",
       "\\item 'while'\n",
       "\\item 'of'\n",
       "\\item 'at'\n",
       "\\item 'by'\n",
       "\\item 'for'\n",
       "\\item 'with'\n",
       "\\item 'about'\n",
       "\\item 'against'\n",
       "\\item 'between'\n",
       "\\item 'into'\n",
       "\\item 'through'\n",
       "\\item 'during'\n",
       "\\item 'before'\n",
       "\\item 'after'\n",
       "\\item 'above'\n",
       "\\item 'below'\n",
       "\\item 'to'\n",
       "\\item 'from'\n",
       "\\item 'up'\n",
       "\\item 'down'\n",
       "\\item 'in'\n",
       "\\item 'out'\n",
       "\\item 'on'\n",
       "\\item 'off'\n",
       "\\item 'over'\n",
       "\\item 'under'\n",
       "\\item 'again'\n",
       "\\item 'further'\n",
       "\\item 'then'\n",
       "\\item 'once'\n",
       "\\item 'here'\n",
       "\\item 'there'\n",
       "\\item 'when'\n",
       "\\item 'where'\n",
       "\\item 'why'\n",
       "\\item 'how'\n",
       "\\item 'all'\n",
       "\\item 'any'\n",
       "\\item 'both'\n",
       "\\item 'each'\n",
       "\\item 'few'\n",
       "\\item 'more'\n",
       "\\item 'most'\n",
       "\\item 'other'\n",
       "\\item 'some'\n",
       "\\item 'such'\n",
       "\\item 'no'\n",
       "\\item 'nor'\n",
       "\\item 'not'\n",
       "\\item 'only'\n",
       "\\item 'own'\n",
       "\\item 'same'\n",
       "\\item 'so'\n",
       "\\item 'than'\n",
       "\\item 'too'\n",
       "\\item 'very'\n",
       "\\end{enumerate*}\n"
      ],
      "text/markdown": [
       "1. 'i'\n",
       "2. 'me'\n",
       "3. 'my'\n",
       "4. 'myself'\n",
       "5. 'we'\n",
       "6. 'our'\n",
       "7. 'ours'\n",
       "8. 'ourselves'\n",
       "9. 'you'\n",
       "10. 'your'\n",
       "11. 'yours'\n",
       "12. 'yourself'\n",
       "13. 'yourselves'\n",
       "14. 'he'\n",
       "15. 'him'\n",
       "16. 'his'\n",
       "17. 'himself'\n",
       "18. 'she'\n",
       "19. 'her'\n",
       "20. 'hers'\n",
       "21. 'herself'\n",
       "22. 'it'\n",
       "23. 'its'\n",
       "24. 'itself'\n",
       "25. 'they'\n",
       "26. 'them'\n",
       "27. 'their'\n",
       "28. 'theirs'\n",
       "29. 'themselves'\n",
       "30. 'what'\n",
       "31. 'which'\n",
       "32. 'who'\n",
       "33. 'whom'\n",
       "34. 'this'\n",
       "35. 'that'\n",
       "36. 'these'\n",
       "37. 'those'\n",
       "38. 'am'\n",
       "39. 'is'\n",
       "40. 'are'\n",
       "41. 'was'\n",
       "42. 'were'\n",
       "43. 'be'\n",
       "44. 'been'\n",
       "45. 'being'\n",
       "46. 'have'\n",
       "47. 'has'\n",
       "48. 'had'\n",
       "49. 'having'\n",
       "50. 'do'\n",
       "51. 'does'\n",
       "52. 'did'\n",
       "53. 'doing'\n",
       "54. 'would'\n",
       "55. 'should'\n",
       "56. 'could'\n",
       "57. 'ought'\n",
       "58. 'i\\'m'\n",
       "59. 'you\\'re'\n",
       "60. 'he\\'s'\n",
       "61. 'she\\'s'\n",
       "62. 'it\\'s'\n",
       "63. 'we\\'re'\n",
       "64. 'they\\'re'\n",
       "65. 'i\\'ve'\n",
       "66. 'you\\'ve'\n",
       "67. 'we\\'ve'\n",
       "68. 'they\\'ve'\n",
       "69. 'i\\'d'\n",
       "70. 'you\\'d'\n",
       "71. 'he\\'d'\n",
       "72. 'she\\'d'\n",
       "73. 'we\\'d'\n",
       "74. 'they\\'d'\n",
       "75. 'i\\'ll'\n",
       "76. 'you\\'ll'\n",
       "77. 'he\\'ll'\n",
       "78. 'she\\'ll'\n",
       "79. 'we\\'ll'\n",
       "80. 'they\\'ll'\n",
       "81. 'isn\\'t'\n",
       "82. 'aren\\'t'\n",
       "83. 'wasn\\'t'\n",
       "84. 'weren\\'t'\n",
       "85. 'hasn\\'t'\n",
       "86. 'haven\\'t'\n",
       "87. 'hadn\\'t'\n",
       "88. 'doesn\\'t'\n",
       "89. 'don\\'t'\n",
       "90. 'didn\\'t'\n",
       "91. 'won\\'t'\n",
       "92. 'wouldn\\'t'\n",
       "93. 'shan\\'t'\n",
       "94. 'shouldn\\'t'\n",
       "95. 'can\\'t'\n",
       "96. 'cannot'\n",
       "97. 'couldn\\'t'\n",
       "98. 'mustn\\'t'\n",
       "99. 'let\\'s'\n",
       "100. 'that\\'s'\n",
       "101. 'who\\'s'\n",
       "102. 'what\\'s'\n",
       "103. 'here\\'s'\n",
       "104. 'there\\'s'\n",
       "105. 'when\\'s'\n",
       "106. 'where\\'s'\n",
       "107. 'why\\'s'\n",
       "108. 'how\\'s'\n",
       "109. 'a'\n",
       "110. 'an'\n",
       "111. 'the'\n",
       "112. 'and'\n",
       "113. 'but'\n",
       "114. 'if'\n",
       "115. 'or'\n",
       "116. 'because'\n",
       "117. 'as'\n",
       "118. 'until'\n",
       "119. 'while'\n",
       "120. 'of'\n",
       "121. 'at'\n",
       "122. 'by'\n",
       "123. 'for'\n",
       "124. 'with'\n",
       "125. 'about'\n",
       "126. 'against'\n",
       "127. 'between'\n",
       "128. 'into'\n",
       "129. 'through'\n",
       "130. 'during'\n",
       "131. 'before'\n",
       "132. 'after'\n",
       "133. 'above'\n",
       "134. 'below'\n",
       "135. 'to'\n",
       "136. 'from'\n",
       "137. 'up'\n",
       "138. 'down'\n",
       "139. 'in'\n",
       "140. 'out'\n",
       "141. 'on'\n",
       "142. 'off'\n",
       "143. 'over'\n",
       "144. 'under'\n",
       "145. 'again'\n",
       "146. 'further'\n",
       "147. 'then'\n",
       "148. 'once'\n",
       "149. 'here'\n",
       "150. 'there'\n",
       "151. 'when'\n",
       "152. 'where'\n",
       "153. 'why'\n",
       "154. 'how'\n",
       "155. 'all'\n",
       "156. 'any'\n",
       "157. 'both'\n",
       "158. 'each'\n",
       "159. 'few'\n",
       "160. 'more'\n",
       "161. 'most'\n",
       "162. 'other'\n",
       "163. 'some'\n",
       "164. 'such'\n",
       "165. 'no'\n",
       "166. 'nor'\n",
       "167. 'not'\n",
       "168. 'only'\n",
       "169. 'own'\n",
       "170. 'same'\n",
       "171. 'so'\n",
       "172. 'than'\n",
       "173. 'too'\n",
       "174. 'very'\n",
       "\n",
       "\n"
      ],
      "text/plain": [
       "  [1] \"i\"          \"me\"         \"my\"         \"myself\"     \"we\"        \n",
       "  [6] \"our\"        \"ours\"       \"ourselves\"  \"you\"        \"your\"      \n",
       " [11] \"yours\"      \"yourself\"   \"yourselves\" \"he\"         \"him\"       \n",
       " [16] \"his\"        \"himself\"    \"she\"        \"her\"        \"hers\"      \n",
       " [21] \"herself\"    \"it\"         \"its\"        \"itself\"     \"they\"      \n",
       " [26] \"them\"       \"their\"      \"theirs\"     \"themselves\" \"what\"      \n",
       " [31] \"which\"      \"who\"        \"whom\"       \"this\"       \"that\"      \n",
       " [36] \"these\"      \"those\"      \"am\"         \"is\"         \"are\"       \n",
       " [41] \"was\"        \"were\"       \"be\"         \"been\"       \"being\"     \n",
       " [46] \"have\"       \"has\"        \"had\"        \"having\"     \"do\"        \n",
       " [51] \"does\"       \"did\"        \"doing\"      \"would\"      \"should\"    \n",
       " [56] \"could\"      \"ought\"      \"i'm\"        \"you're\"     \"he's\"      \n",
       " [61] \"she's\"      \"it's\"       \"we're\"      \"they're\"    \"i've\"      \n",
       " [66] \"you've\"     \"we've\"      \"they've\"    \"i'd\"        \"you'd\"     \n",
       " [71] \"he'd\"       \"she'd\"      \"we'd\"       \"they'd\"     \"i'll\"      \n",
       " [76] \"you'll\"     \"he'll\"      \"she'll\"     \"we'll\"      \"they'll\"   \n",
       " [81] \"isn't\"      \"aren't\"     \"wasn't\"     \"weren't\"    \"hasn't\"    \n",
       " [86] \"haven't\"    \"hadn't\"     \"doesn't\"    \"don't\"      \"didn't\"    \n",
       " [91] \"won't\"      \"wouldn't\"   \"shan't\"     \"shouldn't\"  \"can't\"     \n",
       " [96] \"cannot\"     \"couldn't\"   \"mustn't\"    \"let's\"      \"that's\"    \n",
       "[101] \"who's\"      \"what's\"     \"here's\"     \"there's\"    \"when's\"    \n",
       "[106] \"where's\"    \"why's\"      \"how's\"      \"a\"          \"an\"        \n",
       "[111] \"the\"        \"and\"        \"but\"        \"if\"         \"or\"        \n",
       "[116] \"because\"    \"as\"         \"until\"      \"while\"      \"of\"        \n",
       "[121] \"at\"         \"by\"         \"for\"        \"with\"       \"about\"     \n",
       "[126] \"against\"    \"between\"    \"into\"       \"through\"    \"during\"    \n",
       "[131] \"before\"     \"after\"      \"above\"      \"below\"      \"to\"        \n",
       "[136] \"from\"       \"up\"         \"down\"       \"in\"         \"out\"       \n",
       "[141] \"on\"         \"off\"        \"over\"       \"under\"      \"again\"     \n",
       "[146] \"further\"    \"then\"       \"once\"       \"here\"       \"there\"     \n",
       "[151] \"when\"       \"where\"      \"why\"        \"how\"        \"all\"       \n",
       "[156] \"any\"        \"both\"       \"each\"       \"few\"        \"more\"      \n",
       "[161] \"most\"       \"other\"      \"some\"       \"such\"       \"no\"        \n",
       "[166] \"nor\"        \"not\"        \"only\"       \"own\"        \"same\"      \n",
       "[171] \"so\"         \"than\"       \"too\"        \"very\"      "
      ]
     },
     "metadata": {},
     "output_type": "display_data"
    }
   ],
   "source": [
    "tm::stopwords()"
   ]
  },
  {
   "cell_type": "code",
   "execution_count": 20,
   "metadata": {},
   "outputs": [],
   "source": [
    "sms_corpus_clean <- tm::tm_map(sms_corpus_clean, tm::removeWords, tm::stopwords())"
   ]
  },
  {
   "cell_type": "markdown",
   "metadata": {},
   "source": [
    "### Remove punctuation"
   ]
  },
  {
   "cell_type": "markdown",
   "metadata": {},
   "source": [
    "We can also eliminate any punctuation from\n",
    "the text messages using the built-in removePunctuation() transformation:"
   ]
  },
  {
   "cell_type": "code",
   "execution_count": 21,
   "metadata": {},
   "outputs": [],
   "source": [
    "sms_corpus_clean <- tm::tm_map(sms_corpus_clean, tm::removePunctuation)"
   ]
  },
  {
   "cell_type": "markdown",
   "metadata": {},
   "source": [
    "We could also write a custom function to replace punctuation with whitespaces instead of removing them and then apply with tm_map:"
   ]
  },
  {
   "cell_type": "code",
   "execution_count": 22,
   "metadata": {},
   "outputs": [],
   "source": [
    "replacePunctuation <- function(x)\n",
    "{\n",
    "    gsub(\"[[:punct:]]+\", \" \", x)\n",
    "}"
   ]
  },
  {
   "cell_type": "code",
   "execution_count": 23,
   "metadata": {},
   "outputs": [
    {
     "data": {
      "text/html": [
       "'Hello World'"
      ],
      "text/latex": [
       "'Hello World'"
      ],
      "text/markdown": [
       "'Hello World'"
      ],
      "text/plain": [
       "[1] \"Hello World\""
      ]
     },
     "metadata": {},
     "output_type": "display_data"
    },
    {
     "data": {
      "text/html": [
       "'Hello World'"
      ],
      "text/latex": [
       "'Hello World'"
      ],
      "text/markdown": [
       "'Hello World'"
      ],
      "text/plain": [
       "[1] \"Hello World\""
      ]
     },
     "metadata": {},
     "output_type": "display_data"
    },
    {
     "data": {
      "text/html": [
       "<span style=white-space:pre-wrap>'Hello  World'</span>"
      ],
      "text/latex": [
       "'Hello  World'"
      ],
      "text/markdown": [
       "<span style=white-space:pre-wrap>'Hello  World'</span>"
      ],
      "text/plain": [
       "[1] \"Hello  World\""
      ]
     },
     "metadata": {},
     "output_type": "display_data"
    }
   ],
   "source": [
    "removePunctuation(\"Hello World\")\n",
    "replacePunctuation(\"Hello...World\")\n",
    "replacePunctuation(\"Hello... World\")"
   ]
  },
  {
   "cell_type": "markdown",
   "metadata": {},
   "source": [
    "### Word stemming"
   ]
  },
  {
   "cell_type": "markdown",
   "metadata": {},
   "source": [
    "Another common standardization for text data involves reducing words to their root form in a process called stemming.\n",
    "\n",
    "The stemming process takes words like learned,learning, and learns, and strips the suffix in order to transform them into the base\n",
    "form, learn. "
   ]
  },
  {
   "cell_type": "markdown",
   "metadata": {},
   "source": [
    "This allows machine learning algorithms to treat the related terms as a single concept rather than attempting to learn a pattern for each variant."
   ]
  },
  {
   "cell_type": "markdown",
   "metadata": {},
   "source": [
    "Let's see an example on how it works:"
   ]
  },
  {
   "cell_type": "code",
   "execution_count": 24,
   "metadata": {},
   "outputs": [
    {
     "data": {
      "text/html": [
       "<ol class=list-inline>\n",
       "\t<li>'learn'</li>\n",
       "\t<li>'learn'</li>\n",
       "\t<li>'learn'</li>\n",
       "\t<li>'learn'</li>\n",
       "</ol>\n"
      ],
      "text/latex": [
       "\\begin{enumerate*}\n",
       "\\item 'learn'\n",
       "\\item 'learn'\n",
       "\\item 'learn'\n",
       "\\item 'learn'\n",
       "\\end{enumerate*}\n"
      ],
      "text/markdown": [
       "1. 'learn'\n",
       "2. 'learn'\n",
       "3. 'learn'\n",
       "4. 'learn'\n",
       "\n",
       "\n"
      ],
      "text/plain": [
       "[1] \"learn\" \"learn\" \"learn\" \"learn\""
      ]
     },
     "metadata": {},
     "output_type": "display_data"
    }
   ],
   "source": [
    "SnowballC::wordStem(c(\"learn\", \"learned\", \"learning\", \"learns\"))"
   ]
  },
  {
   "cell_type": "markdown",
   "metadata": {},
   "source": [
    "We \"apply\" this function to a corpus through the tm function tm::stemDocument"
   ]
  },
  {
   "cell_type": "code",
   "execution_count": 25,
   "metadata": {},
   "outputs": [],
   "source": [
    "sms_corpus_clean <- tm::tm_map(sms_corpus_clean, tm::stemDocument)"
   ]
  },
  {
   "cell_type": "markdown",
   "metadata": {},
   "source": [
    "And let's see the results:"
   ]
  },
  {
   "cell_type": "code",
   "execution_count": 26,
   "metadata": {},
   "outputs": [
    {
     "data": {
      "text/html": [
       "<table>\n",
       "<thead><tr><th></th><th scope=col>type</th><th scope=col>original</th><th scope=col>cleaned</th></tr></thead>\n",
       "<tbody>\n",
       "\t<tr><th scope=row>1446</th><td>ham                                                                                                                                                      </td><td>My sister going to earn more than me da.                                                                                                                 </td><td>sister go earn da                                                                                                                                        </td></tr>\n",
       "\t<tr><th scope=row>3159</th><td>ham                                                                                                                                                      </td><td>Yes baby! We can study all the positions of the kama sutra ;)                                                                                            </td><td>yes babi can studi posit kama sutra                                                                                                                      </td></tr>\n",
       "\t<tr><th scope=row>842</th><td>ham                                                                                                                                                      </td><td>Nope. I just forgot. Will show next week                                                                                                                 </td><td>nope just forgot will show next week                                                                                                                     </td></tr>\n",
       "\t<tr><th scope=row>528</th><td>ham                                                                                                                                                      </td><td>Sorry, I'll call later                                                                                                                                   </td><td>sorri call later                                                                                                                                         </td></tr>\n",
       "\t<tr><th scope=row>4233</th><td>ham                                                                                                                                                      </td><td>I sent you the prices and do you mean the  # g,                                                                                                          </td><td>sent price mean g                                                                                                                                        </td></tr>\n",
       "\t<tr><th scope=row>2977</th><td>ham                                                                                                                                                      </td><td>Idea will soon get converted to live:)                                                                                                                   </td><td>idea will soon get convert live                                                                                                                          </td></tr>\n",
       "\t<tr><th scope=row>1821</th><td>ham                                                                                                                                                      </td><td>Its ok, called mom instead have fun                                                                                                                      </td><td>ok call mom instead fun                                                                                                                                  </td></tr>\n",
       "\t<tr><th scope=row>5133</th><td>ham                                                                                                                                                      </td><td>Piggy, r u awake? I bet u're still sleeping. I'm going 4 lunch now...                                                                                    </td><td>piggi r u awak bet ure still sleep go lunch now                                                                                                          </td></tr>\n",
       "\t<tr><th scope=row>3322</th><td>ham                                                                                                                                                      </td><td>Oh right, ok. I'll make sure that i do loads of work during the day!  got a really nasty cough today and is dry n shot so that should really help it!    </td><td>oh right ok make sure load work day got realli nasti cough today dri n shot realli help                                                                  </td></tr>\n",
       "\t<tr><th scope=row>359</th><td>spam                                                                                                                                                     </td><td>You can stop further club tones by replying STOP MIX See my-tone.com/enjoy. html for terms. Club tones cost GBP4.50/week. MFL, PO Box 1146 MK45 2WT (2/3)</td><td>can stop club tone repli stop mix see tonecomenjoy html term club tone cost gbpweek mfl po box mk wt                                                     </td></tr>\n",
       "</tbody>\n",
       "</table>\n"
      ],
      "text/latex": [
       "\\begin{tabular}{r|lll}\n",
       "  & type & original & cleaned\\\\\n",
       "\\hline\n",
       "\t1446 & ham                                                                                                                                                       & My sister going to earn more than me da.                                                                                                                  & sister go earn da                                                                                                                                        \\\\\n",
       "\t3159 & ham                                                                                                                                                       & Yes baby! We can study all the positions of the kama sutra ;)                                                                                             & yes babi can studi posit kama sutra                                                                                                                      \\\\\n",
       "\t842 & ham                                                                                                                                                       & Nope. I just forgot. Will show next week                                                                                                                  & nope just forgot will show next week                                                                                                                     \\\\\n",
       "\t528 & ham                                                                                                                                                       & Sorry, I'll call later                                                                                                                                    & sorri call later                                                                                                                                         \\\\\n",
       "\t4233 & ham                                                                                                                                                         & I sent you the prices and do you mean the  \\# g,                                                                                                           & sent price mean g                                                                                                                                          \\\\\n",
       "\t2977 & ham                                                                                                                                                       & Idea will soon get converted to live:)                                                                                                                    & idea will soon get convert live                                                                                                                          \\\\\n",
       "\t1821 & ham                                                                                                                                                       & Its ok, called mom instead have fun                                                                                                                       & ok call mom instead fun                                                                                                                                  \\\\\n",
       "\t5133 & ham                                                                                                                                                       & Piggy, r u awake? I bet u're still sleeping. I'm going 4 lunch now...                                                                                     & piggi r u awak bet ure still sleep go lunch now                                                                                                          \\\\\n",
       "\t3322 & ham                                                                                                                                                       & Oh right, ok. I'll make sure that i do loads of work during the day!  got a really nasty cough today and is dry n shot so that should really help it!     & oh right ok make sure load work day got realli nasti cough today dri n shot realli help                                                                  \\\\\n",
       "\t359 & spam                                                                                                                                                      & You can stop further club tones by replying STOP MIX See my-tone.com/enjoy. html for terms. Club tones cost GBP4.50/week. MFL, PO Box 1146 MK45 2WT (2/3) & can stop club tone repli stop mix see tonecomenjoy html term club tone cost gbpweek mfl po box mk wt                                                     \\\\\n",
       "\\end{tabular}\n"
      ],
      "text/markdown": [
       "\n",
       "| <!--/--> | type | original | cleaned | \n",
       "|---|---|---|---|---|---|---|---|---|---|\n",
       "| 1446 | ham                                                                                                                                                       | My sister going to earn more than me da.                                                                                                                  | sister go earn da                                                                                                                                         | \n",
       "| 3159 | ham                                                                                                                                                       | Yes baby! We can study all the positions of the kama sutra ;)                                                                                             | yes babi can studi posit kama sutra                                                                                                                       | \n",
       "| 842 | ham                                                                                                                                                       | Nope. I just forgot. Will show next week                                                                                                                  | nope just forgot will show next week                                                                                                                      | \n",
       "| 528 | ham                                                                                                                                                       | Sorry, I'll call later                                                                                                                                    | sorri call later                                                                                                                                          | \n",
       "| 4233 | ham                                                                                                                                                       | I sent you the prices and do you mean the  # g,                                                                                                           | sent price mean g                                                                                                                                         | \n",
       "| 2977 | ham                                                                                                                                                       | Idea will soon get converted to live:)                                                                                                                    | idea will soon get convert live                                                                                                                           | \n",
       "| 1821 | ham                                                                                                                                                       | Its ok, called mom instead have fun                                                                                                                       | ok call mom instead fun                                                                                                                                   | \n",
       "| 5133 | ham                                                                                                                                                       | Piggy, r u awake? I bet u're still sleeping. I'm going 4 lunch now...                                                                                     | piggi r u awak bet ure still sleep go lunch now                                                                                                           | \n",
       "| 3322 | ham                                                                                                                                                       | Oh right, ok. I'll make sure that i do loads of work during the day!  got a really nasty cough today and is dry n shot so that should really help it!     | oh right ok make sure load work day got realli nasti cough today dri n shot realli help                                                                   | \n",
       "| 359 | spam                                                                                                                                                      | You can stop further club tones by replying STOP MIX See my-tone.com/enjoy. html for terms. Club tones cost GBP4.50/week. MFL, PO Box 1146 MK45 2WT (2/3) | can stop club tone repli stop mix see tonecomenjoy html term club tone cost gbpweek mfl po box mk wt                                                      | \n",
       "\n",
       "\n"
      ],
      "text/plain": [
       "     type\n",
       "1446 ham \n",
       "3159 ham \n",
       "842  ham \n",
       "528  ham \n",
       "4233 ham \n",
       "2977 ham \n",
       "1821 ham \n",
       "5133 ham \n",
       "3322 ham \n",
       "359  spam\n",
       "     original                                                                                                                                                 \n",
       "1446 My sister going to earn more than me da.                                                                                                                 \n",
       "3159 Yes baby! We can study all the positions of the kama sutra ;)                                                                                            \n",
       "842  Nope. I just forgot. Will show next week                                                                                                                 \n",
       "528  Sorry, I'll call later                                                                                                                                   \n",
       "4233 I sent you the prices and do you mean the  # g,                                                                                                          \n",
       "2977 Idea will soon get converted to live:)                                                                                                                   \n",
       "1821 Its ok, called mom instead have fun                                                                                                                      \n",
       "5133 Piggy, r u awake? I bet u're still sleeping. I'm going 4 lunch now...                                                                                    \n",
       "3322 Oh right, ok. I'll make sure that i do loads of work during the day!  got a really nasty cough today and is dry n shot so that should really help it!    \n",
       "359  You can stop further club tones by replying STOP MIX See my-tone.com/enjoy. html for terms. Club tones cost GBP4.50/week. MFL, PO Box 1146 MK45 2WT (2/3)\n",
       "     cleaned                                                                                             \n",
       "1446 sister go earn da                                                                                   \n",
       "3159 yes babi can studi posit kama sutra                                                                 \n",
       "842  nope just forgot will show next week                                                                \n",
       "528  sorri call later                                                                                    \n",
       "4233 sent price mean g                                                                                   \n",
       "2977 idea will soon get convert live                                                                     \n",
       "1821 ok call mom instead fun                                                                             \n",
       "5133 piggi r u awak bet ure still sleep go lunch now                                                     \n",
       "3322 oh right ok make sure load work day got realli nasti cough today dri n shot realli help             \n",
       "359  can stop club tone repli stop mix see tonecomenjoy html term club tone cost gbpweek mfl po box mk wt"
      ]
     },
     "metadata": {},
     "output_type": "display_data"
    }
   ],
   "source": [
    "set.seed = 1500\n",
    "samplerows <- sample(1:length(sms_corpus), 10)\n",
    "data.frame(type = sms_raw[samplerows, type],\n",
    "           original = sapply(sms_corpus[samplerows], as.character),\n",
    "          cleaned = sapply(sms_corpus_clean[samplerows], as.character))"
   ]
  },
  {
   "cell_type": "markdown",
   "metadata": {},
   "source": [
    "### Strip whitespaces"
   ]
  },
  {
   "cell_type": "markdown",
   "metadata": {},
   "source": [
    "Now we should strip additional whitespaces"
   ]
  },
  {
   "cell_type": "code",
   "execution_count": 27,
   "metadata": {},
   "outputs": [
    {
     "data": {
      "text/html": [
       "'a a'"
      ],
      "text/latex": [
       "'a a'"
      ],
      "text/markdown": [
       "'a a'"
      ],
      "text/plain": [
       "[1] \"a a\""
      ]
     },
     "metadata": {},
     "output_type": "display_data"
    }
   ],
   "source": [
    "tm::stripWhitespace(\"a       a\")"
   ]
  },
  {
   "cell_type": "code",
   "execution_count": 28,
   "metadata": {},
   "outputs": [],
   "source": [
    "sms_corpus_clean <- tm::tm_map(sms_corpus_clean, tm::stripWhitespace)"
   ]
  },
  {
   "cell_type": "markdown",
   "metadata": {},
   "source": [
    "### Split documents into words "
   ]
  },
  {
   "cell_type": "markdown",
   "metadata": {},
   "source": [
    "Now that the data are processed to our liking, the final step is to split the messages\n",
    "into individual components through a process called tokenization.\n",
    "\n",
    "A token is a single element of a text string; in this case, the tokens are words."
   ]
  },
  {
   "cell_type": "markdown",
   "metadata": {},
   "source": [
    "We have two options two have an object for this:\n",
    "\n",
    "- a data structure called a Document Term Matrix (DTM) in which rows indicate documents (SMS messages) and columns indicate terms (words).\n",
    "\n",
    "- a data structure for a Term Document Matrix (TDM), which is simply a transposed DTM in which the rows are terms and the columns are documents.\n",
    "\n",
    "\n",
    "Why the need for both?\n",
    "\n",
    "Sometimes, it is more convenient to work with one or the other.\n",
    "\n",
    "- For example, if the number of documents is small, while the word list is large, it may make sense to use a TDM because it is generally easier to display many rows than to display many columns.\n",
    "- This said, the two are often interchangeable."
   ]
  },
  {
   "cell_type": "markdown",
   "metadata": {},
   "source": [
    "Let's create the DocumentTermMatrix:"
   ]
  },
  {
   "cell_type": "code",
   "execution_count": 29,
   "metadata": {},
   "outputs": [],
   "source": [
    "sms_dtm <- tm::DocumentTermMatrix(sms_corpus_clean)"
   ]
  },
  {
   "cell_type": "markdown",
   "metadata": {},
   "source": [
    "Let's see the structure and an excerpt of the matrix:"
   ]
  },
  {
   "cell_type": "code",
   "execution_count": 30,
   "metadata": {},
   "outputs": [
    {
     "name": "stdout",
     "output_type": "stream",
     "text": [
      "List of 6\n",
      " $ i       : int [1:42147] 1 1 1 1 1 2 2 2 3 3 ...\n",
      " $ j       : int [1:42147] 967 2282 2581 2938 6210 436 2990 5628 200 916 ...\n",
      " $ v       : num [1:42147] 1 1 1 1 1 1 1 1 1 1 ...\n",
      " $ nrow    : int 5559\n",
      " $ ncol    : int 6559\n",
      " $ dimnames:List of 2\n",
      "  ..$ Docs : chr [1:5559] \"1\" \"2\" \"3\" \"4\" ...\n",
      "  ..$ Terms: chr [1:6559] \"‘morrow\" \"‘rent\" \"’llspeak\" \"’re\" ...\n",
      " - attr(*, \"class\")= chr [1:2] \"DocumentTermMatrix\" \"simple_triplet_matrix\"\n",
      " - attr(*, \"weighting\")= chr [1:2] \"term frequency\" \"tf\"\n"
     ]
    }
   ],
   "source": [
    "str(sms_dtm)"
   ]
  },
  {
   "cell_type": "markdown",
   "metadata": {},
   "source": [
    "We should interpret above object as follows:\n",
    "\n",
    "- There are a total of 5559 documents and 6559 terms\n",
    "- Although there are 3.6e7 possible doc-term matches (5559 * 6559), each document contains only a handful of terms. Total number of doc-term matches are 42147 (where a document has at least one instance of a term)\n",
    "- \"i\" object shows the index of the docs in 42K matches\n",
    "- \"j\" object shows the index of the terms in 42K matches\n",
    "- \"v\" object shows the count of the appearance of the term in the match\n",
    "\n",
    "- First document has one instances of 967., 2282., 2581. 2938. and 6210. terms each\n",
    "\n",
    "Let's check:"
   ]
  },
  {
   "cell_type": "markdown",
   "metadata": {},
   "source": [
    "Let's play with the 1st document:"
   ]
  },
  {
   "cell_type": "code",
   "execution_count": 31,
   "metadata": {},
   "outputs": [
    {
     "data": {
      "text/html": [
       "1"
      ],
      "text/latex": [
       "1"
      ],
      "text/markdown": [
       "1"
      ],
      "text/plain": [
       "[1] 1"
      ]
     },
     "metadata": {},
     "output_type": "display_data"
    }
   ],
   "source": [
    "doci <- 1\n",
    "doci"
   ]
  },
  {
   "cell_type": "markdown",
   "metadata": {},
   "source": [
    "First let's view the first document: "
   ]
  },
  {
   "cell_type": "code",
   "execution_count": 32,
   "metadata": {},
   "outputs": [
    {
     "data": {
      "text/html": [
       "<strong>1:</strong> 'hope good week just check'"
      ],
      "text/latex": [
       "\\textbf{1:} 'hope good week just check'"
      ],
      "text/markdown": [
       "**1:** 'hope good week just check'"
      ],
      "text/plain": [
       "                          1 \n",
       "\"hope good week just check\" "
      ]
     },
     "metadata": {},
     "output_type": "display_data"
    }
   ],
   "source": [
    "sapply(sms_corpus_clean[doci], as.character)"
   ]
  },
  {
   "cell_type": "markdown",
   "metadata": {},
   "source": [
    "Term matches of the 1st document occurs in the dtm at:"
   ]
  },
  {
   "cell_type": "code",
   "execution_count": 33,
   "metadata": {},
   "outputs": [
    {
     "data": {
      "text/html": [
       "<ol class=list-inline>\n",
       "\t<li>1</li>\n",
       "\t<li>2</li>\n",
       "\t<li>3</li>\n",
       "\t<li>4</li>\n",
       "\t<li>5</li>\n",
       "</ol>\n"
      ],
      "text/latex": [
       "\\begin{enumerate*}\n",
       "\\item 1\n",
       "\\item 2\n",
       "\\item 3\n",
       "\\item 4\n",
       "\\item 5\n",
       "\\end{enumerate*}\n"
      ],
      "text/markdown": [
       "1. 1\n",
       "2. 2\n",
       "3. 3\n",
       "4. 4\n",
       "5. 5\n",
       "\n",
       "\n"
      ],
      "text/plain": [
       "[1] 1 2 3 4 5"
      ]
     },
     "metadata": {},
     "output_type": "display_data"
    }
   ],
   "source": [
    "# get the indices in dtm where matches of 1st document occurs \n",
    "dtm_indices_1 <- which(sms_dtm$i == doci)\n",
    "dtm_indices_1"
   ]
  },
  {
   "cell_type": "markdown",
   "metadata": {},
   "source": [
    "Get the term indices of those matches:"
   ]
  },
  {
   "cell_type": "code",
   "execution_count": 34,
   "metadata": {},
   "outputs": [
    {
     "data": {
      "text/html": [
       "<ol class=list-inline>\n",
       "\t<li>967</li>\n",
       "\t<li>2282</li>\n",
       "\t<li>2581</li>\n",
       "\t<li>2938</li>\n",
       "\t<li>6210</li>\n",
       "</ol>\n"
      ],
      "text/latex": [
       "\\begin{enumerate*}\n",
       "\\item 967\n",
       "\\item 2282\n",
       "\\item 2581\n",
       "\\item 2938\n",
       "\\item 6210\n",
       "\\end{enumerate*}\n"
      ],
      "text/markdown": [
       "1. 967\n",
       "2. 2282\n",
       "3. 2581\n",
       "4. 2938\n",
       "5. 6210\n",
       "\n",
       "\n"
      ],
      "text/plain": [
       "[1]  967 2282 2581 2938 6210"
      ]
     },
     "metadata": {},
     "output_type": "display_data"
    }
   ],
   "source": [
    "term_indices <- sms_dtm$j[dtm_indices_1]\n",
    "term_indices"
   ]
  },
  {
   "cell_type": "markdown",
   "metadata": {},
   "source": [
    "See those terms:"
   ]
  },
  {
   "cell_type": "code",
   "execution_count": 35,
   "metadata": {},
   "outputs": [
    {
     "data": {
      "text/html": [
       "<ol class=list-inline>\n",
       "\t<li>'check'</li>\n",
       "\t<li>'good'</li>\n",
       "\t<li>'hope'</li>\n",
       "\t<li>'just'</li>\n",
       "\t<li>'week'</li>\n",
       "</ol>\n"
      ],
      "text/latex": [
       "\\begin{enumerate*}\n",
       "\\item 'check'\n",
       "\\item 'good'\n",
       "\\item 'hope'\n",
       "\\item 'just'\n",
       "\\item 'week'\n",
       "\\end{enumerate*}\n"
      ],
      "text/markdown": [
       "1. 'check'\n",
       "2. 'good'\n",
       "3. 'hope'\n",
       "4. 'just'\n",
       "5. 'week'\n",
       "\n",
       "\n"
      ],
      "text/plain": [
       "[1] \"check\" \"good\"  \"hope\"  \"just\"  \"week\" "
      ]
     },
     "metadata": {},
     "output_type": "display_data"
    }
   ],
   "source": [
    "sms_dtm$dimnames$Terms[term_indices]"
   ]
  },
  {
   "cell_type": "markdown",
   "metadata": {},
   "source": [
    "Just the sorted and unique versions of the terms of the 1st document"
   ]
  },
  {
   "cell_type": "markdown",
   "metadata": {},
   "source": [
    "Now, v shows the count of occurences of the term inside the doc. Let's possible values in this corpus:"
   ]
  },
  {
   "cell_type": "code",
   "execution_count": 36,
   "metadata": {},
   "outputs": [
    {
     "data": {
      "text/html": [
       "<ol class=list-inline>\n",
       "\t<li>1</li>\n",
       "\t<li>2</li>\n",
       "\t<li>3</li>\n",
       "\t<li>4</li>\n",
       "\t<li>11</li>\n",
       "\t<li>5</li>\n",
       "\t<li>6</li>\n",
       "\t<li>10</li>\n",
       "\t<li>7</li>\n",
       "\t<li>15</li>\n",
       "</ol>\n"
      ],
      "text/latex": [
       "\\begin{enumerate*}\n",
       "\\item 1\n",
       "\\item 2\n",
       "\\item 3\n",
       "\\item 4\n",
       "\\item 11\n",
       "\\item 5\n",
       "\\item 6\n",
       "\\item 10\n",
       "\\item 7\n",
       "\\item 15\n",
       "\\end{enumerate*}\n"
      ],
      "text/markdown": [
       "1. 1\n",
       "2. 2\n",
       "3. 3\n",
       "4. 4\n",
       "5. 11\n",
       "6. 5\n",
       "7. 6\n",
       "8. 10\n",
       "9. 7\n",
       "10. 15\n",
       "\n",
       "\n"
      ],
      "text/plain": [
       " [1]  1  2  3  4 11  5  6 10  7 15"
      ]
     },
     "metadata": {},
     "output_type": "display_data"
    }
   ],
   "source": [
    "unique_vs <- unique(sms_dtm$v)\n",
    "unique_vs"
   ]
  },
  {
   "cell_type": "markdown",
   "metadata": {},
   "source": [
    "So there is at least one instance in which a term appears 15 times in a doc. Let's get that:\n",
    "\n",
    "First let's find the indices of 15 occurences:"
   ]
  },
  {
   "cell_type": "code",
   "execution_count": 37,
   "metadata": {},
   "outputs": [
    {
     "data": {
      "text/html": [
       "38432"
      ],
      "text/latex": [
       "38432"
      ],
      "text/markdown": [
       "38432"
      ],
      "text/plain": [
       "[1] 38432"
      ]
     },
     "metadata": {},
     "output_type": "display_data"
    }
   ],
   "source": [
    "index_at_max_v <- which(sms_dtm$v == max(unique_vs))\n",
    "index_at_max_v"
   ]
  },
  {
   "cell_type": "markdown",
   "metadata": {},
   "source": [
    "See which term it is:"
   ]
  },
  {
   "cell_type": "code",
   "execution_count": 38,
   "metadata": {},
   "outputs": [
    {
     "data": {
      "text/html": [
       "2433"
      ],
      "text/latex": [
       "2433"
      ],
      "text/markdown": [
       "2433"
      ],
      "text/plain": [
       "[1] 2433"
      ]
     },
     "metadata": {},
     "output_type": "display_data"
    },
    {
     "data": {
      "text/html": [
       "'happi'"
      ],
      "text/latex": [
       "'happi'"
      ],
      "text/markdown": [
       "'happi'"
      ],
      "text/plain": [
       "[1] \"happi\""
      ]
     },
     "metadata": {},
     "output_type": "display_data"
    }
   ],
   "source": [
    "term_ind_at_max_v <- sms_dtm$j[index_at_max_v]\n",
    "term_ind_at_max_v\n",
    "\n",
    "sms_dtm$dimnames$Terms[term_ind_at_max_v]"
   ]
  },
  {
   "cell_type": "markdown",
   "metadata": {},
   "source": [
    "And see which doc it is:"
   ]
  },
  {
   "cell_type": "code",
   "execution_count": 39,
   "metadata": {},
   "outputs": [
    {
     "data": {
      "text/html": [
       "5068"
      ],
      "text/latex": [
       "5068"
      ],
      "text/markdown": [
       "5068"
      ],
      "text/plain": [
       "[1] 5068"
      ]
     },
     "metadata": {},
     "output_type": "display_data"
    },
    {
     "data": {
      "text/html": [
       "<strong>5068:</strong> 'fast approach wish u happi new year happi sankranti happi republ day happi valentin day happi shivratri happi ugadi happi fool day happi may day happi independ day happi friendshipmotherfatherteacherschildren day happi birthday u happi ganesh festiv happi dasara happi diwali happi christma good morn afternoon even night rememberi first wish u s raj'"
      ],
      "text/latex": [
       "\\textbf{5068:} 'fast approach wish u happi new year happi sankranti happi republ day happi valentin day happi shivratri happi ugadi happi fool day happi may day happi independ day happi friendshipmotherfatherteacherschildren day happi birthday u happi ganesh festiv happi dasara happi diwali happi christma good morn afternoon even night rememberi first wish u s raj'"
      ],
      "text/markdown": [
       "**5068:** 'fast approach wish u happi new year happi sankranti happi republ day happi valentin day happi shivratri happi ugadi happi fool day happi may day happi independ day happi friendshipmotherfatherteacherschildren day happi birthday u happi ganesh festiv happi dasara happi diwali happi christma good morn afternoon even night rememberi first wish u s raj'"
      ],
      "text/plain": [
       "                                                                                                                                                                                                                                                                                                                                                            5068 \n",
       "\"fast approach wish u happi new year happi sankranti happi republ day happi valentin day happi shivratri happi ugadi happi fool day happi may day happi independ day happi friendshipmotherfatherteacherschildren day happi birthday u happi ganesh festiv happi dasara happi diwali happi christma good morn afternoon even night rememberi first wish u s raj\" "
      ]
     },
     "metadata": {},
     "output_type": "display_data"
    }
   ],
   "source": [
    "doc_ind_at_max_v <- sms_dtm$i[index_at_max_v]\n",
    "doc_ind_at_max_v\n",
    "\n",
    "sapply(sms_corpus_clean[doc_ind_at_max_v], as.character)"
   ]
  },
  {
   "cell_type": "markdown",
   "metadata": {},
   "source": [
    "We can also index the dtm as a matrix and view the contents with inspect"
   ]
  },
  {
   "cell_type": "code",
   "execution_count": 40,
   "metadata": {},
   "outputs": [
    {
     "name": "stdout",
     "output_type": "stream",
     "text": [
      "<<DocumentTermMatrix (documents: 1, terms: 1)>>\n",
      "Non-/sparse entries: 1/0\n",
      "Sparsity           : 0%\n",
      "Maximal term length: 5\n",
      "Weighting          : term frequency (tf)\n",
      "Sample             :\n",
      "      Terms\n",
      "Docs   happi\n",
      "  5068    15\n"
     ]
    }
   ],
   "source": [
    "inspect(sms_dtm[doc_ind_at_max_v, term_ind_at_max_v])"
   ]
  },
  {
   "cell_type": "markdown",
   "metadata": {},
   "source": [
    "Let's get 10 random matches (docs + terms) and subset the dtm for them:"
   ]
  },
  {
   "cell_type": "code",
   "execution_count": 41,
   "metadata": {},
   "outputs": [
    {
     "name": "stdout",
     "output_type": "stream",
     "text": [
      "<<DocumentTermMatrix (documents: 10, terms: 10)>>\n",
      "Non-/sparse entries: 12/88\n",
      "Sparsity           : 88%\n",
      "Maximal term length: 7\n",
      "Weighting          : term frequency (tf)\n",
      "Sample             :\n",
      "      Terms\n",
      "Docs   can dear entri kind maxim secret stop whisper wick wish\n",
      "  1084   0    0     0    0     0      0    0       0    1    0\n",
      "  2040   0    0     1    0     0      0    0       0    0    0\n",
      "  2181   1    0     0    0     0      0    0       1    0    0\n",
      "  2392   1    0     0    0     0      0    0       0    0    0\n",
      "  3429   0    0     0    0     0      1    1       0    0    0\n",
      "  3989   0    0     0    0     0      0    1       0    0    0\n",
      "  4042   0    0     0    0     0      0    0       0    0    1\n",
      "  4510   0    1     0    0     0      0    0       0    0    0\n",
      "  4541   0    0     0    1     0      0    0       0    0    0\n",
      "  5330   0    0     0    0     1      0    0       0    0    0\n"
     ]
    }
   ],
   "source": [
    "set.seed(2000)\n",
    "sample2 <- sample(length(sms_dtm[[1]]), 10)\n",
    "\n",
    "docs <- sms_dtm[[1]][sample2]\n",
    "terms <- sms_dtm[[2]][sample2]\n",
    "\n",
    "sample_mat <- tm::inspect(sms_dtm[docs, terms])"
   ]
  },
  {
   "cell_type": "markdown",
   "metadata": {},
   "source": [
    "However, it would be better to view them together with the doc contents:"
   ]
  },
  {
   "cell_type": "code",
   "execution_count": 42,
   "metadata": {},
   "outputs": [
    {
     "data": {
      "text/html": [
       "<table>\n",
       "<thead><tr><th scope=col>docs</th><th scope=col>can</th><th scope=col>dear</th><th scope=col>entri</th><th scope=col>kind</th><th scope=col>maxim</th><th scope=col>secret</th><th scope=col>stop</th><th scope=col>whisper</th><th scope=col>wick</th><th scope=col>wish</th></tr></thead>\n",
       "<tbody>\n",
       "\t<tr><td>mmmm fair know weak grin push knee expos belli pull head forget know wick smile                                                          </td><td>0                                                                                                                                        </td><td>0                                                                                                                                        </td><td>0                                                                                                                                        </td><td>0                                                                                                                                        </td><td>0                                                                                                                                        </td><td>0                                                                                                                                        </td><td>0                                                                                                                                        </td><td>0                                                                                                                                        </td><td>1                                                                                                                                        </td><td>0                                                                                                                                        </td></tr>\n",
       "\t<tr><td>u wait bus stop aft ur lect lar dun c u go get car come back n pick u                                                                    </td><td>0                                                                                                                                        </td><td>0                                                                                                                                        </td><td>1                                                                                                                                        </td><td>0                                                                                                                                        </td><td>0                                                                                                                                        </td><td>0                                                                                                                                        </td><td>0                                                                                                                                        </td><td>0                                                                                                                                        </td><td>0                                                                                                                                        </td><td>0                                                                                                                                        </td></tr>\n",
       "\t<tr><td>free entri £ week comp just send word enter now tc wwwtextcompcom cust care                                                              </td><td>1                                                                                                                                        </td><td>0                                                                                                                                        </td><td>0                                                                                                                                        </td><td>0                                                                                                                                        </td><td>0                                                                                                                                        </td><td>0                                                                                                                                        </td><td>0                                                                                                                                        </td><td>1                                                                                                                                        </td><td>0                                                                                                                                        </td><td>0                                                                                                                                        </td></tr>\n",
       "\t<tr><td>mmmmmmm snuggl deep content sigh whisper love much can bare stand                                                                        </td><td>1                                                                                                                                        </td><td>0                                                                                                                                        </td><td>0                                                                                                                                        </td><td>0                                                                                                                                        </td><td>0                                                                                                                                        </td><td>0                                                                                                                                        </td><td>0                                                                                                                                        </td><td>0                                                                                                                                        </td><td>0                                                                                                                                        </td><td>0                                                                                                                                        </td></tr>\n",
       "\t<tr><td>today accept dayu accept brother sister lover dear best clos lvblefrnd jstfrnd cutefrnd lifpartnr belovd swtheart bstfrnd rpli mean enemi</td><td>0                                                                                                                                        </td><td>0                                                                                                                                        </td><td>0                                                                                                                                        </td><td>0                                                                                                                                        </td><td>0                                                                                                                                        </td><td>1                                                                                                                                        </td><td>1                                                                                                                                        </td><td>0                                                                                                                                        </td><td>0                                                                                                                                        </td><td>0                                                                                                                                        </td></tr>\n",
       "\t<tr><td>can see see mayb reboot ym seen buzz                                                                                                     </td><td>0                                                                                                                                        </td><td>0                                                                                                                                        </td><td>0                                                                                                                                        </td><td>0                                                                                                                                        </td><td>0                                                                                                                                        </td><td>0                                                                                                                                        </td><td>1                                                                                                                                        </td><td>0                                                                                                                                        </td><td>0                                                                                                                                        </td><td>0                                                                                                                                        </td></tr>\n",
       "\t<tr><td>ur cashbal current pound maxim ur cash now send cash pmsg cc po box tcrw                                                                 </td><td>0                                                                                                                                        </td><td>0                                                                                                                                        </td><td>0                                                                                                                                        </td><td>0                                                                                                                                        </td><td>0                                                                                                                                        </td><td>0                                                                                                                                        </td><td>0                                                                                                                                        </td><td>0                                                                                                                                        </td><td>0                                                                                                                                        </td><td>1                                                                                                                                        </td></tr>\n",
       "\t<tr><td>thank lot wish birthday thank make birthday truli memor                                                                                  </td><td>0                                                                                                                                        </td><td>1                                                                                                                                        </td><td>0                                                                                                                                        </td><td>0                                                                                                                                        </td><td>0                                                                                                                                        </td><td>0                                                                                                                                        </td><td>0                                                                                                                                        </td><td>0                                                                                                                                        </td><td>0                                                                                                                                        </td><td>0                                                                                                                                        </td></tr>\n",
       "\t<tr><td>pleas sen kind advic pleas come tri                                                                                                      </td><td>0                                                                                                                                        </td><td>0                                                                                                                                        </td><td>0                                                                                                                                        </td><td>1                                                                                                                                        </td><td>0                                                                                                                                        </td><td>0                                                                                                                                        </td><td>0                                                                                                                                        </td><td>0                                                                                                                                        </td><td>0                                                                                                                                        </td><td>0                                                                                                                                        </td></tr>\n",
       "\t<tr><td>u secret admir reveal think u r special call opt repli reveal stop per msg recd cust care                                                </td><td>0                                                                                                                                        </td><td>0                                                                                                                                        </td><td>0                                                                                                                                        </td><td>0                                                                                                                                        </td><td>1                                                                                                                                        </td><td>0                                                                                                                                        </td><td>0                                                                                                                                        </td><td>0                                                                                                                                        </td><td>0                                                                                                                                        </td><td>0                                                                                                                                        </td></tr>\n",
       "</tbody>\n",
       "</table>\n"
      ],
      "text/latex": [
       "\\begin{tabular}{r|lllllllllll}\n",
       " docs & can & dear & entri & kind & maxim & secret & stop & whisper & wick & wish\\\\\n",
       "\\hline\n",
       "\t mmmm fair know weak grin push knee expos belli pull head forget know wick smile                                                           & 0                                                                                                                                         & 0                                                                                                                                         & 0                                                                                                                                         & 0                                                                                                                                         & 0                                                                                                                                         & 0                                                                                                                                         & 0                                                                                                                                         & 0                                                                                                                                         & 1                                                                                                                                         & 0                                                                                                                                        \\\\\n",
       "\t u wait bus stop aft ur lect lar dun c u go get car come back n pick u                                                                     & 0                                                                                                                                         & 0                                                                                                                                         & 1                                                                                                                                         & 0                                                                                                                                         & 0                                                                                                                                         & 0                                                                                                                                         & 0                                                                                                                                         & 0                                                                                                                                         & 0                                                                                                                                         & 0                                                                                                                                        \\\\\n",
       "\t free entri £ week comp just send word enter now tc wwwtextcompcom cust care                                                               & 1                                                                                                                                         & 0                                                                                                                                         & 0                                                                                                                                         & 0                                                                                                                                         & 0                                                                                                                                         & 0                                                                                                                                         & 0                                                                                                                                         & 1                                                                                                                                         & 0                                                                                                                                         & 0                                                                                                                                        \\\\\n",
       "\t mmmmmmm snuggl deep content sigh whisper love much can bare stand                                                                         & 1                                                                                                                                         & 0                                                                                                                                         & 0                                                                                                                                         & 0                                                                                                                                         & 0                                                                                                                                         & 0                                                                                                                                         & 0                                                                                                                                         & 0                                                                                                                                         & 0                                                                                                                                         & 0                                                                                                                                        \\\\\n",
       "\t today accept dayu accept brother sister lover dear best clos lvblefrnd jstfrnd cutefrnd lifpartnr belovd swtheart bstfrnd rpli mean enemi & 0                                                                                                                                         & 0                                                                                                                                         & 0                                                                                                                                         & 0                                                                                                                                         & 0                                                                                                                                         & 1                                                                                                                                         & 1                                                                                                                                         & 0                                                                                                                                         & 0                                                                                                                                         & 0                                                                                                                                        \\\\\n",
       "\t can see see mayb reboot ym seen buzz                                                                                                      & 0                                                                                                                                         & 0                                                                                                                                         & 0                                                                                                                                         & 0                                                                                                                                         & 0                                                                                                                                         & 0                                                                                                                                         & 1                                                                                                                                         & 0                                                                                                                                         & 0                                                                                                                                         & 0                                                                                                                                        \\\\\n",
       "\t ur cashbal current pound maxim ur cash now send cash pmsg cc po box tcrw                                                                  & 0                                                                                                                                         & 0                                                                                                                                         & 0                                                                                                                                         & 0                                                                                                                                         & 0                                                                                                                                         & 0                                                                                                                                         & 0                                                                                                                                         & 0                                                                                                                                         & 0                                                                                                                                         & 1                                                                                                                                        \\\\\n",
       "\t thank lot wish birthday thank make birthday truli memor                                                                                   & 0                                                                                                                                         & 1                                                                                                                                         & 0                                                                                                                                         & 0                                                                                                                                         & 0                                                                                                                                         & 0                                                                                                                                         & 0                                                                                                                                         & 0                                                                                                                                         & 0                                                                                                                                         & 0                                                                                                                                        \\\\\n",
       "\t pleas sen kind advic pleas come tri                                                                                                       & 0                                                                                                                                         & 0                                                                                                                                         & 0                                                                                                                                         & 1                                                                                                                                         & 0                                                                                                                                         & 0                                                                                                                                         & 0                                                                                                                                         & 0                                                                                                                                         & 0                                                                                                                                         & 0                                                                                                                                        \\\\\n",
       "\t u secret admir reveal think u r special call opt repli reveal stop per msg recd cust care                                                 & 0                                                                                                                                         & 0                                                                                                                                         & 0                                                                                                                                         & 0                                                                                                                                         & 1                                                                                                                                         & 0                                                                                                                                         & 0                                                                                                                                         & 0                                                                                                                                         & 0                                                                                                                                         & 0                                                                                                                                        \\\\\n",
       "\\end{tabular}\n"
      ],
      "text/markdown": [
       "\n",
       "docs | can | dear | entri | kind | maxim | secret | stop | whisper | wick | wish | \n",
       "|---|---|---|---|---|---|---|---|---|---|\n",
       "| mmmm fair know weak grin push knee expos belli pull head forget know wick smile                                                           | 0                                                                                                                                         | 0                                                                                                                                         | 0                                                                                                                                         | 0                                                                                                                                         | 0                                                                                                                                         | 0                                                                                                                                         | 0                                                                                                                                         | 0                                                                                                                                         | 1                                                                                                                                         | 0                                                                                                                                         | \n",
       "| u wait bus stop aft ur lect lar dun c u go get car come back n pick u                                                                     | 0                                                                                                                                         | 0                                                                                                                                         | 1                                                                                                                                         | 0                                                                                                                                         | 0                                                                                                                                         | 0                                                                                                                                         | 0                                                                                                                                         | 0                                                                                                                                         | 0                                                                                                                                         | 0                                                                                                                                         | \n",
       "| free entri £ week comp just send word enter now tc wwwtextcompcom cust care                                                               | 1                                                                                                                                         | 0                                                                                                                                         | 0                                                                                                                                         | 0                                                                                                                                         | 0                                                                                                                                         | 0                                                                                                                                         | 0                                                                                                                                         | 1                                                                                                                                         | 0                                                                                                                                         | 0                                                                                                                                         | \n",
       "| mmmmmmm snuggl deep content sigh whisper love much can bare stand                                                                         | 1                                                                                                                                         | 0                                                                                                                                         | 0                                                                                                                                         | 0                                                                                                                                         | 0                                                                                                                                         | 0                                                                                                                                         | 0                                                                                                                                         | 0                                                                                                                                         | 0                                                                                                                                         | 0                                                                                                                                         | \n",
       "| today accept dayu accept brother sister lover dear best clos lvblefrnd jstfrnd cutefrnd lifpartnr belovd swtheart bstfrnd rpli mean enemi | 0                                                                                                                                         | 0                                                                                                                                         | 0                                                                                                                                         | 0                                                                                                                                         | 0                                                                                                                                         | 1                                                                                                                                         | 1                                                                                                                                         | 0                                                                                                                                         | 0                                                                                                                                         | 0                                                                                                                                         | \n",
       "| can see see mayb reboot ym seen buzz                                                                                                      | 0                                                                                                                                         | 0                                                                                                                                         | 0                                                                                                                                         | 0                                                                                                                                         | 0                                                                                                                                         | 0                                                                                                                                         | 1                                                                                                                                         | 0                                                                                                                                         | 0                                                                                                                                         | 0                                                                                                                                         | \n",
       "| ur cashbal current pound maxim ur cash now send cash pmsg cc po box tcrw                                                                  | 0                                                                                                                                         | 0                                                                                                                                         | 0                                                                                                                                         | 0                                                                                                                                         | 0                                                                                                                                         | 0                                                                                                                                         | 0                                                                                                                                         | 0                                                                                                                                         | 0                                                                                                                                         | 1                                                                                                                                         | \n",
       "| thank lot wish birthday thank make birthday truli memor                                                                                   | 0                                                                                                                                         | 1                                                                                                                                         | 0                                                                                                                                         | 0                                                                                                                                         | 0                                                                                                                                         | 0                                                                                                                                         | 0                                                                                                                                         | 0                                                                                                                                         | 0                                                                                                                                         | 0                                                                                                                                         | \n",
       "| pleas sen kind advic pleas come tri                                                                                                       | 0                                                                                                                                         | 0                                                                                                                                         | 0                                                                                                                                         | 1                                                                                                                                         | 0                                                                                                                                         | 0                                                                                                                                         | 0                                                                                                                                         | 0                                                                                                                                         | 0                                                                                                                                         | 0                                                                                                                                         | \n",
       "| u secret admir reveal think u r special call opt repli reveal stop per msg recd cust care                                                 | 0                                                                                                                                         | 0                                                                                                                                         | 0                                                                                                                                         | 0                                                                                                                                         | 1                                                                                                                                         | 0                                                                                                                                         | 0                                                                                                                                         | 0                                                                                                                                         | 0                                                                                                                                         | 0                                                                                                                                         | \n",
       "\n",
       "\n"
      ],
      "text/plain": [
       "   docs                                                                                                                                     \n",
       "1  mmmm fair know weak grin push knee expos belli pull head forget know wick smile                                                          \n",
       "2  u wait bus stop aft ur lect lar dun c u go get car come back n pick u                                                                    \n",
       "3  free entri £ week comp just send word enter now tc wwwtextcompcom cust care                                                              \n",
       "4  mmmmmmm snuggl deep content sigh whisper love much can bare stand                                                                        \n",
       "5  today accept dayu accept brother sister lover dear best clos lvblefrnd jstfrnd cutefrnd lifpartnr belovd swtheart bstfrnd rpli mean enemi\n",
       "6  can see see mayb reboot ym seen buzz                                                                                                     \n",
       "7  ur cashbal current pound maxim ur cash now send cash pmsg cc po box tcrw                                                                 \n",
       "8  thank lot wish birthday thank make birthday truli memor                                                                                  \n",
       "9  pleas sen kind advic pleas come tri                                                                                                      \n",
       "10 u secret admir reveal think u r special call opt repli reveal stop per msg recd cust care                                                \n",
       "   can dear entri kind maxim secret stop whisper wick wish\n",
       "1  0   0    0     0    0     0      0    0       1    0   \n",
       "2  0   0    1     0    0     0      0    0       0    0   \n",
       "3  1   0    0     0    0     0      0    1       0    0   \n",
       "4  1   0    0     0    0     0      0    0       0    0   \n",
       "5  0   0    0     0    0     1      1    0       0    0   \n",
       "6  0   0    0     0    0     0      1    0       0    0   \n",
       "7  0   0    0     0    0     0      0    0       0    1   \n",
       "8  0   1    0     0    0     0      0    0       0    0   \n",
       "9  0   0    0     1    0     0      0    0       0    0   \n",
       "10 0   0    0     0    1     0      0    0       0    0   "
      ]
     },
     "metadata": {},
     "output_type": "display_data"
    }
   ],
   "source": [
    "data.table(docs = sapply(sms_corpus_clean[docs], as.character), sample_mat)"
   ]
  },
  {
   "cell_type": "markdown",
   "metadata": {},
   "source": [
    "We just created an sms_dtm object that contains the tokenized corpus using the default settings, which apply minimal processing.\n",
    "\n",
    "The default settings are appropriate because we have already prepared the corpus manually."
   ]
  },
  {
   "cell_type": "markdown",
   "metadata": {},
   "source": [
    "On the other hand, if we hadn't performed the preprocessing, we could do so\n",
    "here by providing a list of control parameter options to override the defaults.\n",
    "\n",
    "For example, to create a DTM directly from the raw, unprocessed SMS corpus, we can use the following command:"
   ]
  },
  {
   "cell_type": "code",
   "execution_count": 43,
   "metadata": {},
   "outputs": [],
   "source": [
    "sms_dtm2 <- DocumentTermMatrix(sms_corpus,\n",
    "    control = list(\n",
    "        tolower = TRUE,\n",
    "        removeNumbers = TRUE,\n",
    "        stopwords = TRUE,\n",
    "        removePunctuation = TRUE,\n",
    "        stemming = TRUE\n",
    "        )\n",
    "    )"
   ]
  },
  {
   "cell_type": "code",
   "execution_count": 44,
   "metadata": {},
   "outputs": [
    {
     "name": "stdout",
     "output_type": "stream",
     "text": [
      "List of 6\n",
      " $ i       : int [1:43221] 1 1 1 1 1 2 2 2 3 3 ...\n",
      " $ j       : int [1:43221] 990 2348 2685 3082 6568 448 3138 5923 201 939 ...\n",
      " $ v       : num [1:43221] 1 1 1 1 1 1 1 1 1 1 ...\n",
      " $ nrow    : int 5559\n",
      " $ ncol    : int 6961\n",
      " $ dimnames:List of 2\n",
      "  ..$ Docs : chr [1:5559] \"1\" \"2\" \"3\" \"4\" ...\n",
      "  ..$ Terms: chr [1:6961] \"‘morrow\" \"‘rent\" \"“harri\" \"“it\" ...\n",
      " - attr(*, \"class\")= chr [1:2] \"DocumentTermMatrix\" \"simple_triplet_matrix\"\n",
      " - attr(*, \"weighting\")= chr [1:2] \"term frequency\" \"tf\"\n"
     ]
    }
   ],
   "source": [
    "str(sms_dtm2)"
   ]
  },
  {
   "cell_type": "markdown",
   "metadata": {},
   "source": [
    "It might have some differences with the previous dtm due to application order of cleaning steps"
   ]
  },
  {
   "cell_type": "code",
   "execution_count": 45,
   "metadata": {},
   "outputs": [],
   "source": [
    "sms_tdm <- tm::TermDocumentMatrix(sms_corpus_clean)"
   ]
  },
  {
   "cell_type": "markdown",
   "metadata": {},
   "source": [
    "## Split dataset into train and test sets"
   ]
  },
  {
   "cell_type": "markdown",
   "metadata": {},
   "source": [
    "With a .75/.25 split, we will have 4169 train and 1390 test observations:\n",
    "\n",
    "Remember that, sms_raw is a data.table and in a data.table, .I is a placeholder for 1:nrows(DTobject)"
   ]
  },
  {
   "cell_type": "code",
   "execution_count": 46,
   "metadata": {},
   "outputs": [],
   "source": [
    "train_ind <- 1:4169\n",
    "test_ind <- sms_raw[,.I[-train_ind]]"
   ]
  },
  {
   "cell_type": "code",
   "execution_count": 47,
   "metadata": {},
   "outputs": [],
   "source": [
    "sms_dtm_train <- sms_dtm[train_ind,]\n",
    "sms_dtm_test <- sms_dtm[test_ind,]"
   ]
  },
  {
   "cell_type": "markdown",
   "metadata": {},
   "source": [
    "We should have a respective split of the type vector also:"
   ]
  },
  {
   "cell_type": "code",
   "execution_count": 48,
   "metadata": {},
   "outputs": [],
   "source": [
    "sms_train_labels <- sms_raw[train_ind, type]\n",
    "sms_test_labels <- sms_raw[test_ind, type]"
   ]
  },
  {
   "cell_type": "markdown",
   "metadata": {},
   "source": [
    "To confirm that the subsets are representative of the complete set of SMS data, let's\n",
    "compare the proportion of spam in the training and test data frames:"
   ]
  },
  {
   "cell_type": "code",
   "execution_count": 107,
   "metadata": {
    "scrolled": false
   },
   "outputs": [
    {
     "data": {
      "image/png": "[encoded data removed]",
      "text/plain": [
       "plot without title"
      ]
     },
     "metadata": {},
     "output_type": "display_data"
    }
   ],
   "source": [
    "p1 <- ggplot2::ggplot(data.frame(labels = sms_train_labels)) +\n",
    "geom_bar(aes(x = labels, y = ..count../sum(..count..)), height = 0.1) +\n",
    "ggtitle(\"Train Labels\") +\n",
    "labs(x = \"type\", y = \"proportion\")\n",
    "\n",
    "p2 <- ggplot2::ggplot(data.frame(labels = sms_test_labels)) +\n",
    "geom_bar(aes(x = labels, y = ..count../sum(..count..)), height = 0.1) +\n",
    "ggtitle(\"Test Labels\") +\n",
    "labs(x = \"type\", y = \"proportion\")\n",
    "\n",
    "gridExtra::grid.arrange(p1, p2, ncol = 2)"
   ]
  },
  {
   "cell_type": "markdown",
   "metadata": {},
   "source": [
    "The proportions are alike across sets.\n",
    "\n",
    "We can also confirm this with prop tables:\n",
    "\n",
    "Note the use of sapply against the newly created list with titles and the closure - unnamed embedded function:"
   ]
  },
  {
   "cell_type": "code",
   "execution_count": 50,
   "metadata": {},
   "outputs": [
    {
     "data": {
      "text/html": [
       "<table>\n",
       "<thead><tr><th></th><th scope=col>Train</th><th scope=col>Test</th></tr></thead>\n",
       "<tbody>\n",
       "\t<tr><th scope=row>ham</th><td>0.8647158</td><td>0.8683453</td></tr>\n",
       "\t<tr><th scope=row>spam</th><td>0.1352842</td><td>0.1316547</td></tr>\n",
       "</tbody>\n",
       "</table>\n"
      ],
      "text/latex": [
       "\\begin{tabular}{r|ll}\n",
       "  & Train & Test\\\\\n",
       "\\hline\n",
       "\tham & 0.8647158 & 0.8683453\\\\\n",
       "\tspam & 0.1352842 & 0.1316547\\\\\n",
       "\\end{tabular}\n"
      ],
      "text/markdown": [
       "\n",
       "| <!--/--> | Train | Test | \n",
       "|---|---|\n",
       "| ham | 0.8647158 | 0.8683453 | \n",
       "| spam | 0.1352842 | 0.1316547 | \n",
       "\n",
       "\n"
      ],
      "text/plain": [
       "     Train     Test     \n",
       "ham  0.8647158 0.8683453\n",
       "spam 0.1352842 0.1316547"
      ]
     },
     "metadata": {},
     "output_type": "display_data"
    }
   ],
   "source": [
    "sapply(list(Train = sms_train_labels,\n",
    "            Test = sms_test_labels),\n",
    "      function(x) prop.table(table(x)))"
   ]
  },
  {
   "cell_type": "markdown",
   "metadata": {},
   "source": [
    "## Visualize text data with word cloud"
   ]
  },
  {
   "cell_type": "markdown",
   "metadata": {},
   "source": [
    "A word cloud is a way to visually depict the frequency at which words appear in text data.\n",
    "\n",
    "The cloud is composed of words scattered somewhat randomly around the figure.\n",
    "\n",
    "Words appearing more often in the text are shown in a larger font, while less common terms are shown in smaller fonts.\n",
    "\n",
    "This type of figures grew in popularity recently, since it provides a way to observe trending topics on social media websites."
   ]
  },
  {
   "cell_type": "markdown",
   "metadata": {},
   "source": [
    "We can create a word cloud directly from the corpus, for words that appear at least 50 times.\n",
    "\n",
    "With random.order = F, more frequent words are placed closer to the center.\n",
    "\n",
    "We beautify the cloud with RColorBrewer package:"
   ]
  },
  {
   "cell_type": "code",
   "execution_count": 51,
   "metadata": {
    "scrolled": false
   },
   "outputs": [
    {
     "data": {
      "image/png": "[encoded data removed]",
      "text/plain": [
       "plot without title"
      ]
     },
     "metadata": {},
     "output_type": "display_data"
    }
   ],
   "source": [
    "wordcloud::wordcloud(sms_corpus_clean,\n",
    "                        min.freq = 50,\n",
    "                        random.order = F,\n",
    "                        colors = RColorBrewer::brewer.pal(8, \"Dark2\"))"
   ]
  },
  {
   "cell_type": "markdown",
   "metadata": {},
   "source": [
    "We can also create separate word clouds for hams and spams directly from the raw sms object.\n",
    "\n",
    "wordcloud automatically does the necessary transformations\n",
    "\n",
    "We do that in the concise \"data.table\" way:"
   ]
  },
  {
   "cell_type": "code",
   "execution_count": 52,
   "metadata": {
    "scrolled": false
   },
   "outputs": [
    {
     "data": {
      "text/html": [
       "<table>\n",
       "<thead><tr><th scope=col>type</th></tr></thead>\n",
       "<tbody>\n",
       "</tbody>\n",
       "</table>\n"
      ],
      "text/latex": [
       "\\begin{tabular}{r|l}\n",
       " type\\\\\n",
       "\\hline\n",
       "\\end{tabular}\n"
      ],
      "text/markdown": [
       "\n",
       "type | \n",
       "||\n",
       "\n",
       "\n"
      ],
      "text/plain": [
       "     type"
      ]
     },
     "metadata": {},
     "output_type": "display_data"
    },
    {
     "data": {
      "image/png": "[encoded data removed]",
      "text/plain": [
       "Plot with title “spam”"
      ]
     },
     "metadata": {},
     "output_type": "display_data"
    }
   ],
   "source": [
    "# open new plot\n",
    "plot.new()\n",
    "\n",
    "# set parameters for layout, margins and main title relative text size\n",
    "par(mfrow=c(1,2), mar = rep(1,4), cex.main = 1.5)\n",
    "\n",
    "# inside data.table, for each type category (ham, spam), create a wordcloud and set a main title\n",
    "# note the use of curly braces \"{...}\" for multiple statements\n",
    "# \"by\" clause for aggregate/split operations\n",
    "sms_raw[, { wordcloud::wordcloud(text,\n",
    "         max.words = 40,\n",
    "         #scale = c(1, 1),\n",
    "         random.order = F,\n",
    "         colors = RColorBrewer::brewer.pal(8, \"Dark2\"))\n",
    "         title(main = type) }\n",
    ", by = type]"
   ]
  },
  {
   "cell_type": "markdown",
   "metadata": {},
   "source": [
    "You can realize that \"spam\" cloud includes some words like \"free\", \"claim\", \"mobile\", \"prize\" that do not appear in the \"ham\" cloud\n",
    "\n",
    "within words common to both, \"call\" is more frequent in \"spam\" while \"now\", \"get\", \"just\", \"you\" and \"will\" are more frequent in \"ham\" cloud\n",
    "\n",
    "\"can\" appears in the \"ham\" cloud and not \"spam\" cloud"
   ]
  },
  {
   "cell_type": "markdown",
   "metadata": {},
   "source": [
    "## Filtering for more frequent words and creating indicator features"
   ]
  },
  {
   "cell_type": "markdown",
   "metadata": {},
   "source": [
    "The final step in the data preparation process is to transform the sparse matrix into a data structure that can be used to train a Naive Bayes classifier.\n",
    "\n",
    "Currently, the sparse matrix includes over 6,500 features; this is a feature for every word that appears in at least one SMS message. It's unlikely that all of these are useful for classification.\n",
    "\n",
    "To reduce the number of features, we will eliminate any word that appear in less than five SMS messages, or in less than about 0.1 percent of the records in the training data."
   ]
  },
  {
   "cell_type": "code",
   "execution_count": 53,
   "metadata": {},
   "outputs": [],
   "source": [
    "sms_freq_words <- tm::findFreqTerms(sms_dtm_train, 5)"
   ]
  },
  {
   "cell_type": "code",
   "execution_count": 54,
   "metadata": {},
   "outputs": [
    {
     "name": "stdout",
     "output_type": "stream",
     "text": [
      " chr [1:1139] \"£wk\" \"€˜m\" \"€˜s\" \"abiola\" \"abl\" \"abt\" \"accept\" \"access\" ...\n"
     ]
    }
   ],
   "source": [
    "str(sms_freq_words)"
   ]
  },
  {
   "cell_type": "markdown",
   "metadata": {},
   "source": [
    "There are 1139 words appearing in at least 5 messages"
   ]
  },
  {
   "cell_type": "markdown",
   "metadata": {},
   "source": [
    "We now need to filter our DTM to include only the terms appearing in a specified\n",
    "vector.\n",
    "\n",
    "As done earlier, we'll use the data frame style [row, col] operations to\n",
    "request specific portions of the DTM, noting that the columns are named after the\n",
    "words the DTM contains. We can take advantage of this to limit the DTM to specific\n",
    "words"
   ]
  },
  {
   "cell_type": "code",
   "execution_count": 55,
   "metadata": {},
   "outputs": [],
   "source": [
    "sms_dtm_freq_train <- sms_dtm_train[ , sms_freq_words]\n",
    "\n",
    "sms_dtm_freq_test <- sms_dtm_test[ , sms_freq_words]"
   ]
  },
  {
   "cell_type": "code",
   "execution_count": 56,
   "metadata": {},
   "outputs": [
    {
     "data": {
      "text/html": [
       "<dl>\n",
       "\t<dt>$train</dt>\n",
       "\t\t<dd><ol class=list-inline>\n",
       "\t<li>4169</li>\n",
       "\t<li>6559</li>\n",
       "</ol>\n",
       "</dd>\n",
       "\t<dt>$freq_train</dt>\n",
       "\t\t<dd><ol class=list-inline>\n",
       "\t<li>4169</li>\n",
       "\t<li>1139</li>\n",
       "</ol>\n",
       "</dd>\n",
       "</dl>\n"
      ],
      "text/latex": [
       "\\begin{description}\n",
       "\\item[\\$train] \\begin{enumerate*}\n",
       "\\item 4169\n",
       "\\item 6559\n",
       "\\end{enumerate*}\n",
       "\n",
       "\\item[\\$freq\\_train] \\begin{enumerate*}\n",
       "\\item 4169\n",
       "\\item 1139\n",
       "\\end{enumerate*}\n",
       "\n",
       "\\end{description}\n"
      ],
      "text/markdown": [
       "$train\n",
       ":   1. 4169\n",
       "2. 6559\n",
       "\n",
       "\n",
       "\n",
       "$freq_train\n",
       ":   1. 4169\n",
       "2. 1139\n",
       "\n",
       "\n",
       "\n",
       "\n",
       "\n"
      ],
      "text/plain": [
       "$train\n",
       "[1] 4169 6559\n",
       "\n",
       "$freq_train\n",
       "[1] 4169 1139\n"
      ]
     },
     "metadata": {},
     "output_type": "display_data"
    },
    {
     "data": {
      "text/html": [
       "<dl>\n",
       "\t<dt>$test</dt>\n",
       "\t\t<dd><ol class=list-inline>\n",
       "\t<li>1390</li>\n",
       "\t<li>6559</li>\n",
       "</ol>\n",
       "</dd>\n",
       "\t<dt>$freq_test</dt>\n",
       "\t\t<dd><ol class=list-inline>\n",
       "\t<li>1390</li>\n",
       "\t<li>1139</li>\n",
       "</ol>\n",
       "</dd>\n",
       "</dl>\n"
      ],
      "text/latex": [
       "\\begin{description}\n",
       "\\item[\\$test] \\begin{enumerate*}\n",
       "\\item 1390\n",
       "\\item 6559\n",
       "\\end{enumerate*}\n",
       "\n",
       "\\item[\\$freq\\_test] \\begin{enumerate*}\n",
       "\\item 1390\n",
       "\\item 1139\n",
       "\\end{enumerate*}\n",
       "\n",
       "\\end{description}\n"
      ],
      "text/markdown": [
       "$test\n",
       ":   1. 1390\n",
       "2. 6559\n",
       "\n",
       "\n",
       "\n",
       "$freq_test\n",
       ":   1. 1390\n",
       "2. 1139\n",
       "\n",
       "\n",
       "\n",
       "\n",
       "\n"
      ],
      "text/plain": [
       "$test\n",
       "[1] 1390 6559\n",
       "\n",
       "$freq_test\n",
       "[1] 1390 1139\n"
      ]
     },
     "metadata": {},
     "output_type": "display_data"
    }
   ],
   "source": [
    "lapply(list(train = sms_dtm_train, freq_train = sms_dtm_freq_train), dim)\n",
    "lapply(list(test = sms_dtm_test, freq_test = sms_dtm_freq_test), dim)"
   ]
  },
  {
   "cell_type": "markdown",
   "metadata": {},
   "source": [
    "Note how number of columns - denoting terms - shrank after the filtering. Row counts are preserved"
   ]
  },
  {
   "cell_type": "markdown",
   "metadata": {},
   "source": [
    "The Naive Bayes classifier is typically trained on data with categorical features.\n",
    "\n",
    "This poses a problem, since the cells in the sparse matrix are numeric and measure the number of times a word appears in a message.\n",
    "\n",
    "We need to change this to a categorical variable that simply indicates yes or no depending on whether the word appears at all.\n",
    "\n",
    "We first create a custom function and then apply it on the column margin of the dtm's:"
   ]
  },
  {
   "cell_type": "code",
   "execution_count": 57,
   "metadata": {},
   "outputs": [],
   "source": [
    "convert_counts <- function(x)\n",
    "{\n",
    "    x <- ifelse(x > 0, \"Yes\", \"No\")\n",
    "}"
   ]
  },
  {
   "cell_type": "code",
   "execution_count": 58,
   "metadata": {},
   "outputs": [],
   "source": [
    "sms_train <- apply(sms_dtm_freq_train, MARGIN = 2, convert_counts)\n",
    "\n",
    "sms_test <- apply(sms_dtm_freq_test, MARGIN = 2, convert_counts)\n"
   ]
  },
  {
   "cell_type": "markdown",
   "metadata": {},
   "source": [
    "The result will be two character type matrixes, each with cells indicating \"Yes\" or \"No\" for whether the word represented by the column appears at any point in the message represented by the row."
   ]
  },
  {
   "cell_type": "code",
   "execution_count": 59,
   "metadata": {},
   "outputs": [
    {
     "data": {
      "text/html": [
       "<table>\n",
       "<thead><tr><th></th><th scope=col>£wk</th><th scope=col>€˜m</th><th scope=col>€˜s</th><th scope=col>abiola</th><th scope=col>abl</th><th scope=col>abt</th><th scope=col>accept</th><th scope=col>access</th><th scope=col>account</th><th scope=col>across</th></tr></thead>\n",
       "<tbody>\n",
       "\t<tr><th scope=row>1</th><td>No</td><td>No</td><td>No</td><td>No</td><td>No</td><td>No</td><td>No</td><td>No</td><td>No</td><td>No</td></tr>\n",
       "\t<tr><th scope=row>2</th><td>No</td><td>No</td><td>No</td><td>No</td><td>No</td><td>No</td><td>No</td><td>No</td><td>No</td><td>No</td></tr>\n",
       "\t<tr><th scope=row>3</th><td>No</td><td>No</td><td>No</td><td>No</td><td>No</td><td>No</td><td>No</td><td>No</td><td>No</td><td>No</td></tr>\n",
       "\t<tr><th scope=row>4</th><td>No</td><td>No</td><td>No</td><td>No</td><td>No</td><td>No</td><td>No</td><td>No</td><td>No</td><td>No</td></tr>\n",
       "\t<tr><th scope=row>5</th><td>No</td><td>No</td><td>No</td><td>No</td><td>No</td><td>No</td><td>No</td><td>No</td><td>No</td><td>No</td></tr>\n",
       "\t<tr><th scope=row>6</th><td>No</td><td>No</td><td>No</td><td>No</td><td>No</td><td>No</td><td>No</td><td>No</td><td>No</td><td>No</td></tr>\n",
       "\t<tr><th scope=row>7</th><td>No</td><td>No</td><td>No</td><td>No</td><td>No</td><td>No</td><td>No</td><td>No</td><td>No</td><td>No</td></tr>\n",
       "\t<tr><th scope=row>8</th><td>No</td><td>No</td><td>No</td><td>No</td><td>No</td><td>No</td><td>No</td><td>No</td><td>No</td><td>No</td></tr>\n",
       "\t<tr><th scope=row>9</th><td>No</td><td>No</td><td>No</td><td>No</td><td>No</td><td>No</td><td>No</td><td>No</td><td>No</td><td>No</td></tr>\n",
       "\t<tr><th scope=row>10</th><td>No</td><td>No</td><td>No</td><td>No</td><td>No</td><td>No</td><td>No</td><td>No</td><td>No</td><td>No</td></tr>\n",
       "</tbody>\n",
       "</table>\n"
      ],
      "text/latex": [
       "\\begin{tabular}{r|llllllllll}\n",
       "  & £wk & €˜m & €˜s & abiola & abl & abt & accept & access & account & across\\\\\n",
       "\\hline\n",
       "\t1 & No & No & No & No & No & No & No & No & No & No\\\\\n",
       "\t2 & No & No & No & No & No & No & No & No & No & No\\\\\n",
       "\t3 & No & No & No & No & No & No & No & No & No & No\\\\\n",
       "\t4 & No & No & No & No & No & No & No & No & No & No\\\\\n",
       "\t5 & No & No & No & No & No & No & No & No & No & No\\\\\n",
       "\t6 & No & No & No & No & No & No & No & No & No & No\\\\\n",
       "\t7 & No & No & No & No & No & No & No & No & No & No\\\\\n",
       "\t8 & No & No & No & No & No & No & No & No & No & No\\\\\n",
       "\t9 & No & No & No & No & No & No & No & No & No & No\\\\\n",
       "\t10 & No & No & No & No & No & No & No & No & No & No\\\\\n",
       "\\end{tabular}\n"
      ],
      "text/markdown": [
       "\n",
       "| <!--/--> | £wk | €˜m | €˜s | abiola | abl | abt | accept | access | account | across | \n",
       "|---|---|---|---|---|---|---|---|---|---|\n",
       "| 1 | No | No | No | No | No | No | No | No | No | No | \n",
       "| 2 | No | No | No | No | No | No | No | No | No | No | \n",
       "| 3 | No | No | No | No | No | No | No | No | No | No | \n",
       "| 4 | No | No | No | No | No | No | No | No | No | No | \n",
       "| 5 | No | No | No | No | No | No | No | No | No | No | \n",
       "| 6 | No | No | No | No | No | No | No | No | No | No | \n",
       "| 7 | No | No | No | No | No | No | No | No | No | No | \n",
       "| 8 | No | No | No | No | No | No | No | No | No | No | \n",
       "| 9 | No | No | No | No | No | No | No | No | No | No | \n",
       "| 10 | No | No | No | No | No | No | No | No | No | No | \n",
       "\n",
       "\n"
      ],
      "text/plain": [
       "    Terms\n",
       "Docs £wk €˜m €˜s abiola abl abt accept access account across\n",
       "  1  No  No  No  No     No  No  No     No     No      No    \n",
       "  2  No  No  No  No     No  No  No     No     No      No    \n",
       "  3  No  No  No  No     No  No  No     No     No      No    \n",
       "  4  No  No  No  No     No  No  No     No     No      No    \n",
       "  5  No  No  No  No     No  No  No     No     No      No    \n",
       "  6  No  No  No  No     No  No  No     No     No      No    \n",
       "  7  No  No  No  No     No  No  No     No     No      No    \n",
       "  8  No  No  No  No     No  No  No     No     No      No    \n",
       "  9  No  No  No  No     No  No  No     No     No      No    \n",
       "  10 No  No  No  No     No  No  No     No     No      No    "
      ]
     },
     "metadata": {},
     "output_type": "display_data"
    },
    {
     "data": {
      "text/html": [
       "<table>\n",
       "<thead><tr><th></th><th scope=col>£wk</th><th scope=col>€˜m</th><th scope=col>€˜s</th><th scope=col>abiola</th><th scope=col>abl</th><th scope=col>abt</th><th scope=col>accept</th><th scope=col>access</th><th scope=col>account</th><th scope=col>across</th></tr></thead>\n",
       "<tbody>\n",
       "\t<tr><th scope=row>4170</th><td>No</td><td>No</td><td>No</td><td>No</td><td>No</td><td>No</td><td>No</td><td>No</td><td>No</td><td>No</td></tr>\n",
       "\t<tr><th scope=row>4171</th><td>No</td><td>No</td><td>No</td><td>No</td><td>No</td><td>No</td><td>No</td><td>No</td><td>No</td><td>No</td></tr>\n",
       "\t<tr><th scope=row>4172</th><td>No</td><td>No</td><td>No</td><td>No</td><td>No</td><td>No</td><td>No</td><td>No</td><td>No</td><td>No</td></tr>\n",
       "\t<tr><th scope=row>4173</th><td>No</td><td>No</td><td>No</td><td>No</td><td>No</td><td>No</td><td>No</td><td>No</td><td>No</td><td>No</td></tr>\n",
       "\t<tr><th scope=row>4174</th><td>No</td><td>No</td><td>No</td><td>No</td><td>No</td><td>No</td><td>No</td><td>No</td><td>No</td><td>No</td></tr>\n",
       "\t<tr><th scope=row>4175</th><td>No</td><td>No</td><td>No</td><td>No</td><td>No</td><td>No</td><td>No</td><td>No</td><td>No</td><td>No</td></tr>\n",
       "\t<tr><th scope=row>4176</th><td>No</td><td>No</td><td>No</td><td>No</td><td>No</td><td>No</td><td>No</td><td>No</td><td>No</td><td>No</td></tr>\n",
       "\t<tr><th scope=row>4177</th><td>No</td><td>No</td><td>No</td><td>No</td><td>No</td><td>No</td><td>No</td><td>No</td><td>No</td><td>No</td></tr>\n",
       "\t<tr><th scope=row>4178</th><td>No</td><td>No</td><td>No</td><td>No</td><td>No</td><td>No</td><td>No</td><td>No</td><td>No</td><td>No</td></tr>\n",
       "\t<tr><th scope=row>4179</th><td>No</td><td>No</td><td>No</td><td>No</td><td>No</td><td>No</td><td>No</td><td>No</td><td>No</td><td>No</td></tr>\n",
       "</tbody>\n",
       "</table>\n"
      ],
      "text/latex": [
       "\\begin{tabular}{r|llllllllll}\n",
       "  & £wk & €˜m & €˜s & abiola & abl & abt & accept & access & account & across\\\\\n",
       "\\hline\n",
       "\t4170 & No & No & No & No & No & No & No & No & No & No\\\\\n",
       "\t4171 & No & No & No & No & No & No & No & No & No & No\\\\\n",
       "\t4172 & No & No & No & No & No & No & No & No & No & No\\\\\n",
       "\t4173 & No & No & No & No & No & No & No & No & No & No\\\\\n",
       "\t4174 & No & No & No & No & No & No & No & No & No & No\\\\\n",
       "\t4175 & No & No & No & No & No & No & No & No & No & No\\\\\n",
       "\t4176 & No & No & No & No & No & No & No & No & No & No\\\\\n",
       "\t4177 & No & No & No & No & No & No & No & No & No & No\\\\\n",
       "\t4178 & No & No & No & No & No & No & No & No & No & No\\\\\n",
       "\t4179 & No & No & No & No & No & No & No & No & No & No\\\\\n",
       "\\end{tabular}\n"
      ],
      "text/markdown": [
       "\n",
       "| <!--/--> | £wk | €˜m | €˜s | abiola | abl | abt | accept | access | account | across | \n",
       "|---|---|---|---|---|---|---|---|---|---|\n",
       "| 4170 | No | No | No | No | No | No | No | No | No | No | \n",
       "| 4171 | No | No | No | No | No | No | No | No | No | No | \n",
       "| 4172 | No | No | No | No | No | No | No | No | No | No | \n",
       "| 4173 | No | No | No | No | No | No | No | No | No | No | \n",
       "| 4174 | No | No | No | No | No | No | No | No | No | No | \n",
       "| 4175 | No | No | No | No | No | No | No | No | No | No | \n",
       "| 4176 | No | No | No | No | No | No | No | No | No | No | \n",
       "| 4177 | No | No | No | No | No | No | No | No | No | No | \n",
       "| 4178 | No | No | No | No | No | No | No | No | No | No | \n",
       "| 4179 | No | No | No | No | No | No | No | No | No | No | \n",
       "\n",
       "\n"
      ],
      "text/plain": [
       "      Terms\n",
       "Docs   £wk €˜m €˜s abiola abl abt accept access account across\n",
       "  4170 No  No  No  No     No  No  No     No     No      No    \n",
       "  4171 No  No  No  No     No  No  No     No     No      No    \n",
       "  4172 No  No  No  No     No  No  No     No     No      No    \n",
       "  4173 No  No  No  No     No  No  No     No     No      No    \n",
       "  4174 No  No  No  No     No  No  No     No     No      No    \n",
       "  4175 No  No  No  No     No  No  No     No     No      No    \n",
       "  4176 No  No  No  No     No  No  No     No     No      No    \n",
       "  4177 No  No  No  No     No  No  No     No     No      No    \n",
       "  4178 No  No  No  No     No  No  No     No     No      No    \n",
       "  4179 No  No  No  No     No  No  No     No     No      No    "
      ]
     },
     "metadata": {},
     "output_type": "display_data"
    }
   ],
   "source": [
    "sms_train[1:10, 1:10]\n",
    "sms_test[1:10, 1:10]"
   ]
  },
  {
   "cell_type": "markdown",
   "metadata": {},
   "source": [
    "# Training a model on the data"
   ]
  },
  {
   "cell_type": "markdown",
   "metadata": {},
   "source": [
    "Naive Bayes algorithm will use the presence or absence of words to estimate the probability that a\n",
    "given SMS message is spam.\n",
    "\n",
    "To build our model on the sms_train matrix, we'll use the following command:"
   ]
  },
  {
   "cell_type": "code",
   "execution_count": 60,
   "metadata": {},
   "outputs": [],
   "source": [
    "sms_classifier <- e1071::naiveBayes(sms_train, sms_train_labels)"
   ]
  },
  {
   "cell_type": "markdown",
   "metadata": {},
   "source": [
    "The sms_classifier object now contains a naiveBayes classifier object that can be\n",
    "used to make predictions.\n",
    "\n",
    "See the structure:"
   ]
  },
  {
   "cell_type": "code",
   "execution_count": 61,
   "metadata": {},
   "outputs": [
    {
     "name": "stdout",
     "output_type": "stream",
     "text": [
      "List of 4\n",
      " $ apriori: 'table' int [1:2(1d)] 3605 564\n",
      "  ..- attr(*, \"dimnames\")=List of 1\n",
      "  .. ..$ sms_train_labels: chr [1:2] \"ham\" \"spam\"\n",
      " $ tables :List of 1139\n",
      "  ..$ £wk                : 'table' num [1:2, 1:2] 1 0.99113 0 0.00887\n",
      "  .. ..- attr(*, \"dimnames\")=List of 2\n",
      "  .. .. ..$ sms_train_labels: chr [1:2] \"ham\" \"spam\"\n",
      "  .. .. ..$ £wk             : chr [1:2] \"No\" \"Yes\"\n",
      "  ..$ €˜m                : 'table' num [1:2, 1:2] 0.99861 1 0.00139 0\n",
      "  .. ..- attr(*, \"dimnames\")=List of 2\n",
      "  .. .. ..$ sms_train_labels: chr [1:2] \"ham\" \"spam\"\n",
      "  .. .. ..$ €˜m             : chr [1:2] \"No\" \"Yes\"\n",
      "  ..$ €˜s                : 'table' num [1:2, 1:2] 0.99861 1 0.00139 0\n",
      "  .. ..- attr(*, \"dimnames\")=List of 2\n",
      "  .. .. ..$ sms_train_labels: chr [1:2] \"ham\" \"spam\"\n",
      "  .. .. ..$ €˜s             : chr [1:2] \"No\" \"Yes\"\n",
      "  ..$ abiola             : 'table' num [1:2, 1:2] 0.99806 1 0.00194 0\n",
      "  .. ..- attr(*, \"dimnames\")=List of 2\n",
      "  .. .. ..$ sms_train_labels: chr [1:2] \"ham\" \"spam\"\n",
      "  .. .. ..$ abiola          : chr [1:2] \"No\" \"Yes\"\n",
      "  ..$ abl                : 'table' num [1:2, 1:2] 0.99473 1 0.00527 0\n",
      "  .. ..- attr(*, \"dimnames\")=List of 2\n",
      "  .. .. ..$ sms_train_labels: chr [1:2] \"ham\" \"spam\"\n",
      "  .. .. ..$ abl             : chr [1:2] \"No\" \"Yes\"\n",
      "  ..$ abt                : 'table' num [1:2, 1:2] 0.99584 1 0.00416 0\n",
      "  .. ..- attr(*, \"dimnames\")=List of 2\n",
      "  .. .. ..$ sms_train_labels: chr [1:2] \"ham\" \"spam\"\n",
      "  .. .. ..$ abt             : chr [1:2] \"No\" \"Yes\"\n",
      "  ..$ accept             : 'table' num [1:2, 1:2] 0.99861 1 0.00139 0\n",
      "  .. ..- attr(*, \"dimnames\")=List of 2\n",
      "  .. .. ..$ sms_train_labels: chr [1:2] \"ham\" \"spam\"\n",
      "  .. .. ..$ accept          : chr [1:2] \"No\" \"Yes\"\n",
      "  ..$ access             : 'table' num [1:2, 1:2] 0.999723 0.992908 0.000277 0.007092\n",
      "  .. ..- attr(*, \"dimnames\")=List of 2\n",
      "  .. .. ..$ sms_train_labels: chr [1:2] \"ham\" \"spam\"\n",
      "  .. .. ..$ access          : chr [1:2] \"No\" \"Yes\"\n",
      "  ..$ account            : 'table' num [1:2, 1:2] 0.99695 0.97163 0.00305 0.02837\n",
      "  .. ..- attr(*, \"dimnames\")=List of 2\n",
      "  .. .. ..$ sms_train_labels: chr [1:2] \"ham\" \"spam\"\n",
      "  .. .. ..$ account         : chr [1:2] \"No\" \"Yes\"\n",
      "  ..$ across             : 'table' num [1:2, 1:2] 0.99778 1 0.00222 0\n",
      "  .. ..- attr(*, \"dimnames\")=List of 2\n",
      "  .. .. ..$ sms_train_labels: chr [1:2] \"ham\" \"spam\"\n",
      "  .. .. ..$ across          : chr [1:2] \"No\" \"Yes\"\n",
      "  ..$ act                : 'table' num [1:2, 1:2] 0.99861 1 0.00139 0\n",
      "  .. ..- attr(*, \"dimnames\")=List of 2\n",
      "  .. .. ..$ sms_train_labels: chr [1:2] \"ham\" \"spam\"\n",
      "  .. .. ..$ act             : chr [1:2] \"No\" \"Yes\"\n",
      "  ..$ activ              : 'table' num [1:2, 1:2] 0.99861 0.98936 0.00139 0.01064\n",
      "  .. ..- attr(*, \"dimnames\")=List of 2\n",
      "  .. .. ..$ sms_train_labels: chr [1:2] \"ham\" \"spam\"\n",
      "  .. .. ..$ activ           : chr [1:2] \"No\" \"Yes\"\n",
      "  ..$ actual             : 'table' num [1:2, 1:2] 0.99362 1 0.00638 0\n",
      "  .. ..- attr(*, \"dimnames\")=List of 2\n",
      "  .. .. ..$ sms_train_labels: chr [1:2] \"ham\" \"spam\"\n",
      "  .. .. ..$ actual          : chr [1:2] \"No\" \"Yes\"\n",
      "  ..$ add                : 'table' num [1:2, 1:2] 0.99806 1 0.00194 0\n",
      "  .. ..- attr(*, \"dimnames\")=List of 2\n",
      "  .. .. ..$ sms_train_labels: chr [1:2] \"ham\" \"spam\"\n",
      "  .. .. ..$ add             : chr [1:2] \"No\" \"Yes\"\n",
      "  ..$ address            : 'table' num [1:2, 1:2] 0.99667 0.99291 0.00333 0.00709\n",
      "  .. ..- attr(*, \"dimnames\")=List of 2\n",
      "  .. .. ..$ sms_train_labels: chr [1:2] \"ham\" \"spam\"\n",
      "  .. .. ..$ address         : chr [1:2] \"No\" \"Yes\"\n",
      "  ..$ admir              : 'table' num [1:2, 1:2] 1 0.984 0 0.016\n",
      "  .. ..- attr(*, \"dimnames\")=List of 2\n",
      "  .. .. ..$ sms_train_labels: chr [1:2] \"ham\" \"spam\"\n",
      "  .. .. ..$ admir           : chr [1:2] \"No\" \"Yes\"\n",
      "  ..$ adult              : 'table' num [1:2, 1:2] 0.999445 0.994681 0.000555 0.005319\n",
      "  .. ..- attr(*, \"dimnames\")=List of 2\n",
      "  .. .. ..$ sms_train_labels: chr [1:2] \"ham\" \"spam\"\n",
      "  .. .. ..$ adult           : chr [1:2] \"No\" \"Yes\"\n",
      "  ..$ advanc             : 'table' num [1:2, 1:2] 0.99834 1 0.00166 0\n",
      "  .. ..- attr(*, \"dimnames\")=List of 2\n",
      "  .. .. ..$ sms_train_labels: chr [1:2] \"ham\" \"spam\"\n",
      "  .. .. ..$ advanc          : chr [1:2] \"No\" \"Yes\"\n",
      "  ..$ aft                : 'table' num [1:2, 1:2] 0.99556 1 0.00444 0\n",
      "  .. ..- attr(*, \"dimnames\")=List of 2\n",
      "  .. .. ..$ sms_train_labels: chr [1:2] \"ham\" \"spam\"\n",
      "  .. .. ..$ aft             : chr [1:2] \"No\" \"Yes\"\n",
      "  ..$ afternoon          : 'table' num [1:2, 1:2] 0.9939 1 0.0061 0\n",
      "  .. ..- attr(*, \"dimnames\")=List of 2\n",
      "  .. .. ..$ sms_train_labels: chr [1:2] \"ham\" \"spam\"\n",
      "  .. .. ..$ afternoon       : chr [1:2] \"No\" \"Yes\"\n",
      "  ..$ age                : 'table' num [1:2, 1:2] 0.99861 0.97872 0.00139 0.02128\n",
      "  .. ..- attr(*, \"dimnames\")=List of 2\n",
      "  .. .. ..$ sms_train_labels: chr [1:2] \"ham\" \"spam\"\n",
      "  .. .. ..$ age             : chr [1:2] \"No\" \"Yes\"\n",
      "  ..$ ago                : 'table' num [1:2, 1:2] 0.99695 1 0.00305 0\n",
      "  .. ..- attr(*, \"dimnames\")=List of 2\n",
      "  .. .. ..$ sms_train_labels: chr [1:2] \"ham\" \"spam\"\n",
      "  .. .. ..$ ago             : chr [1:2] \"No\" \"Yes\"\n",
      "  ..$ aha                : 'table' num [1:2, 1:2] 0.99834 1 0.00166 0\n",
      "  .. ..- attr(*, \"dimnames\")=List of 2\n",
      "  .. .. ..$ sms_train_labels: chr [1:2] \"ham\" \"spam\"\n",
      "  .. .. ..$ aha             : chr [1:2] \"No\" \"Yes\"\n",
      "  ..$ ahead              : 'table' num [1:2, 1:2] 0.99834 1 0.00166 0\n",
      "  .. ..- attr(*, \"dimnames\")=List of 2\n",
      "  .. .. ..$ sms_train_labels: chr [1:2] \"ham\" \"spam\"\n",
      "  .. .. ..$ ahead           : chr [1:2] \"No\" \"Yes\"\n",
      "  ..$ aight              : 'table' num [1:2, 1:2] 0.99223 1 0.00777 0\n",
      "  .. ..- attr(*, \"dimnames\")=List of 2\n",
      "  .. .. ..$ sms_train_labels: chr [1:2] \"ham\" \"spam\"\n",
      "  .. .. ..$ aight           : chr [1:2] \"No\" \"Yes\"\n",
      "  ..$ aint               : 'table' num [1:2, 1:2] 0.99806 1 0.00194 0\n",
      "  .. ..- attr(*, \"dimnames\")=List of 2\n",
      "  .. .. ..$ sms_train_labels: chr [1:2] \"ham\" \"spam\"\n",
      "  .. .. ..$ aint            : chr [1:2] \"No\" \"Yes\"\n",
      "  ..$ air                : 'table' num [1:2, 1:2] 0.99861 1 0.00139 0\n",
      "  .. ..- attr(*, \"dimnames\")=List of 2\n",
      "  .. .. ..$ sms_train_labels: chr [1:2] \"ham\" \"spam\"\n",
      "  .. .. ..$ air             : chr [1:2] \"No\" \"Yes\"\n",
      "  ..$ aiyo               : 'table' num [1:2, 1:2] 0.99861 1 0.00139 0\n",
      "  .. ..- attr(*, \"dimnames\")=List of 2\n",
      "  .. .. ..$ sms_train_labels: chr [1:2] \"ham\" \"spam\"\n",
      "  .. .. ..$ aiyo            : chr [1:2] \"No\" \"Yes\"\n",
      "  ..$ alex               : 'table' num [1:2, 1:2] 0.99806 1 0.00194 0\n",
      "  .. ..- attr(*, \"dimnames\")=List of 2\n",
      "  .. .. ..$ sms_train_labels: chr [1:2] \"ham\" \"spam\"\n",
      "  .. .. ..$ alex            : chr [1:2] \"No\" \"Yes\"\n",
      "  ..$ almost             : 'table' num [1:2, 1:2] 0.9975 1 0.0025 0\n",
      "  .. ..- attr(*, \"dimnames\")=List of 2\n",
      "  .. .. ..$ sms_train_labels: chr [1:2] \"ham\" \"spam\"\n",
      "  .. .. ..$ almost          : chr [1:2] \"No\" \"Yes\"\n",
      "  ..$ alon               : 'table' num [1:2, 1:2] 0.99695 0.99645 0.00305 0.00355\n",
      "  .. ..- attr(*, \"dimnames\")=List of 2\n",
      "  .. .. ..$ sms_train_labels: chr [1:2] \"ham\" \"spam\"\n",
      "  .. .. ..$ alon            : chr [1:2] \"No\" \"Yes\"\n",
      "  ..$ alreadi            : 'table' num [1:2, 1:2] 0.98086 0.99823 0.01914 0.00177\n",
      "  .. ..- attr(*, \"dimnames\")=List of 2\n",
      "  .. .. ..$ sms_train_labels: chr [1:2] \"ham\" \"spam\"\n",
      "  .. .. ..$ alreadi         : chr [1:2] \"No\" \"Yes\"\n",
      "  ..$ alright            : 'table' num [1:2, 1:2] 0.99473 1 0.00527 0\n",
      "  .. ..- attr(*, \"dimnames\")=List of 2\n",
      "  .. .. ..$ sms_train_labels: chr [1:2] \"ham\" \"spam\"\n",
      "  .. .. ..$ alright         : chr [1:2] \"No\" \"Yes\"\n",
      "  ..$ also               : 'table' num [1:2, 1:2] 0.98696 0.99468 0.01304 0.00532\n",
      "  .. ..- attr(*, \"dimnames\")=List of 2\n",
      "  .. .. ..$ sms_train_labels: chr [1:2] \"ham\" \"spam\"\n",
      "  .. .. ..$ also            : chr [1:2] \"No\" \"Yes\"\n",
      "  ..$ alway              : 'table' num [1:2, 1:2] 0.9886 1 0.0114 0\n",
      "  .. ..- attr(*, \"dimnames\")=List of 2\n",
      "  .. .. ..$ sms_train_labels: chr [1:2] \"ham\" \"spam\"\n",
      "  .. .. ..$ alway           : chr [1:2] \"No\" \"Yes\"\n",
      "  ..$ angri              : 'table' num [1:2, 1:2] 0.99723 1 0.00277 0\n",
      "  .. ..- attr(*, \"dimnames\")=List of 2\n",
      "  .. .. ..$ sms_train_labels: chr [1:2] \"ham\" \"spam\"\n",
      "  .. .. ..$ angri           : chr [1:2] \"No\" \"Yes\"\n",
      "  ..$ announc            : 'table' num [1:2, 1:2] 0.999723 0.991135 0.000277 0.008865\n",
      "  .. ..- attr(*, \"dimnames\")=List of 2\n",
      "  .. .. ..$ sms_train_labels: chr [1:2] \"ham\" \"spam\"\n",
      "  .. .. ..$ announc         : chr [1:2] \"No\" \"Yes\"\n",
      "  ..$ anoth              : 'table' num [1:2, 1:2] 0.99279 0.99823 0.00721 0.00177\n",
      "  .. ..- attr(*, \"dimnames\")=List of 2\n",
      "  .. .. ..$ sms_train_labels: chr [1:2] \"ham\" \"spam\"\n",
      "  .. .. ..$ anoth           : chr [1:2] \"No\" \"Yes\"\n",
      "  ..$ answer             : 'table' num [1:2, 1:2] 0.99556 0.99291 0.00444 0.00709\n",
      "  .. ..- attr(*, \"dimnames\")=List of 2\n",
      "  .. .. ..$ sms_train_labels: chr [1:2] \"ham\" \"spam\"\n",
      "  .. .. ..$ answer          : chr [1:2] \"No\" \"Yes\"\n",
      "  ..$ anymor             : 'table' num [1:2, 1:2] 0.99806 1 0.00194 0\n",
      "  .. ..- attr(*, \"dimnames\")=List of 2\n",
      "  .. .. ..$ sms_train_labels: chr [1:2] \"ham\" \"spam\"\n",
      "  .. .. ..$ anymor          : chr [1:2] \"No\" \"Yes\"\n",
      "  ..$ anyon              : 'table' num [1:2, 1:2] 0.99667 0.99823 0.00333 0.00177\n",
      "  .. ..- attr(*, \"dimnames\")=List of 2\n",
      "  .. .. ..$ sms_train_labels: chr [1:2] \"ham\" \"spam\"\n",
      "  .. .. ..$ anyon           : chr [1:2] \"No\" \"Yes\"\n",
      "  ..$ anyth              : 'table' num [1:2, 1:2] 0.985 1 0.015 0\n",
      "  .. ..- attr(*, \"dimnames\")=List of 2\n",
      "  .. .. ..$ sms_train_labels: chr [1:2] \"ham\" \"spam\"\n",
      "  .. .. ..$ anyth           : chr [1:2] \"No\" \"Yes\"\n",
      "  ..$ anytim             : 'table' num [1:2, 1:2] 0.999445 0.98227 0.000555 0.01773\n",
      "  .. ..- attr(*, \"dimnames\")=List of 2\n",
      "  .. .. ..$ sms_train_labels: chr [1:2] \"ham\" \"spam\"\n",
      "  .. .. ..$ anytim          : chr [1:2] \"No\" \"Yes\"\n",
      "  ..$ anyway             : 'table' num [1:2, 1:2] 0.99417 1 0.00583 0\n",
      "  .. ..- attr(*, \"dimnames\")=List of 2\n",
      "  .. .. ..$ sms_train_labels: chr [1:2] \"ham\" \"spam\"\n",
      "  .. .. ..$ anyway          : chr [1:2] \"No\" \"Yes\"\n",
      "  ..$ apart              : 'table' num [1:2, 1:2] 0.99723 1 0.00277 0\n",
      "  .. ..- attr(*, \"dimnames\")=List of 2\n",
      "  .. .. ..$ sms_train_labels: chr [1:2] \"ham\" \"spam\"\n",
      "  .. .. ..$ apart           : chr [1:2] \"No\" \"Yes\"\n",
      "  ..$ app                : 'table' num [1:2, 1:2] 0.99889 0.99468 0.00111 0.00532\n",
      "  .. ..- attr(*, \"dimnames\")=List of 2\n",
      "  .. .. ..$ sms_train_labels: chr [1:2] \"ham\" \"spam\"\n",
      "  .. .. ..$ app             : chr [1:2] \"No\" \"Yes\"\n",
      "  ..$ appli              : 'table' num [1:2, 1:2] 0.999168 0.964539 0.000832 0.035461\n",
      "  .. ..- attr(*, \"dimnames\")=List of 2\n",
      "  .. .. ..$ sms_train_labels: chr [1:2] \"ham\" \"spam\"\n",
      "  .. .. ..$ appli           : chr [1:2] \"No\" \"Yes\"\n",
      "  ..$ appreci            : 'table' num [1:2, 1:2] 0.99778 1 0.00222 0\n",
      "  .. ..- attr(*, \"dimnames\")=List of 2\n",
      "  .. .. ..$ sms_train_labels: chr [1:2] \"ham\" \"spam\"\n",
      "  .. .. ..$ appreci         : chr [1:2] \"No\" \"Yes\"\n",
      "  ..$ arcad              : 'table' num [1:2, 1:2] 1 0.99468 0 0.00532\n",
      "  .. ..- attr(*, \"dimnames\")=List of 2\n",
      "  .. .. ..$ sms_train_labels: chr [1:2] \"ham\" \"spam\"\n",
      "  .. .. ..$ arcad           : chr [1:2] \"No\" \"Yes\"\n",
      "  ..$ ard                : 'table' num [1:2, 1:2] 0.99501 1 0.00499 0\n",
      "  .. ..- attr(*, \"dimnames\")=List of 2\n",
      "  .. .. ..$ sms_train_labels: chr [1:2] \"ham\" \"spam\"\n",
      "  .. .. ..$ ard             : chr [1:2] \"No\" \"Yes\"\n",
      "  ..$ area               : 'table' num [1:2, 1:2] 0.999445 0.991135 0.000555 0.008865\n",
      "  .. ..- attr(*, \"dimnames\")=List of 2\n",
      "  .. .. ..$ sms_train_labels: chr [1:2] \"ham\" \"spam\"\n",
      "  .. .. ..$ area            : chr [1:2] \"No\" \"Yes\"\n",
      "  ..$ argu               : 'table' num [1:2, 1:2] 0.99861 1 0.00139 0\n",
      "  .. ..- attr(*, \"dimnames\")=List of 2\n",
      "  .. .. ..$ sms_train_labels: chr [1:2] \"ham\" \"spam\"\n",
      "  .. .. ..$ argu            : chr [1:2] \"No\" \"Yes\"\n",
      "  ..$ argument           : 'table' num [1:2, 1:2] 0.99834 1 0.00166 0\n",
      "  .. ..- attr(*, \"dimnames\")=List of 2\n",
      "  .. .. ..$ sms_train_labels: chr [1:2] \"ham\" \"spam\"\n",
      "  .. .. ..$ argument        : chr [1:2] \"No\" \"Yes\"\n",
      "  ..$ armand             : 'table' num [1:2, 1:2] 0.99861 1 0.00139 0\n",
      "  .. ..- attr(*, \"dimnames\")=List of 2\n",
      "  .. .. ..$ sms_train_labels: chr [1:2] \"ham\" \"spam\"\n",
      "  .. .. ..$ armand          : chr [1:2] \"No\" \"Yes\"\n",
      "  ..$ around             : 'table' num [1:2, 1:2] 0.9889 0.99823 0.0111 0.00177\n",
      "  .. ..- attr(*, \"dimnames\")=List of 2\n",
      "  .. .. ..$ sms_train_labels: chr [1:2] \"ham\" \"spam\"\n",
      "  .. .. ..$ around          : chr [1:2] \"No\" \"Yes\"\n",
      "  ..$ arrang             : 'table' num [1:2, 1:2] 0.99889 0.99823 0.00111 0.00177\n",
      "  .. ..- attr(*, \"dimnames\")=List of 2\n",
      "  .. .. ..$ sms_train_labels: chr [1:2] \"ham\" \"spam\"\n",
      "  .. .. ..$ arrang          : chr [1:2] \"No\" \"Yes\"\n",
      "  ..$ arriv              : 'table' num [1:2, 1:2] 0.999445 0.991135 0.000555 0.008865\n",
      "  .. ..- attr(*, \"dimnames\")=List of 2\n",
      "  .. .. ..$ sms_train_labels: chr [1:2] \"ham\" \"spam\"\n",
      "  .. .. ..$ arriv           : chr [1:2] \"No\" \"Yes\"\n",
      "  ..$ asap               : 'table' num [1:2, 1:2] 0.999168 0.989362 0.000832 0.010638\n",
      "  .. ..- attr(*, \"dimnames\")=List of 2\n",
      "  .. .. ..$ sms_train_labels: chr [1:2] \"ham\" \"spam\"\n",
      "  .. .. ..$ asap            : chr [1:2] \"No\" \"Yes\"\n",
      "  ..$ ask                : 'table' num [1:2, 1:2] 0.97642 0.99113 0.02358 0.00887\n",
      "  .. ..- attr(*, \"dimnames\")=List of 2\n",
      "  .. .. ..$ sms_train_labels: chr [1:2] \"ham\" \"spam\"\n",
      "  .. .. ..$ ask             : chr [1:2] \"No\" \"Yes\"\n",
      "  ..$ askd               : 'table' num [1:2, 1:2] 0.99723 1 0.00277 0\n",
      "  .. ..- attr(*, \"dimnames\")=List of 2\n",
      "  .. .. ..$ sms_train_labels: chr [1:2] \"ham\" \"spam\"\n",
      "  .. .. ..$ askd            : chr [1:2] \"No\" \"Yes\"\n",
      "  ..$ attempt            : 'table' num [1:2, 1:2] 1 0.9663 0 0.0337\n",
      "  .. ..- attr(*, \"dimnames\")=List of 2\n",
      "  .. .. ..$ sms_train_labels: chr [1:2] \"ham\" \"spam\"\n",
      "  .. .. ..$ attempt         : chr [1:2] \"No\" \"Yes\"\n",
      "  ..$ auction            : 'table' num [1:2, 1:2] 1 0.984 0 0.016\n",
      "  .. ..- attr(*, \"dimnames\")=List of 2\n",
      "  .. .. ..$ sms_train_labels: chr [1:2] \"ham\" \"spam\"\n",
      "  .. .. ..$ auction         : chr [1:2] \"No\" \"Yes\"\n",
      "  ..$ avail              : 'table' num [1:2, 1:2] 0.99695 0.99823 0.00305 0.00177\n",
      "  .. ..- attr(*, \"dimnames\")=List of 2\n",
      "  .. .. ..$ sms_train_labels: chr [1:2] \"ham\" \"spam\"\n",
      "  .. .. ..$ avail           : chr [1:2] \"No\" \"Yes\"\n",
      "  ..$ ave                : 'table' num [1:2, 1:2] 0.999168 0.994681 0.000832 0.005319\n",
      "  .. ..- attr(*, \"dimnames\")=List of 2\n",
      "  .. .. ..$ sms_train_labels: chr [1:2] \"ham\" \"spam\"\n",
      "  .. .. ..$ ave             : chr [1:2] \"No\" \"Yes\"\n",
      "  ..$ avoid              : 'table' num [1:2, 1:2] 0.99861 1 0.00139 0\n",
      "  .. ..- attr(*, \"dimnames\")=List of 2\n",
      "  .. .. ..$ sms_train_labels: chr [1:2] \"ham\" \"spam\"\n",
      "  .. .. ..$ avoid           : chr [1:2] \"No\" \"Yes\"\n",
      "  ..$ await              : 'table' num [1:2, 1:2] 0.999723 0.960993 0.000277 0.039007\n",
      "  .. ..- attr(*, \"dimnames\")=List of 2\n",
      "  .. .. ..$ sms_train_labels: chr [1:2] \"ham\" \"spam\"\n",
      "  .. .. ..$ await           : chr [1:2] \"No\" \"Yes\"\n",
      "  ..$ awak               : 'table' num [1:2, 1:2] 0.99834 1 0.00166 0\n",
      "  .. ..- attr(*, \"dimnames\")=List of 2\n",
      "  .. .. ..$ sms_train_labels: chr [1:2] \"ham\" \"spam\"\n",
      "  .. .. ..$ awak            : chr [1:2] \"No\" \"Yes\"\n",
      "  ..$ award              : 'table' num [1:2, 1:2] 1 0.9238 0 0.0762\n",
      "  .. ..- attr(*, \"dimnames\")=List of 2\n",
      "  .. .. ..$ sms_train_labels: chr [1:2] \"ham\" \"spam\"\n",
      "  .. .. ..$ award           : chr [1:2] \"No\" \"Yes\"\n",
      "  ..$ away               : 'table' num [1:2, 1:2] 0.99528 0.99645 0.00472 0.00355\n",
      "  .. ..- attr(*, \"dimnames\")=List of 2\n",
      "  .. .. ..$ sms_train_labels: chr [1:2] \"ham\" \"spam\"\n",
      "  .. .. ..$ away            : chr [1:2] \"No\" \"Yes\"\n",
      "  ..$ awesom             : 'table' num [1:2, 1:2] 0.99584 1 0.00416 0\n",
      "  .. ..- attr(*, \"dimnames\")=List of 2\n",
      "  .. .. ..$ sms_train_labels: chr [1:2] \"ham\" \"spam\"\n",
      "  .. .. ..$ awesom          : chr [1:2] \"No\" \"Yes\"\n",
      "  ..$ babe               : 'table' num [1:2, 1:2] 0.9861 0.9858 0.0139 0.0142\n",
      "  .. ..- attr(*, \"dimnames\")=List of 2\n",
      "  .. .. ..$ sms_train_labels: chr [1:2] \"ham\" \"spam\"\n",
      "  .. .. ..$ babe            : chr [1:2] \"No\" \"Yes\"\n",
      "  ..$ babi               : 'table' num [1:2, 1:2] 0.99473 0.99645 0.00527 0.00355\n",
      "  .. ..- attr(*, \"dimnames\")=List of 2\n",
      "  .. .. ..$ sms_train_labels: chr [1:2] \"ham\" \"spam\"\n",
      "  .. .. ..$ babi            : chr [1:2] \"No\" \"Yes\"\n",
      "  ..$ back               : 'table' num [1:2, 1:2] 0.9745 0.9734 0.0255 0.0266\n",
      "  .. ..- attr(*, \"dimnames\")=List of 2\n",
      "  .. .. ..$ sms_train_labels: chr [1:2] \"ham\" \"spam\"\n",
      "  .. .. ..$ back            : chr [1:2] \"No\" \"Yes\"\n",
      "  ..$ bad                : 'table' num [1:2, 1:2] 0.99417 1 0.00583 0\n",
      "  .. ..- attr(*, \"dimnames\")=List of 2\n",
      "  .. .. ..$ sms_train_labels: chr [1:2] \"ham\" \"spam\"\n",
      "  .. .. ..$ bad             : chr [1:2] \"No\" \"Yes\"\n",
      "  ..$ bag                : 'table' num [1:2, 1:2] 0.99778 1 0.00222 0\n",
      "  .. ..- attr(*, \"dimnames\")=List of 2\n",
      "  .. .. ..$ sms_train_labels: chr [1:2] \"ham\" \"spam\"\n",
      "  .. .. ..$ bag             : chr [1:2] \"No\" \"Yes\"\n",
      "  ..$ bank               : 'table' num [1:2, 1:2] 0.99806 0.99823 0.00194 0.00177\n",
      "  .. ..- attr(*, \"dimnames\")=List of 2\n",
      "  .. .. ..$ sms_train_labels: chr [1:2] \"ham\" \"spam\"\n",
      "  .. .. ..$ bank            : chr [1:2] \"No\" \"Yes\"\n",
      "  ..$ bare               : 'table' num [1:2, 1:2] 0.99834 1 0.00166 0\n",
      "  .. ..- attr(*, \"dimnames\")=List of 2\n",
      "  .. .. ..$ sms_train_labels: chr [1:2] \"ham\" \"spam\"\n",
      "  .. .. ..$ bare            : chr [1:2] \"No\" \"Yes\"\n",
      "  ..$ basic              : 'table' num [1:2, 1:2] 0.99861 1 0.00139 0\n",
      "  .. ..- attr(*, \"dimnames\")=List of 2\n",
      "  .. .. ..$ sms_train_labels: chr [1:2] \"ham\" \"spam\"\n",
      "  .. .. ..$ basic           : chr [1:2] \"No\" \"Yes\"\n",
      "  ..$ bath               : 'table' num [1:2, 1:2] 0.99667 1 0.00333 0\n",
      "  .. ..- attr(*, \"dimnames\")=List of 2\n",
      "  .. .. ..$ sms_train_labels: chr [1:2] \"ham\" \"spam\"\n",
      "  .. .. ..$ bath            : chr [1:2] \"No\" \"Yes\"\n",
      "  ..$ batteri            : 'table' num [1:2, 1:2] 0.99861 1 0.00139 0\n",
      "  .. ..- attr(*, \"dimnames\")=List of 2\n",
      "  .. .. ..$ sms_train_labels: chr [1:2] \"ham\" \"spam\"\n",
      "  .. .. ..$ batteri         : chr [1:2] \"No\" \"Yes\"\n",
      "  ..$ bcoz               : 'table' num [1:2, 1:2] 0.9975 1 0.0025 0\n",
      "  .. ..- attr(*, \"dimnames\")=List of 2\n",
      "  .. .. ..$ sms_train_labels: chr [1:2] \"ham\" \"spam\"\n",
      "  .. .. ..$ bcoz            : chr [1:2] \"No\" \"Yes\"\n",
      "  ..$ bday               : 'table' num [1:2, 1:2] 0.99723 1 0.00277 0\n",
      "  .. ..- attr(*, \"dimnames\")=List of 2\n",
      "  .. .. ..$ sms_train_labels: chr [1:2] \"ham\" \"spam\"\n",
      "  .. .. ..$ bday            : chr [1:2] \"No\" \"Yes\"\n",
      "  ..$ beauti             : 'table' num [1:2, 1:2] 0.99528 1 0.00472 0\n",
      "  .. ..- attr(*, \"dimnames\")=List of 2\n",
      "  .. .. ..$ sms_train_labels: chr [1:2] \"ham\" \"spam\"\n",
      "  .. .. ..$ beauti          : chr [1:2] \"No\" \"Yes\"\n",
      "  ..$ becom              : 'table' num [1:2, 1:2] 0.99806 0.99823 0.00194 0.00177\n",
      "  .. ..- attr(*, \"dimnames\")=List of 2\n",
      "  .. .. ..$ sms_train_labels: chr [1:2] \"ham\" \"spam\"\n",
      "  .. .. ..$ becom           : chr [1:2] \"No\" \"Yes\"\n",
      "  ..$ bed                : 'table' num [1:2, 1:2] 0.9939 1 0.0061 0\n",
      "  .. ..- attr(*, \"dimnames\")=List of 2\n",
      "  .. .. ..$ sms_train_labels: chr [1:2] \"ham\" \"spam\"\n",
      "  .. .. ..$ bed             : chr [1:2] \"No\" \"Yes\"\n",
      "  ..$ bedroom            : 'table' num [1:2, 1:2] 0.99889 0.99823 0.00111 0.00177\n",
      "  .. ..- attr(*, \"dimnames\")=List of 2\n",
      "  .. .. ..$ sms_train_labels: chr [1:2] \"ham\" \"spam\"\n",
      "  .. .. ..$ bedroom         : chr [1:2] \"No\" \"Yes\"\n",
      "  ..$ beer               : 'table' num [1:2, 1:2] 0.99861 1 0.00139 0\n",
      "  .. ..- attr(*, \"dimnames\")=List of 2\n",
      "  .. .. ..$ sms_train_labels: chr [1:2] \"ham\" \"spam\"\n",
      "  .. .. ..$ beer            : chr [1:2] \"No\" \"Yes\"\n",
      "  ..$ begin              : 'table' num [1:2, 1:2] 0.99889 0.99823 0.00111 0.00177\n",
      "  .. ..- attr(*, \"dimnames\")=List of 2\n",
      "  .. .. ..$ sms_train_labels: chr [1:2] \"ham\" \"spam\"\n",
      "  .. .. ..$ begin           : chr [1:2] \"No\" \"Yes\"\n",
      "  ..$ believ             : 'table' num [1:2, 1:2] 0.99667 0.99823 0.00333 0.00177\n",
      "  .. ..- attr(*, \"dimnames\")=List of 2\n",
      "  .. .. ..$ sms_train_labels: chr [1:2] \"ham\" \"spam\"\n",
      "  .. .. ..$ believ          : chr [1:2] \"No\" \"Yes\"\n",
      "  ..$ best               : 'table' num [1:2, 1:2] 0.99251 0.98936 0.00749 0.01064\n",
      "  .. ..- attr(*, \"dimnames\")=List of 2\n",
      "  .. .. ..$ sms_train_labels: chr [1:2] \"ham\" \"spam\"\n",
      "  .. .. ..$ best            : chr [1:2] \"No\" \"Yes\"\n",
      "  ..$ better             : 'table' num [1:2, 1:2] 0.99223 1 0.00777 0\n",
      "  .. ..- attr(*, \"dimnames\")=List of 2\n",
      "  .. .. ..$ sms_train_labels: chr [1:2] \"ham\" \"spam\"\n",
      "  .. .. ..$ better          : chr [1:2] \"No\" \"Yes\"\n",
      "  ..$ bid                : 'table' num [1:2, 1:2] 1 0.99468 0 0.00532\n",
      "  .. ..- attr(*, \"dimnames\")=List of 2\n",
      "  .. .. ..$ sms_train_labels: chr [1:2] \"ham\" \"spam\"\n",
      "  .. .. ..$ bid             : chr [1:2] \"No\" \"Yes\"\n",
      "  ..$ big                : 'table' num [1:2, 1:2] 0.99223 0.99823 0.00777 0.00177\n",
      "  .. ..- attr(*, \"dimnames\")=List of 2\n",
      "  .. .. ..$ sms_train_labels: chr [1:2] \"ham\" \"spam\"\n",
      "  .. .. ..$ big             : chr [1:2] \"No\" \"Yes\"\n",
      "  ..$ bill               : 'table' num [1:2, 1:2] 0.99806 0.99291 0.00194 0.00709\n",
      "  .. ..- attr(*, \"dimnames\")=List of 2\n",
      "  .. .. ..$ sms_train_labels: chr [1:2] \"ham\" \"spam\"\n",
      "  .. .. ..$ bill            : chr [1:2] \"No\" \"Yes\"\n",
      "  ..$ bird               : 'table' num [1:2, 1:2] 0.99861 0.99823 0.00139 0.00177\n",
      "  .. ..- attr(*, \"dimnames\")=List of 2\n",
      "  .. .. ..$ sms_train_labels: chr [1:2] \"ham\" \"spam\"\n",
      "  .. .. ..$ bird            : chr [1:2] \"No\" \"Yes\"\n",
      "  ..$ birthday           : 'table' num [1:2, 1:2] 0.99501 0.99823 0.00499 0.00177\n",
      "  .. ..- attr(*, \"dimnames\")=List of 2\n",
      "  .. .. ..$ sms_train_labels: chr [1:2] \"ham\" \"spam\"\n",
      "  .. .. ..$ birthday        : chr [1:2] \"No\" \"Yes\"\n",
      "  ..$ bit                : 'table' num [1:2, 1:2] 0.9892 1 0.0108 0\n",
      "  .. ..- attr(*, \"dimnames\")=List of 2\n",
      "  .. .. ..$ sms_train_labels: chr [1:2] \"ham\" \"spam\"\n",
      "  .. .. ..$ bit             : chr [1:2] \"No\" \"Yes\"\n",
      "  ..$ black              : 'table' num [1:2, 1:2] 0.99861 1 0.00139 0\n",
      "  .. ..- attr(*, \"dimnames\")=List of 2\n",
      "  .. .. ..$ sms_train_labels: chr [1:2] \"ham\" \"spam\"\n",
      "  .. .. ..$ black           : chr [1:2] \"No\" \"Yes\"\n",
      "  ..$ blank              : 'table' num [1:2, 1:2] 0.999168 1 0.000832 0\n",
      "  .. ..- attr(*, \"dimnames\")=List of 2\n",
      "  .. .. ..$ sms_train_labels: chr [1:2] \"ham\" \"spam\"\n",
      "  .. .. ..$ blank           : chr [1:2] \"No\" \"Yes\"\n",
      "  .. [list output truncated]\n",
      " $ levels : chr [1:2] \"ham\" \"spam\"\n",
      " $ call   : language naiveBayes.default(x = sms_train, y = sms_train_labels)\n",
      " - attr(*, \"class\")= chr \"naiveBayes\"\n"
     ]
    }
   ],
   "source": [
    "str(sms_classifier)"
   ]
  },
  {
   "cell_type": "markdown",
   "metadata": {},
   "source": [
    "The probabilities appear inside the \"tables\" item of the list\n",
    "\n",
    "Now let's view and interpret the tables for selected terms"
   ]
  },
  {
   "cell_type": "code",
   "execution_count": 62,
   "metadata": {},
   "outputs": [],
   "source": [
    "selected_terms_spam <- c(\"free\", \"claim\", \"mobil\", \"prize\", \"call\")\n",
    "\n",
    "selected_terms_ham <- c(\"now\", \"get\", \"just\", \"you\", \"will\", \"can\")"
   ]
  },
  {
   "cell_type": "code",
   "execution_count": 63,
   "metadata": {},
   "outputs": [
    {
     "data": {
      "text/plain": [
       "$free\n",
       "                free\n",
       "sms_train_labels         No        Yes\n",
       "            ham  0.98751734 0.01248266\n",
       "            spam 0.76950355 0.23049645\n",
       "\n",
       "$claim\n",
       "                claim\n",
       "sms_train_labels        No       Yes\n",
       "            ham  1.0000000 0.0000000\n",
       "            spam 0.8439716 0.1560284\n",
       "\n",
       "$mobil\n",
       "                mobil\n",
       "sms_train_labels          No         Yes\n",
       "            ham  0.996948682 0.003051318\n",
       "            spam 0.835106383 0.164893617\n",
       "\n",
       "$prize\n",
       "                prize\n",
       "sms_train_labels        No       Yes\n",
       "            ham  1.0000000 0.0000000\n",
       "            spam 0.8705674 0.1294326\n",
       "\n",
       "$call\n",
       "                call\n",
       "sms_train_labels         No        Yes\n",
       "            ham  0.94257975 0.05742025\n",
       "            spam 0.55141844 0.44858156\n"
      ]
     },
     "metadata": {},
     "output_type": "display_data"
    }
   ],
   "source": [
    "sms_classifier$table[selected_terms_spam]"
   ]
  },
  {
   "cell_type": "markdown",
   "metadata": {},
   "source": [
    "For a selected term, the table should be read as follows:"
   ]
  },
  {
   "cell_type": "code",
   "execution_count": 64,
   "metadata": {},
   "outputs": [
    {
     "data": {
      "text/plain": [
       "                free\n",
       "sms_train_labels         No        Yes\n",
       "            ham  0.98751734 0.01248266\n",
       "            spam 0.76950355 0.23049645"
      ]
     },
     "metadata": {},
     "output_type": "display_data"
    },
    {
     "data": {
      "text/html": [
       "<table>\n",
       "<thead><tr><th scope=col>.</th></tr></thead>\n",
       "<tbody>\n",
       "\t<tr><td>Given that the sms is a HAM, the prob. that the term \"FREE\" DOES NOT APPEAR is 0.99 </td></tr>\n",
       "\t<tr><td>Given that the sms is a SPAM, the prob. that the term \"FREE\" DOES NOT APPEAR is 0.77</td></tr>\n",
       "\t<tr><td>Given that the sms is a HAM, the prob. that the term \"FREE\" APPEARS is 0.01         </td></tr>\n",
       "\t<tr><td>Given that the sms is a SPAM, the prob. that the term \"FREE\" APPEARS is 0.23        </td></tr>\n",
       "</tbody>\n",
       "</table>\n"
      ],
      "text/latex": [
       "\\begin{tabular}{r|l}\n",
       " .\\\\\n",
       "\\hline\n",
       "\t Given that the sms is a HAM, the prob. that the term \"FREE\" DOES NOT APPEAR is 0.99 \\\\\n",
       "\t Given that the sms is a SPAM, the prob. that the term \"FREE\" DOES NOT APPEAR is 0.77\\\\\n",
       "\t Given that the sms is a HAM, the prob. that the term \"FREE\" APPEARS is 0.01         \\\\\n",
       "\t Given that the sms is a SPAM, the prob. that the term \"FREE\" APPEARS is 0.23        \\\\\n",
       "\\end{tabular}\n"
      ],
      "text/markdown": [
       "\n",
       ". | \n",
       "|---|---|---|---|\n",
       "| Given that the sms is a HAM, the prob. that the term \"FREE\" DOES NOT APPEAR is 0.99  | \n",
       "| Given that the sms is a SPAM, the prob. that the term \"FREE\" DOES NOT APPEAR is 0.77 | \n",
       "| Given that the sms is a HAM, the prob. that the term \"FREE\" APPEARS is 0.01          | \n",
       "| Given that the sms is a SPAM, the prob. that the term \"FREE\" APPEARS is 0.23         | \n",
       "\n",
       "\n"
      ],
      "text/plain": [
       "  .                                                                                   \n",
       "1 Given that the sms is a HAM, the prob. that the term \"FREE\" DOES NOT APPEAR is 0.99 \n",
       "2 Given that the sms is a SPAM, the prob. that the term \"FREE\" DOES NOT APPEAR is 0.77\n",
       "3 Given that the sms is a HAM, the prob. that the term \"FREE\" APPEARS is 0.01         \n",
       "4 Given that the sms is a SPAM, the prob. that the term \"FREE\" APPEARS is 0.23        "
      ]
     },
     "metadata": {},
     "output_type": "display_data"
    }
   ],
   "source": [
    "termm <- \"free\"\n",
    "table1 <- sms_classifier$table[[termm]]\n",
    "table1\n",
    "\n",
    "rows1 <- toupper(rownames(table1))\n",
    "cols1 <- toupper(c(\"does not appear\", \"appears\"))\n",
    "\n",
    "outer(1:2,\n",
    "      1:2,\n",
    "      Vectorize(function(x, y) sprintf(\"Given that the sms is a %s, the prob. that the term \\\"%s\\\" %s is %.2f\",\n",
    "                                      rows1[x], toupper(termm), cols1[y], table1[x,y]))) %>%\n",
    "    as.vector() %>%\n",
    "    data.frame()"
   ]
  },
  {
   "cell_type": "markdown",
   "metadata": {},
   "source": [
    "How this info as it is, is not so useful. We try to figure out whether the message is a ham or spam based on the knowledge of whether the term appears.\n",
    "\n",
    "So we should process this info.\n",
    "\n",
    "Now a little bit information on how Naive Bayes algorithm works:\n",
    "\n",
    "Bayes theorem says: (from wikipedia)\n",
    "\n",
    "$${\\displaystyle p(C_{k}\\mid \\mathbf {x} )={\\frac {p(C_{k})\\ p(\\mathbf {x} \\mid C_{k})}{p(\\mathbf {x} )}}\\,}$$\n",
    "\n",
    "In plain English, using Bayesian probability terminology, the above equation can be written as\n",
    "\n",
    "$${\\displaystyle {\\mbox{posterior}}={\\frac {{\\mbox{prior}}\\times {\\mbox{likelihood}}}{\\mbox{evidence}}}\\,}$$\n"
   ]
  },
  {
   "cell_type": "markdown",
   "metadata": {},
   "source": [
    "In our example:\n",
    "\n",
    "$${\\displaystyle {\\mbox{p(spam | free) }}={\\frac {{\\mbox{p(spam)}}\\times {\\mbox{p(free | spam)}}}{\\mbox{p(free)}}}\\,}$$\n",
    "\n",
    "So:\n",
    "- We start with \"the probability that FREE appears given the message is a SPAM\" (likelihood)\n",
    "- Multiply it with \"the probability of SPAM\" (prior)\n",
    "- Divide with \"the probability of FREE\" (evidence)\n",
    "\n",
    "\"evidence\" is simply the sum of p(spam) * ( p(free | spam) + p(free | ham) )"
   ]
  },
  {
   "cell_type": "markdown",
   "metadata": {},
   "source": [
    "Recall our likelihoods:"
   ]
  },
  {
   "cell_type": "code",
   "execution_count": 65,
   "metadata": {},
   "outputs": [
    {
     "data": {
      "text/plain": [
       "                free\n",
       "sms_train_labels         No        Yes\n",
       "            ham  0.98751734 0.01248266\n",
       "            spam 0.76950355 0.23049645"
      ]
     },
     "metadata": {},
     "output_type": "display_data"
    }
   ],
   "source": [
    "table1"
   ]
  },
  {
   "cell_type": "markdown",
   "metadata": {},
   "source": [
    "The sms classifier list holds the \"a priori\" counts of ham/spam, we convert them to proportions or probabilities:"
   ]
  },
  {
   "cell_type": "code",
   "execution_count": 66,
   "metadata": {},
   "outputs": [
    {
     "data": {
      "text/plain": [
       "sms_train_labels\n",
       "      ham      spam \n",
       "0.8647158 0.1352842 "
      ]
     },
     "metadata": {},
     "output_type": "display_data"
    }
   ],
   "source": [
    "prop <- prop.table(sms_classifier$apriori)\n",
    "prop"
   ]
  },
  {
   "cell_type": "markdown",
   "metadata": {},
   "source": [
    "We multiply the \"a priori\" probabilities with likelihoods (not matrix multiplication) to arrive at likelihoods of ham and spam given No/Yes"
   ]
  },
  {
   "cell_type": "code",
   "execution_count": 67,
   "metadata": {},
   "outputs": [
    {
     "data": {
      "text/plain": [
       "                free\n",
       "sms_train_labels         No        Yes\n",
       "            ham  0.85392180 0.01079396\n",
       "            spam 0.10410170 0.03118254"
      ]
     },
     "metadata": {},
     "output_type": "display_data"
    }
   ],
   "source": [
    "posterior1 <- as.numeric(prop) * table1\n",
    "posterior1"
   ]
  },
  {
   "cell_type": "markdown",
   "metadata": {},
   "source": [
    "And last we have to scale each likelihood column with their respective sums to arrive at the posterior probabilities:"
   ]
  },
  {
   "cell_type": "code",
   "execution_count": 68,
   "metadata": {},
   "outputs": [
    {
     "data": {
      "text/plain": [
       "                free\n",
       "sms_train_labels        No       Yes\n",
       "            ham  0.8913370 0.2571429\n",
       "            spam 0.1086630 0.7428571"
      ]
     },
     "metadata": {},
     "output_type": "display_data"
    }
   ],
   "source": [
    "posterior2 <- prop.table(posterior1, 2)\n",
    "posterior2"
   ]
  },
  {
   "cell_type": "markdown",
   "metadata": {},
   "source": [
    "We interpret the posterior probabilities as:"
   ]
  },
  {
   "cell_type": "code",
   "execution_count": 69,
   "metadata": {},
   "outputs": [
    {
     "data": {
      "text/html": [
       "<table>\n",
       "<thead><tr><th scope=col>.</th></tr></thead>\n",
       "<tbody>\n",
       "\t<tr><td>Given that the term \"FREE\" DOES NOT APPEAR, the prob. that the sms is a HAM is 0.89 </td></tr>\n",
       "\t<tr><td>Given that the term \"FREE\" DOES NOT APPEAR, the prob. that the sms is a SPAM is 0.11</td></tr>\n",
       "\t<tr><td>Given that the term \"FREE\" APPEARS, the prob. that the sms is a HAM is 0.26         </td></tr>\n",
       "\t<tr><td>Given that the term \"FREE\" APPEARS, the prob. that the sms is a SPAM is 0.74        </td></tr>\n",
       "</tbody>\n",
       "</table>\n"
      ],
      "text/latex": [
       "\\begin{tabular}{r|l}\n",
       " .\\\\\n",
       "\\hline\n",
       "\t Given that the term \"FREE\" DOES NOT APPEAR, the prob. that the sms is a HAM is 0.89 \\\\\n",
       "\t Given that the term \"FREE\" DOES NOT APPEAR, the prob. that the sms is a SPAM is 0.11\\\\\n",
       "\t Given that the term \"FREE\" APPEARS, the prob. that the sms is a HAM is 0.26         \\\\\n",
       "\t Given that the term \"FREE\" APPEARS, the prob. that the sms is a SPAM is 0.74        \\\\\n",
       "\\end{tabular}\n"
      ],
      "text/markdown": [
       "\n",
       ". | \n",
       "|---|---|---|---|\n",
       "| Given that the term \"FREE\" DOES NOT APPEAR, the prob. that the sms is a HAM is 0.89  | \n",
       "| Given that the term \"FREE\" DOES NOT APPEAR, the prob. that the sms is a SPAM is 0.11 | \n",
       "| Given that the term \"FREE\" APPEARS, the prob. that the sms is a HAM is 0.26          | \n",
       "| Given that the term \"FREE\" APPEARS, the prob. that the sms is a SPAM is 0.74         | \n",
       "\n",
       "\n"
      ],
      "text/plain": [
       "  .                                                                                   \n",
       "1 Given that the term \"FREE\" DOES NOT APPEAR, the prob. that the sms is a HAM is 0.89 \n",
       "2 Given that the term \"FREE\" DOES NOT APPEAR, the prob. that the sms is a SPAM is 0.11\n",
       "3 Given that the term \"FREE\" APPEARS, the prob. that the sms is a HAM is 0.26         \n",
       "4 Given that the term \"FREE\" APPEARS, the prob. that the sms is a SPAM is 0.74        "
      ]
     },
     "metadata": {},
     "output_type": "display_data"
    }
   ],
   "source": [
    "outer(1:2,\n",
    "      1:2,\n",
    "      Vectorize(function(x, y) sprintf(\"Given that the term \\\"%s\\\" %s, the prob. that the sms is a %s is %.2f\",\n",
    "                                      toupper(termm), cols1[y], rows1[x], posterior2[x,y] ))) %>%\n",
    "    as.vector() %>%\n",
    "    data.frame()"
   ]
  },
  {
   "cell_type": "markdown",
   "metadata": {},
   "source": [
    "We are 74% confident that an sms with \"free\" is a spam and 89% confident that an sms without \"free\" is a ham "
   ]
  },
  {
   "cell_type": "markdown",
   "metadata": {},
   "source": [
    "## Joint model"
   ]
  },
  {
   "cell_type": "markdown",
   "metadata": {},
   "source": [
    "A simplifying assumption about Naive Bayes is that, the probabilities of terms are independent of each other. So we can easily calculate posterior probabilities of joint conditions as:\n",
    "\n",
    "is:\n",
    "\n",
    "${\\displaystyle p(C_{k}\\mid x_{1},\\dots ,x_{n})={\\frac {1}{Z}}p(C_{k})\\prod _{i=1}^{n}p(x_{i}\\mid C_{k})}$\n",
    "\n",
    "where the evidence ${\\displaystyle Z=p(\\mathbf {x} )=\\sum _{k}p(C_{k})\\ p(\\mathbf {x} \\mid C_{k})}$ is a scaling factor"
   ]
  },
  {
   "cell_type": "markdown",
   "metadata": {},
   "source": [
    "Let's remember the selected words likely to signal spams:"
   ]
  },
  {
   "cell_type": "code",
   "execution_count": 70,
   "metadata": {},
   "outputs": [
    {
     "data": {
      "text/plain": [
       "$free\n",
       "                free\n",
       "sms_train_labels         No        Yes\n",
       "            ham  0.98751734 0.01248266\n",
       "            spam 0.76950355 0.23049645\n",
       "\n",
       "$mobil\n",
       "                mobil\n",
       "sms_train_labels          No         Yes\n",
       "            ham  0.996948682 0.003051318\n",
       "            spam 0.835106383 0.164893617\n",
       "\n",
       "$call\n",
       "                call\n",
       "sms_train_labels         No        Yes\n",
       "            ham  0.94257975 0.05742025\n",
       "            spam 0.55141844 0.44858156\n"
      ]
     },
     "metadata": {},
     "output_type": "display_data"
    }
   ],
   "source": [
    "table_spam <- sms_classifier$table[c(\"free\", \"mobil\", \"call\")]\n",
    "table_spam"
   ]
  },
  {
   "cell_type": "markdown",
   "metadata": {},
   "source": [
    "First, let's collect only the second \"YES\" columns from each list item into a matrix elegantly:"
   ]
  },
  {
   "cell_type": "code",
   "execution_count": 71,
   "metadata": {},
   "outputs": [
    {
     "data": {
      "text/html": [
       "<table>\n",
       "<thead><tr><th></th><th scope=col>free</th><th scope=col>mobil</th><th scope=col>call</th></tr></thead>\n",
       "<tbody>\n",
       "\t<tr><th scope=row>ham</th><td>0.01248266 </td><td>0.003051318</td><td>0.05742025 </td></tr>\n",
       "\t<tr><th scope=row>spam</th><td>0.23049645 </td><td>0.164893617</td><td>0.44858156 </td></tr>\n",
       "</tbody>\n",
       "</table>\n"
      ],
      "text/latex": [
       "\\begin{tabular}{r|lll}\n",
       "  & free & mobil & call\\\\\n",
       "\\hline\n",
       "\tham & 0.01248266  & 0.003051318 & 0.05742025 \\\\\n",
       "\tspam & 0.23049645  & 0.164893617 & 0.44858156 \\\\\n",
       "\\end{tabular}\n"
      ],
      "text/markdown": [
       "\n",
       "| <!--/--> | free | mobil | call | \n",
       "|---|---|\n",
       "| ham | 0.01248266  | 0.003051318 | 0.05742025  | \n",
       "| spam | 0.23049645  | 0.164893617 | 0.44858156  | \n",
       "\n",
       "\n"
      ],
      "text/plain": [
       "     free       mobil       call      \n",
       "ham  0.01248266 0.003051318 0.05742025\n",
       "spam 0.23049645 0.164893617 0.44858156"
      ]
     },
     "metadata": {},
     "output_type": "display_data"
    }
   ],
   "source": [
    "mat_spam <- do.call(cbind, lapply(table_spam, \"[\", 1:2, 2))\n",
    "mat_spam"
   ]
  },
  {
   "cell_type": "markdown",
   "metadata": {},
   "source": [
    "And calculate the joint independent likelihoods of each row before multiplying with \"a priori\" probs of ham or spam:"
   ]
  },
  {
   "cell_type": "code",
   "execution_count": 72,
   "metadata": {},
   "outputs": [
    {
     "data": {
      "text/html": [
       "<dl class=dl-horizontal>\n",
       "\t<dt>ham</dt>\n",
       "\t\t<dd>2.1870551632798e-06</dd>\n",
       "\t<dt>spam</dt>\n",
       "\t\t<dd>0.0170494161002647</dd>\n",
       "</dl>\n"
      ],
      "text/latex": [
       "\\begin{description*}\n",
       "\\item[ham] 2.1870551632798e-06\n",
       "\\item[spam] 0.0170494161002647\n",
       "\\end{description*}\n"
      ],
      "text/markdown": [
       "ham\n",
       ":   2.1870551632798e-06spam\n",
       ":   0.0170494161002647\n",
       "\n"
      ],
      "text/plain": [
       "         ham         spam \n",
       "2.187055e-06 1.704942e-02 "
      ]
     },
     "metadata": {},
     "output_type": "display_data"
    }
   ],
   "source": [
    "mat_spam2 <- apply(mat_spam, 1, prod)\n",
    "mat_spam2"
   ]
  },
  {
   "cell_type": "markdown",
   "metadata": {},
   "source": [
    "With a pipe, we can do both in a single combined step.\n",
    "Note that we format the output to 6 digits for better display with sprintf:"
   ]
  },
  {
   "cell_type": "code",
   "execution_count": 73,
   "metadata": {},
   "outputs": [
    {
     "data": {
      "text/html": [
       "<dl class=dl-horizontal>\n",
       "\t<dt>ham</dt>\n",
       "\t\t<dd>'0.000002'</dd>\n",
       "\t<dt>spam</dt>\n",
       "\t\t<dd>'0.017049'</dd>\n",
       "</dl>\n"
      ],
      "text/latex": [
       "\\begin{description*}\n",
       "\\item[ham] '0.000002'\n",
       "\\item[spam] '0.017049'\n",
       "\\end{description*}\n"
      ],
      "text/markdown": [
       "ham\n",
       ":   '0.000002'spam\n",
       ":   '0.017049'\n",
       "\n"
      ],
      "text/plain": [
       "       ham       spam \n",
       "\"0.000002\" \"0.017049\" "
      ]
     },
     "metadata": {},
     "output_type": "display_data"
    }
   ],
   "source": [
    "mat_spam2 <- do.call(cbind, lapply(table_spam, \"[\", 1:2, 2)) %>%\n",
    "    apply(1,prod)\n",
    "\n",
    "# we format the numbers as 6 digits and preserve the names in to vector\n",
    "sprintf(\"%.6f\", mat_spam2) %>%\n",
    "    purrr::set_names(names(mat_spam2))"
   ]
  },
  {
   "cell_type": "markdown",
   "metadata": {},
   "source": [
    "Remember the \"a priori\" probabilities of ham and spam"
   ]
  },
  {
   "cell_type": "code",
   "execution_count": 74,
   "metadata": {},
   "outputs": [
    {
     "data": {
      "text/plain": [
       "sms_train_labels\n",
       "      ham      spam \n",
       "0.8647158 0.1352842 "
      ]
     },
     "metadata": {},
     "output_type": "display_data"
    }
   ],
   "source": [
    "prop"
   ]
  },
  {
   "cell_type": "markdown",
   "metadata": {},
   "source": [
    "We calculate the likelihoods:"
   ]
  },
  {
   "cell_type": "code",
   "execution_count": 75,
   "metadata": {},
   "outputs": [
    {
     "data": {
      "text/html": [
       "<dl class=dl-horizontal>\n",
       "\t<dt>ham</dt>\n",
       "\t\t<dd>'0.000002'</dd>\n",
       "\t<dt>spam</dt>\n",
       "\t\t<dd>'0.002307'</dd>\n",
       "</dl>\n"
      ],
      "text/latex": [
       "\\begin{description*}\n",
       "\\item[ham] '0.000002'\n",
       "\\item[spam] '0.002307'\n",
       "\\end{description*}\n"
      ],
      "text/markdown": [
       "ham\n",
       ":   '0.000002'spam\n",
       ":   '0.002307'\n",
       "\n"
      ],
      "text/plain": [
       "       ham       spam \n",
       "\"0.000002\" \"0.002307\" "
      ]
     },
     "metadata": {},
     "output_type": "display_data"
    }
   ],
   "source": [
    "posterior_mat <- as.numeric(prop) * mat_spam2\n",
    "\n",
    "sprintf(\"%.6f\", posterior_mat) %>%\n",
    "    purrr::set_names(names(posterior_mat))"
   ]
  },
  {
   "cell_type": "markdown",
   "metadata": {},
   "source": [
    "And scale with likelihoods of Yes/No evidence:\n",
    "\n",
    "Note that we now further format the posterior probabilities:\n",
    "\n",
    "* To percentage\n",
    "* Keeping the original names\n",
    "* And with a right aligned table format\n"
   ]
  },
  {
   "cell_type": "code",
   "execution_count": 76,
   "metadata": {},
   "outputs": [
    {
     "data": {
      "text/html": [
       "<table>\n",
       " <thead>\n",
       "  <tr>\n",
       "   <th style=\"text-align:left;\">   </th>\n",
       "   <th style=\"text-align:right;\"> posterior </th>\n",
       "  </tr>\n",
       " </thead>\n",
       "<tbody>\n",
       "  <tr>\n",
       "   <td style=\"text-align:left;\"> ham </td>\n",
       "   <td style=\"text-align:right;\"> 0.0819% </td>\n",
       "  </tr>\n",
       "  <tr>\n",
       "   <td style=\"text-align:left;\"> spam </td>\n",
       "   <td style=\"text-align:right;\"> 99.9181% </td>\n",
       "  </tr>\n",
       "</tbody>\n",
       "</table>"
      ]
     },
     "metadata": {},
     "output_type": "display_data"
    }
   ],
   "source": [
    "posterior_mat2 <- prop.table(posterior_mat)\n",
    "\n",
    "posterior_mat2 %>%\n",
    "    scales::percent(accuracy = 0.0001, trim = F) %>%\n",
    "    purrr::set_names(names(posterior_mat2)) %>%\n",
    "    knitr::kable(col.names = \"posterior\", align = \"r\") %>%\n",
    "    as.character() %>%\n",
    "    IRdisplay::display_html()"
   ]
  },
  {
   "cell_type": "markdown",
   "metadata": {},
   "source": [
    "So when \"free\", \"mobil\" and \"call\" terms appear together in an sms,\n",
    "\n",
    "with 99.9% prob. it is a spam,\n",
    "with only 0.08% prob. it is a ham!"
   ]
  },
  {
   "cell_type": "markdown",
   "metadata": {},
   "source": [
    "## Model prediction"
   ]
  },
  {
   "cell_type": "markdown",
   "metadata": {},
   "source": [
    "### Manually Calculating posterior probabilities for the model"
   ]
  },
  {
   "cell_type": "markdown",
   "metadata": {},
   "source": [
    "Now let's use the prior likelihoods of all terms to calculate the posterior probabilities of the ham/spam classes:"
   ]
  },
  {
   "cell_type": "code",
   "execution_count": 77,
   "metadata": {},
   "outputs": [],
   "source": [
    "mat_spam_all_ham <- do.call(cbind, lapply(sms_classifier$table, \"[\", 1, 1:2))"
   ]
  },
  {
   "cell_type": "code",
   "execution_count": 78,
   "metadata": {},
   "outputs": [
    {
     "data": {
      "text/html": [
       "<table>\n",
       "<thead><tr><th></th><th scope=col>£wk</th><th scope=col>€˜m</th><th scope=col>€˜s</th><th scope=col>abiola</th><th scope=col>abl</th><th scope=col>abt</th><th scope=col>accept</th><th scope=col>access</th><th scope=col>account</th><th scope=col>across</th><th scope=col>⋯</th><th scope=col>yahoo</th><th scope=col>yar</th><th scope=col>yeah</th><th scope=col>year</th><th scope=col>yep</th><th scope=col>yes</th><th scope=col>yesterday</th><th scope=col>yet</th><th scope=col>yoga</th><th scope=col>yup</th></tr></thead>\n",
       "<tbody>\n",
       "\t<tr><th scope=row>No</th><td>1           </td><td>0.998613037 </td><td>0.998613037 </td><td>0.998058252 </td><td>0.994729542 </td><td>0.995839112 </td><td>0.998613037 </td><td>0.9997226075</td><td>0.996948682 </td><td>0.99778086  </td><td>⋯           </td><td>0.99889043  </td><td>0.99778086  </td><td>0.9814147   </td><td>0.98723994  </td><td>0.998058252 </td><td>0.98474341  </td><td>0.995284327 </td><td>0.990568655 </td><td>0.99889043  </td><td>0.99112344  </td></tr>\n",
       "\t<tr><th scope=row>Yes</th><td>0           </td><td>0.001386963 </td><td>0.001386963 </td><td>0.001941748 </td><td>0.005270458 </td><td>0.004160888 </td><td>0.001386963 </td><td>0.0002773925</td><td>0.003051318 </td><td>0.00221914  </td><td>⋯           </td><td>0.00110957  </td><td>0.00221914  </td><td>0.0185853   </td><td>0.01276006  </td><td>0.001941748 </td><td>0.01525659  </td><td>0.004715673 </td><td>0.009431345 </td><td>0.00110957  </td><td>0.00887656  </td></tr>\n",
       "</tbody>\n",
       "</table>\n"
      ],
      "text/latex": [
       "\\begin{tabular}{r|lllllllllllllllllllllllllllllllllllllllllllllllllllllllllllllllllllllllllllllllllllllllllllllllllllllllllllllllllllllllllllllllllllllllllllllllllllllllllllllllllllllllllllllllllllllllllllllllllllllllllllllllllllllllllllllllllllllllllllllllllllllllllllllllllllllllllllllllllllllllllllllllllllllllllllllllllllllllllllllllllllllllllllllllllllllllllllllllllllllllllllllllllllllllllllllllllllllllllllllllllllllllllllllllllllllllllllllllllllllllllllllllllllllllllllllllllllllllllllllllllllllllllllllllllllllllllllllllllllllllllllllllllllllllllllllllllllllllllllllllllllllllllllllllllllllllllllllllllllllllllllllllllllllllllllllllllllllllllllllllllllllllllllllllllllllllllllllllllllllllllllllllllllllllllllllllllllllllllllllllllllllllllllllllllllllllllllllllllllllllllllllllllllllllllllllllllllllllllllllllllllllllllllllllllllllllllllllllllllllllllllllllllllllllllllllllllllllllllllllllllllllllllllllllllllllllllllllllllllllllllllllllllllllllllllllllllllllllllllllllllllllllllllllllllllllllllllllllllllllllllllllllllllllllllllllllllllllllllllllllllllllllllllllllllllllllllllllllllllllllllllllllllllllllllllllllllllllllllllllllllllllllllllllllllll}\n",
       "  & £wk & €˜m & €˜s & abiola & abl & abt & accept & access & account & across & ⋯ & yahoo & yar & yeah & year & yep & yes & yesterday & yet & yoga & yup\\\\\n",
       "\\hline\n",
       "\tNo & 1            & 0.998613037  & 0.998613037  & 0.998058252  & 0.994729542  & 0.995839112  & 0.998613037  & 0.9997226075 & 0.996948682  & 0.99778086   & ⋯            & 0.99889043   & 0.99778086   & 0.9814147    & 0.98723994   & 0.998058252  & 0.98474341   & 0.995284327  & 0.990568655  & 0.99889043   & 0.99112344  \\\\\n",
       "\tYes & 0            & 0.001386963  & 0.001386963  & 0.001941748  & 0.005270458  & 0.004160888  & 0.001386963  & 0.0002773925 & 0.003051318  & 0.00221914   & ⋯            & 0.00110957   & 0.00221914   & 0.0185853    & 0.01276006   & 0.001941748  & 0.01525659   & 0.004715673  & 0.009431345  & 0.00110957   & 0.00887656  \\\\\n",
       "\\end{tabular}\n"
      ],
      "text/markdown": [
       "\n",
       "| <!--/--> | £wk | €˜m | €˜s | abiola | abl | abt | accept | access | account | across | ⋯ | yahoo | yar | yeah | year | yep | yes | yesterday | yet | yoga | yup | \n",
       "|---|---|\n",
       "| No | 1            | 0.998613037  | 0.998613037  | 0.998058252  | 0.994729542  | 0.995839112  | 0.998613037  | 0.9997226075 | 0.996948682  | 0.99778086   | ⋯            | 0.99889043   | 0.99778086   | 0.9814147    | 0.98723994   | 0.998058252  | 0.98474341   | 0.995284327  | 0.990568655  | 0.99889043   | 0.99112344   | \n",
       "| Yes | 0            | 0.001386963  | 0.001386963  | 0.001941748  | 0.005270458  | 0.004160888  | 0.001386963  | 0.0002773925 | 0.003051318  | 0.00221914   | ⋯            | 0.00110957   | 0.00221914   | 0.0185853    | 0.01276006   | 0.001941748  | 0.01525659   | 0.004715673  | 0.009431345  | 0.00110957   | 0.00887656   | \n",
       "\n",
       "\n"
      ],
      "text/plain": [
       "    £wk €˜m         €˜s         abiola      abl         abt         accept     \n",
       "No  1   0.998613037 0.998613037 0.998058252 0.994729542 0.995839112 0.998613037\n",
       "Yes 0   0.001386963 0.001386963 0.001941748 0.005270458 0.004160888 0.001386963\n",
       "    access       account     across     ⋯ yahoo      yar        yeah     \n",
       "No  0.9997226075 0.996948682 0.99778086 ⋯ 0.99889043 0.99778086 0.9814147\n",
       "Yes 0.0002773925 0.003051318 0.00221914 ⋯ 0.00110957 0.00221914 0.0185853\n",
       "    year       yep         yes        yesterday   yet         yoga      \n",
       "No  0.98723994 0.998058252 0.98474341 0.995284327 0.990568655 0.99889043\n",
       "Yes 0.01276006 0.001941748 0.01525659 0.004715673 0.009431345 0.00110957\n",
       "    yup       \n",
       "No  0.99112344\n",
       "Yes 0.00887656"
      ]
     },
     "metadata": {},
     "output_type": "display_data"
    }
   ],
   "source": [
    "mat_spam_all_ham"
   ]
  },
  {
   "cell_type": "code",
   "execution_count": 79,
   "metadata": {},
   "outputs": [],
   "source": [
    "mat_spam_all_spam <- do.call(cbind, lapply(sms_classifier$table, \"[\", 2, 1:2))"
   ]
  },
  {
   "cell_type": "code",
   "execution_count": 80,
   "metadata": {},
   "outputs": [
    {
     "data": {
      "text/html": [
       "<table>\n",
       "<thead><tr><th></th><th scope=col>£wk</th><th scope=col>€˜m</th><th scope=col>€˜s</th><th scope=col>abiola</th><th scope=col>abl</th><th scope=col>abt</th><th scope=col>accept</th><th scope=col>access</th><th scope=col>account</th><th scope=col>across</th><th scope=col>⋯</th><th scope=col>yahoo</th><th scope=col>yar</th><th scope=col>yeah</th><th scope=col>year</th><th scope=col>yep</th><th scope=col>yes</th><th scope=col>yesterday</th><th scope=col>yet</th><th scope=col>yoga</th><th scope=col>yup</th></tr></thead>\n",
       "<tbody>\n",
       "\t<tr><th scope=row>No</th><td>0.991134752</td><td>1          </td><td>1          </td><td>1          </td><td>1          </td><td>1          </td><td>1          </td><td>0.992907801</td><td>0.97163121 </td><td>1          </td><td>⋯          </td><td>0.996453901</td><td>1          </td><td>0.99822695 </td><td>0.9822695  </td><td>1          </td><td>0.97340426 </td><td>0.996453901</td><td>0.996453901</td><td>1          </td><td>1          </td></tr>\n",
       "\t<tr><th scope=row>Yes</th><td>0.008865248</td><td>0          </td><td>0          </td><td>0          </td><td>0          </td><td>0          </td><td>0          </td><td>0.007092199</td><td>0.02836879 </td><td>0          </td><td>⋯          </td><td>0.003546099</td><td>0          </td><td>0.00177305 </td><td>0.0177305  </td><td>0          </td><td>0.02659574 </td><td>0.003546099</td><td>0.003546099</td><td>0          </td><td>0          </td></tr>\n",
       "</tbody>\n",
       "</table>\n"
      ],
      "text/latex": [
       "\\begin{tabular}{r|lllllllllllllllllllllllllllllllllllllllllllllllllllllllllllllllllllllllllllllllllllllllllllllllllllllllllllllllllllllllllllllllllllllllllllllllllllllllllllllllllllllllllllllllllllllllllllllllllllllllllllllllllllllllllllllllllllllllllllllllllllllllllllllllllllllllllllllllllllllllllllllllllllllllllllllllllllllllllllllllllllllllllllllllllllllllllllllllllllllllllllllllllllllllllllllllllllllllllllllllllllllllllllllllllllllllllllllllllllllllllllllllllllllllllllllllllllllllllllllllllllllllllllllllllllllllllllllllllllllllllllllllllllllllllllllllllllllllllllllllllllllllllllllllllllllllllllllllllllllllllllllllllllllllllllllllllllllllllllllllllllllllllllllllllllllllllllllllllllllllllllllllllllllllllllllllllllllllllllllllllllllllllllllllllllllllllllllllllllllllllllllllllllllllllllllllllllllllllllllllllllllllllllllllllllllllllllllllllllllllllllllllllllllllllllllllllllllllllllllllllllllllllllllllllllllllllllllllllllllllllllllllllllllllllllllllllllllllllllllllllllllllllllllllllllllllllllllllllllllllllllllllllllllllllllllllllllllllllllllllllllllllllllllllllllllllllllllllllllllllllllllllllllllllllllllllllllllllllllllllllllllllllllllllllll}\n",
       "  & £wk & €˜m & €˜s & abiola & abl & abt & accept & access & account & across & ⋯ & yahoo & yar & yeah & year & yep & yes & yesterday & yet & yoga & yup\\\\\n",
       "\\hline\n",
       "\tNo & 0.991134752 & 1           & 1           & 1           & 1           & 1           & 1           & 0.992907801 & 0.97163121  & 1           & ⋯           & 0.996453901 & 1           & 0.99822695  & 0.9822695   & 1           & 0.97340426  & 0.996453901 & 0.996453901 & 1           & 1          \\\\\n",
       "\tYes & 0.008865248 & 0           & 0           & 0           & 0           & 0           & 0           & 0.007092199 & 0.02836879  & 0           & ⋯           & 0.003546099 & 0           & 0.00177305  & 0.0177305   & 0           & 0.02659574  & 0.003546099 & 0.003546099 & 0           & 0          \\\\\n",
       "\\end{tabular}\n"
      ],
      "text/markdown": [
       "\n",
       "| <!--/--> | £wk | €˜m | €˜s | abiola | abl | abt | accept | access | account | across | ⋯ | yahoo | yar | yeah | year | yep | yes | yesterday | yet | yoga | yup | \n",
       "|---|---|\n",
       "| No | 0.991134752 | 1           | 1           | 1           | 1           | 1           | 1           | 0.992907801 | 0.97163121  | 1           | ⋯           | 0.996453901 | 1           | 0.99822695  | 0.9822695   | 1           | 0.97340426  | 0.996453901 | 0.996453901 | 1           | 1           | \n",
       "| Yes | 0.008865248 | 0           | 0           | 0           | 0           | 0           | 0           | 0.007092199 | 0.02836879  | 0           | ⋯           | 0.003546099 | 0           | 0.00177305  | 0.0177305   | 0           | 0.02659574  | 0.003546099 | 0.003546099 | 0           | 0           | \n",
       "\n",
       "\n"
      ],
      "text/plain": [
       "    £wk         €˜m €˜s abiola abl abt accept access      account    across ⋯\n",
       "No  0.991134752 1   1   1      1   1   1      0.992907801 0.97163121 1      ⋯\n",
       "Yes 0.008865248 0   0   0      0   0   0      0.007092199 0.02836879 0      ⋯\n",
       "    yahoo       yar yeah       year      yep yes        yesterday   yet        \n",
       "No  0.996453901 1   0.99822695 0.9822695 1   0.97340426 0.996453901 0.996453901\n",
       "Yes 0.003546099 0   0.00177305 0.0177305 0   0.02659574 0.003546099 0.003546099\n",
       "    yoga yup\n",
       "No  1    1  \n",
       "Yes 0    0  "
      ]
     },
     "metadata": {},
     "output_type": "display_data"
    }
   ],
   "source": [
    "mat_spam_all_spam"
   ]
  },
  {
   "cell_type": "markdown",
   "metadata": {},
   "source": [
    "With the joint model, we have to multiply all likelihoods in a row. However zero values will distort the model, since multiplication with zero will yield zero (we'll see more on this below in the \"Laplace estimator\" section\n",
    "\n",
    "We will replace values below a certain threshold with that threshold value. We arbitrarily choose thresh = 0.001, since this is the default value that R's NaiveBayes method in predict() functon  "
   ]
  },
  {
   "cell_type": "code",
   "execution_count": 81,
   "metadata": {},
   "outputs": [],
   "source": [
    "thresh <- 0.001\n",
    "mat_spam_all_ham[mat_spam_all_ham < thresh] <- thresh\n",
    "mat_spam_all_spam[mat_spam_all_spam < thresh] <- thresh"
   ]
  },
  {
   "cell_type": "code",
   "execution_count": 82,
   "metadata": {},
   "outputs": [
    {
     "data": {
      "text/html": [
       "<table>\n",
       "<thead><tr><th></th><th scope=col>£wk</th><th scope=col>€˜m</th><th scope=col>€˜s</th><th scope=col>abiola</th><th scope=col>abl</th><th scope=col>abt</th><th scope=col>accept</th><th scope=col>access</th><th scope=col>account</th><th scope=col>across</th><th scope=col>⋯</th><th scope=col>yahoo</th><th scope=col>yar</th><th scope=col>yeah</th><th scope=col>year</th><th scope=col>yep</th><th scope=col>yes</th><th scope=col>yesterday</th><th scope=col>yet</th><th scope=col>yoga</th><th scope=col>yup</th></tr></thead>\n",
       "<tbody>\n",
       "\t<tr><th scope=row>No</th><td>1.000      </td><td>0.998613037</td><td>0.998613037</td><td>0.998058252</td><td>0.994729542</td><td>0.995839112</td><td>0.998613037</td><td>0.9997226  </td><td>0.996948682</td><td>0.99778086 </td><td>⋯          </td><td>0.99889043 </td><td>0.99778086 </td><td>0.9814147  </td><td>0.98723994 </td><td>0.998058252</td><td>0.98474341 </td><td>0.995284327</td><td>0.990568655</td><td>0.99889043 </td><td>0.99112344 </td></tr>\n",
       "\t<tr><th scope=row>Yes</th><td>0.001      </td><td>0.001386963</td><td>0.001386963</td><td>0.001941748</td><td>0.005270458</td><td>0.004160888</td><td>0.001386963</td><td>0.0010000  </td><td>0.003051318</td><td>0.00221914 </td><td>⋯          </td><td>0.00110957 </td><td>0.00221914 </td><td>0.0185853  </td><td>0.01276006 </td><td>0.001941748</td><td>0.01525659 </td><td>0.004715673</td><td>0.009431345</td><td>0.00110957 </td><td>0.00887656 </td></tr>\n",
       "</tbody>\n",
       "</table>\n"
      ],
      "text/latex": [
       "\\begin{tabular}{r|lllllllllllllllllllllllllllllllllllllllllllllllllllllllllllllllllllllllllllllllllllllllllllllllllllllllllllllllllllllllllllllllllllllllllllllllllllllllllllllllllllllllllllllllllllllllllllllllllllllllllllllllllllllllllllllllllllllllllllllllllllllllllllllllllllllllllllllllllllllllllllllllllllllllllllllllllllllllllllllllllllllllllllllllllllllllllllllllllllllllllllllllllllllllllllllllllllllllllllllllllllllllllllllllllllllllllllllllllllllllllllllllllllllllllllllllllllllllllllllllllllllllllllllllllllllllllllllllllllllllllllllllllllllllllllllllllllllllllllllllllllllllllllllllllllllllllllllllllllllllllllllllllllllllllllllllllllllllllllllllllllllllllllllllllllllllllllllllllllllllllllllllllllllllllllllllllllllllllllllllllllllllllllllllllllllllllllllllllllllllllllllllllllllllllllllllllllllllllllllllllllllllllllllllllllllllllllllllllllllllllllllllllllllllllllllllllllllllllllllllllllllllllllllllllllllllllllllllllllllllllllllllllllllllllllllllllllllllllllllllllllllllllllllllllllllllllllllllllllllllllllllllllllllllllllllllllllllllllllllllllllllllllllllllllllllllllllllllllllllllllllllllllllllllllllllllllllllllllllllllllllllllllllllllllll}\n",
       "  & £wk & €˜m & €˜s & abiola & abl & abt & accept & access & account & across & ⋯ & yahoo & yar & yeah & year & yep & yes & yesterday & yet & yoga & yup\\\\\n",
       "\\hline\n",
       "\tNo & 1.000       & 0.998613037 & 0.998613037 & 0.998058252 & 0.994729542 & 0.995839112 & 0.998613037 & 0.9997226   & 0.996948682 & 0.99778086  & ⋯           & 0.99889043  & 0.99778086  & 0.9814147   & 0.98723994  & 0.998058252 & 0.98474341  & 0.995284327 & 0.990568655 & 0.99889043  & 0.99112344 \\\\\n",
       "\tYes & 0.001       & 0.001386963 & 0.001386963 & 0.001941748 & 0.005270458 & 0.004160888 & 0.001386963 & 0.0010000   & 0.003051318 & 0.00221914  & ⋯           & 0.00110957  & 0.00221914  & 0.0185853   & 0.01276006  & 0.001941748 & 0.01525659  & 0.004715673 & 0.009431345 & 0.00110957  & 0.00887656 \\\\\n",
       "\\end{tabular}\n"
      ],
      "text/markdown": [
       "\n",
       "| <!--/--> | £wk | €˜m | €˜s | abiola | abl | abt | accept | access | account | across | ⋯ | yahoo | yar | yeah | year | yep | yes | yesterday | yet | yoga | yup | \n",
       "|---|---|\n",
       "| No | 1.000       | 0.998613037 | 0.998613037 | 0.998058252 | 0.994729542 | 0.995839112 | 0.998613037 | 0.9997226   | 0.996948682 | 0.99778086  | ⋯           | 0.99889043  | 0.99778086  | 0.9814147   | 0.98723994  | 0.998058252 | 0.98474341  | 0.995284327 | 0.990568655 | 0.99889043  | 0.99112344  | \n",
       "| Yes | 0.001       | 0.001386963 | 0.001386963 | 0.001941748 | 0.005270458 | 0.004160888 | 0.001386963 | 0.0010000   | 0.003051318 | 0.00221914  | ⋯           | 0.00110957  | 0.00221914  | 0.0185853   | 0.01276006  | 0.001941748 | 0.01525659  | 0.004715673 | 0.009431345 | 0.00110957  | 0.00887656  | \n",
       "\n",
       "\n"
      ],
      "text/plain": [
       "    £wk   €˜m         €˜s         abiola      abl         abt        \n",
       "No  1.000 0.998613037 0.998613037 0.998058252 0.994729542 0.995839112\n",
       "Yes 0.001 0.001386963 0.001386963 0.001941748 0.005270458 0.004160888\n",
       "    accept      access    account     across     ⋯ yahoo      yar       \n",
       "No  0.998613037 0.9997226 0.996948682 0.99778086 ⋯ 0.99889043 0.99778086\n",
       "Yes 0.001386963 0.0010000 0.003051318 0.00221914 ⋯ 0.00110957 0.00221914\n",
       "    yeah      year       yep         yes        yesterday   yet        \n",
       "No  0.9814147 0.98723994 0.998058252 0.98474341 0.995284327 0.990568655\n",
       "Yes 0.0185853 0.01276006 0.001941748 0.01525659 0.004715673 0.009431345\n",
       "    yoga       yup       \n",
       "No  0.99889043 0.99112344\n",
       "Yes 0.00110957 0.00887656"
      ]
     },
     "metadata": {},
     "output_type": "display_data"
    },
    {
     "data": {
      "text/html": [
       "<table>\n",
       "<thead><tr><th></th><th scope=col>£wk</th><th scope=col>€˜m</th><th scope=col>€˜s</th><th scope=col>abiola</th><th scope=col>abl</th><th scope=col>abt</th><th scope=col>accept</th><th scope=col>access</th><th scope=col>account</th><th scope=col>across</th><th scope=col>⋯</th><th scope=col>yahoo</th><th scope=col>yar</th><th scope=col>yeah</th><th scope=col>year</th><th scope=col>yep</th><th scope=col>yes</th><th scope=col>yesterday</th><th scope=col>yet</th><th scope=col>yoga</th><th scope=col>yup</th></tr></thead>\n",
       "<tbody>\n",
       "\t<tr><th scope=row>No</th><td>0.991134752</td><td>1.000      </td><td>1.000      </td><td>1.000      </td><td>1.000      </td><td>1.000      </td><td>1.000      </td><td>0.992907801</td><td>0.97163121 </td><td>1.000      </td><td>⋯          </td><td>0.996453901</td><td>1.000      </td><td>0.99822695 </td><td>0.9822695  </td><td>1.000      </td><td>0.97340426 </td><td>0.996453901</td><td>0.996453901</td><td>1.000      </td><td>1.000      </td></tr>\n",
       "\t<tr><th scope=row>Yes</th><td>0.008865248</td><td>0.001      </td><td>0.001      </td><td>0.001      </td><td>0.001      </td><td>0.001      </td><td>0.001      </td><td>0.007092199</td><td>0.02836879 </td><td>0.001      </td><td>⋯          </td><td>0.003546099</td><td>0.001      </td><td>0.00177305 </td><td>0.0177305  </td><td>0.001      </td><td>0.02659574 </td><td>0.003546099</td><td>0.003546099</td><td>0.001      </td><td>0.001      </td></tr>\n",
       "</tbody>\n",
       "</table>\n"
      ],
      "text/latex": [
       "\\begin{tabular}{r|lllllllllllllllllllllllllllllllllllllllllllllllllllllllllllllllllllllllllllllllllllllllllllllllllllllllllllllllllllllllllllllllllllllllllllllllllllllllllllllllllllllllllllllllllllllllllllllllllllllllllllllllllllllllllllllllllllllllllllllllllllllllllllllllllllllllllllllllllllllllllllllllllllllllllllllllllllllllllllllllllllllllllllllllllllllllllllllllllllllllllllllllllllllllllllllllllllllllllllllllllllllllllllllllllllllllllllllllllllllllllllllllllllllllllllllllllllllllllllllllllllllllllllllllllllllllllllllllllllllllllllllllllllllllllllllllllllllllllllllllllllllllllllllllllllllllllllllllllllllllllllllllllllllllllllllllllllllllllllllllllllllllllllllllllllllllllllllllllllllllllllllllllllllllllllllllllllllllllllllllllllllllllllllllllllllllllllllllllllllllllllllllllllllllllllllllllllllllllllllllllllllllllllllllllllllllllllllllllllllllllllllllllllllllllllllllllllllllllllllllllllllllllllllllllllllllllllllllllllllllllllllllllllllllllllllllllllllllllllllllllllllllllllllllllllllllllllllllllllllllllllllllllllllllllllllllllllllllllllllllllllllllllllllllllllllllllllllllllllllllllllllllllllllllllllllllllllllllllllllllllllllllllllllllllll}\n",
       "  & £wk & €˜m & €˜s & abiola & abl & abt & accept & access & account & across & ⋯ & yahoo & yar & yeah & year & yep & yes & yesterday & yet & yoga & yup\\\\\n",
       "\\hline\n",
       "\tNo & 0.991134752 & 1.000       & 1.000       & 1.000       & 1.000       & 1.000       & 1.000       & 0.992907801 & 0.97163121  & 1.000       & ⋯           & 0.996453901 & 1.000       & 0.99822695  & 0.9822695   & 1.000       & 0.97340426  & 0.996453901 & 0.996453901 & 1.000       & 1.000      \\\\\n",
       "\tYes & 0.008865248 & 0.001       & 0.001       & 0.001       & 0.001       & 0.001       & 0.001       & 0.007092199 & 0.02836879  & 0.001       & ⋯           & 0.003546099 & 0.001       & 0.00177305  & 0.0177305   & 0.001       & 0.02659574  & 0.003546099 & 0.003546099 & 0.001       & 0.001      \\\\\n",
       "\\end{tabular}\n"
      ],
      "text/markdown": [
       "\n",
       "| <!--/--> | £wk | €˜m | €˜s | abiola | abl | abt | accept | access | account | across | ⋯ | yahoo | yar | yeah | year | yep | yes | yesterday | yet | yoga | yup | \n",
       "|---|---|\n",
       "| No | 0.991134752 | 1.000       | 1.000       | 1.000       | 1.000       | 1.000       | 1.000       | 0.992907801 | 0.97163121  | 1.000       | ⋯           | 0.996453901 | 1.000       | 0.99822695  | 0.9822695   | 1.000       | 0.97340426  | 0.996453901 | 0.996453901 | 1.000       | 1.000       | \n",
       "| Yes | 0.008865248 | 0.001       | 0.001       | 0.001       | 0.001       | 0.001       | 0.001       | 0.007092199 | 0.02836879  | 0.001       | ⋯           | 0.003546099 | 0.001       | 0.00177305  | 0.0177305   | 0.001       | 0.02659574  | 0.003546099 | 0.003546099 | 0.001       | 0.001       | \n",
       "\n",
       "\n"
      ],
      "text/plain": [
       "    £wk         €˜m   €˜s   abiola abl   abt   accept access      account   \n",
       "No  0.991134752 1.000 1.000 1.000  1.000 1.000 1.000  0.992907801 0.97163121\n",
       "Yes 0.008865248 0.001 0.001 0.001  0.001 0.001 0.001  0.007092199 0.02836879\n",
       "    across ⋯ yahoo       yar   yeah       year      yep   yes       \n",
       "No  1.000  ⋯ 0.996453901 1.000 0.99822695 0.9822695 1.000 0.97340426\n",
       "Yes 0.001  ⋯ 0.003546099 0.001 0.00177305 0.0177305 0.001 0.02659574\n",
       "    yesterday   yet         yoga  yup  \n",
       "No  0.996453901 0.996453901 1.000 1.000\n",
       "Yes 0.003546099 0.003546099 0.001 0.001"
      ]
     },
     "metadata": {},
     "output_type": "display_data"
    }
   ],
   "source": [
    "mat_spam_all_ham\n",
    "mat_spam_all_spam"
   ]
  },
  {
   "cell_type": "markdown",
   "metadata": {},
   "source": [
    "The dtm for test data is as follows:"
   ]
  },
  {
   "cell_type": "code",
   "execution_count": 83,
   "metadata": {},
   "outputs": [
    {
     "data": {
      "text/html": [
       "<table>\n",
       "<thead><tr><th></th><th scope=col>£wk</th><th scope=col>€˜m</th><th scope=col>€˜s</th><th scope=col>abiola</th><th scope=col>abl</th><th scope=col>abt</th><th scope=col>accept</th><th scope=col>access</th><th scope=col>account</th><th scope=col>across</th><th scope=col>⋯</th><th scope=col>yahoo</th><th scope=col>yar</th><th scope=col>yeah</th><th scope=col>year</th><th scope=col>yep</th><th scope=col>yes</th><th scope=col>yesterday</th><th scope=col>yet</th><th scope=col>yoga</th><th scope=col>yup</th></tr></thead>\n",
       "<tbody>\n",
       "\t<tr><th scope=row>4170</th><td>No </td><td>No </td><td>No </td><td>No </td><td>No </td><td>No </td><td>No </td><td>No </td><td>No </td><td>No </td><td>⋯  </td><td>No </td><td>No </td><td>No </td><td>No </td><td>No </td><td>No </td><td>No </td><td>No </td><td>No </td><td>No </td></tr>\n",
       "\t<tr><th scope=row>4171</th><td>No </td><td>No </td><td>No </td><td>No </td><td>No </td><td>No </td><td>No </td><td>No </td><td>No </td><td>No </td><td>⋯  </td><td>No </td><td>No </td><td>No </td><td>No </td><td>No </td><td>No </td><td>No </td><td>No </td><td>No </td><td>No </td></tr>\n",
       "\t<tr><th scope=row>4172</th><td>No </td><td>No </td><td>No </td><td>No </td><td>No </td><td>No </td><td>No </td><td>No </td><td>No </td><td>No </td><td>⋯  </td><td>No </td><td>No </td><td>No </td><td>No </td><td>No </td><td>No </td><td>No </td><td>No </td><td>No </td><td>No </td></tr>\n",
       "\t<tr><th scope=row>4173</th><td>No </td><td>No </td><td>No </td><td>No </td><td>No </td><td>No </td><td>No </td><td>No </td><td>No </td><td>No </td><td>⋯  </td><td>No </td><td>No </td><td>No </td><td>No </td><td>No </td><td>No </td><td>No </td><td>No </td><td>No </td><td>No </td></tr>\n",
       "\t<tr><th scope=row>4174</th><td>No </td><td>No </td><td>No </td><td>No </td><td>No </td><td>No </td><td>No </td><td>No </td><td>No </td><td>No </td><td>⋯  </td><td>No </td><td>No </td><td>No </td><td>No </td><td>No </td><td>No </td><td>No </td><td>No </td><td>No </td><td>No </td></tr>\n",
       "\t<tr><th scope=row>4175</th><td>No </td><td>No </td><td>No </td><td>No </td><td>No </td><td>No </td><td>No </td><td>No </td><td>No </td><td>No </td><td>⋯  </td><td>No </td><td>No </td><td>No </td><td>No </td><td>No </td><td>No </td><td>No </td><td>No </td><td>No </td><td>No </td></tr>\n",
       "\t<tr><th scope=row>4176</th><td>No </td><td>No </td><td>No </td><td>No </td><td>No </td><td>No </td><td>No </td><td>No </td><td>No </td><td>No </td><td>⋯  </td><td>No </td><td>No </td><td>No </td><td>No </td><td>No </td><td>No </td><td>No </td><td>No </td><td>No </td><td>No </td></tr>\n",
       "\t<tr><th scope=row>4177</th><td>No </td><td>No </td><td>No </td><td>No </td><td>No </td><td>No </td><td>No </td><td>No </td><td>No </td><td>No </td><td>⋯  </td><td>No </td><td>No </td><td>No </td><td>No </td><td>No </td><td>No </td><td>No </td><td>No </td><td>No </td><td>No </td></tr>\n",
       "\t<tr><th scope=row>4178</th><td>No </td><td>No </td><td>No </td><td>No </td><td>No </td><td>No </td><td>No </td><td>No </td><td>No </td><td>No </td><td>⋯  </td><td>No </td><td>No </td><td>No </td><td>No </td><td>No </td><td>No </td><td>No </td><td>No </td><td>No </td><td>No </td></tr>\n",
       "\t<tr><th scope=row>4179</th><td>No </td><td>No </td><td>No </td><td>No </td><td>No </td><td>No </td><td>No </td><td>No </td><td>No </td><td>No </td><td>⋯  </td><td>No </td><td>No </td><td>No </td><td>No </td><td>No </td><td>No </td><td>No </td><td>No </td><td>No </td><td>No </td></tr>\n",
       "\t<tr><th scope=row>4180</th><td>No </td><td>No </td><td>No </td><td>No </td><td>No </td><td>No </td><td>No </td><td>No </td><td>No </td><td>No </td><td>⋯  </td><td>No </td><td>No </td><td>No </td><td>No </td><td>No </td><td>No </td><td>No </td><td>No </td><td>No </td><td>No </td></tr>\n",
       "\t<tr><th scope=row>4181</th><td>No </td><td>No </td><td>No </td><td>No </td><td>No </td><td>No </td><td>No </td><td>No </td><td>No </td><td>No </td><td>⋯  </td><td>No </td><td>No </td><td>No </td><td>No </td><td>No </td><td>No </td><td>No </td><td>No </td><td>No </td><td>No </td></tr>\n",
       "\t<tr><th scope=row>4182</th><td>No </td><td>No </td><td>No </td><td>No </td><td>No </td><td>No </td><td>No </td><td>No </td><td>No </td><td>No </td><td>⋯  </td><td>No </td><td>No </td><td>No </td><td>No </td><td>No </td><td>No </td><td>No </td><td>No </td><td>No </td><td>No </td></tr>\n",
       "\t<tr><th scope=row>4183</th><td>No </td><td>No </td><td>No </td><td>No </td><td>No </td><td>No </td><td>No </td><td>No </td><td>No </td><td>No </td><td>⋯  </td><td>No </td><td>No </td><td>No </td><td>No </td><td>No </td><td>No </td><td>No </td><td>No </td><td>No </td><td>No </td></tr>\n",
       "\t<tr><th scope=row>4184</th><td>No </td><td>No </td><td>No </td><td>No </td><td>No </td><td>No </td><td>No </td><td>No </td><td>No </td><td>No </td><td>⋯  </td><td>No </td><td>No </td><td>No </td><td>No </td><td>No </td><td>No </td><td>No </td><td>No </td><td>No </td><td>No </td></tr>\n",
       "\t<tr><th scope=row>4185</th><td>No </td><td>No </td><td>No </td><td>No </td><td>No </td><td>No </td><td>No </td><td>No </td><td>No </td><td>No </td><td>⋯  </td><td>No </td><td>No </td><td>No </td><td>No </td><td>No </td><td>No </td><td>No </td><td>No </td><td>No </td><td>No </td></tr>\n",
       "\t<tr><th scope=row>4186</th><td>No </td><td>No </td><td>No </td><td>No </td><td>No </td><td>No </td><td>No </td><td>No </td><td>No </td><td>No </td><td>⋯  </td><td>No </td><td>No </td><td>No </td><td>No </td><td>No </td><td>No </td><td>No </td><td>No </td><td>No </td><td>No </td></tr>\n",
       "\t<tr><th scope=row>4187</th><td>No </td><td>No </td><td>No </td><td>No </td><td>No </td><td>No </td><td>No </td><td>No </td><td>No </td><td>No </td><td>⋯  </td><td>No </td><td>No </td><td>No </td><td>No </td><td>No </td><td>No </td><td>No </td><td>No </td><td>No </td><td>No </td></tr>\n",
       "\t<tr><th scope=row>4188</th><td>No </td><td>No </td><td>No </td><td>No </td><td>No </td><td>No </td><td>No </td><td>No </td><td>No </td><td>No </td><td>⋯  </td><td>No </td><td>Yes</td><td>No </td><td>No </td><td>No </td><td>No </td><td>No </td><td>No </td><td>No </td><td>No </td></tr>\n",
       "\t<tr><th scope=row>4189</th><td>No </td><td>No </td><td>No </td><td>No </td><td>No </td><td>No </td><td>No </td><td>No </td><td>No </td><td>No </td><td>⋯  </td><td>No </td><td>No </td><td>No </td><td>No </td><td>No </td><td>No </td><td>No </td><td>No </td><td>No </td><td>No </td></tr>\n",
       "\t<tr><th scope=row>4190</th><td>No </td><td>No </td><td>No </td><td>No </td><td>No </td><td>No </td><td>No </td><td>No </td><td>No </td><td>No </td><td>⋯  </td><td>No </td><td>No </td><td>No </td><td>No </td><td>No </td><td>No </td><td>No </td><td>No </td><td>No </td><td>No </td></tr>\n",
       "\t<tr><th scope=row>4191</th><td>No </td><td>No </td><td>No </td><td>No </td><td>No </td><td>No </td><td>No </td><td>No </td><td>No </td><td>No </td><td>⋯  </td><td>No </td><td>No </td><td>No </td><td>No </td><td>No </td><td>No </td><td>No </td><td>No </td><td>No </td><td>No </td></tr>\n",
       "\t<tr><th scope=row>4192</th><td>No </td><td>No </td><td>No </td><td>No </td><td>No </td><td>No </td><td>No </td><td>No </td><td>No </td><td>No </td><td>⋯  </td><td>No </td><td>No </td><td>No </td><td>No </td><td>No </td><td>No </td><td>No </td><td>No </td><td>No </td><td>No </td></tr>\n",
       "\t<tr><th scope=row>4193</th><td>No </td><td>No </td><td>No </td><td>No </td><td>No </td><td>No </td><td>No </td><td>No </td><td>No </td><td>No </td><td>⋯  </td><td>No </td><td>No </td><td>No </td><td>No </td><td>No </td><td>No </td><td>No </td><td>No </td><td>No </td><td>No </td></tr>\n",
       "\t<tr><th scope=row>4194</th><td>No </td><td>No </td><td>No </td><td>No </td><td>No </td><td>No </td><td>No </td><td>No </td><td>No </td><td>No </td><td>⋯  </td><td>No </td><td>No </td><td>No </td><td>No </td><td>No </td><td>No </td><td>No </td><td>No </td><td>No </td><td>No </td></tr>\n",
       "\t<tr><th scope=row>4195</th><td>No </td><td>No </td><td>No </td><td>No </td><td>No </td><td>No </td><td>No </td><td>No </td><td>No </td><td>No </td><td>⋯  </td><td>No </td><td>No </td><td>No </td><td>No </td><td>No </td><td>No </td><td>No </td><td>No </td><td>No </td><td>No </td></tr>\n",
       "\t<tr><th scope=row>4196</th><td>No </td><td>No </td><td>No </td><td>No </td><td>No </td><td>No </td><td>No </td><td>No </td><td>No </td><td>No </td><td>⋯  </td><td>No </td><td>No </td><td>No </td><td>No </td><td>No </td><td>No </td><td>No </td><td>No </td><td>No </td><td>No </td></tr>\n",
       "\t<tr><th scope=row>4197</th><td>No </td><td>No </td><td>No </td><td>No </td><td>No </td><td>No </td><td>No </td><td>No </td><td>No </td><td>No </td><td>⋯  </td><td>No </td><td>No </td><td>No </td><td>No </td><td>No </td><td>No </td><td>No </td><td>No </td><td>No </td><td>Yes</td></tr>\n",
       "\t<tr><th scope=row>4198</th><td>No </td><td>No </td><td>No </td><td>No </td><td>No </td><td>No </td><td>No </td><td>No </td><td>No </td><td>No </td><td>⋯  </td><td>No </td><td>No </td><td>No </td><td>No </td><td>No </td><td>No </td><td>No </td><td>No </td><td>No </td><td>No </td></tr>\n",
       "\t<tr><th scope=row>4199</th><td>No </td><td>No </td><td>No </td><td>No </td><td>No </td><td>No </td><td>No </td><td>No </td><td>No </td><td>No </td><td>⋯  </td><td>No </td><td>No </td><td>No </td><td>No </td><td>No </td><td>No </td><td>No </td><td>No </td><td>No </td><td>No </td></tr>\n",
       "\t<tr><th scope=row>⋮</th><td>⋮</td><td>⋮</td><td>⋮</td><td>⋮</td><td>⋮</td><td>⋮</td><td>⋮</td><td>⋮</td><td>⋮</td><td>⋮</td><td>⋱</td><td>⋮</td><td>⋮</td><td>⋮</td><td>⋮</td><td>⋮</td><td>⋮</td><td>⋮</td><td>⋮</td><td>⋮</td><td>⋮</td></tr>\n",
       "\t<tr><th scope=row>5530</th><td>No </td><td>No </td><td>No </td><td>No </td><td>No </td><td>No </td><td>No </td><td>No </td><td>No </td><td>No </td><td>⋯  </td><td>No </td><td>No </td><td>No </td><td>No </td><td>No </td><td>No </td><td>No </td><td>No </td><td>No </td><td>No </td></tr>\n",
       "\t<tr><th scope=row>5531</th><td>No </td><td>No </td><td>No </td><td>No </td><td>No </td><td>No </td><td>No </td><td>No </td><td>No </td><td>No </td><td>⋯  </td><td>No </td><td>No </td><td>No </td><td>No </td><td>No </td><td>No </td><td>No </td><td>No </td><td>No </td><td>No </td></tr>\n",
       "\t<tr><th scope=row>5532</th><td>No </td><td>No </td><td>No </td><td>No </td><td>No </td><td>No </td><td>No </td><td>No </td><td>No </td><td>No </td><td>⋯  </td><td>No </td><td>No </td><td>No </td><td>No </td><td>No </td><td>No </td><td>No </td><td>No </td><td>No </td><td>No </td></tr>\n",
       "\t<tr><th scope=row>5533</th><td>No </td><td>No </td><td>No </td><td>No </td><td>No </td><td>No </td><td>No </td><td>No </td><td>No </td><td>No </td><td>⋯  </td><td>No </td><td>No </td><td>No </td><td>No </td><td>No </td><td>No </td><td>No </td><td>No </td><td>No </td><td>No </td></tr>\n",
       "\t<tr><th scope=row>5534</th><td>No </td><td>No </td><td>No </td><td>No </td><td>No </td><td>No </td><td>No </td><td>No </td><td>No </td><td>No </td><td>⋯  </td><td>No </td><td>No </td><td>No </td><td>No </td><td>No </td><td>No </td><td>No </td><td>No </td><td>No </td><td>No </td></tr>\n",
       "\t<tr><th scope=row>5535</th><td>No </td><td>No </td><td>No </td><td>No </td><td>No </td><td>No </td><td>No </td><td>No </td><td>No </td><td>No </td><td>⋯  </td><td>No </td><td>No </td><td>No </td><td>No </td><td>No </td><td>No </td><td>No </td><td>No </td><td>No </td><td>No </td></tr>\n",
       "\t<tr><th scope=row>5536</th><td>No </td><td>No </td><td>No </td><td>No </td><td>No </td><td>No </td><td>No </td><td>No </td><td>No </td><td>No </td><td>⋯  </td><td>No </td><td>No </td><td>No </td><td>No </td><td>No </td><td>No </td><td>No </td><td>No </td><td>No </td><td>No </td></tr>\n",
       "\t<tr><th scope=row>5537</th><td>No </td><td>No </td><td>No </td><td>No </td><td>No </td><td>No </td><td>No </td><td>No </td><td>No </td><td>No </td><td>⋯  </td><td>No </td><td>No </td><td>No </td><td>No </td><td>No </td><td>No </td><td>No </td><td>No </td><td>No </td><td>No </td></tr>\n",
       "\t<tr><th scope=row>5538</th><td>No </td><td>No </td><td>No </td><td>No </td><td>No </td><td>No </td><td>No </td><td>No </td><td>No </td><td>No </td><td>⋯  </td><td>No </td><td>No </td><td>No </td><td>No </td><td>No </td><td>No </td><td>No </td><td>No </td><td>No </td><td>No </td></tr>\n",
       "\t<tr><th scope=row>5539</th><td>No </td><td>No </td><td>No </td><td>No </td><td>No </td><td>No </td><td>No </td><td>No </td><td>No </td><td>No </td><td>⋯  </td><td>No </td><td>No </td><td>No </td><td>No </td><td>No </td><td>No </td><td>No </td><td>No </td><td>No </td><td>No </td></tr>\n",
       "\t<tr><th scope=row>5540</th><td>No </td><td>No </td><td>No </td><td>No </td><td>No </td><td>No </td><td>No </td><td>No </td><td>No </td><td>No </td><td>⋯  </td><td>No </td><td>No </td><td>No </td><td>No </td><td>No </td><td>No </td><td>No </td><td>No </td><td>No </td><td>No </td></tr>\n",
       "\t<tr><th scope=row>5541</th><td>No </td><td>No </td><td>No </td><td>No </td><td>No </td><td>No </td><td>No </td><td>No </td><td>No </td><td>No </td><td>⋯  </td><td>No </td><td>No </td><td>No </td><td>No </td><td>No </td><td>Yes</td><td>No </td><td>No </td><td>No </td><td>No </td></tr>\n",
       "\t<tr><th scope=row>5542</th><td>No </td><td>No </td><td>No </td><td>No </td><td>No </td><td>No </td><td>No </td><td>No </td><td>No </td><td>No </td><td>⋯  </td><td>No </td><td>No </td><td>No </td><td>No </td><td>No </td><td>No </td><td>No </td><td>No </td><td>No </td><td>No </td></tr>\n",
       "\t<tr><th scope=row>5543</th><td>No </td><td>No </td><td>No </td><td>No </td><td>No </td><td>No </td><td>No </td><td>No </td><td>No </td><td>No </td><td>⋯  </td><td>No </td><td>No </td><td>No </td><td>No </td><td>No </td><td>No </td><td>No </td><td>No </td><td>No </td><td>No </td></tr>\n",
       "\t<tr><th scope=row>5544</th><td>No </td><td>No </td><td>No </td><td>No </td><td>No </td><td>No </td><td>No </td><td>No </td><td>No </td><td>No </td><td>⋯  </td><td>No </td><td>No </td><td>No </td><td>No </td><td>No </td><td>No </td><td>No </td><td>No </td><td>No </td><td>No </td></tr>\n",
       "\t<tr><th scope=row>5545</th><td>No </td><td>No </td><td>No </td><td>No </td><td>No </td><td>No </td><td>No </td><td>No </td><td>No </td><td>No </td><td>⋯  </td><td>No </td><td>No </td><td>No </td><td>No </td><td>No </td><td>No </td><td>No </td><td>No </td><td>No </td><td>No </td></tr>\n",
       "\t<tr><th scope=row>5546</th><td>No </td><td>No </td><td>No </td><td>No </td><td>No </td><td>No </td><td>No </td><td>No </td><td>No </td><td>No </td><td>⋯  </td><td>No </td><td>No </td><td>No </td><td>No </td><td>No </td><td>No </td><td>No </td><td>No </td><td>No </td><td>No </td></tr>\n",
       "\t<tr><th scope=row>5547</th><td>No </td><td>No </td><td>No </td><td>No </td><td>No </td><td>No </td><td>No </td><td>No </td><td>No </td><td>No </td><td>⋯  </td><td>No </td><td>No </td><td>No </td><td>No </td><td>No </td><td>No </td><td>No </td><td>No </td><td>No </td><td>No </td></tr>\n",
       "\t<tr><th scope=row>5548</th><td>No </td><td>No </td><td>No </td><td>No </td><td>No </td><td>No </td><td>No </td><td>No </td><td>No </td><td>No </td><td>⋯  </td><td>No </td><td>No </td><td>No </td><td>No </td><td>No </td><td>No </td><td>No </td><td>No </td><td>No </td><td>No </td></tr>\n",
       "\t<tr><th scope=row>5549</th><td>No </td><td>No </td><td>No </td><td>No </td><td>No </td><td>No </td><td>No </td><td>No </td><td>No </td><td>No </td><td>⋯  </td><td>No </td><td>No </td><td>No </td><td>No </td><td>No </td><td>No </td><td>No </td><td>No </td><td>No </td><td>No </td></tr>\n",
       "\t<tr><th scope=row>5550</th><td>No </td><td>No </td><td>No </td><td>No </td><td>No </td><td>No </td><td>No </td><td>No </td><td>No </td><td>No </td><td>⋯  </td><td>No </td><td>No </td><td>No </td><td>No </td><td>No </td><td>No </td><td>No </td><td>No </td><td>No </td><td>No </td></tr>\n",
       "\t<tr><th scope=row>5551</th><td>No </td><td>No </td><td>No </td><td>No </td><td>No </td><td>No </td><td>No </td><td>No </td><td>No </td><td>No </td><td>⋯  </td><td>No </td><td>No </td><td>No </td><td>No </td><td>No </td><td>No </td><td>No </td><td>No </td><td>No </td><td>No </td></tr>\n",
       "\t<tr><th scope=row>5552</th><td>No </td><td>No </td><td>No </td><td>No </td><td>No </td><td>No </td><td>No </td><td>No </td><td>No </td><td>No </td><td>⋯  </td><td>No </td><td>No </td><td>No </td><td>No </td><td>No </td><td>No </td><td>No </td><td>No </td><td>No </td><td>No </td></tr>\n",
       "\t<tr><th scope=row>5553</th><td>No </td><td>No </td><td>No </td><td>No </td><td>No </td><td>No </td><td>No </td><td>No </td><td>No </td><td>No </td><td>⋯  </td><td>No </td><td>No </td><td>No </td><td>No </td><td>No </td><td>No </td><td>No </td><td>No </td><td>No </td><td>No </td></tr>\n",
       "\t<tr><th scope=row>5554</th><td>No </td><td>No </td><td>No </td><td>No </td><td>No </td><td>No </td><td>No </td><td>No </td><td>No </td><td>No </td><td>⋯  </td><td>No </td><td>No </td><td>No </td><td>No </td><td>No </td><td>No </td><td>No </td><td>No </td><td>No </td><td>No </td></tr>\n",
       "\t<tr><th scope=row>5555</th><td>No </td><td>No </td><td>No </td><td>No </td><td>No </td><td>No </td><td>No </td><td>No </td><td>No </td><td>No </td><td>⋯  </td><td>No </td><td>No </td><td>No </td><td>No </td><td>No </td><td>No </td><td>No </td><td>No </td><td>No </td><td>No </td></tr>\n",
       "\t<tr><th scope=row>5556</th><td>No </td><td>No </td><td>No </td><td>No </td><td>No </td><td>No </td><td>No </td><td>No </td><td>No </td><td>No </td><td>⋯  </td><td>No </td><td>No </td><td>No </td><td>No </td><td>No </td><td>No </td><td>No </td><td>No </td><td>No </td><td>No </td></tr>\n",
       "\t<tr><th scope=row>5557</th><td>No </td><td>No </td><td>No </td><td>No </td><td>No </td><td>No </td><td>No </td><td>No </td><td>No </td><td>No </td><td>⋯  </td><td>No </td><td>No </td><td>No </td><td>No </td><td>No </td><td>No </td><td>No </td><td>No </td><td>No </td><td>No </td></tr>\n",
       "\t<tr><th scope=row>5558</th><td>No </td><td>No </td><td>No </td><td>No </td><td>No </td><td>No </td><td>No </td><td>No </td><td>No </td><td>No </td><td>⋯  </td><td>No </td><td>No </td><td>No </td><td>No </td><td>No </td><td>No </td><td>No </td><td>No </td><td>No </td><td>No </td></tr>\n",
       "\t<tr><th scope=row>5559</th><td>No </td><td>No </td><td>No </td><td>No </td><td>No </td><td>No </td><td>No </td><td>No </td><td>No </td><td>No </td><td>⋯  </td><td>No </td><td>No </td><td>No </td><td>No </td><td>No </td><td>No </td><td>No </td><td>No </td><td>No </td><td>No </td></tr>\n",
       "</tbody>\n",
       "</table>\n"
      ],
      "text/latex": [
       "\\begin{tabular}{r|lllllllllllllllllllllllllllllllllllllllllllllllllllllllllllllllllllllllllllllllllllllllllllllllllllllllllllllllllllllllllllllllllllllllllllllllllllllllllllllllllllllllllllllllllllllllllllllllllllllllllllllllllllllllllllllllllllllllllllllllllllllllllllllllllllllllllllllllllllllllllllllllllllllllllllllllllllllllllllllllllllllllllllllllllllllllllllllllllllllllllllllllllllllllllllllllllllllllllllllllllllllllllllllllllllllllllllllllllllllllllllllllllllllllllllllllllllllllllllllllllllllllllllllllllllllllllllllllllllllllllllllllllllllllllllllllllllllllllllllllllllllllllllllllllllllllllllllllllllllllllllllllllllllllllllllllllllllllllllllllllllllllllllllllllllllllllllllllllllllllllllllllllllllllllllllllllllllllllllllllllllllllllllllllllllllllllllllllllllllllllllllllllllllllllllllllllllllllllllllllllllllllllllllllllllllllllllllllllllllllllllllllllllllllllllllllllllllllllllllllllllllllllllllllllllllllllllllllllllllllllllllllllllllllllllllllllllllllllllllllllllllllllllllllllllllllllllllllllllllllllllllllllllllllllllllllllllllllllllllllllllllllllllllllllllllllllllllllllllllllllllllllllllllllllllllllllllllllllllllllllllllllllllllllllll}\n",
       "  & £wk & €˜m & €˜s & abiola & abl & abt & accept & access & account & across & ⋯ & yahoo & yar & yeah & year & yep & yes & yesterday & yet & yoga & yup\\\\\n",
       "\\hline\n",
       "\t4170 & No  & No  & No  & No  & No  & No  & No  & No  & No  & No  & ⋯   & No  & No  & No  & No  & No  & No  & No  & No  & No  & No \\\\\n",
       "\t4171 & No  & No  & No  & No  & No  & No  & No  & No  & No  & No  & ⋯   & No  & No  & No  & No  & No  & No  & No  & No  & No  & No \\\\\n",
       "\t4172 & No  & No  & No  & No  & No  & No  & No  & No  & No  & No  & ⋯   & No  & No  & No  & No  & No  & No  & No  & No  & No  & No \\\\\n",
       "\t4173 & No  & No  & No  & No  & No  & No  & No  & No  & No  & No  & ⋯   & No  & No  & No  & No  & No  & No  & No  & No  & No  & No \\\\\n",
       "\t4174 & No  & No  & No  & No  & No  & No  & No  & No  & No  & No  & ⋯   & No  & No  & No  & No  & No  & No  & No  & No  & No  & No \\\\\n",
       "\t4175 & No  & No  & No  & No  & No  & No  & No  & No  & No  & No  & ⋯   & No  & No  & No  & No  & No  & No  & No  & No  & No  & No \\\\\n",
       "\t4176 & No  & No  & No  & No  & No  & No  & No  & No  & No  & No  & ⋯   & No  & No  & No  & No  & No  & No  & No  & No  & No  & No \\\\\n",
       "\t4177 & No  & No  & No  & No  & No  & No  & No  & No  & No  & No  & ⋯   & No  & No  & No  & No  & No  & No  & No  & No  & No  & No \\\\\n",
       "\t4178 & No  & No  & No  & No  & No  & No  & No  & No  & No  & No  & ⋯   & No  & No  & No  & No  & No  & No  & No  & No  & No  & No \\\\\n",
       "\t4179 & No  & No  & No  & No  & No  & No  & No  & No  & No  & No  & ⋯   & No  & No  & No  & No  & No  & No  & No  & No  & No  & No \\\\\n",
       "\t4180 & No  & No  & No  & No  & No  & No  & No  & No  & No  & No  & ⋯   & No  & No  & No  & No  & No  & No  & No  & No  & No  & No \\\\\n",
       "\t4181 & No  & No  & No  & No  & No  & No  & No  & No  & No  & No  & ⋯   & No  & No  & No  & No  & No  & No  & No  & No  & No  & No \\\\\n",
       "\t4182 & No  & No  & No  & No  & No  & No  & No  & No  & No  & No  & ⋯   & No  & No  & No  & No  & No  & No  & No  & No  & No  & No \\\\\n",
       "\t4183 & No  & No  & No  & No  & No  & No  & No  & No  & No  & No  & ⋯   & No  & No  & No  & No  & No  & No  & No  & No  & No  & No \\\\\n",
       "\t4184 & No  & No  & No  & No  & No  & No  & No  & No  & No  & No  & ⋯   & No  & No  & No  & No  & No  & No  & No  & No  & No  & No \\\\\n",
       "\t4185 & No  & No  & No  & No  & No  & No  & No  & No  & No  & No  & ⋯   & No  & No  & No  & No  & No  & No  & No  & No  & No  & No \\\\\n",
       "\t4186 & No  & No  & No  & No  & No  & No  & No  & No  & No  & No  & ⋯   & No  & No  & No  & No  & No  & No  & No  & No  & No  & No \\\\\n",
       "\t4187 & No  & No  & No  & No  & No  & No  & No  & No  & No  & No  & ⋯   & No  & No  & No  & No  & No  & No  & No  & No  & No  & No \\\\\n",
       "\t4188 & No  & No  & No  & No  & No  & No  & No  & No  & No  & No  & ⋯   & No  & Yes & No  & No  & No  & No  & No  & No  & No  & No \\\\\n",
       "\t4189 & No  & No  & No  & No  & No  & No  & No  & No  & No  & No  & ⋯   & No  & No  & No  & No  & No  & No  & No  & No  & No  & No \\\\\n",
       "\t4190 & No  & No  & No  & No  & No  & No  & No  & No  & No  & No  & ⋯   & No  & No  & No  & No  & No  & No  & No  & No  & No  & No \\\\\n",
       "\t4191 & No  & No  & No  & No  & No  & No  & No  & No  & No  & No  & ⋯   & No  & No  & No  & No  & No  & No  & No  & No  & No  & No \\\\\n",
       "\t4192 & No  & No  & No  & No  & No  & No  & No  & No  & No  & No  & ⋯   & No  & No  & No  & No  & No  & No  & No  & No  & No  & No \\\\\n",
       "\t4193 & No  & No  & No  & No  & No  & No  & No  & No  & No  & No  & ⋯   & No  & No  & No  & No  & No  & No  & No  & No  & No  & No \\\\\n",
       "\t4194 & No  & No  & No  & No  & No  & No  & No  & No  & No  & No  & ⋯   & No  & No  & No  & No  & No  & No  & No  & No  & No  & No \\\\\n",
       "\t4195 & No  & No  & No  & No  & No  & No  & No  & No  & No  & No  & ⋯   & No  & No  & No  & No  & No  & No  & No  & No  & No  & No \\\\\n",
       "\t4196 & No  & No  & No  & No  & No  & No  & No  & No  & No  & No  & ⋯   & No  & No  & No  & No  & No  & No  & No  & No  & No  & No \\\\\n",
       "\t4197 & No  & No  & No  & No  & No  & No  & No  & No  & No  & No  & ⋯   & No  & No  & No  & No  & No  & No  & No  & No  & No  & Yes\\\\\n",
       "\t4198 & No  & No  & No  & No  & No  & No  & No  & No  & No  & No  & ⋯   & No  & No  & No  & No  & No  & No  & No  & No  & No  & No \\\\\n",
       "\t4199 & No  & No  & No  & No  & No  & No  & No  & No  & No  & No  & ⋯   & No  & No  & No  & No  & No  & No  & No  & No  & No  & No \\\\\n",
       "\t⋮ & ⋮ & ⋮ & ⋮ & ⋮ & ⋮ & ⋮ & ⋮ & ⋮ & ⋮ & ⋮ & ⋱ & ⋮ & ⋮ & ⋮ & ⋮ & ⋮ & ⋮ & ⋮ & ⋮ & ⋮ & ⋮\\\\\n",
       "\t5530 & No  & No  & No  & No  & No  & No  & No  & No  & No  & No  & ⋯   & No  & No  & No  & No  & No  & No  & No  & No  & No  & No \\\\\n",
       "\t5531 & No  & No  & No  & No  & No  & No  & No  & No  & No  & No  & ⋯   & No  & No  & No  & No  & No  & No  & No  & No  & No  & No \\\\\n",
       "\t5532 & No  & No  & No  & No  & No  & No  & No  & No  & No  & No  & ⋯   & No  & No  & No  & No  & No  & No  & No  & No  & No  & No \\\\\n",
       "\t5533 & No  & No  & No  & No  & No  & No  & No  & No  & No  & No  & ⋯   & No  & No  & No  & No  & No  & No  & No  & No  & No  & No \\\\\n",
       "\t5534 & No  & No  & No  & No  & No  & No  & No  & No  & No  & No  & ⋯   & No  & No  & No  & No  & No  & No  & No  & No  & No  & No \\\\\n",
       "\t5535 & No  & No  & No  & No  & No  & No  & No  & No  & No  & No  & ⋯   & No  & No  & No  & No  & No  & No  & No  & No  & No  & No \\\\\n",
       "\t5536 & No  & No  & No  & No  & No  & No  & No  & No  & No  & No  & ⋯   & No  & No  & No  & No  & No  & No  & No  & No  & No  & No \\\\\n",
       "\t5537 & No  & No  & No  & No  & No  & No  & No  & No  & No  & No  & ⋯   & No  & No  & No  & No  & No  & No  & No  & No  & No  & No \\\\\n",
       "\t5538 & No  & No  & No  & No  & No  & No  & No  & No  & No  & No  & ⋯   & No  & No  & No  & No  & No  & No  & No  & No  & No  & No \\\\\n",
       "\t5539 & No  & No  & No  & No  & No  & No  & No  & No  & No  & No  & ⋯   & No  & No  & No  & No  & No  & No  & No  & No  & No  & No \\\\\n",
       "\t5540 & No  & No  & No  & No  & No  & No  & No  & No  & No  & No  & ⋯   & No  & No  & No  & No  & No  & No  & No  & No  & No  & No \\\\\n",
       "\t5541 & No  & No  & No  & No  & No  & No  & No  & No  & No  & No  & ⋯   & No  & No  & No  & No  & No  & Yes & No  & No  & No  & No \\\\\n",
       "\t5542 & No  & No  & No  & No  & No  & No  & No  & No  & No  & No  & ⋯   & No  & No  & No  & No  & No  & No  & No  & No  & No  & No \\\\\n",
       "\t5543 & No  & No  & No  & No  & No  & No  & No  & No  & No  & No  & ⋯   & No  & No  & No  & No  & No  & No  & No  & No  & No  & No \\\\\n",
       "\t5544 & No  & No  & No  & No  & No  & No  & No  & No  & No  & No  & ⋯   & No  & No  & No  & No  & No  & No  & No  & No  & No  & No \\\\\n",
       "\t5545 & No  & No  & No  & No  & No  & No  & No  & No  & No  & No  & ⋯   & No  & No  & No  & No  & No  & No  & No  & No  & No  & No \\\\\n",
       "\t5546 & No  & No  & No  & No  & No  & No  & No  & No  & No  & No  & ⋯   & No  & No  & No  & No  & No  & No  & No  & No  & No  & No \\\\\n",
       "\t5547 & No  & No  & No  & No  & No  & No  & No  & No  & No  & No  & ⋯   & No  & No  & No  & No  & No  & No  & No  & No  & No  & No \\\\\n",
       "\t5548 & No  & No  & No  & No  & No  & No  & No  & No  & No  & No  & ⋯   & No  & No  & No  & No  & No  & No  & No  & No  & No  & No \\\\\n",
       "\t5549 & No  & No  & No  & No  & No  & No  & No  & No  & No  & No  & ⋯   & No  & No  & No  & No  & No  & No  & No  & No  & No  & No \\\\\n",
       "\t5550 & No  & No  & No  & No  & No  & No  & No  & No  & No  & No  & ⋯   & No  & No  & No  & No  & No  & No  & No  & No  & No  & No \\\\\n",
       "\t5551 & No  & No  & No  & No  & No  & No  & No  & No  & No  & No  & ⋯   & No  & No  & No  & No  & No  & No  & No  & No  & No  & No \\\\\n",
       "\t5552 & No  & No  & No  & No  & No  & No  & No  & No  & No  & No  & ⋯   & No  & No  & No  & No  & No  & No  & No  & No  & No  & No \\\\\n",
       "\t5553 & No  & No  & No  & No  & No  & No  & No  & No  & No  & No  & ⋯   & No  & No  & No  & No  & No  & No  & No  & No  & No  & No \\\\\n",
       "\t5554 & No  & No  & No  & No  & No  & No  & No  & No  & No  & No  & ⋯   & No  & No  & No  & No  & No  & No  & No  & No  & No  & No \\\\\n",
       "\t5555 & No  & No  & No  & No  & No  & No  & No  & No  & No  & No  & ⋯   & No  & No  & No  & No  & No  & No  & No  & No  & No  & No \\\\\n",
       "\t5556 & No  & No  & No  & No  & No  & No  & No  & No  & No  & No  & ⋯   & No  & No  & No  & No  & No  & No  & No  & No  & No  & No \\\\\n",
       "\t5557 & No  & No  & No  & No  & No  & No  & No  & No  & No  & No  & ⋯   & No  & No  & No  & No  & No  & No  & No  & No  & No  & No \\\\\n",
       "\t5558 & No  & No  & No  & No  & No  & No  & No  & No  & No  & No  & ⋯   & No  & No  & No  & No  & No  & No  & No  & No  & No  & No \\\\\n",
       "\t5559 & No  & No  & No  & No  & No  & No  & No  & No  & No  & No  & ⋯   & No  & No  & No  & No  & No  & No  & No  & No  & No  & No \\\\\n",
       "\\end{tabular}\n"
      ],
      "text/markdown": [
       "\n",
       "| <!--/--> | £wk | €˜m | €˜s | abiola | abl | abt | accept | access | account | across | ⋯ | yahoo | yar | yeah | year | yep | yes | yesterday | yet | yoga | yup | \n",
       "|---|---|---|---|---|---|---|---|---|---|---|---|---|---|---|---|---|---|---|---|---|---|---|---|---|---|---|---|---|---|---|---|---|---|---|---|---|---|---|---|---|---|---|---|---|---|---|---|---|---|---|---|---|---|---|---|---|---|---|---|---|\n",
       "| 4170 | No  | No  | No  | No  | No  | No  | No  | No  | No  | No  | ⋯   | No  | No  | No  | No  | No  | No  | No  | No  | No  | No  | \n",
       "| 4171 | No  | No  | No  | No  | No  | No  | No  | No  | No  | No  | ⋯   | No  | No  | No  | No  | No  | No  | No  | No  | No  | No  | \n",
       "| 4172 | No  | No  | No  | No  | No  | No  | No  | No  | No  | No  | ⋯   | No  | No  | No  | No  | No  | No  | No  | No  | No  | No  | \n",
       "| 4173 | No  | No  | No  | No  | No  | No  | No  | No  | No  | No  | ⋯   | No  | No  | No  | No  | No  | No  | No  | No  | No  | No  | \n",
       "| 4174 | No  | No  | No  | No  | No  | No  | No  | No  | No  | No  | ⋯   | No  | No  | No  | No  | No  | No  | No  | No  | No  | No  | \n",
       "| 4175 | No  | No  | No  | No  | No  | No  | No  | No  | No  | No  | ⋯   | No  | No  | No  | No  | No  | No  | No  | No  | No  | No  | \n",
       "| 4176 | No  | No  | No  | No  | No  | No  | No  | No  | No  | No  | ⋯   | No  | No  | No  | No  | No  | No  | No  | No  | No  | No  | \n",
       "| 4177 | No  | No  | No  | No  | No  | No  | No  | No  | No  | No  | ⋯   | No  | No  | No  | No  | No  | No  | No  | No  | No  | No  | \n",
       "| 4178 | No  | No  | No  | No  | No  | No  | No  | No  | No  | No  | ⋯   | No  | No  | No  | No  | No  | No  | No  | No  | No  | No  | \n",
       "| 4179 | No  | No  | No  | No  | No  | No  | No  | No  | No  | No  | ⋯   | No  | No  | No  | No  | No  | No  | No  | No  | No  | No  | \n",
       "| 4180 | No  | No  | No  | No  | No  | No  | No  | No  | No  | No  | ⋯   | No  | No  | No  | No  | No  | No  | No  | No  | No  | No  | \n",
       "| 4181 | No  | No  | No  | No  | No  | No  | No  | No  | No  | No  | ⋯   | No  | No  | No  | No  | No  | No  | No  | No  | No  | No  | \n",
       "| 4182 | No  | No  | No  | No  | No  | No  | No  | No  | No  | No  | ⋯   | No  | No  | No  | No  | No  | No  | No  | No  | No  | No  | \n",
       "| 4183 | No  | No  | No  | No  | No  | No  | No  | No  | No  | No  | ⋯   | No  | No  | No  | No  | No  | No  | No  | No  | No  | No  | \n",
       "| 4184 | No  | No  | No  | No  | No  | No  | No  | No  | No  | No  | ⋯   | No  | No  | No  | No  | No  | No  | No  | No  | No  | No  | \n",
       "| 4185 | No  | No  | No  | No  | No  | No  | No  | No  | No  | No  | ⋯   | No  | No  | No  | No  | No  | No  | No  | No  | No  | No  | \n",
       "| 4186 | No  | No  | No  | No  | No  | No  | No  | No  | No  | No  | ⋯   | No  | No  | No  | No  | No  | No  | No  | No  | No  | No  | \n",
       "| 4187 | No  | No  | No  | No  | No  | No  | No  | No  | No  | No  | ⋯   | No  | No  | No  | No  | No  | No  | No  | No  | No  | No  | \n",
       "| 4188 | No  | No  | No  | No  | No  | No  | No  | No  | No  | No  | ⋯   | No  | Yes | No  | No  | No  | No  | No  | No  | No  | No  | \n",
       "| 4189 | No  | No  | No  | No  | No  | No  | No  | No  | No  | No  | ⋯   | No  | No  | No  | No  | No  | No  | No  | No  | No  | No  | \n",
       "| 4190 | No  | No  | No  | No  | No  | No  | No  | No  | No  | No  | ⋯   | No  | No  | No  | No  | No  | No  | No  | No  | No  | No  | \n",
       "| 4191 | No  | No  | No  | No  | No  | No  | No  | No  | No  | No  | ⋯   | No  | No  | No  | No  | No  | No  | No  | No  | No  | No  | \n",
       "| 4192 | No  | No  | No  | No  | No  | No  | No  | No  | No  | No  | ⋯   | No  | No  | No  | No  | No  | No  | No  | No  | No  | No  | \n",
       "| 4193 | No  | No  | No  | No  | No  | No  | No  | No  | No  | No  | ⋯   | No  | No  | No  | No  | No  | No  | No  | No  | No  | No  | \n",
       "| 4194 | No  | No  | No  | No  | No  | No  | No  | No  | No  | No  | ⋯   | No  | No  | No  | No  | No  | No  | No  | No  | No  | No  | \n",
       "| 4195 | No  | No  | No  | No  | No  | No  | No  | No  | No  | No  | ⋯   | No  | No  | No  | No  | No  | No  | No  | No  | No  | No  | \n",
       "| 4196 | No  | No  | No  | No  | No  | No  | No  | No  | No  | No  | ⋯   | No  | No  | No  | No  | No  | No  | No  | No  | No  | No  | \n",
       "| 4197 | No  | No  | No  | No  | No  | No  | No  | No  | No  | No  | ⋯   | No  | No  | No  | No  | No  | No  | No  | No  | No  | Yes | \n",
       "| 4198 | No  | No  | No  | No  | No  | No  | No  | No  | No  | No  | ⋯   | No  | No  | No  | No  | No  | No  | No  | No  | No  | No  | \n",
       "| 4199 | No  | No  | No  | No  | No  | No  | No  | No  | No  | No  | ⋯   | No  | No  | No  | No  | No  | No  | No  | No  | No  | No  | \n",
       "| ⋮ | ⋮ | ⋮ | ⋮ | ⋮ | ⋮ | ⋮ | ⋮ | ⋮ | ⋮ | ⋮ | ⋱ | ⋮ | ⋮ | ⋮ | ⋮ | ⋮ | ⋮ | ⋮ | ⋮ | ⋮ | ⋮ | \n",
       "| 5530 | No  | No  | No  | No  | No  | No  | No  | No  | No  | No  | ⋯   | No  | No  | No  | No  | No  | No  | No  | No  | No  | No  | \n",
       "| 5531 | No  | No  | No  | No  | No  | No  | No  | No  | No  | No  | ⋯   | No  | No  | No  | No  | No  | No  | No  | No  | No  | No  | \n",
       "| 5532 | No  | No  | No  | No  | No  | No  | No  | No  | No  | No  | ⋯   | No  | No  | No  | No  | No  | No  | No  | No  | No  | No  | \n",
       "| 5533 | No  | No  | No  | No  | No  | No  | No  | No  | No  | No  | ⋯   | No  | No  | No  | No  | No  | No  | No  | No  | No  | No  | \n",
       "| 5534 | No  | No  | No  | No  | No  | No  | No  | No  | No  | No  | ⋯   | No  | No  | No  | No  | No  | No  | No  | No  | No  | No  | \n",
       "| 5535 | No  | No  | No  | No  | No  | No  | No  | No  | No  | No  | ⋯   | No  | No  | No  | No  | No  | No  | No  | No  | No  | No  | \n",
       "| 5536 | No  | No  | No  | No  | No  | No  | No  | No  | No  | No  | ⋯   | No  | No  | No  | No  | No  | No  | No  | No  | No  | No  | \n",
       "| 5537 | No  | No  | No  | No  | No  | No  | No  | No  | No  | No  | ⋯   | No  | No  | No  | No  | No  | No  | No  | No  | No  | No  | \n",
       "| 5538 | No  | No  | No  | No  | No  | No  | No  | No  | No  | No  | ⋯   | No  | No  | No  | No  | No  | No  | No  | No  | No  | No  | \n",
       "| 5539 | No  | No  | No  | No  | No  | No  | No  | No  | No  | No  | ⋯   | No  | No  | No  | No  | No  | No  | No  | No  | No  | No  | \n",
       "| 5540 | No  | No  | No  | No  | No  | No  | No  | No  | No  | No  | ⋯   | No  | No  | No  | No  | No  | No  | No  | No  | No  | No  | \n",
       "| 5541 | No  | No  | No  | No  | No  | No  | No  | No  | No  | No  | ⋯   | No  | No  | No  | No  | No  | Yes | No  | No  | No  | No  | \n",
       "| 5542 | No  | No  | No  | No  | No  | No  | No  | No  | No  | No  | ⋯   | No  | No  | No  | No  | No  | No  | No  | No  | No  | No  | \n",
       "| 5543 | No  | No  | No  | No  | No  | No  | No  | No  | No  | No  | ⋯   | No  | No  | No  | No  | No  | No  | No  | No  | No  | No  | \n",
       "| 5544 | No  | No  | No  | No  | No  | No  | No  | No  | No  | No  | ⋯   | No  | No  | No  | No  | No  | No  | No  | No  | No  | No  | \n",
       "| 5545 | No  | No  | No  | No  | No  | No  | No  | No  | No  | No  | ⋯   | No  | No  | No  | No  | No  | No  | No  | No  | No  | No  | \n",
       "| 5546 | No  | No  | No  | No  | No  | No  | No  | No  | No  | No  | ⋯   | No  | No  | No  | No  | No  | No  | No  | No  | No  | No  | \n",
       "| 5547 | No  | No  | No  | No  | No  | No  | No  | No  | No  | No  | ⋯   | No  | No  | No  | No  | No  | No  | No  | No  | No  | No  | \n",
       "| 5548 | No  | No  | No  | No  | No  | No  | No  | No  | No  | No  | ⋯   | No  | No  | No  | No  | No  | No  | No  | No  | No  | No  | \n",
       "| 5549 | No  | No  | No  | No  | No  | No  | No  | No  | No  | No  | ⋯   | No  | No  | No  | No  | No  | No  | No  | No  | No  | No  | \n",
       "| 5550 | No  | No  | No  | No  | No  | No  | No  | No  | No  | No  | ⋯   | No  | No  | No  | No  | No  | No  | No  | No  | No  | No  | \n",
       "| 5551 | No  | No  | No  | No  | No  | No  | No  | No  | No  | No  | ⋯   | No  | No  | No  | No  | No  | No  | No  | No  | No  | No  | \n",
       "| 5552 | No  | No  | No  | No  | No  | No  | No  | No  | No  | No  | ⋯   | No  | No  | No  | No  | No  | No  | No  | No  | No  | No  | \n",
       "| 5553 | No  | No  | No  | No  | No  | No  | No  | No  | No  | No  | ⋯   | No  | No  | No  | No  | No  | No  | No  | No  | No  | No  | \n",
       "| 5554 | No  | No  | No  | No  | No  | No  | No  | No  | No  | No  | ⋯   | No  | No  | No  | No  | No  | No  | No  | No  | No  | No  | \n",
       "| 5555 | No  | No  | No  | No  | No  | No  | No  | No  | No  | No  | ⋯   | No  | No  | No  | No  | No  | No  | No  | No  | No  | No  | \n",
       "| 5556 | No  | No  | No  | No  | No  | No  | No  | No  | No  | No  | ⋯   | No  | No  | No  | No  | No  | No  | No  | No  | No  | No  | \n",
       "| 5557 | No  | No  | No  | No  | No  | No  | No  | No  | No  | No  | ⋯   | No  | No  | No  | No  | No  | No  | No  | No  | No  | No  | \n",
       "| 5558 | No  | No  | No  | No  | No  | No  | No  | No  | No  | No  | ⋯   | No  | No  | No  | No  | No  | No  | No  | No  | No  | No  | \n",
       "| 5559 | No  | No  | No  | No  | No  | No  | No  | No  | No  | No  | ⋯   | No  | No  | No  | No  | No  | No  | No  | No  | No  | No  | \n",
       "\n",
       "\n"
      ],
      "text/plain": [
       "     £wk €˜m €˜s abiola abl abt accept access account across ⋯ yahoo yar yeah\n",
       "4170 No  No  No  No     No  No  No     No     No      No     ⋯ No    No  No  \n",
       "4171 No  No  No  No     No  No  No     No     No      No     ⋯ No    No  No  \n",
       "4172 No  No  No  No     No  No  No     No     No      No     ⋯ No    No  No  \n",
       "4173 No  No  No  No     No  No  No     No     No      No     ⋯ No    No  No  \n",
       "4174 No  No  No  No     No  No  No     No     No      No     ⋯ No    No  No  \n",
       "4175 No  No  No  No     No  No  No     No     No      No     ⋯ No    No  No  \n",
       "4176 No  No  No  No     No  No  No     No     No      No     ⋯ No    No  No  \n",
       "4177 No  No  No  No     No  No  No     No     No      No     ⋯ No    No  No  \n",
       "4178 No  No  No  No     No  No  No     No     No      No     ⋯ No    No  No  \n",
       "4179 No  No  No  No     No  No  No     No     No      No     ⋯ No    No  No  \n",
       "4180 No  No  No  No     No  No  No     No     No      No     ⋯ No    No  No  \n",
       "4181 No  No  No  No     No  No  No     No     No      No     ⋯ No    No  No  \n",
       "4182 No  No  No  No     No  No  No     No     No      No     ⋯ No    No  No  \n",
       "4183 No  No  No  No     No  No  No     No     No      No     ⋯ No    No  No  \n",
       "4184 No  No  No  No     No  No  No     No     No      No     ⋯ No    No  No  \n",
       "4185 No  No  No  No     No  No  No     No     No      No     ⋯ No    No  No  \n",
       "4186 No  No  No  No     No  No  No     No     No      No     ⋯ No    No  No  \n",
       "4187 No  No  No  No     No  No  No     No     No      No     ⋯ No    No  No  \n",
       "4188 No  No  No  No     No  No  No     No     No      No     ⋯ No    Yes No  \n",
       "4189 No  No  No  No     No  No  No     No     No      No     ⋯ No    No  No  \n",
       "4190 No  No  No  No     No  No  No     No     No      No     ⋯ No    No  No  \n",
       "4191 No  No  No  No     No  No  No     No     No      No     ⋯ No    No  No  \n",
       "4192 No  No  No  No     No  No  No     No     No      No     ⋯ No    No  No  \n",
       "4193 No  No  No  No     No  No  No     No     No      No     ⋯ No    No  No  \n",
       "4194 No  No  No  No     No  No  No     No     No      No     ⋯ No    No  No  \n",
       "4195 No  No  No  No     No  No  No     No     No      No     ⋯ No    No  No  \n",
       "4196 No  No  No  No     No  No  No     No     No      No     ⋯ No    No  No  \n",
       "4197 No  No  No  No     No  No  No     No     No      No     ⋯ No    No  No  \n",
       "4198 No  No  No  No     No  No  No     No     No      No     ⋯ No    No  No  \n",
       "4199 No  No  No  No     No  No  No     No     No      No     ⋯ No    No  No  \n",
       "⋮    ⋮   ⋮   ⋮   ⋮      ⋮   ⋮   ⋮      ⋮      ⋮       ⋮      ⋱ ⋮     ⋮   ⋮   \n",
       "5530 No  No  No  No     No  No  No     No     No      No     ⋯ No    No  No  \n",
       "5531 No  No  No  No     No  No  No     No     No      No     ⋯ No    No  No  \n",
       "5532 No  No  No  No     No  No  No     No     No      No     ⋯ No    No  No  \n",
       "5533 No  No  No  No     No  No  No     No     No      No     ⋯ No    No  No  \n",
       "5534 No  No  No  No     No  No  No     No     No      No     ⋯ No    No  No  \n",
       "5535 No  No  No  No     No  No  No     No     No      No     ⋯ No    No  No  \n",
       "5536 No  No  No  No     No  No  No     No     No      No     ⋯ No    No  No  \n",
       "5537 No  No  No  No     No  No  No     No     No      No     ⋯ No    No  No  \n",
       "5538 No  No  No  No     No  No  No     No     No      No     ⋯ No    No  No  \n",
       "5539 No  No  No  No     No  No  No     No     No      No     ⋯ No    No  No  \n",
       "5540 No  No  No  No     No  No  No     No     No      No     ⋯ No    No  No  \n",
       "5541 No  No  No  No     No  No  No     No     No      No     ⋯ No    No  No  \n",
       "5542 No  No  No  No     No  No  No     No     No      No     ⋯ No    No  No  \n",
       "5543 No  No  No  No     No  No  No     No     No      No     ⋯ No    No  No  \n",
       "5544 No  No  No  No     No  No  No     No     No      No     ⋯ No    No  No  \n",
       "5545 No  No  No  No     No  No  No     No     No      No     ⋯ No    No  No  \n",
       "5546 No  No  No  No     No  No  No     No     No      No     ⋯ No    No  No  \n",
       "5547 No  No  No  No     No  No  No     No     No      No     ⋯ No    No  No  \n",
       "5548 No  No  No  No     No  No  No     No     No      No     ⋯ No    No  No  \n",
       "5549 No  No  No  No     No  No  No     No     No      No     ⋯ No    No  No  \n",
       "5550 No  No  No  No     No  No  No     No     No      No     ⋯ No    No  No  \n",
       "5551 No  No  No  No     No  No  No     No     No      No     ⋯ No    No  No  \n",
       "5552 No  No  No  No     No  No  No     No     No      No     ⋯ No    No  No  \n",
       "5553 No  No  No  No     No  No  No     No     No      No     ⋯ No    No  No  \n",
       "5554 No  No  No  No     No  No  No     No     No      No     ⋯ No    No  No  \n",
       "5555 No  No  No  No     No  No  No     No     No      No     ⋯ No    No  No  \n",
       "5556 No  No  No  No     No  No  No     No     No      No     ⋯ No    No  No  \n",
       "5557 No  No  No  No     No  No  No     No     No      No     ⋯ No    No  No  \n",
       "5558 No  No  No  No     No  No  No     No     No      No     ⋯ No    No  No  \n",
       "5559 No  No  No  No     No  No  No     No     No      No     ⋯ No    No  No  \n",
       "     year yep yes yesterday yet yoga yup\n",
       "4170 No   No  No  No        No  No   No \n",
       "4171 No   No  No  No        No  No   No \n",
       "4172 No   No  No  No        No  No   No \n",
       "4173 No   No  No  No        No  No   No \n",
       "4174 No   No  No  No        No  No   No \n",
       "4175 No   No  No  No        No  No   No \n",
       "4176 No   No  No  No        No  No   No \n",
       "4177 No   No  No  No        No  No   No \n",
       "4178 No   No  No  No        No  No   No \n",
       "4179 No   No  No  No        No  No   No \n",
       "4180 No   No  No  No        No  No   No \n",
       "4181 No   No  No  No        No  No   No \n",
       "4182 No   No  No  No        No  No   No \n",
       "4183 No   No  No  No        No  No   No \n",
       "4184 No   No  No  No        No  No   No \n",
       "4185 No   No  No  No        No  No   No \n",
       "4186 No   No  No  No        No  No   No \n",
       "4187 No   No  No  No        No  No   No \n",
       "4188 No   No  No  No        No  No   No \n",
       "4189 No   No  No  No        No  No   No \n",
       "4190 No   No  No  No        No  No   No \n",
       "4191 No   No  No  No        No  No   No \n",
       "4192 No   No  No  No        No  No   No \n",
       "4193 No   No  No  No        No  No   No \n",
       "4194 No   No  No  No        No  No   No \n",
       "4195 No   No  No  No        No  No   No \n",
       "4196 No   No  No  No        No  No   No \n",
       "4197 No   No  No  No        No  No   Yes\n",
       "4198 No   No  No  No        No  No   No \n",
       "4199 No   No  No  No        No  No   No \n",
       "⋮    ⋮    ⋮   ⋮   ⋮         ⋮   ⋮    ⋮  \n",
       "5530 No   No  No  No        No  No   No \n",
       "5531 No   No  No  No        No  No   No \n",
       "5532 No   No  No  No        No  No   No \n",
       "5533 No   No  No  No        No  No   No \n",
       "5534 No   No  No  No        No  No   No \n",
       "5535 No   No  No  No        No  No   No \n",
       "5536 No   No  No  No        No  No   No \n",
       "5537 No   No  No  No        No  No   No \n",
       "5538 No   No  No  No        No  No   No \n",
       "5539 No   No  No  No        No  No   No \n",
       "5540 No   No  No  No        No  No   No \n",
       "5541 No   No  Yes No        No  No   No \n",
       "5542 No   No  No  No        No  No   No \n",
       "5543 No   No  No  No        No  No   No \n",
       "5544 No   No  No  No        No  No   No \n",
       "5545 No   No  No  No        No  No   No \n",
       "5546 No   No  No  No        No  No   No \n",
       "5547 No   No  No  No        No  No   No \n",
       "5548 No   No  No  No        No  No   No \n",
       "5549 No   No  No  No        No  No   No \n",
       "5550 No   No  No  No        No  No   No \n",
       "5551 No   No  No  No        No  No   No \n",
       "5552 No   No  No  No        No  No   No \n",
       "5553 No   No  No  No        No  No   No \n",
       "5554 No   No  No  No        No  No   No \n",
       "5555 No   No  No  No        No  No   No \n",
       "5556 No   No  No  No        No  No   No \n",
       "5557 No   No  No  No        No  No   No \n",
       "5558 No   No  No  No        No  No   No \n",
       "5559 No   No  No  No        No  No   No "
      ]
     },
     "metadata": {},
     "output_type": "display_data"
    }
   ],
   "source": [
    "sms_test"
   ]
  },
  {
   "cell_type": "markdown",
   "metadata": {},
   "source": [
    "For each document, we'll calculate the joint \"ham\" and \"spam\" likelihoods (and then posterior probs) of all terms that appear or do not appear in this document: \n",
    "\n",
    "For each of ham/spam likelihoods, if the term does not appear, the likelihood in the \"No\" row, if the term appears, the likelihood in the \"Yes\" row will be taken and multiplied:"
   ]
  },
  {
   "cell_type": "code",
   "execution_count": 84,
   "metadata": {},
   "outputs": [
    {
     "data": {
      "text/html": [
       "'Number of terms is 1139'"
      ],
      "text/latex": [
       "'Number of terms is 1139'"
      ],
      "text/markdown": [
       "'Number of terms is 1139'"
      ],
      "text/plain": [
       "[1] \"Number of terms is 1139\""
      ]
     },
     "metadata": {},
     "output_type": "display_data"
    },
    {
     "data": {
      "text/html": [
       "'Column titles are ham and spam'"
      ],
      "text/latex": [
       "'Column titles are ham and spam'"
      ],
      "text/markdown": [
       "'Column titles are ham and spam'"
      ],
      "text/plain": [
       "[1] \"Column titles are ham and spam\""
      ]
     },
     "metadata": {},
     "output_type": "display_data"
    },
    {
     "data": {
      "text/html": [
       "<table>\n",
       "<thead><tr><th></th><th scope=col>ham</th><th scope=col>spam</th></tr></thead>\n",
       "<tbody>\n",
       "\t<tr><th scope=row>ham</th><td> 99.9997%</td><td>  0.0003%</td></tr>\n",
       "\t<tr><th scope=row>ham</th><td> 99.9950%</td><td>  0.0050%</td></tr>\n",
       "\t<tr><th scope=row>ham</th><td> 99.9072%</td><td>  0.0928%</td></tr>\n",
       "\t<tr><th scope=row>ham</th><td> 99.9752%</td><td>  0.0248%</td></tr>\n",
       "\t<tr><th scope=row>spam</th><td>  0.0000%</td><td>100.0000%</td></tr>\n",
       "\t<tr><th scope=row>ham</th><td> 99.9049%</td><td>  0.0951%</td></tr>\n",
       "\t<tr><th scope=row>ham</th><td> 98.1235%</td><td>  1.8765%</td></tr>\n",
       "\t<tr><th scope=row>ham</th><td> 99.9946%</td><td>  0.0054%</td></tr>\n",
       "\t<tr><th scope=row>ham</th><td> 99.9960%</td><td>  0.0040%</td></tr>\n",
       "\t<tr><th scope=row>spam</th><td>  0.0000%</td><td>100.0000%</td></tr>\n",
       "\t<tr><th scope=row>ham</th><td> 99.9938%</td><td>  0.0062%</td></tr>\n",
       "\t<tr><th scope=row>ham</th><td> 99.9743%</td><td>  0.0257%</td></tr>\n",
       "\t<tr><th scope=row>ham</th><td> 99.9926%</td><td>  0.0074%</td></tr>\n",
       "\t<tr><th scope=row>spam</th><td>  0.0000%</td><td>100.0000%</td></tr>\n",
       "\t<tr><th scope=row>spam</th><td>  0.0000%</td><td>100.0000%</td></tr>\n",
       "\t<tr><th scope=row>ham</th><td> 99.9459%</td><td>  0.0541%</td></tr>\n",
       "\t<tr><th scope=row>ham</th><td>100.0000%</td><td>  0.0000%</td></tr>\n",
       "\t<tr><th scope=row>ham</th><td>100.0000%</td><td>  0.0000%</td></tr>\n",
       "\t<tr><th scope=row>ham</th><td> 99.9997%</td><td>  0.0003%</td></tr>\n",
       "\t<tr><th scope=row>ham</th><td> 83.7972%</td><td> 16.2028%</td></tr>\n",
       "\t<tr><th scope=row>ham</th><td> 99.9817%</td><td>  0.0183%</td></tr>\n",
       "\t<tr><th scope=row>ham</th><td> 99.8938%</td><td>  0.1062%</td></tr>\n",
       "\t<tr><th scope=row>ham</th><td>100.0000%</td><td>  0.0000%</td></tr>\n",
       "\t<tr><th scope=row>ham</th><td> 99.9250%</td><td>  0.0750%</td></tr>\n",
       "\t<tr><th scope=row>ham</th><td> 99.9999%</td><td>  0.0001%</td></tr>\n",
       "\t<tr><th scope=row>ham</th><td> 99.9702%</td><td>  0.0298%</td></tr>\n",
       "\t<tr><th scope=row>ham</th><td>100.0000%</td><td>  0.0000%</td></tr>\n",
       "\t<tr><th scope=row>ham</th><td> 99.9877%</td><td>  0.0123%</td></tr>\n",
       "\t<tr><th scope=row>ham</th><td> 99.7829%</td><td>  0.2171%</td></tr>\n",
       "\t<tr><th scope=row>ham</th><td> 97.3924%</td><td>  2.6076%</td></tr>\n",
       "\t<tr><th scope=row>⋮</th><td>⋮</td><td>⋮</td></tr>\n",
       "\t<tr><th scope=row>ham</th><td> 99.5875%</td><td>  0.4125%</td></tr>\n",
       "\t<tr><th scope=row>ham</th><td>100.0000%</td><td>  0.0000%</td></tr>\n",
       "\t<tr><th scope=row>ham</th><td> 99.9963%</td><td>  0.0037%</td></tr>\n",
       "\t<tr><th scope=row>spam</th><td>  0.0000%</td><td>100.0000%</td></tr>\n",
       "\t<tr><th scope=row>ham</th><td> 99.9995%</td><td>  0.0005%</td></tr>\n",
       "\t<tr><th scope=row>ham</th><td> 99.9729%</td><td>  0.0271%</td></tr>\n",
       "\t<tr><th scope=row>ham</th><td> 99.5875%</td><td>  0.4125%</td></tr>\n",
       "\t<tr><th scope=row>ham</th><td> 99.9998%</td><td>  0.0002%</td></tr>\n",
       "\t<tr><th scope=row>ham</th><td> 99.9137%</td><td>  0.0863%</td></tr>\n",
       "\t<tr><th scope=row>spam</th><td>  0.0000%</td><td>100.0000%</td></tr>\n",
       "\t<tr><th scope=row>ham</th><td> 99.9211%</td><td>  0.0789%</td></tr>\n",
       "\t<tr><th scope=row>ham</th><td> 99.9177%</td><td>  0.0823%</td></tr>\n",
       "\t<tr><th scope=row>ham</th><td> 99.8367%</td><td>  0.1633%</td></tr>\n",
       "\t<tr><th scope=row>ham</th><td> 99.9981%</td><td>  0.0019%</td></tr>\n",
       "\t<tr><th scope=row>ham</th><td> 99.9977%</td><td>  0.0023%</td></tr>\n",
       "\t<tr><th scope=row>ham</th><td> 99.9056%</td><td>  0.0944%</td></tr>\n",
       "\t<tr><th scope=row>ham</th><td> 99.5793%</td><td>  0.4207%</td></tr>\n",
       "\t<tr><th scope=row>ham</th><td> 98.6134%</td><td>  1.3866%</td></tr>\n",
       "\t<tr><th scope=row>ham</th><td> 99.9696%</td><td>  0.0304%</td></tr>\n",
       "\t<tr><th scope=row>ham</th><td> 99.9680%</td><td>  0.0320%</td></tr>\n",
       "\t<tr><th scope=row>ham</th><td> 99.9527%</td><td>  0.0473%</td></tr>\n",
       "\t<tr><th scope=row>ham</th><td> 99.9987%</td><td>  0.0013%</td></tr>\n",
       "\t<tr><th scope=row>spam</th><td>  4.0219%</td><td> 95.9781%</td></tr>\n",
       "\t<tr><th scope=row>ham</th><td> 99.9984%</td><td>  0.0016%</td></tr>\n",
       "\t<tr><th scope=row>ham</th><td> 62.7456%</td><td> 37.2544%</td></tr>\n",
       "\t<tr><th scope=row>ham</th><td>100.0000%</td><td>  0.0000%</td></tr>\n",
       "\t<tr><th scope=row>ham</th><td> 99.9970%</td><td>  0.0030%</td></tr>\n",
       "\t<tr><th scope=row>spam</th><td>  0.0002%</td><td> 99.9998%</td></tr>\n",
       "\t<tr><th scope=row>spam</th><td> 22.8209%</td><td> 77.1791%</td></tr>\n",
       "\t<tr><th scope=row>ham</th><td> 98.4959%</td><td>  1.5041%</td></tr>\n",
       "</tbody>\n",
       "</table>\n"
      ],
      "text/latex": [
       "\\begin{tabular}{r|ll}\n",
       "  & ham & spam\\\\\n",
       "\\hline\n",
       "\tham &  99.9997\\% &   0.0003\\%\\\\\n",
       "\tham &  99.9950\\% &   0.0050\\%\\\\\n",
       "\tham &  99.9072\\% &   0.0928\\%\\\\\n",
       "\tham &  99.9752\\% &   0.0248\\%\\\\\n",
       "\tspam &   0.0000\\% & 100.0000\\%\\\\\n",
       "\tham &  99.9049\\% &   0.0951\\%\\\\\n",
       "\tham &  98.1235\\% &   1.8765\\%\\\\\n",
       "\tham &  99.9946\\% &   0.0054\\%\\\\\n",
       "\tham &  99.9960\\% &   0.0040\\%\\\\\n",
       "\tspam &   0.0000\\% & 100.0000\\%\\\\\n",
       "\tham &  99.9938\\% &   0.0062\\%\\\\\n",
       "\tham &  99.9743\\% &   0.0257\\%\\\\\n",
       "\tham &  99.9926\\% &   0.0074\\%\\\\\n",
       "\tspam &   0.0000\\% & 100.0000\\%\\\\\n",
       "\tspam &   0.0000\\% & 100.0000\\%\\\\\n",
       "\tham &  99.9459\\% &   0.0541\\%\\\\\n",
       "\tham & 100.0000\\% &   0.0000\\%\\\\\n",
       "\tham & 100.0000\\% &   0.0000\\%\\\\\n",
       "\tham &  99.9997\\% &   0.0003\\%\\\\\n",
       "\tham &  83.7972\\% &  16.2028\\%\\\\\n",
       "\tham &  99.9817\\% &   0.0183\\%\\\\\n",
       "\tham &  99.8938\\% &   0.1062\\%\\\\\n",
       "\tham & 100.0000\\% &   0.0000\\%\\\\\n",
       "\tham &  99.9250\\% &   0.0750\\%\\\\\n",
       "\tham &  99.9999\\% &   0.0001\\%\\\\\n",
       "\tham &  99.9702\\% &   0.0298\\%\\\\\n",
       "\tham & 100.0000\\% &   0.0000\\%\\\\\n",
       "\tham &  99.9877\\% &   0.0123\\%\\\\\n",
       "\tham &  99.7829\\% &   0.2171\\%\\\\\n",
       "\tham &  97.3924\\% &   2.6076\\%\\\\\n",
       "\t⋮ & ⋮ & ⋮\\\\\n",
       "\tham &  99.5875\\% &   0.4125\\%\\\\\n",
       "\tham & 100.0000\\% &   0.0000\\%\\\\\n",
       "\tham &  99.9963\\% &   0.0037\\%\\\\\n",
       "\tspam &   0.0000\\% & 100.0000\\%\\\\\n",
       "\tham &  99.9995\\% &   0.0005\\%\\\\\n",
       "\tham &  99.9729\\% &   0.0271\\%\\\\\n",
       "\tham &  99.5875\\% &   0.4125\\%\\\\\n",
       "\tham &  99.9998\\% &   0.0002\\%\\\\\n",
       "\tham &  99.9137\\% &   0.0863\\%\\\\\n",
       "\tspam &   0.0000\\% & 100.0000\\%\\\\\n",
       "\tham &  99.9211\\% &   0.0789\\%\\\\\n",
       "\tham &  99.9177\\% &   0.0823\\%\\\\\n",
       "\tham &  99.8367\\% &   0.1633\\%\\\\\n",
       "\tham &  99.9981\\% &   0.0019\\%\\\\\n",
       "\tham &  99.9977\\% &   0.0023\\%\\\\\n",
       "\tham &  99.9056\\% &   0.0944\\%\\\\\n",
       "\tham &  99.5793\\% &   0.4207\\%\\\\\n",
       "\tham &  98.6134\\% &   1.3866\\%\\\\\n",
       "\tham &  99.9696\\% &   0.0304\\%\\\\\n",
       "\tham &  99.9680\\% &   0.0320\\%\\\\\n",
       "\tham &  99.9527\\% &   0.0473\\%\\\\\n",
       "\tham &  99.9987\\% &   0.0013\\%\\\\\n",
       "\tspam &   4.0219\\% &  95.9781\\%\\\\\n",
       "\tham &  99.9984\\% &   0.0016\\%\\\\\n",
       "\tham &  62.7456\\% &  37.2544\\%\\\\\n",
       "\tham & 100.0000\\% &   0.0000\\%\\\\\n",
       "\tham &  99.9970\\% &   0.0030\\%\\\\\n",
       "\tspam &   0.0002\\% &  99.9998\\%\\\\\n",
       "\tspam &  22.8209\\% &  77.1791\\%\\\\\n",
       "\tham &  98.4959\\% &   1.5041\\%\\\\\n",
       "\\end{tabular}\n"
      ],
      "text/markdown": [
       "\n",
       "| <!--/--> | ham | spam | \n",
       "|---|---|---|---|---|---|---|---|---|---|---|---|---|---|---|---|---|---|---|---|---|---|---|---|---|---|---|---|---|---|---|---|---|---|---|---|---|---|---|---|---|---|---|---|---|---|---|---|---|---|---|---|---|---|---|---|---|---|---|---|---|\n",
       "| ham |  99.9997% |   0.0003% | \n",
       "| ham |  99.9950% |   0.0050% | \n",
       "| ham |  99.9072% |   0.0928% | \n",
       "| ham |  99.9752% |   0.0248% | \n",
       "| spam |   0.0000% | 100.0000% | \n",
       "| ham |  99.9049% |   0.0951% | \n",
       "| ham |  98.1235% |   1.8765% | \n",
       "| ham |  99.9946% |   0.0054% | \n",
       "| ham |  99.9960% |   0.0040% | \n",
       "| spam |   0.0000% | 100.0000% | \n",
       "| ham |  99.9938% |   0.0062% | \n",
       "| ham |  99.9743% |   0.0257% | \n",
       "| ham |  99.9926% |   0.0074% | \n",
       "| spam |   0.0000% | 100.0000% | \n",
       "| spam |   0.0000% | 100.0000% | \n",
       "| ham |  99.9459% |   0.0541% | \n",
       "| ham | 100.0000% |   0.0000% | \n",
       "| ham | 100.0000% |   0.0000% | \n",
       "| ham |  99.9997% |   0.0003% | \n",
       "| ham |  83.7972% |  16.2028% | \n",
       "| ham |  99.9817% |   0.0183% | \n",
       "| ham |  99.8938% |   0.1062% | \n",
       "| ham | 100.0000% |   0.0000% | \n",
       "| ham |  99.9250% |   0.0750% | \n",
       "| ham |  99.9999% |   0.0001% | \n",
       "| ham |  99.9702% |   0.0298% | \n",
       "| ham | 100.0000% |   0.0000% | \n",
       "| ham |  99.9877% |   0.0123% | \n",
       "| ham |  99.7829% |   0.2171% | \n",
       "| ham |  97.3924% |   2.6076% | \n",
       "| ⋮ | ⋮ | ⋮ | \n",
       "| ham |  99.5875% |   0.4125% | \n",
       "| ham | 100.0000% |   0.0000% | \n",
       "| ham |  99.9963% |   0.0037% | \n",
       "| spam |   0.0000% | 100.0000% | \n",
       "| ham |  99.9995% |   0.0005% | \n",
       "| ham |  99.9729% |   0.0271% | \n",
       "| ham |  99.5875% |   0.4125% | \n",
       "| ham |  99.9998% |   0.0002% | \n",
       "| ham |  99.9137% |   0.0863% | \n",
       "| spam |   0.0000% | 100.0000% | \n",
       "| ham |  99.9211% |   0.0789% | \n",
       "| ham |  99.9177% |   0.0823% | \n",
       "| ham |  99.8367% |   0.1633% | \n",
       "| ham |  99.9981% |   0.0019% | \n",
       "| ham |  99.9977% |   0.0023% | \n",
       "| ham |  99.9056% |   0.0944% | \n",
       "| ham |  99.5793% |   0.4207% | \n",
       "| ham |  98.6134% |   1.3866% | \n",
       "| ham |  99.9696% |   0.0304% | \n",
       "| ham |  99.9680% |   0.0320% | \n",
       "| ham |  99.9527% |   0.0473% | \n",
       "| ham |  99.9987% |   0.0013% | \n",
       "| spam |   4.0219% |  95.9781% | \n",
       "| ham |  99.9984% |   0.0016% | \n",
       "| ham |  62.7456% |  37.2544% | \n",
       "| ham | 100.0000% |   0.0000% | \n",
       "| ham |  99.9970% |   0.0030% | \n",
       "| spam |   0.0002% |  99.9998% | \n",
       "| spam |  22.8209% |  77.1791% | \n",
       "| ham |  98.4959% |   1.5041% | \n",
       "\n",
       "\n"
      ],
      "text/plain": [
       "     ham       spam     \n",
       "ham   99.9997%   0.0003%\n",
       "ham   99.9950%   0.0050%\n",
       "ham   99.9072%   0.0928%\n",
       "ham   99.9752%   0.0248%\n",
       "spam   0.0000% 100.0000%\n",
       "ham   99.9049%   0.0951%\n",
       "ham   98.1235%   1.8765%\n",
       "ham   99.9946%   0.0054%\n",
       "ham   99.9960%   0.0040%\n",
       "spam   0.0000% 100.0000%\n",
       "ham   99.9938%   0.0062%\n",
       "ham   99.9743%   0.0257%\n",
       "ham   99.9926%   0.0074%\n",
       "spam   0.0000% 100.0000%\n",
       "spam   0.0000% 100.0000%\n",
       "ham   99.9459%   0.0541%\n",
       "ham  100.0000%   0.0000%\n",
       "ham  100.0000%   0.0000%\n",
       "ham   99.9997%   0.0003%\n",
       "ham   83.7972%  16.2028%\n",
       "ham   99.9817%   0.0183%\n",
       "ham   99.8938%   0.1062%\n",
       "ham  100.0000%   0.0000%\n",
       "ham   99.9250%   0.0750%\n",
       "ham   99.9999%   0.0001%\n",
       "ham   99.9702%   0.0298%\n",
       "ham  100.0000%   0.0000%\n",
       "ham   99.9877%   0.0123%\n",
       "ham   99.7829%   0.2171%\n",
       "ham   97.3924%   2.6076%\n",
       "⋮    ⋮         ⋮        \n",
       "ham   99.5875%   0.4125%\n",
       "ham  100.0000%   0.0000%\n",
       "ham   99.9963%   0.0037%\n",
       "spam   0.0000% 100.0000%\n",
       "ham   99.9995%   0.0005%\n",
       "ham   99.9729%   0.0271%\n",
       "ham   99.5875%   0.4125%\n",
       "ham   99.9998%   0.0002%\n",
       "ham   99.9137%   0.0863%\n",
       "spam   0.0000% 100.0000%\n",
       "ham   99.9211%   0.0789%\n",
       "ham   99.9177%   0.0823%\n",
       "ham   99.8367%   0.1633%\n",
       "ham   99.9981%   0.0019%\n",
       "ham   99.9977%   0.0023%\n",
       "ham   99.9056%   0.0944%\n",
       "ham   99.5793%   0.4207%\n",
       "ham   98.6134%   1.3866%\n",
       "ham   99.9696%   0.0304%\n",
       "ham   99.9680%   0.0320%\n",
       "ham   99.9527%   0.0473%\n",
       "ham   99.9987%   0.0013%\n",
       "spam   4.0219%  95.9781%\n",
       "ham   99.9984%   0.0016%\n",
       "ham   62.7456%  37.2544%\n",
       "ham  100.0000%   0.0000%\n",
       "ham   99.9970%   0.0030%\n",
       "spam   0.0002%  99.9998%\n",
       "spam  22.8209%  77.1791%\n",
       "ham   98.4959%   1.5041%"
      ]
     },
     "metadata": {},
     "output_type": "display_data"
    }
   ],
   "source": [
    "termsn <- ncol(mat_spam_all_ham)\n",
    "sprintf(\"Number of terms is %s\", termsn)\n",
    "\n",
    "# This will give posterior probabilities of ham and spam for each document:\n",
    "# Note that in the second (third) row, \"ham\" (\"spam\") likelihoods from respective No/Yes rows of each term column of are subsetted\n",
    "posterior <- t(apply(sms_test, 1, function(x)\n",
    "    c(prod(mat_spam_all_ham[cbind((x == \"Yes\") + 1, 1:termsn)]),\n",
    "      prod(mat_spam_all_spam[cbind((x == \"Yes\") + 1, 1:termsn)])))) %>%  \n",
    "    prop.table(margin = 1)\n",
    "                     \n",
    "# this gives \"ham and spam\"\n",
    "names_hs <- names(posterior_mat2)\n",
    "sprintf(\"Column titles are %s\", paste(names_hs, collapse = \" and \"))\n",
    "\n",
    "# this will determine whether ham or spam posterior probability is higher\n",
    "# and hence classify the document accordingly:\n",
    "sms_test_pred_manual <- apply(posterior, 1, function(x) names_hs[which.max(x)])\n",
    "\n",
    "# format the posterior probabilities with appropriate percent decimals, column and row names:\n",
    "sms_test_pred_manual_percent <- posterior %>%\n",
    "    apply(2,scales::percent, accuracy = 0.0001, trim = F) %>%\n",
    "    magrittr::set_colnames(names_hs) %>%\n",
    "    magrittr::set_rownames(sms_test_pred_manual)\n",
    "\n",
    "sms_test_pred_manual_percent"
   ]
  },
  {
   "cell_type": "markdown",
   "metadata": {},
   "source": [
    "### Prediction with predict() function"
   ]
  },
  {
   "cell_type": "markdown",
   "metadata": {},
   "source": [
    "We usually do not manually go through the steps above to interpret the model:\n",
    "\n",
    "We can easily apply the model on the test set to calculate predictions:"
   ]
  },
  {
   "cell_type": "code",
   "execution_count": 85,
   "metadata": {},
   "outputs": [],
   "source": [
    "sms_test_pred <- predict(sms_classifier, sms_test)"
   ]
  },
  {
   "cell_type": "markdown",
   "metadata": {},
   "source": [
    "sms_test_pred is a factor vector of levels \"ham\" and \"spam\":"
   ]
  },
  {
   "cell_type": "code",
   "execution_count": 86,
   "metadata": {},
   "outputs": [
    {
     "name": "stdout",
     "output_type": "stream",
     "text": [
      " Factor w/ 2 levels \"ham\",\"spam\": 1 1 1 1 2 1 1 1 1 2 ...\n"
     ]
    }
   ],
   "source": [
    "str(sms_test_pred)"
   ]
  },
  {
   "cell_type": "markdown",
   "metadata": {},
   "source": [
    "Just as sms_test_labels is:"
   ]
  },
  {
   "cell_type": "code",
   "execution_count": 87,
   "metadata": {},
   "outputs": [
    {
     "name": "stdout",
     "output_type": "stream",
     "text": [
      " Factor w/ 2 levels \"ham\",\"spam\": 1 1 1 1 2 1 1 1 1 2 ...\n"
     ]
    }
   ],
   "source": [
    "str(sms_test_labels)"
   ]
  },
  {
   "cell_type": "markdown",
   "metadata": {},
   "source": [
    "From the predict function we can also get the ham/spam posterior probabilities for each document with the \"raw\" option for type argument:"
   ]
  },
  {
   "cell_type": "code",
   "execution_count": 88,
   "metadata": {},
   "outputs": [],
   "source": [
    "sms_test_pred_raw <- predict(sms_classifier, sms_test, type = \"raw\")"
   ]
  },
  {
   "cell_type": "code",
   "execution_count": 89,
   "metadata": {},
   "outputs": [
    {
     "name": "stdout",
     "output_type": "stream",
     "text": [
      " num [1:1390, 1:2] 1.00 1.00 1.00 1.00 4.29e-10 ...\n",
      " - attr(*, \"dimnames\")=List of 2\n",
      "  ..$ : NULL\n",
      "  ..$ : chr [1:2] \"ham\" \"spam\"\n"
     ]
    }
   ],
   "source": [
    "str(sms_test_pred_raw)"
   ]
  },
  {
   "cell_type": "markdown",
   "metadata": {},
   "source": [
    "Let's print this matrix nicely:"
   ]
  },
  {
   "cell_type": "code",
   "execution_count": 90,
   "metadata": {},
   "outputs": [
    {
     "data": {
      "text/html": [
       "<table>\n",
       "<thead><tr><th></th><th scope=col>ham</th><th scope=col>spam</th></tr></thead>\n",
       "<tbody>\n",
       "\t<tr><th scope=row>ham</th><td>100.0000%</td><td>  0.0000%</td></tr>\n",
       "\t<tr><th scope=row>ham</th><td> 99.9992%</td><td>  0.0008%</td></tr>\n",
       "\t<tr><th scope=row>ham</th><td> 99.9855%</td><td>  0.0145%</td></tr>\n",
       "\t<tr><th scope=row>ham</th><td> 99.9961%</td><td>  0.0039%</td></tr>\n",
       "\t<tr><th scope=row>spam</th><td>  0.0000%</td><td>100.0000%</td></tr>\n",
       "\t<tr><th scope=row>ham</th><td> 99.9851%</td><td>  0.0149%</td></tr>\n",
       "\t<tr><th scope=row>ham</th><td> 99.7017%</td><td>  0.2983%</td></tr>\n",
       "\t<tr><th scope=row>ham</th><td> 99.9992%</td><td>  0.0008%</td></tr>\n",
       "\t<tr><th scope=row>ham</th><td> 99.9994%</td><td>  0.0006%</td></tr>\n",
       "\t<tr><th scope=row>spam</th><td>  0.0000%</td><td>100.0000%</td></tr>\n",
       "\t<tr><th scope=row>ham</th><td> 99.9990%</td><td>  0.0010%</td></tr>\n",
       "\t<tr><th scope=row>ham</th><td> 99.9960%</td><td>  0.0040%</td></tr>\n",
       "\t<tr><th scope=row>ham</th><td> 99.9988%</td><td>  0.0012%</td></tr>\n",
       "\t<tr><th scope=row>spam</th><td>  0.0000%</td><td>100.0000%</td></tr>\n",
       "\t<tr><th scope=row>spam</th><td>  0.0000%</td><td>100.0000%</td></tr>\n",
       "\t<tr><th scope=row>ham</th><td> 99.9915%</td><td>  0.0085%</td></tr>\n",
       "\t<tr><th scope=row>ham</th><td>100.0000%</td><td>  0.0000%</td></tr>\n",
       "\t<tr><th scope=row>ham</th><td>100.0000%</td><td>  0.0000%</td></tr>\n",
       "\t<tr><th scope=row>ham</th><td>100.0000%</td><td>  0.0000%</td></tr>\n",
       "\t<tr><th scope=row>ham</th><td> 96.4924%</td><td>  3.5076%</td></tr>\n",
       "\t<tr><th scope=row>ham</th><td> 99.9971%</td><td>  0.0029%</td></tr>\n",
       "\t<tr><th scope=row>ham</th><td> 99.9834%</td><td>  0.0166%</td></tr>\n",
       "\t<tr><th scope=row>ham</th><td>100.0000%</td><td>  0.0000%</td></tr>\n",
       "\t<tr><th scope=row>ham</th><td> 99.9883%</td><td>  0.0117%</td></tr>\n",
       "\t<tr><th scope=row>ham</th><td>100.0000%</td><td>  0.0000%</td></tr>\n",
       "\t<tr><th scope=row>ham</th><td> 99.9953%</td><td>  0.0047%</td></tr>\n",
       "\t<tr><th scope=row>ham</th><td>100.0000%</td><td>  0.0000%</td></tr>\n",
       "\t<tr><th scope=row>ham</th><td> 99.9981%</td><td>  0.0019%</td></tr>\n",
       "\t<tr><th scope=row>ham</th><td> 99.9660%</td><td>  0.0340%</td></tr>\n",
       "\t<tr><th scope=row>ham</th><td> 99.5829%</td><td>  0.4171%</td></tr>\n",
       "\t<tr><th scope=row>⋮</th><td>⋮</td><td>⋮</td></tr>\n",
       "\t<tr><th scope=row>ham</th><td> 99.9352%</td><td>  0.0648%</td></tr>\n",
       "\t<tr><th scope=row>ham</th><td>100.0000%</td><td>  0.0000%</td></tr>\n",
       "\t<tr><th scope=row>ham</th><td> 99.9994%</td><td>  0.0006%</td></tr>\n",
       "\t<tr><th scope=row>spam</th><td>  0.0000%</td><td>100.0000%</td></tr>\n",
       "\t<tr><th scope=row>ham</th><td> 99.9999%</td><td>  0.0001%</td></tr>\n",
       "\t<tr><th scope=row>ham</th><td> 99.9958%</td><td>  0.0042%</td></tr>\n",
       "\t<tr><th scope=row>ham</th><td> 99.9352%</td><td>  0.0648%</td></tr>\n",
       "\t<tr><th scope=row>ham</th><td>100.0000%</td><td>  0.0000%</td></tr>\n",
       "\t<tr><th scope=row>ham</th><td> 99.9865%</td><td>  0.0135%</td></tr>\n",
       "\t<tr><th scope=row>spam</th><td>  0.0000%</td><td>100.0000%</td></tr>\n",
       "\t<tr><th scope=row>ham</th><td> 99.9876%</td><td>  0.0124%</td></tr>\n",
       "\t<tr><th scope=row>ham</th><td> 99.9871%</td><td>  0.0129%</td></tr>\n",
       "\t<tr><th scope=row>ham</th><td> 99.9744%</td><td>  0.0256%</td></tr>\n",
       "\t<tr><th scope=row>ham</th><td> 99.9997%</td><td>  0.0003%</td></tr>\n",
       "\t<tr><th scope=row>ham</th><td> 99.9996%</td><td>  0.0004%</td></tr>\n",
       "\t<tr><th scope=row>ham</th><td> 99.9852%</td><td>  0.0148%</td></tr>\n",
       "\t<tr><th scope=row>ham</th><td> 99.9339%</td><td>  0.0661%</td></tr>\n",
       "\t<tr><th scope=row>ham</th><td> 99.7805%</td><td>  0.2195%</td></tr>\n",
       "\t<tr><th scope=row>ham</th><td> 99.9952%</td><td>  0.0048%</td></tr>\n",
       "\t<tr><th scope=row>ham</th><td> 99.9950%</td><td>  0.0050%</td></tr>\n",
       "\t<tr><th scope=row>ham</th><td> 99.9926%</td><td>  0.0074%</td></tr>\n",
       "\t<tr><th scope=row>ham</th><td> 99.9998%</td><td>  0.0002%</td></tr>\n",
       "\t<tr><th scope=row>spam</th><td> 21.1262%</td><td> 78.8738%</td></tr>\n",
       "\t<tr><th scope=row>ham</th><td> 99.9997%</td><td>  0.0003%</td></tr>\n",
       "\t<tr><th scope=row>ham</th><td> 89.9586%</td><td> 10.0414%</td></tr>\n",
       "\t<tr><th scope=row>ham</th><td>100.0000%</td><td>  0.0000%</td></tr>\n",
       "\t<tr><th scope=row>ham</th><td> 99.9995%</td><td>  0.0005%</td></tr>\n",
       "\t<tr><th scope=row>spam</th><td>  0.0008%</td><td> 99.9992%</td></tr>\n",
       "\t<tr><th scope=row>ham</th><td> 65.3978%</td><td> 34.6022%</td></tr>\n",
       "\t<tr><th scope=row>ham</th><td> 99.7617%</td><td>  0.2383%</td></tr>\n",
       "</tbody>\n",
       "</table>\n"
      ],
      "text/latex": [
       "\\begin{tabular}{r|ll}\n",
       "  & ham & spam\\\\\n",
       "\\hline\n",
       "\tham & 100.0000\\% &   0.0000\\%\\\\\n",
       "\tham &  99.9992\\% &   0.0008\\%\\\\\n",
       "\tham &  99.9855\\% &   0.0145\\%\\\\\n",
       "\tham &  99.9961\\% &   0.0039\\%\\\\\n",
       "\tspam &   0.0000\\% & 100.0000\\%\\\\\n",
       "\tham &  99.9851\\% &   0.0149\\%\\\\\n",
       "\tham &  99.7017\\% &   0.2983\\%\\\\\n",
       "\tham &  99.9992\\% &   0.0008\\%\\\\\n",
       "\tham &  99.9994\\% &   0.0006\\%\\\\\n",
       "\tspam &   0.0000\\% & 100.0000\\%\\\\\n",
       "\tham &  99.9990\\% &   0.0010\\%\\\\\n",
       "\tham &  99.9960\\% &   0.0040\\%\\\\\n",
       "\tham &  99.9988\\% &   0.0012\\%\\\\\n",
       "\tspam &   0.0000\\% & 100.0000\\%\\\\\n",
       "\tspam &   0.0000\\% & 100.0000\\%\\\\\n",
       "\tham &  99.9915\\% &   0.0085\\%\\\\\n",
       "\tham & 100.0000\\% &   0.0000\\%\\\\\n",
       "\tham & 100.0000\\% &   0.0000\\%\\\\\n",
       "\tham & 100.0000\\% &   0.0000\\%\\\\\n",
       "\tham &  96.4924\\% &   3.5076\\%\\\\\n",
       "\tham &  99.9971\\% &   0.0029\\%\\\\\n",
       "\tham &  99.9834\\% &   0.0166\\%\\\\\n",
       "\tham & 100.0000\\% &   0.0000\\%\\\\\n",
       "\tham &  99.9883\\% &   0.0117\\%\\\\\n",
       "\tham & 100.0000\\% &   0.0000\\%\\\\\n",
       "\tham &  99.9953\\% &   0.0047\\%\\\\\n",
       "\tham & 100.0000\\% &   0.0000\\%\\\\\n",
       "\tham &  99.9981\\% &   0.0019\\%\\\\\n",
       "\tham &  99.9660\\% &   0.0340\\%\\\\\n",
       "\tham &  99.5829\\% &   0.4171\\%\\\\\n",
       "\t⋮ & ⋮ & ⋮\\\\\n",
       "\tham &  99.9352\\% &   0.0648\\%\\\\\n",
       "\tham & 100.0000\\% &   0.0000\\%\\\\\n",
       "\tham &  99.9994\\% &   0.0006\\%\\\\\n",
       "\tspam &   0.0000\\% & 100.0000\\%\\\\\n",
       "\tham &  99.9999\\% &   0.0001\\%\\\\\n",
       "\tham &  99.9958\\% &   0.0042\\%\\\\\n",
       "\tham &  99.9352\\% &   0.0648\\%\\\\\n",
       "\tham & 100.0000\\% &   0.0000\\%\\\\\n",
       "\tham &  99.9865\\% &   0.0135\\%\\\\\n",
       "\tspam &   0.0000\\% & 100.0000\\%\\\\\n",
       "\tham &  99.9876\\% &   0.0124\\%\\\\\n",
       "\tham &  99.9871\\% &   0.0129\\%\\\\\n",
       "\tham &  99.9744\\% &   0.0256\\%\\\\\n",
       "\tham &  99.9997\\% &   0.0003\\%\\\\\n",
       "\tham &  99.9996\\% &   0.0004\\%\\\\\n",
       "\tham &  99.9852\\% &   0.0148\\%\\\\\n",
       "\tham &  99.9339\\% &   0.0661\\%\\\\\n",
       "\tham &  99.7805\\% &   0.2195\\%\\\\\n",
       "\tham &  99.9952\\% &   0.0048\\%\\\\\n",
       "\tham &  99.9950\\% &   0.0050\\%\\\\\n",
       "\tham &  99.9926\\% &   0.0074\\%\\\\\n",
       "\tham &  99.9998\\% &   0.0002\\%\\\\\n",
       "\tspam &  21.1262\\% &  78.8738\\%\\\\\n",
       "\tham &  99.9997\\% &   0.0003\\%\\\\\n",
       "\tham &  89.9586\\% &  10.0414\\%\\\\\n",
       "\tham & 100.0000\\% &   0.0000\\%\\\\\n",
       "\tham &  99.9995\\% &   0.0005\\%\\\\\n",
       "\tspam &   0.0008\\% &  99.9992\\%\\\\\n",
       "\tham &  65.3978\\% &  34.6022\\%\\\\\n",
       "\tham &  99.7617\\% &   0.2383\\%\\\\\n",
       "\\end{tabular}\n"
      ],
      "text/markdown": [
       "\n",
       "| <!--/--> | ham | spam | \n",
       "|---|---|---|---|---|---|---|---|---|---|---|---|---|---|---|---|---|---|---|---|---|---|---|---|---|---|---|---|---|---|---|---|---|---|---|---|---|---|---|---|---|---|---|---|---|---|---|---|---|---|---|---|---|---|---|---|---|---|---|---|---|\n",
       "| ham | 100.0000% |   0.0000% | \n",
       "| ham |  99.9992% |   0.0008% | \n",
       "| ham |  99.9855% |   0.0145% | \n",
       "| ham |  99.9961% |   0.0039% | \n",
       "| spam |   0.0000% | 100.0000% | \n",
       "| ham |  99.9851% |   0.0149% | \n",
       "| ham |  99.7017% |   0.2983% | \n",
       "| ham |  99.9992% |   0.0008% | \n",
       "| ham |  99.9994% |   0.0006% | \n",
       "| spam |   0.0000% | 100.0000% | \n",
       "| ham |  99.9990% |   0.0010% | \n",
       "| ham |  99.9960% |   0.0040% | \n",
       "| ham |  99.9988% |   0.0012% | \n",
       "| spam |   0.0000% | 100.0000% | \n",
       "| spam |   0.0000% | 100.0000% | \n",
       "| ham |  99.9915% |   0.0085% | \n",
       "| ham | 100.0000% |   0.0000% | \n",
       "| ham | 100.0000% |   0.0000% | \n",
       "| ham | 100.0000% |   0.0000% | \n",
       "| ham |  96.4924% |   3.5076% | \n",
       "| ham |  99.9971% |   0.0029% | \n",
       "| ham |  99.9834% |   0.0166% | \n",
       "| ham | 100.0000% |   0.0000% | \n",
       "| ham |  99.9883% |   0.0117% | \n",
       "| ham | 100.0000% |   0.0000% | \n",
       "| ham |  99.9953% |   0.0047% | \n",
       "| ham | 100.0000% |   0.0000% | \n",
       "| ham |  99.9981% |   0.0019% | \n",
       "| ham |  99.9660% |   0.0340% | \n",
       "| ham |  99.5829% |   0.4171% | \n",
       "| ⋮ | ⋮ | ⋮ | \n",
       "| ham |  99.9352% |   0.0648% | \n",
       "| ham | 100.0000% |   0.0000% | \n",
       "| ham |  99.9994% |   0.0006% | \n",
       "| spam |   0.0000% | 100.0000% | \n",
       "| ham |  99.9999% |   0.0001% | \n",
       "| ham |  99.9958% |   0.0042% | \n",
       "| ham |  99.9352% |   0.0648% | \n",
       "| ham | 100.0000% |   0.0000% | \n",
       "| ham |  99.9865% |   0.0135% | \n",
       "| spam |   0.0000% | 100.0000% | \n",
       "| ham |  99.9876% |   0.0124% | \n",
       "| ham |  99.9871% |   0.0129% | \n",
       "| ham |  99.9744% |   0.0256% | \n",
       "| ham |  99.9997% |   0.0003% | \n",
       "| ham |  99.9996% |   0.0004% | \n",
       "| ham |  99.9852% |   0.0148% | \n",
       "| ham |  99.9339% |   0.0661% | \n",
       "| ham |  99.7805% |   0.2195% | \n",
       "| ham |  99.9952% |   0.0048% | \n",
       "| ham |  99.9950% |   0.0050% | \n",
       "| ham |  99.9926% |   0.0074% | \n",
       "| ham |  99.9998% |   0.0002% | \n",
       "| spam |  21.1262% |  78.8738% | \n",
       "| ham |  99.9997% |   0.0003% | \n",
       "| ham |  89.9586% |  10.0414% | \n",
       "| ham | 100.0000% |   0.0000% | \n",
       "| ham |  99.9995% |   0.0005% | \n",
       "| spam |   0.0008% |  99.9992% | \n",
       "| ham |  65.3978% |  34.6022% | \n",
       "| ham |  99.7617% |   0.2383% | \n",
       "\n",
       "\n"
      ],
      "text/plain": [
       "     ham       spam     \n",
       "ham  100.0000%   0.0000%\n",
       "ham   99.9992%   0.0008%\n",
       "ham   99.9855%   0.0145%\n",
       "ham   99.9961%   0.0039%\n",
       "spam   0.0000% 100.0000%\n",
       "ham   99.9851%   0.0149%\n",
       "ham   99.7017%   0.2983%\n",
       "ham   99.9992%   0.0008%\n",
       "ham   99.9994%   0.0006%\n",
       "spam   0.0000% 100.0000%\n",
       "ham   99.9990%   0.0010%\n",
       "ham   99.9960%   0.0040%\n",
       "ham   99.9988%   0.0012%\n",
       "spam   0.0000% 100.0000%\n",
       "spam   0.0000% 100.0000%\n",
       "ham   99.9915%   0.0085%\n",
       "ham  100.0000%   0.0000%\n",
       "ham  100.0000%   0.0000%\n",
       "ham  100.0000%   0.0000%\n",
       "ham   96.4924%   3.5076%\n",
       "ham   99.9971%   0.0029%\n",
       "ham   99.9834%   0.0166%\n",
       "ham  100.0000%   0.0000%\n",
       "ham   99.9883%   0.0117%\n",
       "ham  100.0000%   0.0000%\n",
       "ham   99.9953%   0.0047%\n",
       "ham  100.0000%   0.0000%\n",
       "ham   99.9981%   0.0019%\n",
       "ham   99.9660%   0.0340%\n",
       "ham   99.5829%   0.4171%\n",
       "⋮    ⋮         ⋮        \n",
       "ham   99.9352%   0.0648%\n",
       "ham  100.0000%   0.0000%\n",
       "ham   99.9994%   0.0006%\n",
       "spam   0.0000% 100.0000%\n",
       "ham   99.9999%   0.0001%\n",
       "ham   99.9958%   0.0042%\n",
       "ham   99.9352%   0.0648%\n",
       "ham  100.0000%   0.0000%\n",
       "ham   99.9865%   0.0135%\n",
       "spam   0.0000% 100.0000%\n",
       "ham   99.9876%   0.0124%\n",
       "ham   99.9871%   0.0129%\n",
       "ham   99.9744%   0.0256%\n",
       "ham   99.9997%   0.0003%\n",
       "ham   99.9996%   0.0004%\n",
       "ham   99.9852%   0.0148%\n",
       "ham   99.9339%   0.0661%\n",
       "ham   99.7805%   0.2195%\n",
       "ham   99.9952%   0.0048%\n",
       "ham   99.9950%   0.0050%\n",
       "ham   99.9926%   0.0074%\n",
       "ham   99.9998%   0.0002%\n",
       "spam  21.1262%  78.8738%\n",
       "ham   99.9997%   0.0003%\n",
       "ham   89.9586%  10.0414%\n",
       "ham  100.0000%   0.0000%\n",
       "ham   99.9995%   0.0005%\n",
       "spam   0.0008%  99.9992%\n",
       "ham   65.3978%  34.6022%\n",
       "ham   99.7617%   0.2383%"
      ]
     },
     "metadata": {},
     "output_type": "display_data"
    }
   ],
   "source": [
    "# ham and spam\n",
    "names_hs <- names(posterior_mat2)\n",
    "\n",
    "# set percent format, rownames and column names\n",
    "sms_test_pred_raw_percent <- sms_test_pred_raw %>%     \n",
    "    apply(2,scales::percent, accuracy = 0.0001, trim = F) %>%\n",
    "    magrittr::set_colnames(names_hs) %>%\n",
    "    magrittr::set_rownames(apply(sms_test_pred_raw, 1, function(x) names_hs[which.max(x)]))\n",
    "\n",
    "sms_test_pred_raw_percent"
   ]
  },
  {
   "cell_type": "markdown",
   "metadata": {},
   "source": [
    "Now let's compare the ham/spam classifications we did manually and through the predict function:"
   ]
  },
  {
   "cell_type": "code",
   "execution_count": 91,
   "metadata": {},
   "outputs": [
    {
     "data": {
      "text/html": [
       "<table>\n",
       "<thead><tr><th></th><th scope=col>as.factor.sms_test_pred_manual.</th><th scope=col>sms_test_pred</th></tr></thead>\n",
       "<tbody>\n",
       "\t<tr><th scope=row>4170</th><td>ham </td><td>ham </td></tr>\n",
       "\t<tr><th scope=row>4171</th><td>ham </td><td>ham </td></tr>\n",
       "\t<tr><th scope=row>4172</th><td>ham </td><td>ham </td></tr>\n",
       "\t<tr><th scope=row>4173</th><td>ham </td><td>ham </td></tr>\n",
       "\t<tr><th scope=row>4174</th><td>spam</td><td>spam</td></tr>\n",
       "\t<tr><th scope=row>4175</th><td>ham </td><td>ham </td></tr>\n",
       "\t<tr><th scope=row>4176</th><td>ham </td><td>ham </td></tr>\n",
       "\t<tr><th scope=row>4177</th><td>ham </td><td>ham </td></tr>\n",
       "\t<tr><th scope=row>4178</th><td>ham </td><td>ham </td></tr>\n",
       "\t<tr><th scope=row>4179</th><td>spam</td><td>spam</td></tr>\n",
       "\t<tr><th scope=row>4180</th><td>ham </td><td>ham </td></tr>\n",
       "\t<tr><th scope=row>4181</th><td>ham </td><td>ham </td></tr>\n",
       "\t<tr><th scope=row>4182</th><td>ham </td><td>ham </td></tr>\n",
       "\t<tr><th scope=row>4183</th><td>spam</td><td>spam</td></tr>\n",
       "\t<tr><th scope=row>4184</th><td>spam</td><td>spam</td></tr>\n",
       "\t<tr><th scope=row>4185</th><td>ham </td><td>ham </td></tr>\n",
       "\t<tr><th scope=row>4186</th><td>ham </td><td>ham </td></tr>\n",
       "\t<tr><th scope=row>4187</th><td>ham </td><td>ham </td></tr>\n",
       "\t<tr><th scope=row>4188</th><td>ham </td><td>ham </td></tr>\n",
       "\t<tr><th scope=row>4189</th><td>ham </td><td>ham </td></tr>\n",
       "\t<tr><th scope=row>4190</th><td>ham </td><td>ham </td></tr>\n",
       "\t<tr><th scope=row>4191</th><td>ham </td><td>ham </td></tr>\n",
       "\t<tr><th scope=row>4192</th><td>ham </td><td>ham </td></tr>\n",
       "\t<tr><th scope=row>4193</th><td>ham </td><td>ham </td></tr>\n",
       "\t<tr><th scope=row>4194</th><td>ham </td><td>ham </td></tr>\n",
       "\t<tr><th scope=row>4195</th><td>ham </td><td>ham </td></tr>\n",
       "\t<tr><th scope=row>4196</th><td>ham </td><td>ham </td></tr>\n",
       "\t<tr><th scope=row>4197</th><td>ham </td><td>ham </td></tr>\n",
       "\t<tr><th scope=row>4198</th><td>ham </td><td>ham </td></tr>\n",
       "\t<tr><th scope=row>4199</th><td>ham </td><td>ham </td></tr>\n",
       "\t<tr><th scope=row>⋮</th><td>⋮</td><td>⋮</td></tr>\n",
       "\t<tr><th scope=row>5530</th><td>ham </td><td>ham </td></tr>\n",
       "\t<tr><th scope=row>5531</th><td>ham </td><td>ham </td></tr>\n",
       "\t<tr><th scope=row>5532</th><td>ham </td><td>ham </td></tr>\n",
       "\t<tr><th scope=row>5533</th><td>spam</td><td>spam</td></tr>\n",
       "\t<tr><th scope=row>5534</th><td>ham </td><td>ham </td></tr>\n",
       "\t<tr><th scope=row>5535</th><td>ham </td><td>ham </td></tr>\n",
       "\t<tr><th scope=row>5536</th><td>ham </td><td>ham </td></tr>\n",
       "\t<tr><th scope=row>5537</th><td>ham </td><td>ham </td></tr>\n",
       "\t<tr><th scope=row>5538</th><td>ham </td><td>ham </td></tr>\n",
       "\t<tr><th scope=row>5539</th><td>spam</td><td>spam</td></tr>\n",
       "\t<tr><th scope=row>5540</th><td>ham </td><td>ham </td></tr>\n",
       "\t<tr><th scope=row>5541</th><td>ham </td><td>ham </td></tr>\n",
       "\t<tr><th scope=row>5542</th><td>ham </td><td>ham </td></tr>\n",
       "\t<tr><th scope=row>5543</th><td>ham </td><td>ham </td></tr>\n",
       "\t<tr><th scope=row>5544</th><td>ham </td><td>ham </td></tr>\n",
       "\t<tr><th scope=row>5545</th><td>ham </td><td>ham </td></tr>\n",
       "\t<tr><th scope=row>5546</th><td>ham </td><td>ham </td></tr>\n",
       "\t<tr><th scope=row>5547</th><td>ham </td><td>ham </td></tr>\n",
       "\t<tr><th scope=row>5548</th><td>ham </td><td>ham </td></tr>\n",
       "\t<tr><th scope=row>5549</th><td>ham </td><td>ham </td></tr>\n",
       "\t<tr><th scope=row>5550</th><td>ham </td><td>ham </td></tr>\n",
       "\t<tr><th scope=row>5551</th><td>ham </td><td>ham </td></tr>\n",
       "\t<tr><th scope=row>5552</th><td>spam</td><td>spam</td></tr>\n",
       "\t<tr><th scope=row>5553</th><td>ham </td><td>ham </td></tr>\n",
       "\t<tr><th scope=row>5554</th><td>ham </td><td>ham </td></tr>\n",
       "\t<tr><th scope=row>5555</th><td>ham </td><td>ham </td></tr>\n",
       "\t<tr><th scope=row>5556</th><td>ham </td><td>ham </td></tr>\n",
       "\t<tr><th scope=row>5557</th><td>spam</td><td>spam</td></tr>\n",
       "\t<tr><th scope=row>5558</th><td>spam</td><td>ham </td></tr>\n",
       "\t<tr><th scope=row>5559</th><td>ham </td><td>ham </td></tr>\n",
       "</tbody>\n",
       "</table>\n"
      ],
      "text/latex": [
       "\\begin{tabular}{r|ll}\n",
       "  & as.factor.sms\\_test\\_pred\\_manual. & sms\\_test\\_pred\\\\\n",
       "\\hline\n",
       "\t4170 & ham  & ham \\\\\n",
       "\t4171 & ham  & ham \\\\\n",
       "\t4172 & ham  & ham \\\\\n",
       "\t4173 & ham  & ham \\\\\n",
       "\t4174 & spam & spam\\\\\n",
       "\t4175 & ham  & ham \\\\\n",
       "\t4176 & ham  & ham \\\\\n",
       "\t4177 & ham  & ham \\\\\n",
       "\t4178 & ham  & ham \\\\\n",
       "\t4179 & spam & spam\\\\\n",
       "\t4180 & ham  & ham \\\\\n",
       "\t4181 & ham  & ham \\\\\n",
       "\t4182 & ham  & ham \\\\\n",
       "\t4183 & spam & spam\\\\\n",
       "\t4184 & spam & spam\\\\\n",
       "\t4185 & ham  & ham \\\\\n",
       "\t4186 & ham  & ham \\\\\n",
       "\t4187 & ham  & ham \\\\\n",
       "\t4188 & ham  & ham \\\\\n",
       "\t4189 & ham  & ham \\\\\n",
       "\t4190 & ham  & ham \\\\\n",
       "\t4191 & ham  & ham \\\\\n",
       "\t4192 & ham  & ham \\\\\n",
       "\t4193 & ham  & ham \\\\\n",
       "\t4194 & ham  & ham \\\\\n",
       "\t4195 & ham  & ham \\\\\n",
       "\t4196 & ham  & ham \\\\\n",
       "\t4197 & ham  & ham \\\\\n",
       "\t4198 & ham  & ham \\\\\n",
       "\t4199 & ham  & ham \\\\\n",
       "\t⋮ & ⋮ & ⋮\\\\\n",
       "\t5530 & ham  & ham \\\\\n",
       "\t5531 & ham  & ham \\\\\n",
       "\t5532 & ham  & ham \\\\\n",
       "\t5533 & spam & spam\\\\\n",
       "\t5534 & ham  & ham \\\\\n",
       "\t5535 & ham  & ham \\\\\n",
       "\t5536 & ham  & ham \\\\\n",
       "\t5537 & ham  & ham \\\\\n",
       "\t5538 & ham  & ham \\\\\n",
       "\t5539 & spam & spam\\\\\n",
       "\t5540 & ham  & ham \\\\\n",
       "\t5541 & ham  & ham \\\\\n",
       "\t5542 & ham  & ham \\\\\n",
       "\t5543 & ham  & ham \\\\\n",
       "\t5544 & ham  & ham \\\\\n",
       "\t5545 & ham  & ham \\\\\n",
       "\t5546 & ham  & ham \\\\\n",
       "\t5547 & ham  & ham \\\\\n",
       "\t5548 & ham  & ham \\\\\n",
       "\t5549 & ham  & ham \\\\\n",
       "\t5550 & ham  & ham \\\\\n",
       "\t5551 & ham  & ham \\\\\n",
       "\t5552 & spam & spam\\\\\n",
       "\t5553 & ham  & ham \\\\\n",
       "\t5554 & ham  & ham \\\\\n",
       "\t5555 & ham  & ham \\\\\n",
       "\t5556 & ham  & ham \\\\\n",
       "\t5557 & spam & spam\\\\\n",
       "\t5558 & spam & ham \\\\\n",
       "\t5559 & ham  & ham \\\\\n",
       "\\end{tabular}\n"
      ],
      "text/markdown": [
       "\n",
       "| <!--/--> | as.factor.sms_test_pred_manual. | sms_test_pred | \n",
       "|---|---|---|---|---|---|---|---|---|---|---|---|---|---|---|---|---|---|---|---|---|---|---|---|---|---|---|---|---|---|---|---|---|---|---|---|---|---|---|---|---|---|---|---|---|---|---|---|---|---|---|---|---|---|---|---|---|---|---|---|---|\n",
       "| 4170 | ham  | ham  | \n",
       "| 4171 | ham  | ham  | \n",
       "| 4172 | ham  | ham  | \n",
       "| 4173 | ham  | ham  | \n",
       "| 4174 | spam | spam | \n",
       "| 4175 | ham  | ham  | \n",
       "| 4176 | ham  | ham  | \n",
       "| 4177 | ham  | ham  | \n",
       "| 4178 | ham  | ham  | \n",
       "| 4179 | spam | spam | \n",
       "| 4180 | ham  | ham  | \n",
       "| 4181 | ham  | ham  | \n",
       "| 4182 | ham  | ham  | \n",
       "| 4183 | spam | spam | \n",
       "| 4184 | spam | spam | \n",
       "| 4185 | ham  | ham  | \n",
       "| 4186 | ham  | ham  | \n",
       "| 4187 | ham  | ham  | \n",
       "| 4188 | ham  | ham  | \n",
       "| 4189 | ham  | ham  | \n",
       "| 4190 | ham  | ham  | \n",
       "| 4191 | ham  | ham  | \n",
       "| 4192 | ham  | ham  | \n",
       "| 4193 | ham  | ham  | \n",
       "| 4194 | ham  | ham  | \n",
       "| 4195 | ham  | ham  | \n",
       "| 4196 | ham  | ham  | \n",
       "| 4197 | ham  | ham  | \n",
       "| 4198 | ham  | ham  | \n",
       "| 4199 | ham  | ham  | \n",
       "| ⋮ | ⋮ | ⋮ | \n",
       "| 5530 | ham  | ham  | \n",
       "| 5531 | ham  | ham  | \n",
       "| 5532 | ham  | ham  | \n",
       "| 5533 | spam | spam | \n",
       "| 5534 | ham  | ham  | \n",
       "| 5535 | ham  | ham  | \n",
       "| 5536 | ham  | ham  | \n",
       "| 5537 | ham  | ham  | \n",
       "| 5538 | ham  | ham  | \n",
       "| 5539 | spam | spam | \n",
       "| 5540 | ham  | ham  | \n",
       "| 5541 | ham  | ham  | \n",
       "| 5542 | ham  | ham  | \n",
       "| 5543 | ham  | ham  | \n",
       "| 5544 | ham  | ham  | \n",
       "| 5545 | ham  | ham  | \n",
       "| 5546 | ham  | ham  | \n",
       "| 5547 | ham  | ham  | \n",
       "| 5548 | ham  | ham  | \n",
       "| 5549 | ham  | ham  | \n",
       "| 5550 | ham  | ham  | \n",
       "| 5551 | ham  | ham  | \n",
       "| 5552 | spam | spam | \n",
       "| 5553 | ham  | ham  | \n",
       "| 5554 | ham  | ham  | \n",
       "| 5555 | ham  | ham  | \n",
       "| 5556 | ham  | ham  | \n",
       "| 5557 | spam | spam | \n",
       "| 5558 | spam | ham  | \n",
       "| 5559 | ham  | ham  | \n",
       "\n",
       "\n"
      ],
      "text/plain": [
       "     as.factor.sms_test_pred_manual. sms_test_pred\n",
       "4170 ham                             ham          \n",
       "4171 ham                             ham          \n",
       "4172 ham                             ham          \n",
       "4173 ham                             ham          \n",
       "4174 spam                            spam         \n",
       "4175 ham                             ham          \n",
       "4176 ham                             ham          \n",
       "4177 ham                             ham          \n",
       "4178 ham                             ham          \n",
       "4179 spam                            spam         \n",
       "4180 ham                             ham          \n",
       "4181 ham                             ham          \n",
       "4182 ham                             ham          \n",
       "4183 spam                            spam         \n",
       "4184 spam                            spam         \n",
       "4185 ham                             ham          \n",
       "4186 ham                             ham          \n",
       "4187 ham                             ham          \n",
       "4188 ham                             ham          \n",
       "4189 ham                             ham          \n",
       "4190 ham                             ham          \n",
       "4191 ham                             ham          \n",
       "4192 ham                             ham          \n",
       "4193 ham                             ham          \n",
       "4194 ham                             ham          \n",
       "4195 ham                             ham          \n",
       "4196 ham                             ham          \n",
       "4197 ham                             ham          \n",
       "4198 ham                             ham          \n",
       "4199 ham                             ham          \n",
       "⋮    ⋮                               ⋮            \n",
       "5530 ham                             ham          \n",
       "5531 ham                             ham          \n",
       "5532 ham                             ham          \n",
       "5533 spam                            spam         \n",
       "5534 ham                             ham          \n",
       "5535 ham                             ham          \n",
       "5536 ham                             ham          \n",
       "5537 ham                             ham          \n",
       "5538 ham                             ham          \n",
       "5539 spam                            spam         \n",
       "5540 ham                             ham          \n",
       "5541 ham                             ham          \n",
       "5542 ham                             ham          \n",
       "5543 ham                             ham          \n",
       "5544 ham                             ham          \n",
       "5545 ham                             ham          \n",
       "5546 ham                             ham          \n",
       "5547 ham                             ham          \n",
       "5548 ham                             ham          \n",
       "5549 ham                             ham          \n",
       "5550 ham                             ham          \n",
       "5551 ham                             ham          \n",
       "5552 spam                            spam         \n",
       "5553 ham                             ham          \n",
       "5554 ham                             ham          \n",
       "5555 ham                             ham          \n",
       "5556 ham                             ham          \n",
       "5557 spam                            spam         \n",
       "5558 spam                            ham          \n",
       "5559 ham                             ham          "
      ]
     },
     "metadata": {},
     "output_type": "display_data"
    }
   ],
   "source": [
    "data.frame(as.factor(sms_test_pred_manual), sms_test_pred)"
   ]
  },
  {
   "cell_type": "markdown",
   "metadata": {},
   "source": [
    "Mostly they are parallel, but there may be some classification differences:"
   ]
  },
  {
   "cell_type": "code",
   "execution_count": 92,
   "metadata": {},
   "outputs": [
    {
     "data": {
      "text/html": [
       "'From a total of 1390 documents, in 1379 ones both our manual and predict function classifications are the same'"
      ],
      "text/latex": [
       "'From a total of 1390 documents, in 1379 ones both our manual and predict function classifications are the same'"
      ],
      "text/markdown": [
       "'From a total of 1390 documents, in 1379 ones both our manual and predict function classifications are the same'"
      ],
      "text/plain": [
       "[1] \"From a total of 1390 documents, in 1379 ones both our manual and predict function classifications are the same\""
      ]
     },
     "metadata": {},
     "output_type": "display_data"
    },
    {
     "data": {
      "text/html": [
       "'So classifications of 11 documents differ between our manual method and predict function'"
      ],
      "text/latex": [
       "'So classifications of 11 documents differ between our manual method and predict function'"
      ],
      "text/markdown": [
       "'So classifications of 11 documents differ between our manual method and predict function'"
      ],
      "text/plain": [
       "[1] \"So classifications of 11 documents differ between our manual method and predict function\""
      ]
     },
     "metadata": {},
     "output_type": "display_data"
    }
   ],
   "source": [
    "manual_predict_match <- sms_test_pred_manual == as.character(sms_test_pred)\n",
    "\n",
    "sprintf(\"From a total of %s documents, in %s ones both our manual and predict function classifications are the same\",\n",
    "total_doc <- length(sms_test_pred_manual),\n",
    "cor_match <- sum(manual_predict_match))\n",
    "\n",
    "sprintf(\"So classifications of %s documents differ between our manual method and predict function\",\n",
    "        total_doc - cor_match)"
   ]
  },
  {
   "cell_type": "markdown",
   "metadata": {},
   "source": [
    "Let's pick those documents where classifications of predict() function is different from our manual calculation:"
   ]
  },
  {
   "cell_type": "code",
   "execution_count": 93,
   "metadata": {
    "scrolled": false
   },
   "outputs": [
    {
     "data": {
      "text/html": [
       "<table class=\"kable_wrapper\">\n",
       "<tbody>\n",
       "  <tr>\n",
       "   <td> \n",
       "\n",
       "<table class=\"kable_wrapper\">\n",
       "<tbody>\n",
       "  <tr>\n",
       "   <td> \n",
       "\n",
       "<table>\n",
       " <thead>\n",
       "  <tr>\n",
       "   <th style=\"text-align:left;\">   </th>\n",
       "   <th style=\"text-align:left;\"> ham </th>\n",
       "   <th style=\"text-align:left;\"> spam </th>\n",
       "  </tr>\n",
       " </thead>\n",
       "<tbody>\n",
       "  <tr>\n",
       "   <td style=\"text-align:left;\"> spam </td>\n",
       "   <td style=\"text-align:left;\"> 36.1312% </td>\n",
       "   <td style=\"text-align:left;\"> 63.8688% </td>\n",
       "  </tr>\n",
       "  <tr>\n",
       "   <td style=\"text-align:left;\"> spam </td>\n",
       "   <td style=\"text-align:left;\"> 20.8873% </td>\n",
       "   <td style=\"text-align:left;\"> 79.1127% </td>\n",
       "  </tr>\n",
       "  <tr>\n",
       "   <td style=\"text-align:left;\"> spam </td>\n",
       "   <td style=\"text-align:left;\"> 32.8887% </td>\n",
       "   <td style=\"text-align:left;\"> 67.1113% </td>\n",
       "  </tr>\n",
       "  <tr>\n",
       "   <td style=\"text-align:left;\"> spam </td>\n",
       "   <td style=\"text-align:left;\"> 33.7190% </td>\n",
       "   <td style=\"text-align:left;\"> 66.2810% </td>\n",
       "  </tr>\n",
       "  <tr>\n",
       "   <td style=\"text-align:left;\"> spam </td>\n",
       "   <td style=\"text-align:left;\"> 40.6466% </td>\n",
       "   <td style=\"text-align:left;\"> 59.3534% </td>\n",
       "  </tr>\n",
       "  <tr>\n",
       "   <td style=\"text-align:left;\"> spam </td>\n",
       "   <td style=\"text-align:left;\"> 48.4234% </td>\n",
       "   <td style=\"text-align:left;\"> 51.5766% </td>\n",
       "  </tr>\n",
       "  <tr>\n",
       "   <td style=\"text-align:left;\"> spam </td>\n",
       "   <td style=\"text-align:left;\"> 13.5567% </td>\n",
       "   <td style=\"text-align:left;\"> 86.4433% </td>\n",
       "  </tr>\n",
       "  <tr>\n",
       "   <td style=\"text-align:left;\"> spam </td>\n",
       "   <td style=\"text-align:left;\"> 45.7876% </td>\n",
       "   <td style=\"text-align:left;\"> 54.2124% </td>\n",
       "  </tr>\n",
       "  <tr>\n",
       "   <td style=\"text-align:left;\"> spam </td>\n",
       "   <td style=\"text-align:left;\"> 43.2938% </td>\n",
       "   <td style=\"text-align:left;\"> 56.7062% </td>\n",
       "  </tr>\n",
       "  <tr>\n",
       "   <td style=\"text-align:left;\"> spam </td>\n",
       "   <td style=\"text-align:left;\"> 31.2846% </td>\n",
       "   <td style=\"text-align:left;\"> 68.7154% </td>\n",
       "  </tr>\n",
       "  <tr>\n",
       "   <td style=\"text-align:left;\"> spam </td>\n",
       "   <td style=\"text-align:left;\"> 22.8209% </td>\n",
       "   <td style=\"text-align:left;\"> 77.1791% </td>\n",
       "  </tr>\n",
       "</tbody>\n",
       "</table>\n",
       "\n",
       " </td>\n",
       "   <td> \n",
       "\n",
       "<table>\n",
       " <thead>\n",
       "  <tr>\n",
       "   <th style=\"text-align:left;\"> calculated_by </th>\n",
       "  </tr>\n",
       " </thead>\n",
       "<tbody>\n",
       "  <tr>\n",
       "   <td style=\"text-align:left;\"> manual </td>\n",
       "  </tr>\n",
       "</tbody>\n",
       "</table>\n",
       "\n",
       " </td>\n",
       "  </tr>\n",
       "</tbody>\n",
       "</table>\n",
       "\n",
       " </td>\n",
       "   <td> \n",
       "\n",
       "<table class=\"kable_wrapper\">\n",
       "<tbody>\n",
       "  <tr>\n",
       "   <td> \n",
       "\n",
       "<table>\n",
       " <thead>\n",
       "  <tr>\n",
       "   <th style=\"text-align:left;\">   </th>\n",
       "   <th style=\"text-align:left;\"> ham </th>\n",
       "   <th style=\"text-align:left;\"> spam </th>\n",
       "  </tr>\n",
       " </thead>\n",
       "<tbody>\n",
       "  <tr>\n",
       "   <td style=\"text-align:left;\"> ham </td>\n",
       "   <td style=\"text-align:left;\"> 66.7339% </td>\n",
       "   <td style=\"text-align:left;\"> 33.2661% </td>\n",
       "  </tr>\n",
       "  <tr>\n",
       "   <td style=\"text-align:left;\"> ham </td>\n",
       "   <td style=\"text-align:left;\"> 62.7917% </td>\n",
       "   <td style=\"text-align:left;\"> 37.2083% </td>\n",
       "  </tr>\n",
       "  <tr>\n",
       "   <td style=\"text-align:left;\"> ham </td>\n",
       "   <td style=\"text-align:left;\"> 72.2739% </td>\n",
       "   <td style=\"text-align:left;\"> 27.7261% </td>\n",
       "  </tr>\n",
       "  <tr>\n",
       "   <td style=\"text-align:left;\"> ham </td>\n",
       "   <td style=\"text-align:left;\"> 76.4801% </td>\n",
       "   <td style=\"text-align:left;\"> 23.5199% </td>\n",
       "  </tr>\n",
       "  <tr>\n",
       "   <td style=\"text-align:left;\"> ham </td>\n",
       "   <td style=\"text-align:left;\"> 81.4032% </td>\n",
       "   <td style=\"text-align:left;\"> 18.5968% </td>\n",
       "  </tr>\n",
       "  <tr>\n",
       "   <td style=\"text-align:left;\"> ham </td>\n",
       "   <td style=\"text-align:left;\"> 85.7165% </td>\n",
       "   <td style=\"text-align:left;\"> 14.2835% </td>\n",
       "  </tr>\n",
       "  <tr>\n",
       "   <td style=\"text-align:left;\"> ham </td>\n",
       "   <td style=\"text-align:left;\"> 50.0603% </td>\n",
       "   <td style=\"text-align:left;\"> 49.9397% </td>\n",
       "  </tr>\n",
       "  <tr>\n",
       "   <td style=\"text-align:left;\"> ham </td>\n",
       "   <td style=\"text-align:left;\"> 81.7934% </td>\n",
       "   <td style=\"text-align:left;\"> 18.2066% </td>\n",
       "  </tr>\n",
       "  <tr>\n",
       "   <td style=\"text-align:left;\"> ham </td>\n",
       "   <td style=\"text-align:left;\"> 82.9933% </td>\n",
       "   <td style=\"text-align:left;\"> 17.0067% </td>\n",
       "  </tr>\n",
       "  <tr>\n",
       "   <td style=\"text-align:left;\"> ham </td>\n",
       "   <td style=\"text-align:left;\"> 74.4249% </td>\n",
       "   <td style=\"text-align:left;\"> 25.5751% </td>\n",
       "  </tr>\n",
       "  <tr>\n",
       "   <td style=\"text-align:left;\"> ham </td>\n",
       "   <td style=\"text-align:left;\"> 65.3978% </td>\n",
       "   <td style=\"text-align:left;\"> 34.6022% </td>\n",
       "  </tr>\n",
       "</tbody>\n",
       "</table>\n",
       "\n",
       " </td>\n",
       "   <td> \n",
       "\n",
       "<table>\n",
       " <thead>\n",
       "  <tr>\n",
       "   <th style=\"text-align:left;\"> calculated_by </th>\n",
       "  </tr>\n",
       " </thead>\n",
       "<tbody>\n",
       "  <tr>\n",
       "   <td style=\"text-align:left;\"> predict </td>\n",
       "  </tr>\n",
       "</tbody>\n",
       "</table>\n",
       "\n",
       " </td>\n",
       "  </tr>\n",
       "</tbody>\n",
       "</table>\n",
       "\n",
       " </td>\n",
       "  </tr>\n",
       "</tbody>\n",
       "</table>"
      ]
     },
     "metadata": {},
     "output_type": "display_data"
    }
   ],
   "source": [
    "# mismatches from manual posterior probs.\n",
    "m1 <- sms_test_pred_manual_percent[!manual_predict_match,]\n",
    "# mismatches from predict() function\n",
    "m2 <- sms_test_pred_raw_percent[!manual_predict_match,]\n",
    "\n",
    "# display both matrices side by side\n",
    "knitr::kable(list(list(m1, caption = data.frame(calculated_by = \"manual\")),\n",
    "                  list(m2, caption = data.frame(calculated_by = \"predict\")))) %>%\n",
    "    as.character() %>%\n",
    "    IRdisplay::display_html()"
   ]
  },
  {
   "cell_type": "markdown",
   "metadata": {},
   "source": [
    "See that in none of those mismatches, there is any highly dominant posterior probability such as > 99% "
   ]
  },
  {
   "cell_type": "markdown",
   "metadata": {},
   "source": [
    "So the differences are mostly from the accuracy limits of numeric values in R: Base R can only handle up to 22 decimal digits. After that, accuracy is lost\n",
    "\n",
    "Multiplying +1000 small numbers can lose accuracy. This may happen in our manual calculation. Libraries like Rmpfr can handle much detailed accuracy.\n",
    "\n",
    "predict() function is probably designed to handle such possible accuracy losses. So it is better to use the built in predict() function to predict the labels of the train set"
   ]
  },
  {
   "cell_type": "markdown",
   "metadata": {},
   "source": [
    "## Model evaluation"
   ]
  },
  {
   "cell_type": "markdown",
   "metadata": {},
   "source": [
    "Now, we will form a confusion matrix"
   ]
  },
  {
   "cell_type": "markdown",
   "metadata": {},
   "source": [
    "CrossTable visualizes how much the test labels are correctly classified:"
   ]
  },
  {
   "cell_type": "code",
   "execution_count": 94,
   "metadata": {},
   "outputs": [
    {
     "name": "stdout",
     "output_type": "stream",
     "text": [
      "\n",
      " \n",
      "   Cell Contents\n",
      "|-------------------------|\n",
      "|                       N |\n",
      "|           N / Col Total |\n",
      "|-------------------------|\n",
      "\n",
      " \n",
      "Total Observations in Table:  1390 \n",
      "\n",
      " \n",
      "             | actual \n",
      "   predicted |       ham |      spam | Row Total | \n",
      "-------------|-----------|-----------|-----------|\n",
      "         ham |      1201 |        30 |      1231 | \n",
      "             |     0.995 |     0.164 |           | \n",
      "-------------|-----------|-----------|-----------|\n",
      "        spam |         6 |       153 |       159 | \n",
      "             |     0.005 |     0.836 |           | \n",
      "-------------|-----------|-----------|-----------|\n",
      "Column Total |      1207 |       183 |      1390 | \n",
      "             |     0.868 |     0.132 |           | \n",
      "-------------|-----------|-----------|-----------|\n",
      "\n",
      " \n"
     ]
    },
    {
     "data": {
      "text/plain": [
       "$t\n",
       "      y\n",
       "x       ham spam\n",
       "  ham  1201   30\n",
       "  spam    6  153\n",
       "\n",
       "$prop.row\n",
       "      y\n",
       "x             ham       spam\n",
       "  ham  0.97562957 0.02437043\n",
       "  spam 0.03773585 0.96226415\n",
       "\n",
       "$prop.col\n",
       "      y\n",
       "x              ham        spam\n",
       "  ham  0.995028998 0.163934426\n",
       "  spam 0.004971002 0.836065574\n",
       "\n",
       "$prop.tbl\n",
       "      y\n",
       "x              ham        spam\n",
       "  ham  0.864028777 0.021582734\n",
       "  spam 0.004316547 0.110071942\n"
      ]
     },
     "metadata": {},
     "output_type": "display_data"
    }
   ],
   "source": [
    "ct_nb <- gmodels::CrossTable(sms_test_pred,\n",
    "                             sms_test_labels,\n",
    "                             prop.chisq = F,\n",
    "                             prop.t = F,\n",
    "                             prop.r = F,\n",
    "                             dnn = c('predicted', 'actual'))\n",
    "\n",
    "ct_nb"
   ]
  },
  {
   "cell_type": "markdown",
   "metadata": {},
   "source": [
    "Now, let's automatically report findings:"
   ]
  },
  {
   "cell_type": "code",
   "execution_count": 95,
   "metadata": {},
   "outputs": [
    {
     "name": "stdout",
     "output_type": "stream",
     "text": [
      "Out of a total of 1390 sms's:\n",
      "- 1354 sms's are correctly classified as either ham or spam (97.41%),\n",
      "- while 36 sms's are misclassified (2.59%)"
     ]
    }
   ],
   "source": [
    "sprintf(\"Out of a total of %s sms's:\n",
    "- %s sms's are correctly classified as either ham or spam (%s),\n",
    "- while %s sms's are misclassified (%s)\",\n",
    "        all <- ct_nb$t %>% sum(),\n",
    "        cor <- ct_nb$t %>% diag() %>% sum(),\n",
    "        (cor / all) %>% scales::percent(accuracy = 0.01),\n",
    "        fal <- all - cor,\n",
    "        (fal / all) %>% scales::percent(accuracy = 0.01)\n",
    "       ) %>% cat()"
   ]
  },
  {
   "cell_type": "markdown",
   "metadata": {},
   "source": [
    "## Laplace estimator"
   ]
  },
  {
   "cell_type": "markdown",
   "metadata": {},
   "source": [
    "Let's get those terms that never occur in spams in our corpus:"
   ]
  },
  {
   "cell_type": "code",
   "execution_count": 96,
   "metadata": {},
   "outputs": [
    {
     "data": {
      "text/html": [
       "<ol class=list-inline>\n",
       "\t<li>'€˜m'</li>\n",
       "\t<li>'€˜s'</li>\n",
       "\t<li>'abiola'</li>\n",
       "\t<li>'abl'</li>\n",
       "\t<li>'abt'</li>\n",
       "\t<li>'accept'</li>\n",
       "\t<li>'across'</li>\n",
       "\t<li>'act'</li>\n",
       "\t<li>'actual'</li>\n",
       "\t<li>'add'</li>\n",
       "\t<li>'advanc'</li>\n",
       "\t<li>'aft'</li>\n",
       "\t<li>'afternoon'</li>\n",
       "\t<li>'ago'</li>\n",
       "\t<li>'aha'</li>\n",
       "\t<li>'ahead'</li>\n",
       "\t<li>'aight'</li>\n",
       "\t<li>'aint'</li>\n",
       "\t<li>'air'</li>\n",
       "\t<li>'aiyo'</li>\n",
       "\t<li>'alex'</li>\n",
       "\t<li>'almost'</li>\n",
       "\t<li>'alright'</li>\n",
       "\t<li>'alway'</li>\n",
       "\t<li>'angri'</li>\n",
       "\t<li>'anymor'</li>\n",
       "\t<li>'anyth'</li>\n",
       "\t<li>'anyway'</li>\n",
       "\t<li>'apart'</li>\n",
       "\t<li>'appreci'</li>\n",
       "\t<li>'ard'</li>\n",
       "\t<li>'argu'</li>\n",
       "\t<li>'argument'</li>\n",
       "\t<li>'armand'</li>\n",
       "\t<li>'askd'</li>\n",
       "\t<li>'avoid'</li>\n",
       "\t<li>'awak'</li>\n",
       "\t<li>'awesom'</li>\n",
       "\t<li>'bad'</li>\n",
       "\t<li>'bag'</li>\n",
       "\t<li>'bare'</li>\n",
       "\t<li>'basic'</li>\n",
       "\t<li>'bath'</li>\n",
       "\t<li>'batteri'</li>\n",
       "\t<li>'bcoz'</li>\n",
       "\t<li>'bday'</li>\n",
       "\t<li>'beauti'</li>\n",
       "\t<li>'bed'</li>\n",
       "\t<li>'beer'</li>\n",
       "\t<li>'better'</li>\n",
       "\t<li>'bit'</li>\n",
       "\t<li>'black'</li>\n",
       "\t<li>'blank'</li>\n",
       "\t<li>'bless'</li>\n",
       "\t<li>'blue'</li>\n",
       "\t<li>'bold'</li>\n",
       "\t<li>'boo'</li>\n",
       "\t<li>'boost'</li>\n",
       "\t<li>'boss'</li>\n",
       "\t<li>'bother'</li>\n",
       "\t<li>'boytoy'</li>\n",
       "\t<li>'bslvyl'</li>\n",
       "\t<li>'buck'</li>\n",
       "\t<li>'bus'</li>\n",
       "\t<li>'cabin'</li>\n",
       "\t<li>'callertun'</li>\n",
       "\t<li>'campus'</li>\n",
       "\t<li>'cancer'</li>\n",
       "\t<li>'car'</li>\n",
       "\t<li>'carlo'</li>\n",
       "\t<li>'case'</li>\n",
       "\t<li>'catch'</li>\n",
       "\t<li>'caus'</li>\n",
       "\t<li>'celebr'</li>\n",
       "\t<li>'cell'</li>\n",
       "\t<li>'centr'</li>\n",
       "\t<li>'cheer'</li>\n",
       "\t<li>'chennai'</li>\n",
       "\t<li>'chikku'</li>\n",
       "\t<li>'childish'</li>\n",
       "\t<li>'class'</li>\n",
       "\t<li>'clean'</li>\n",
       "\t<li>'clear'</li>\n",
       "\t<li>'coffe'</li>\n",
       "\t<li>'cold'</li>\n",
       "\t<li>'colleagu'</li>\n",
       "\t<li>'colleg'</li>\n",
       "\t<li>'comin'</li>\n",
       "\t<li>'cook'</li>\n",
       "\t<li>'copi'</li>\n",
       "\t<li>'cos'</li>\n",
       "\t<li>'cours'</li>\n",
       "\t<li>'cover'</li>\n",
       "\t<li>'coz'</li>\n",
       "\t<li>'crave'</li>\n",
       "\t<li>'creat'</li>\n",
       "\t<li>'cri'</li>\n",
       "\t<li>'cuddl'</li>\n",
       "\t<li>'cut'</li>\n",
       "\t<li>'cuz'</li>\n",
       "\t<li>'dad'</li>\n",
       "\t<li>'daddi'</li>\n",
       "\t<li>'darlin'</li>\n",
       "\t<li>'darren'</li>\n",
       "\t<li>'dat'</li>\n",
       "\t<li>'dead'</li>\n",
       "\t<li>'decid'</li>\n",
       "\t<li>'decim'</li>\n",
       "\t<li>'decis'</li>\n",
       "\t<li>'deep'</li>\n",
       "\t<li>'den'</li>\n",
       "\t<li>'depend'</li>\n",
       "\t<li>'didnt'</li>\n",
       "\t<li>'die'</li>\n",
       "\t<li>'diet'</li>\n",
       "\t<li>'differ'</li>\n",
       "\t<li>'difficult'</li>\n",
       "\t<li>'din'</li>\n",
       "\t<li>'dinner'</li>\n",
       "\t<li>'discuss'</li>\n",
       "\t<li>'disturb'</li>\n",
       "\t<li>'dnt'</li>\n",
       "\t<li>'doc'</li>\n",
       "\t<li>'doctor'</li>\n",
       "\t<li>'doesnt'</li>\n",
       "\t<li>'doin'</li>\n",
       "\t<li>'don'</li>\n",
       "\t<li>'door'</li>\n",
       "\t<li>'drop'</li>\n",
       "\t<li>'drug'</li>\n",
       "\t<li>'dude'</li>\n",
       "\t<li>'dun'</li>\n",
       "\t<li>'dunno'</li>\n",
       "\t<li>'earli'</li>\n",
       "\t<li>'earlier'</li>\n",
       "\t<li>'earth'</li>\n",
       "\t<li>'eat'</li>\n",
       "\t<li>'eatin'</li>\n",
       "\t<li>'els'</li>\n",
       "\t<li>'embarass'</li>\n",
       "\t<li>'everybodi'</li>\n",
       "\t<li>'everyth'</li>\n",
       "\t<li>'exact'</li>\n",
       "\t<li>'exam'</li>\n",
       "\t<li>'excel'</li>\n",
       "\t<li>'excus'</li>\n",
       "\t<li>'expect'</li>\n",
       "\t<li>'experi'</li>\n",
       "\t<li>'face'</li>\n",
       "\t<li>'facebook'</li>\n",
       "\t<li>'fall'</li>\n",
       "\t<li>'famili'</li>\n",
       "\t<li>'far'</li>\n",
       "\t<li>'fat'</li>\n",
       "\t<li>'father'</li>\n",
       "\t<li>'fault'</li>\n",
       "\t<li>'feel'</li>\n",
       "\t<li>'felt'</li>\n",
       "\t<li>'fetch'</li>\n",
       "\t<li>'fight'</li>\n",
       "\t<li>'figur'</li>\n",
       "\t<li>'file'</li>\n",
       "\t<li>'fill'</li>\n",
       "\t<li>'fine'</li>\n",
       "\t<li>'finger'</li>\n",
       "\t<li>'finish'</li>\n",
       "\t<li>'flat'</li>\n",
       "\t<li>'food'</li>\n",
       "\t<li>'forev'</li>\n",
       "\t<li>'forgot'</li>\n",
       "\t<li>'found'</li>\n",
       "\t<li>'freak'</li>\n",
       "\t<li>'fren'</li>\n",
       "\t<li>'friday'</li>\n",
       "\t<li>'friendship'</li>\n",
       "\t<li>'frm'</li>\n",
       "\t<li>'frnds'</li>\n",
       "\t<li>'full'</li>\n",
       "\t<li>'fullonsmscom'</li>\n",
       "\t<li>'funni'</li>\n",
       "\t<li>'gal'</li>\n",
       "\t<li>'gap'</li>\n",
       "\t<li>'gas'</li>\n",
       "\t<li>'gave'</li>\n",
       "\t<li>'gentl'</li>\n",
       "\t<li>'girlfrnd'</li>\n",
       "\t<li>'glad'</li>\n",
       "\t<li>'god'</li>\n",
       "\t<li>'goe'</li>\n",
       "\t<li>'goin'</li>\n",
       "\t<li>'gone'</li>\n",
       "\t<li>'gonna'</li>\n",
       "\t<li>'goodmorn'</li>\n",
       "\t<li>'goodnight'</li>\n",
       "\t<li>'gotta'</li>\n",
       "\t<li>'grin'</li>\n",
       "\t<li>'gud'</li>\n",
       "\t<li>'gym'</li>\n",
       "\t<li>'haf'</li>\n",
       "\t<li>'haha'</li>\n",
       "\t<li>'hai'</li>\n",
       "\t<li>'hair'</li>\n",
       "\t<li>'hand'</li>\n",
       "\t<li>'hang'</li>\n",
       "\t<li>'happen'</li>\n",
       "\t<li>'hate'</li>\n",
       "\t<li>'hav'</li>\n",
       "\t<li>'havent'</li>\n",
       "\t<li>'head'</li>\n",
       "\t<li>'heavi'</li>\n",
       "\t<li>'hee'</li>\n",
       "\t<li>'hell'</li>\n",
       "\t<li>'hiya'</li>\n",
       "\t<li>'hmm'</li>\n",
       "\t<li>'hmmm'</li>\n",
       "\t<li>'hold'</li>\n",
       "\t<li>'home'</li>\n",
       "\t<li>'hook'</li>\n",
       "\t<li>'hop'</li>\n",
       "\t<li>'hospit'</li>\n",
       "\t<li>'how'</li>\n",
       "\t<li>'howz'</li>\n",
       "\t<li>'hug'</li>\n",
       "\t<li>'huh'</li>\n",
       "\t<li>'hungri'</li>\n",
       "\t<li>'hurri'</li>\n",
       "\t<li>'hurt'</li>\n",
       "\t<li>'ice'</li>\n",
       "\t<li>'idea'</li>\n",
       "\t<li>'ill'</li>\n",
       "\t<li>'insid'</li>\n",
       "\t<li>'instead'</li>\n",
       "\t<li>'irrit'</li>\n",
       "\t<li>'ish'</li>\n",
       "\t<li>'ive'</li>\n",
       "\t<li>'izzit'</li>\n",
       "\t<li>'jay'</li>\n",
       "\t<li>'job'</li>\n",
       "\t<li>'john'</li>\n",
       "\t<li>'joke'</li>\n",
       "\t<li>'joy'</li>\n",
       "\t<li>'jus'</li>\n",
       "\t<li>'juz'</li>\n",
       "\t<li>'kate'</li>\n",
       "\t<li>'kid'</li>\n",
       "\t<li>'kill'</li>\n",
       "\t<li>'kind'</li>\n",
       "\t<li>'kiss'</li>\n",
       "\t<li>'knew'</li>\n",
       "\t<li>'knw'</li>\n",
       "\t<li>'laptop'</li>\n",
       "\t<li>'lar'</li>\n",
       "\t<li>'later'</li>\n",
       "\t<li>'lazi'</li>\n",
       "\t<li>'least'</li>\n",
       "\t<li>'lect'</li>\n",
       "\t<li>'left'</li>\n",
       "\t<li>'leh'</li>\n",
       "\t<li>'lei'</li>\n",
       "\t<li>'less'</li>\n",
       "\t<li>'lesson'</li>\n",
       "\t<li>'let'</li>\n",
       "\t<li>'letter'</li>\n",
       "\t<li>'liao'</li>\n",
       "\t<li>'librari'</li>\n",
       "\t<li>'lie'</li>\n",
       "\t<li>'lift'</li>\n",
       "\t<li>'light'</li>\n",
       "\t<li>'list'</li>\n",
       "\t<li>'lmao'</li>\n",
       "\t<li>'load'</li>\n",
       "\t<li>'lol'</li>\n",
       "\t<li>'long'</li>\n",
       "\t<li>'longer'</li>\n",
       "\t<li>'lor'</li>\n",
       "\t<li>'lovabl'</li>\n",
       "\t<li>'lunch'</li>\n",
       "\t<li>'mad'</li>\n",
       "\t<li>'mah'</li>\n",
       "\t<li>'mail'</li>\n",
       "\t<li>'malaria'</li>\n",
       "\t<li>'man'</li>\n",
       "\t<li>'march'</li>\n",
       "\t<li>'mark'</li>\n",
       "\t<li>'matter'</li>\n",
       "\t<li>'mean'</li>\n",
       "\t<li>'meant'</li>\n",
       "\t<li>'medic'</li>\n",
       "\t<li>'meh'</li>\n",
       "\t<li>'merri'</li>\n",
       "\t<li>'might'</li>\n",
       "\t<li>'mine'</li>\n",
       "\t<li>'miracl'</li>\n",
       "\t<li>'mode'</li>\n",
       "\t<li>'mom'</li>\n",
       "\t<li>'moment'</li>\n",
       "\t<li>'mon'</li>\n",
       "\t<li>'monday'</li>\n",
       "\t<li>'morn'</li>\n",
       "\t<li>'mother'</li>\n",
       "\t<li>'move'</li>\n",
       "\t<li>'movi'</li>\n",
       "\t<li>'mrng'</li>\n",
       "\t<li>'mrt'</li>\n",
       "\t<li>'mrw'</li>\n",
       "\t<li>'mum'</li>\n",
       "\t<li>'murder'</li>\n",
       "\t<li>'nah'</li>\n",
       "\t<li>'nake'</li>\n",
       "\t<li>'natur'</li>\n",
       "\t<li>'naughti'</li>\n",
       "\t<li>'net'</li>\n",
       "\t<li>'neva'</li>\n",
       "\t<li>'nice'</li>\n",
       "\t<li>'nigeria'</li>\n",
       "\t<li>'nobodi'</li>\n",
       "\t<li>'noe'</li>\n",
       "\t<li>'noon'</li>\n",
       "\t<li>'nope'</li>\n",
       "\t<li>'num'</li>\n",
       "\t<li>'obvious'</li>\n",
       "\t<li>'okay'</li>\n",
       "\t<li>'oki'</li>\n",
       "\t<li>'omg'</li>\n",
       "\t<li>'onlin'</li>\n",
       "\t<li>'oop'</li>\n",
       "\t<li>'opinion'</li>\n",
       "\t<li>'orchard'</li>\n",
       "\t<li>'oredi'</li>\n",
       "\t<li>'oso'</li>\n",
       "\t<li>'other'</li>\n",
       "\t<li>'otherwis'</li>\n",
       "\t<li>'outsid'</li>\n",
       "\t<li>'page'</li>\n",
       "\t<li>'pain'</li>\n",
       "\t<li>'paper'</li>\n",
       "\t<li>'parent'</li>\n",
       "\t<li>'park'</li>\n",
       "\t<li>'past'</li>\n",
       "\t<li>'piss'</li>\n",
       "\t<li>'pizza'</li>\n",
       "\t<li>'plan'</li>\n",
       "\t<li>'pleasur'</li>\n",
       "\t<li>'plenti'</li>\n",
       "\t<li>'plz'</li>\n",
       "\t<li>'poor'</li>\n",
       "\t<li>'pop'</li>\n",
       "\t<li>'possess'</li>\n",
       "\t<li>'possibl'</li>\n",
       "\t<li>'power'</li>\n",
       "\t<li>'pray'</li>\n",
       "\t<li>'present'</li>\n",
       "\t<li>'pretti'</li>\n",
       "\t<li>'princess'</li>\n",
       "\t<li>'prob'</li>\n",
       "\t<li>'probabl'</li>\n",
       "\t<li>'problem'</li>\n",
       "\t<li>'project'</li>\n",
       "\t<li>'quick'</li>\n",
       "\t<li>'quit'</li>\n",
       "\t<li>'rain'</li>\n",
       "\t<li>'rang'</li>\n",
       "\t<li>'rather'</li>\n",
       "\t<li>'read'</li>\n",
       "\t<li>'reali'</li>\n",
       "\t<li>'realli'</li>\n",
       "\t<li>'reason'</li>\n",
       "\t<li>'relat'</li>\n",
       "\t<li>'relax'</li>\n",
       "\t<li>'remain'</li>\n",
       "\t<li>'rememb'</li>\n",
       "\t<li>'rent'</li>\n",
       "\t<li>'respons'</li>\n",
       "\t<li>'rest'</li>\n",
       "\t<li>'return'</li>\n",
       "\t<li>'rite'</li>\n",
       "\t<li>'road'</li>\n",
       "\t<li>'role'</li>\n",
       "\t<li>'room'</li>\n",
       "\t<li>'roommat'</li>\n",
       "\t<li>'run'</li>\n",
       "\t<li>'rush'</li>\n",
       "\t<li>'sad'</li>\n",
       "\t<li>'safe'</li>\n",
       "\t<li>'said'</li>\n",
       "\t<li>'saw'</li>\n",
       "\t<li>'sch'</li>\n",
       "\t<li>'school'</li>\n",
       "\t<li>'scream'</li>\n",
       "\t<li>'sea'</li>\n",
       "\t<li>'second'</li>\n",
       "\t<li>'seen'</li>\n",
       "\t<li>'semest'</li>\n",
       "\t<li>'sens'</li>\n",
       "\t<li>'serious'</li>\n",
       "\t<li>'settl'</li>\n",
       "\t<li>'shall'</li>\n",
       "\t<li>'share'</li>\n",
       "\t<li>'shd'</li>\n",
       "\t<li>'ship'</li>\n",
       "\t<li>'shirt'</li>\n",
       "\t<li>'shower'</li>\n",
       "\t<li>'sick'</li>\n",
       "\t<li>'side'</li>\n",
       "\t<li>'sigh'</li>\n",
       "\t<li>'sight'</li>\n",
       "\t<li>'silent'</li>\n",
       "\t<li>'simpl'</li>\n",
       "\t<li>'sis'</li>\n",
       "\t<li>'sister'</li>\n",
       "\t<li>'sit'</li>\n",
       "\t<li>'situat'</li>\n",
       "\t<li>'skype'</li>\n",
       "\t<li>'slave'</li>\n",
       "\t<li>'sleep'</li>\n",
       "\t<li>'slept'</li>\n",
       "\t<li>'slowli'</li>\n",
       "\t<li>'small'</li>\n",
       "\t<li>'smile'</li>\n",
       "\t<li>'smoke'</li>\n",
       "\t<li>'smth'</li>\n",
       "\t<li>'snow'</li>\n",
       "\t<li>'sofa'</li>\n",
       "\t<li>'someth'</li>\n",
       "\t<li>'sometim'</li>\n",
       "\t<li>'somewher'</li>\n",
       "\t<li>'sound'</li>\n",
       "\t<li>'south'</li>\n",
       "\t<li>'spend'</li>\n",
       "\t<li>'spent'</li>\n",
       "\t<li>'spoke'</li>\n",
       "\t<li>'stand'</li>\n",
       "\t<li>'step'</li>\n",
       "\t<li>'stone'</li>\n",
       "\t<li>'student'</li>\n",
       "\t<li>'studi'</li>\n",
       "\t<li>'stupid'</li>\n",
       "\t<li>'style'</li>\n",
       "\t<li>'success'</li>\n",
       "\t<li>'suck'</li>\n",
       "\t<li>'sunday'</li>\n",
       "\t<li>'sup'</li>\n",
       "\t<li>'suppos'</li>\n",
       "\t<li>'sure'</li>\n",
       "\t<li>'surf'</li>\n",
       "\t<li>'sweet'</li>\n",
       "\t<li>'swing'</li>\n",
       "\t<li>'system'</li>\n",
       "\t<li>'tampa'</li>\n",
       "\t<li>'tea'</li>\n",
       "\t<li>'teach'</li>\n",
       "\t<li>'tear'</li>\n",
       "\t<li>'teas'</li>\n",
       "\t<li>'test'</li>\n",
       "\t<li>'thanx'</li>\n",
       "\t<li>'that'</li>\n",
       "\t<li>'thinkin'</li>\n",
       "\t<li>'thk'</li>\n",
       "\t<li>'tho'</li>\n",
       "\t<li>'though'</li>\n",
       "\t<li>'throw'</li>\n",
       "\t<li>'thru'</li>\n",
       "\t<li>'tht'</li>\n",
       "\t<li>'tick'</li>\n",
       "\t<li>'til'</li>\n",
       "\t<li>'tire'</li>\n",
       "\t<li>'tmr'</li>\n",
       "\t<li>'togeth'</li>\n",
       "\t<li>'told'</li>\n",
       "\t<li>'tomo'</li>\n",
       "\t<li>'tonit'</li>\n",
       "\t<li>'took'</li>\n",
       "\t<li>'torch'</li>\n",
       "\t<li>'tot'</li>\n",
       "\t<li>'tough'</li>\n",
       "\t<li>'toward'</li>\n",
       "\t<li>'track'</li>\n",
       "\t<li>'transact'</li>\n",
       "\t<li>'travel'</li>\n",
       "\t<li>'treat'</li>\n",
       "\t<li>'troubl'</li>\n",
       "\t<li>'trust'</li>\n",
       "\t<li>'truth'</li>\n",
       "\t<li>'ttyl'</li>\n",
       "\t<li>'tuesday'</li>\n",
       "\t<li>'twice'</li>\n",
       "\t<li>'two'</li>\n",
       "\t<li>'ugh'</li>\n",
       "\t<li>'ull'</li>\n",
       "\t<li>'uncl'</li>\n",
       "\t<li>'understand'</li>\n",
       "\t<li>'unless'</li>\n",
       "\t<li>'ure'</li>\n",
       "\t<li>'urself'</li>\n",
       "\t<li>'usf'</li>\n",
       "\t<li>'usual'</li>\n",
       "\t<li>'vikki'</li>\n",
       "\t<li>'voic'</li>\n",
       "\t<li>'vomit'</li>\n",
       "\t<li>'wake'</li>\n",
       "\t<li>'wana'</li>\n",
       "\t<li>'wast'</li>\n",
       "\t<li>'watch'</li>\n",
       "\t<li>'water'</li>\n",
       "\t<li>'weak'</li>\n",
       "\t<li>'wear'</li>\n",
       "\t<li>'weather'</li>\n",
       "\t<li>'wednesday'</li>\n",
       "\t<li>'weed'</li>\n",
       "\t<li>'wen'</li>\n",
       "\t<li>'went'</li>\n",
       "\t<li>'whatev'</li>\n",
       "\t<li>'whenev'</li>\n",
       "\t<li>'whole'</li>\n",
       "\t<li>'wif'</li>\n",
       "\t<li>'wife'</li>\n",
       "\t<li>'wil'</li>\n",
       "\t<li>'wit'</li>\n",
       "\t<li>'without'</li>\n",
       "\t<li>'wnt'</li>\n",
       "\t<li>'woke'</li>\n",
       "\t<li>'wonder'</li>\n",
       "\t<li>'wont'</li>\n",
       "\t<li>'workin'</li>\n",
       "\t<li>'worri'</li>\n",
       "\t<li>'wors'</li>\n",
       "\t<li>'write'</li>\n",
       "\t<li>'wrong'</li>\n",
       "\t<li>'yar'</li>\n",
       "\t<li>'yep'</li>\n",
       "\t<li>'yoga'</li>\n",
       "\t<li>'yup'</li>\n",
       "</ol>\n"
      ],
      "text/latex": [
       "\\begin{enumerate*}\n",
       "\\item '€˜m'\n",
       "\\item '€˜s'\n",
       "\\item 'abiola'\n",
       "\\item 'abl'\n",
       "\\item 'abt'\n",
       "\\item 'accept'\n",
       "\\item 'across'\n",
       "\\item 'act'\n",
       "\\item 'actual'\n",
       "\\item 'add'\n",
       "\\item 'advanc'\n",
       "\\item 'aft'\n",
       "\\item 'afternoon'\n",
       "\\item 'ago'\n",
       "\\item 'aha'\n",
       "\\item 'ahead'\n",
       "\\item 'aight'\n",
       "\\item 'aint'\n",
       "\\item 'air'\n",
       "\\item 'aiyo'\n",
       "\\item 'alex'\n",
       "\\item 'almost'\n",
       "\\item 'alright'\n",
       "\\item 'alway'\n",
       "\\item 'angri'\n",
       "\\item 'anymor'\n",
       "\\item 'anyth'\n",
       "\\item 'anyway'\n",
       "\\item 'apart'\n",
       "\\item 'appreci'\n",
       "\\item 'ard'\n",
       "\\item 'argu'\n",
       "\\item 'argument'\n",
       "\\item 'armand'\n",
       "\\item 'askd'\n",
       "\\item 'avoid'\n",
       "\\item 'awak'\n",
       "\\item 'awesom'\n",
       "\\item 'bad'\n",
       "\\item 'bag'\n",
       "\\item 'bare'\n",
       "\\item 'basic'\n",
       "\\item 'bath'\n",
       "\\item 'batteri'\n",
       "\\item 'bcoz'\n",
       "\\item 'bday'\n",
       "\\item 'beauti'\n",
       "\\item 'bed'\n",
       "\\item 'beer'\n",
       "\\item 'better'\n",
       "\\item 'bit'\n",
       "\\item 'black'\n",
       "\\item 'blank'\n",
       "\\item 'bless'\n",
       "\\item 'blue'\n",
       "\\item 'bold'\n",
       "\\item 'boo'\n",
       "\\item 'boost'\n",
       "\\item 'boss'\n",
       "\\item 'bother'\n",
       "\\item 'boytoy'\n",
       "\\item 'bslvyl'\n",
       "\\item 'buck'\n",
       "\\item 'bus'\n",
       "\\item 'cabin'\n",
       "\\item 'callertun'\n",
       "\\item 'campus'\n",
       "\\item 'cancer'\n",
       "\\item 'car'\n",
       "\\item 'carlo'\n",
       "\\item 'case'\n",
       "\\item 'catch'\n",
       "\\item 'caus'\n",
       "\\item 'celebr'\n",
       "\\item 'cell'\n",
       "\\item 'centr'\n",
       "\\item 'cheer'\n",
       "\\item 'chennai'\n",
       "\\item 'chikku'\n",
       "\\item 'childish'\n",
       "\\item 'class'\n",
       "\\item 'clean'\n",
       "\\item 'clear'\n",
       "\\item 'coffe'\n",
       "\\item 'cold'\n",
       "\\item 'colleagu'\n",
       "\\item 'colleg'\n",
       "\\item 'comin'\n",
       "\\item 'cook'\n",
       "\\item 'copi'\n",
       "\\item 'cos'\n",
       "\\item 'cours'\n",
       "\\item 'cover'\n",
       "\\item 'coz'\n",
       "\\item 'crave'\n",
       "\\item 'creat'\n",
       "\\item 'cri'\n",
       "\\item 'cuddl'\n",
       "\\item 'cut'\n",
       "\\item 'cuz'\n",
       "\\item 'dad'\n",
       "\\item 'daddi'\n",
       "\\item 'darlin'\n",
       "\\item 'darren'\n",
       "\\item 'dat'\n",
       "\\item 'dead'\n",
       "\\item 'decid'\n",
       "\\item 'decim'\n",
       "\\item 'decis'\n",
       "\\item 'deep'\n",
       "\\item 'den'\n",
       "\\item 'depend'\n",
       "\\item 'didnt'\n",
       "\\item 'die'\n",
       "\\item 'diet'\n",
       "\\item 'differ'\n",
       "\\item 'difficult'\n",
       "\\item 'din'\n",
       "\\item 'dinner'\n",
       "\\item 'discuss'\n",
       "\\item 'disturb'\n",
       "\\item 'dnt'\n",
       "\\item 'doc'\n",
       "\\item 'doctor'\n",
       "\\item 'doesnt'\n",
       "\\item 'doin'\n",
       "\\item 'don'\n",
       "\\item 'door'\n",
       "\\item 'drop'\n",
       "\\item 'drug'\n",
       "\\item 'dude'\n",
       "\\item 'dun'\n",
       "\\item 'dunno'\n",
       "\\item 'earli'\n",
       "\\item 'earlier'\n",
       "\\item 'earth'\n",
       "\\item 'eat'\n",
       "\\item 'eatin'\n",
       "\\item 'els'\n",
       "\\item 'embarass'\n",
       "\\item 'everybodi'\n",
       "\\item 'everyth'\n",
       "\\item 'exact'\n",
       "\\item 'exam'\n",
       "\\item 'excel'\n",
       "\\item 'excus'\n",
       "\\item 'expect'\n",
       "\\item 'experi'\n",
       "\\item 'face'\n",
       "\\item 'facebook'\n",
       "\\item 'fall'\n",
       "\\item 'famili'\n",
       "\\item 'far'\n",
       "\\item 'fat'\n",
       "\\item 'father'\n",
       "\\item 'fault'\n",
       "\\item 'feel'\n",
       "\\item 'felt'\n",
       "\\item 'fetch'\n",
       "\\item 'fight'\n",
       "\\item 'figur'\n",
       "\\item 'file'\n",
       "\\item 'fill'\n",
       "\\item 'fine'\n",
       "\\item 'finger'\n",
       "\\item 'finish'\n",
       "\\item 'flat'\n",
       "\\item 'food'\n",
       "\\item 'forev'\n",
       "\\item 'forgot'\n",
       "\\item 'found'\n",
       "\\item 'freak'\n",
       "\\item 'fren'\n",
       "\\item 'friday'\n",
       "\\item 'friendship'\n",
       "\\item 'frm'\n",
       "\\item 'frnds'\n",
       "\\item 'full'\n",
       "\\item 'fullonsmscom'\n",
       "\\item 'funni'\n",
       "\\item 'gal'\n",
       "\\item 'gap'\n",
       "\\item 'gas'\n",
       "\\item 'gave'\n",
       "\\item 'gentl'\n",
       "\\item 'girlfrnd'\n",
       "\\item 'glad'\n",
       "\\item 'god'\n",
       "\\item 'goe'\n",
       "\\item 'goin'\n",
       "\\item 'gone'\n",
       "\\item 'gonna'\n",
       "\\item 'goodmorn'\n",
       "\\item 'goodnight'\n",
       "\\item 'gotta'\n",
       "\\item 'grin'\n",
       "\\item 'gud'\n",
       "\\item 'gym'\n",
       "\\item 'haf'\n",
       "\\item 'haha'\n",
       "\\item 'hai'\n",
       "\\item 'hair'\n",
       "\\item 'hand'\n",
       "\\item 'hang'\n",
       "\\item 'happen'\n",
       "\\item 'hate'\n",
       "\\item 'hav'\n",
       "\\item 'havent'\n",
       "\\item 'head'\n",
       "\\item 'heavi'\n",
       "\\item 'hee'\n",
       "\\item 'hell'\n",
       "\\item 'hiya'\n",
       "\\item 'hmm'\n",
       "\\item 'hmmm'\n",
       "\\item 'hold'\n",
       "\\item 'home'\n",
       "\\item 'hook'\n",
       "\\item 'hop'\n",
       "\\item 'hospit'\n",
       "\\item 'how'\n",
       "\\item 'howz'\n",
       "\\item 'hug'\n",
       "\\item 'huh'\n",
       "\\item 'hungri'\n",
       "\\item 'hurri'\n",
       "\\item 'hurt'\n",
       "\\item 'ice'\n",
       "\\item 'idea'\n",
       "\\item 'ill'\n",
       "\\item 'insid'\n",
       "\\item 'instead'\n",
       "\\item 'irrit'\n",
       "\\item 'ish'\n",
       "\\item 'ive'\n",
       "\\item 'izzit'\n",
       "\\item 'jay'\n",
       "\\item 'job'\n",
       "\\item 'john'\n",
       "\\item 'joke'\n",
       "\\item 'joy'\n",
       "\\item 'jus'\n",
       "\\item 'juz'\n",
       "\\item 'kate'\n",
       "\\item 'kid'\n",
       "\\item 'kill'\n",
       "\\item 'kind'\n",
       "\\item 'kiss'\n",
       "\\item 'knew'\n",
       "\\item 'knw'\n",
       "\\item 'laptop'\n",
       "\\item 'lar'\n",
       "\\item 'later'\n",
       "\\item 'lazi'\n",
       "\\item 'least'\n",
       "\\item 'lect'\n",
       "\\item 'left'\n",
       "\\item 'leh'\n",
       "\\item 'lei'\n",
       "\\item 'less'\n",
       "\\item 'lesson'\n",
       "\\item 'let'\n",
       "\\item 'letter'\n",
       "\\item 'liao'\n",
       "\\item 'librari'\n",
       "\\item 'lie'\n",
       "\\item 'lift'\n",
       "\\item 'light'\n",
       "\\item 'list'\n",
       "\\item 'lmao'\n",
       "\\item 'load'\n",
       "\\item 'lol'\n",
       "\\item 'long'\n",
       "\\item 'longer'\n",
       "\\item 'lor'\n",
       "\\item 'lovabl'\n",
       "\\item 'lunch'\n",
       "\\item 'mad'\n",
       "\\item 'mah'\n",
       "\\item 'mail'\n",
       "\\item 'malaria'\n",
       "\\item 'man'\n",
       "\\item 'march'\n",
       "\\item 'mark'\n",
       "\\item 'matter'\n",
       "\\item 'mean'\n",
       "\\item 'meant'\n",
       "\\item 'medic'\n",
       "\\item 'meh'\n",
       "\\item 'merri'\n",
       "\\item 'might'\n",
       "\\item 'mine'\n",
       "\\item 'miracl'\n",
       "\\item 'mode'\n",
       "\\item 'mom'\n",
       "\\item 'moment'\n",
       "\\item 'mon'\n",
       "\\item 'monday'\n",
       "\\item 'morn'\n",
       "\\item 'mother'\n",
       "\\item 'move'\n",
       "\\item 'movi'\n",
       "\\item 'mrng'\n",
       "\\item 'mrt'\n",
       "\\item 'mrw'\n",
       "\\item 'mum'\n",
       "\\item 'murder'\n",
       "\\item 'nah'\n",
       "\\item 'nake'\n",
       "\\item 'natur'\n",
       "\\item 'naughti'\n",
       "\\item 'net'\n",
       "\\item 'neva'\n",
       "\\item 'nice'\n",
       "\\item 'nigeria'\n",
       "\\item 'nobodi'\n",
       "\\item 'noe'\n",
       "\\item 'noon'\n",
       "\\item 'nope'\n",
       "\\item 'num'\n",
       "\\item 'obvious'\n",
       "\\item 'okay'\n",
       "\\item 'oki'\n",
       "\\item 'omg'\n",
       "\\item 'onlin'\n",
       "\\item 'oop'\n",
       "\\item 'opinion'\n",
       "\\item 'orchard'\n",
       "\\item 'oredi'\n",
       "\\item 'oso'\n",
       "\\item 'other'\n",
       "\\item 'otherwis'\n",
       "\\item 'outsid'\n",
       "\\item 'page'\n",
       "\\item 'pain'\n",
       "\\item 'paper'\n",
       "\\item 'parent'\n",
       "\\item 'park'\n",
       "\\item 'past'\n",
       "\\item 'piss'\n",
       "\\item 'pizza'\n",
       "\\item 'plan'\n",
       "\\item 'pleasur'\n",
       "\\item 'plenti'\n",
       "\\item 'plz'\n",
       "\\item 'poor'\n",
       "\\item 'pop'\n",
       "\\item 'possess'\n",
       "\\item 'possibl'\n",
       "\\item 'power'\n",
       "\\item 'pray'\n",
       "\\item 'present'\n",
       "\\item 'pretti'\n",
       "\\item 'princess'\n",
       "\\item 'prob'\n",
       "\\item 'probabl'\n",
       "\\item 'problem'\n",
       "\\item 'project'\n",
       "\\item 'quick'\n",
       "\\item 'quit'\n",
       "\\item 'rain'\n",
       "\\item 'rang'\n",
       "\\item 'rather'\n",
       "\\item 'read'\n",
       "\\item 'reali'\n",
       "\\item 'realli'\n",
       "\\item 'reason'\n",
       "\\item 'relat'\n",
       "\\item 'relax'\n",
       "\\item 'remain'\n",
       "\\item 'rememb'\n",
       "\\item 'rent'\n",
       "\\item 'respons'\n",
       "\\item 'rest'\n",
       "\\item 'return'\n",
       "\\item 'rite'\n",
       "\\item 'road'\n",
       "\\item 'role'\n",
       "\\item 'room'\n",
       "\\item 'roommat'\n",
       "\\item 'run'\n",
       "\\item 'rush'\n",
       "\\item 'sad'\n",
       "\\item 'safe'\n",
       "\\item 'said'\n",
       "\\item 'saw'\n",
       "\\item 'sch'\n",
       "\\item 'school'\n",
       "\\item 'scream'\n",
       "\\item 'sea'\n",
       "\\item 'second'\n",
       "\\item 'seen'\n",
       "\\item 'semest'\n",
       "\\item 'sens'\n",
       "\\item 'serious'\n",
       "\\item 'settl'\n",
       "\\item 'shall'\n",
       "\\item 'share'\n",
       "\\item 'shd'\n",
       "\\item 'ship'\n",
       "\\item 'shirt'\n",
       "\\item 'shower'\n",
       "\\item 'sick'\n",
       "\\item 'side'\n",
       "\\item 'sigh'\n",
       "\\item 'sight'\n",
       "\\item 'silent'\n",
       "\\item 'simpl'\n",
       "\\item 'sis'\n",
       "\\item 'sister'\n",
       "\\item 'sit'\n",
       "\\item 'situat'\n",
       "\\item 'skype'\n",
       "\\item 'slave'\n",
       "\\item 'sleep'\n",
       "\\item 'slept'\n",
       "\\item 'slowli'\n",
       "\\item 'small'\n",
       "\\item 'smile'\n",
       "\\item 'smoke'\n",
       "\\item 'smth'\n",
       "\\item 'snow'\n",
       "\\item 'sofa'\n",
       "\\item 'someth'\n",
       "\\item 'sometim'\n",
       "\\item 'somewher'\n",
       "\\item 'sound'\n",
       "\\item 'south'\n",
       "\\item 'spend'\n",
       "\\item 'spent'\n",
       "\\item 'spoke'\n",
       "\\item 'stand'\n",
       "\\item 'step'\n",
       "\\item 'stone'\n",
       "\\item 'student'\n",
       "\\item 'studi'\n",
       "\\item 'stupid'\n",
       "\\item 'style'\n",
       "\\item 'success'\n",
       "\\item 'suck'\n",
       "\\item 'sunday'\n",
       "\\item 'sup'\n",
       "\\item 'suppos'\n",
       "\\item 'sure'\n",
       "\\item 'surf'\n",
       "\\item 'sweet'\n",
       "\\item 'swing'\n",
       "\\item 'system'\n",
       "\\item 'tampa'\n",
       "\\item 'tea'\n",
       "\\item 'teach'\n",
       "\\item 'tear'\n",
       "\\item 'teas'\n",
       "\\item 'test'\n",
       "\\item 'thanx'\n",
       "\\item 'that'\n",
       "\\item 'thinkin'\n",
       "\\item 'thk'\n",
       "\\item 'tho'\n",
       "\\item 'though'\n",
       "\\item 'throw'\n",
       "\\item 'thru'\n",
       "\\item 'tht'\n",
       "\\item 'tick'\n",
       "\\item 'til'\n",
       "\\item 'tire'\n",
       "\\item 'tmr'\n",
       "\\item 'togeth'\n",
       "\\item 'told'\n",
       "\\item 'tomo'\n",
       "\\item 'tonit'\n",
       "\\item 'took'\n",
       "\\item 'torch'\n",
       "\\item 'tot'\n",
       "\\item 'tough'\n",
       "\\item 'toward'\n",
       "\\item 'track'\n",
       "\\item 'transact'\n",
       "\\item 'travel'\n",
       "\\item 'treat'\n",
       "\\item 'troubl'\n",
       "\\item 'trust'\n",
       "\\item 'truth'\n",
       "\\item 'ttyl'\n",
       "\\item 'tuesday'\n",
       "\\item 'twice'\n",
       "\\item 'two'\n",
       "\\item 'ugh'\n",
       "\\item 'ull'\n",
       "\\item 'uncl'\n",
       "\\item 'understand'\n",
       "\\item 'unless'\n",
       "\\item 'ure'\n",
       "\\item 'urself'\n",
       "\\item 'usf'\n",
       "\\item 'usual'\n",
       "\\item 'vikki'\n",
       "\\item 'voic'\n",
       "\\item 'vomit'\n",
       "\\item 'wake'\n",
       "\\item 'wana'\n",
       "\\item 'wast'\n",
       "\\item 'watch'\n",
       "\\item 'water'\n",
       "\\item 'weak'\n",
       "\\item 'wear'\n",
       "\\item 'weather'\n",
       "\\item 'wednesday'\n",
       "\\item 'weed'\n",
       "\\item 'wen'\n",
       "\\item 'went'\n",
       "\\item 'whatev'\n",
       "\\item 'whenev'\n",
       "\\item 'whole'\n",
       "\\item 'wif'\n",
       "\\item 'wife'\n",
       "\\item 'wil'\n",
       "\\item 'wit'\n",
       "\\item 'without'\n",
       "\\item 'wnt'\n",
       "\\item 'woke'\n",
       "\\item 'wonder'\n",
       "\\item 'wont'\n",
       "\\item 'workin'\n",
       "\\item 'worri'\n",
       "\\item 'wors'\n",
       "\\item 'write'\n",
       "\\item 'wrong'\n",
       "\\item 'yar'\n",
       "\\item 'yep'\n",
       "\\item 'yoga'\n",
       "\\item 'yup'\n",
       "\\end{enumerate*}\n"
      ],
      "text/markdown": [
       "1. '€˜m'\n",
       "2. '€˜s'\n",
       "3. 'abiola'\n",
       "4. 'abl'\n",
       "5. 'abt'\n",
       "6. 'accept'\n",
       "7. 'across'\n",
       "8. 'act'\n",
       "9. 'actual'\n",
       "10. 'add'\n",
       "11. 'advanc'\n",
       "12. 'aft'\n",
       "13. 'afternoon'\n",
       "14. 'ago'\n",
       "15. 'aha'\n",
       "16. 'ahead'\n",
       "17. 'aight'\n",
       "18. 'aint'\n",
       "19. 'air'\n",
       "20. 'aiyo'\n",
       "21. 'alex'\n",
       "22. 'almost'\n",
       "23. 'alright'\n",
       "24. 'alway'\n",
       "25. 'angri'\n",
       "26. 'anymor'\n",
       "27. 'anyth'\n",
       "28. 'anyway'\n",
       "29. 'apart'\n",
       "30. 'appreci'\n",
       "31. 'ard'\n",
       "32. 'argu'\n",
       "33. 'argument'\n",
       "34. 'armand'\n",
       "35. 'askd'\n",
       "36. 'avoid'\n",
       "37. 'awak'\n",
       "38. 'awesom'\n",
       "39. 'bad'\n",
       "40. 'bag'\n",
       "41. 'bare'\n",
       "42. 'basic'\n",
       "43. 'bath'\n",
       "44. 'batteri'\n",
       "45. 'bcoz'\n",
       "46. 'bday'\n",
       "47. 'beauti'\n",
       "48. 'bed'\n",
       "49. 'beer'\n",
       "50. 'better'\n",
       "51. 'bit'\n",
       "52. 'black'\n",
       "53. 'blank'\n",
       "54. 'bless'\n",
       "55. 'blue'\n",
       "56. 'bold'\n",
       "57. 'boo'\n",
       "58. 'boost'\n",
       "59. 'boss'\n",
       "60. 'bother'\n",
       "61. 'boytoy'\n",
       "62. 'bslvyl'\n",
       "63. 'buck'\n",
       "64. 'bus'\n",
       "65. 'cabin'\n",
       "66. 'callertun'\n",
       "67. 'campus'\n",
       "68. 'cancer'\n",
       "69. 'car'\n",
       "70. 'carlo'\n",
       "71. 'case'\n",
       "72. 'catch'\n",
       "73. 'caus'\n",
       "74. 'celebr'\n",
       "75. 'cell'\n",
       "76. 'centr'\n",
       "77. 'cheer'\n",
       "78. 'chennai'\n",
       "79. 'chikku'\n",
       "80. 'childish'\n",
       "81. 'class'\n",
       "82. 'clean'\n",
       "83. 'clear'\n",
       "84. 'coffe'\n",
       "85. 'cold'\n",
       "86. 'colleagu'\n",
       "87. 'colleg'\n",
       "88. 'comin'\n",
       "89. 'cook'\n",
       "90. 'copi'\n",
       "91. 'cos'\n",
       "92. 'cours'\n",
       "93. 'cover'\n",
       "94. 'coz'\n",
       "95. 'crave'\n",
       "96. 'creat'\n",
       "97. 'cri'\n",
       "98. 'cuddl'\n",
       "99. 'cut'\n",
       "100. 'cuz'\n",
       "101. 'dad'\n",
       "102. 'daddi'\n",
       "103. 'darlin'\n",
       "104. 'darren'\n",
       "105. 'dat'\n",
       "106. 'dead'\n",
       "107. 'decid'\n",
       "108. 'decim'\n",
       "109. 'decis'\n",
       "110. 'deep'\n",
       "111. 'den'\n",
       "112. 'depend'\n",
       "113. 'didnt'\n",
       "114. 'die'\n",
       "115. 'diet'\n",
       "116. 'differ'\n",
       "117. 'difficult'\n",
       "118. 'din'\n",
       "119. 'dinner'\n",
       "120. 'discuss'\n",
       "121. 'disturb'\n",
       "122. 'dnt'\n",
       "123. 'doc'\n",
       "124. 'doctor'\n",
       "125. 'doesnt'\n",
       "126. 'doin'\n",
       "127. 'don'\n",
       "128. 'door'\n",
       "129. 'drop'\n",
       "130. 'drug'\n",
       "131. 'dude'\n",
       "132. 'dun'\n",
       "133. 'dunno'\n",
       "134. 'earli'\n",
       "135. 'earlier'\n",
       "136. 'earth'\n",
       "137. 'eat'\n",
       "138. 'eatin'\n",
       "139. 'els'\n",
       "140. 'embarass'\n",
       "141. 'everybodi'\n",
       "142. 'everyth'\n",
       "143. 'exact'\n",
       "144. 'exam'\n",
       "145. 'excel'\n",
       "146. 'excus'\n",
       "147. 'expect'\n",
       "148. 'experi'\n",
       "149. 'face'\n",
       "150. 'facebook'\n",
       "151. 'fall'\n",
       "152. 'famili'\n",
       "153. 'far'\n",
       "154. 'fat'\n",
       "155. 'father'\n",
       "156. 'fault'\n",
       "157. 'feel'\n",
       "158. 'felt'\n",
       "159. 'fetch'\n",
       "160. 'fight'\n",
       "161. 'figur'\n",
       "162. 'file'\n",
       "163. 'fill'\n",
       "164. 'fine'\n",
       "165. 'finger'\n",
       "166. 'finish'\n",
       "167. 'flat'\n",
       "168. 'food'\n",
       "169. 'forev'\n",
       "170. 'forgot'\n",
       "171. 'found'\n",
       "172. 'freak'\n",
       "173. 'fren'\n",
       "174. 'friday'\n",
       "175. 'friendship'\n",
       "176. 'frm'\n",
       "177. 'frnds'\n",
       "178. 'full'\n",
       "179. 'fullonsmscom'\n",
       "180. 'funni'\n",
       "181. 'gal'\n",
       "182. 'gap'\n",
       "183. 'gas'\n",
       "184. 'gave'\n",
       "185. 'gentl'\n",
       "186. 'girlfrnd'\n",
       "187. 'glad'\n",
       "188. 'god'\n",
       "189. 'goe'\n",
       "190. 'goin'\n",
       "191. 'gone'\n",
       "192. 'gonna'\n",
       "193. 'goodmorn'\n",
       "194. 'goodnight'\n",
       "195. 'gotta'\n",
       "196. 'grin'\n",
       "197. 'gud'\n",
       "198. 'gym'\n",
       "199. 'haf'\n",
       "200. 'haha'\n",
       "201. 'hai'\n",
       "202. 'hair'\n",
       "203. 'hand'\n",
       "204. 'hang'\n",
       "205. 'happen'\n",
       "206. 'hate'\n",
       "207. 'hav'\n",
       "208. 'havent'\n",
       "209. 'head'\n",
       "210. 'heavi'\n",
       "211. 'hee'\n",
       "212. 'hell'\n",
       "213. 'hiya'\n",
       "214. 'hmm'\n",
       "215. 'hmmm'\n",
       "216. 'hold'\n",
       "217. 'home'\n",
       "218. 'hook'\n",
       "219. 'hop'\n",
       "220. 'hospit'\n",
       "221. 'how'\n",
       "222. 'howz'\n",
       "223. 'hug'\n",
       "224. 'huh'\n",
       "225. 'hungri'\n",
       "226. 'hurri'\n",
       "227. 'hurt'\n",
       "228. 'ice'\n",
       "229. 'idea'\n",
       "230. 'ill'\n",
       "231. 'insid'\n",
       "232. 'instead'\n",
       "233. 'irrit'\n",
       "234. 'ish'\n",
       "235. 'ive'\n",
       "236. 'izzit'\n",
       "237. 'jay'\n",
       "238. 'job'\n",
       "239. 'john'\n",
       "240. 'joke'\n",
       "241. 'joy'\n",
       "242. 'jus'\n",
       "243. 'juz'\n",
       "244. 'kate'\n",
       "245. 'kid'\n",
       "246. 'kill'\n",
       "247. 'kind'\n",
       "248. 'kiss'\n",
       "249. 'knew'\n",
       "250. 'knw'\n",
       "251. 'laptop'\n",
       "252. 'lar'\n",
       "253. 'later'\n",
       "254. 'lazi'\n",
       "255. 'least'\n",
       "256. 'lect'\n",
       "257. 'left'\n",
       "258. 'leh'\n",
       "259. 'lei'\n",
       "260. 'less'\n",
       "261. 'lesson'\n",
       "262. 'let'\n",
       "263. 'letter'\n",
       "264. 'liao'\n",
       "265. 'librari'\n",
       "266. 'lie'\n",
       "267. 'lift'\n",
       "268. 'light'\n",
       "269. 'list'\n",
       "270. 'lmao'\n",
       "271. 'load'\n",
       "272. 'lol'\n",
       "273. 'long'\n",
       "274. 'longer'\n",
       "275. 'lor'\n",
       "276. 'lovabl'\n",
       "277. 'lunch'\n",
       "278. 'mad'\n",
       "279. 'mah'\n",
       "280. 'mail'\n",
       "281. 'malaria'\n",
       "282. 'man'\n",
       "283. 'march'\n",
       "284. 'mark'\n",
       "285. 'matter'\n",
       "286. 'mean'\n",
       "287. 'meant'\n",
       "288. 'medic'\n",
       "289. 'meh'\n",
       "290. 'merri'\n",
       "291. 'might'\n",
       "292. 'mine'\n",
       "293. 'miracl'\n",
       "294. 'mode'\n",
       "295. 'mom'\n",
       "296. 'moment'\n",
       "297. 'mon'\n",
       "298. 'monday'\n",
       "299. 'morn'\n",
       "300. 'mother'\n",
       "301. 'move'\n",
       "302. 'movi'\n",
       "303. 'mrng'\n",
       "304. 'mrt'\n",
       "305. 'mrw'\n",
       "306. 'mum'\n",
       "307. 'murder'\n",
       "308. 'nah'\n",
       "309. 'nake'\n",
       "310. 'natur'\n",
       "311. 'naughti'\n",
       "312. 'net'\n",
       "313. 'neva'\n",
       "314. 'nice'\n",
       "315. 'nigeria'\n",
       "316. 'nobodi'\n",
       "317. 'noe'\n",
       "318. 'noon'\n",
       "319. 'nope'\n",
       "320. 'num'\n",
       "321. 'obvious'\n",
       "322. 'okay'\n",
       "323. 'oki'\n",
       "324. 'omg'\n",
       "325. 'onlin'\n",
       "326. 'oop'\n",
       "327. 'opinion'\n",
       "328. 'orchard'\n",
       "329. 'oredi'\n",
       "330. 'oso'\n",
       "331. 'other'\n",
       "332. 'otherwis'\n",
       "333. 'outsid'\n",
       "334. 'page'\n",
       "335. 'pain'\n",
       "336. 'paper'\n",
       "337. 'parent'\n",
       "338. 'park'\n",
       "339. 'past'\n",
       "340. 'piss'\n",
       "341. 'pizza'\n",
       "342. 'plan'\n",
       "343. 'pleasur'\n",
       "344. 'plenti'\n",
       "345. 'plz'\n",
       "346. 'poor'\n",
       "347. 'pop'\n",
       "348. 'possess'\n",
       "349. 'possibl'\n",
       "350. 'power'\n",
       "351. 'pray'\n",
       "352. 'present'\n",
       "353. 'pretti'\n",
       "354. 'princess'\n",
       "355. 'prob'\n",
       "356. 'probabl'\n",
       "357. 'problem'\n",
       "358. 'project'\n",
       "359. 'quick'\n",
       "360. 'quit'\n",
       "361. 'rain'\n",
       "362. 'rang'\n",
       "363. 'rather'\n",
       "364. 'read'\n",
       "365. 'reali'\n",
       "366. 'realli'\n",
       "367. 'reason'\n",
       "368. 'relat'\n",
       "369. 'relax'\n",
       "370. 'remain'\n",
       "371. 'rememb'\n",
       "372. 'rent'\n",
       "373. 'respons'\n",
       "374. 'rest'\n",
       "375. 'return'\n",
       "376. 'rite'\n",
       "377. 'road'\n",
       "378. 'role'\n",
       "379. 'room'\n",
       "380. 'roommat'\n",
       "381. 'run'\n",
       "382. 'rush'\n",
       "383. 'sad'\n",
       "384. 'safe'\n",
       "385. 'said'\n",
       "386. 'saw'\n",
       "387. 'sch'\n",
       "388. 'school'\n",
       "389. 'scream'\n",
       "390. 'sea'\n",
       "391. 'second'\n",
       "392. 'seen'\n",
       "393. 'semest'\n",
       "394. 'sens'\n",
       "395. 'serious'\n",
       "396. 'settl'\n",
       "397. 'shall'\n",
       "398. 'share'\n",
       "399. 'shd'\n",
       "400. 'ship'\n",
       "401. 'shirt'\n",
       "402. 'shower'\n",
       "403. 'sick'\n",
       "404. 'side'\n",
       "405. 'sigh'\n",
       "406. 'sight'\n",
       "407. 'silent'\n",
       "408. 'simpl'\n",
       "409. 'sis'\n",
       "410. 'sister'\n",
       "411. 'sit'\n",
       "412. 'situat'\n",
       "413. 'skype'\n",
       "414. 'slave'\n",
       "415. 'sleep'\n",
       "416. 'slept'\n",
       "417. 'slowli'\n",
       "418. 'small'\n",
       "419. 'smile'\n",
       "420. 'smoke'\n",
       "421. 'smth'\n",
       "422. 'snow'\n",
       "423. 'sofa'\n",
       "424. 'someth'\n",
       "425. 'sometim'\n",
       "426. 'somewher'\n",
       "427. 'sound'\n",
       "428. 'south'\n",
       "429. 'spend'\n",
       "430. 'spent'\n",
       "431. 'spoke'\n",
       "432. 'stand'\n",
       "433. 'step'\n",
       "434. 'stone'\n",
       "435. 'student'\n",
       "436. 'studi'\n",
       "437. 'stupid'\n",
       "438. 'style'\n",
       "439. 'success'\n",
       "440. 'suck'\n",
       "441. 'sunday'\n",
       "442. 'sup'\n",
       "443. 'suppos'\n",
       "444. 'sure'\n",
       "445. 'surf'\n",
       "446. 'sweet'\n",
       "447. 'swing'\n",
       "448. 'system'\n",
       "449. 'tampa'\n",
       "450. 'tea'\n",
       "451. 'teach'\n",
       "452. 'tear'\n",
       "453. 'teas'\n",
       "454. 'test'\n",
       "455. 'thanx'\n",
       "456. 'that'\n",
       "457. 'thinkin'\n",
       "458. 'thk'\n",
       "459. 'tho'\n",
       "460. 'though'\n",
       "461. 'throw'\n",
       "462. 'thru'\n",
       "463. 'tht'\n",
       "464. 'tick'\n",
       "465. 'til'\n",
       "466. 'tire'\n",
       "467. 'tmr'\n",
       "468. 'togeth'\n",
       "469. 'told'\n",
       "470. 'tomo'\n",
       "471. 'tonit'\n",
       "472. 'took'\n",
       "473. 'torch'\n",
       "474. 'tot'\n",
       "475. 'tough'\n",
       "476. 'toward'\n",
       "477. 'track'\n",
       "478. 'transact'\n",
       "479. 'travel'\n",
       "480. 'treat'\n",
       "481. 'troubl'\n",
       "482. 'trust'\n",
       "483. 'truth'\n",
       "484. 'ttyl'\n",
       "485. 'tuesday'\n",
       "486. 'twice'\n",
       "487. 'two'\n",
       "488. 'ugh'\n",
       "489. 'ull'\n",
       "490. 'uncl'\n",
       "491. 'understand'\n",
       "492. 'unless'\n",
       "493. 'ure'\n",
       "494. 'urself'\n",
       "495. 'usf'\n",
       "496. 'usual'\n",
       "497. 'vikki'\n",
       "498. 'voic'\n",
       "499. 'vomit'\n",
       "500. 'wake'\n",
       "501. 'wana'\n",
       "502. 'wast'\n",
       "503. 'watch'\n",
       "504. 'water'\n",
       "505. 'weak'\n",
       "506. 'wear'\n",
       "507. 'weather'\n",
       "508. 'wednesday'\n",
       "509. 'weed'\n",
       "510. 'wen'\n",
       "511. 'went'\n",
       "512. 'whatev'\n",
       "513. 'whenev'\n",
       "514. 'whole'\n",
       "515. 'wif'\n",
       "516. 'wife'\n",
       "517. 'wil'\n",
       "518. 'wit'\n",
       "519. 'without'\n",
       "520. 'wnt'\n",
       "521. 'woke'\n",
       "522. 'wonder'\n",
       "523. 'wont'\n",
       "524. 'workin'\n",
       "525. 'worri'\n",
       "526. 'wors'\n",
       "527. 'write'\n",
       "528. 'wrong'\n",
       "529. 'yar'\n",
       "530. 'yep'\n",
       "531. 'yoga'\n",
       "532. 'yup'\n",
       "\n",
       "\n"
      ],
      "text/plain": [
       "  [1] \"€˜m\"          \"€˜s\"          \"abiola\"       \"abl\"          \"abt\"         \n",
       "  [6] \"accept\"       \"across\"       \"act\"          \"actual\"       \"add\"         \n",
       " [11] \"advanc\"       \"aft\"          \"afternoon\"    \"ago\"          \"aha\"         \n",
       " [16] \"ahead\"        \"aight\"        \"aint\"         \"air\"          \"aiyo\"        \n",
       " [21] \"alex\"         \"almost\"       \"alright\"      \"alway\"        \"angri\"       \n",
       " [26] \"anymor\"       \"anyth\"        \"anyway\"       \"apart\"        \"appreci\"     \n",
       " [31] \"ard\"          \"argu\"         \"argument\"     \"armand\"       \"askd\"        \n",
       " [36] \"avoid\"        \"awak\"         \"awesom\"       \"bad\"          \"bag\"         \n",
       " [41] \"bare\"         \"basic\"        \"bath\"         \"batteri\"      \"bcoz\"        \n",
       " [46] \"bday\"         \"beauti\"       \"bed\"          \"beer\"         \"better\"      \n",
       " [51] \"bit\"          \"black\"        \"blank\"        \"bless\"        \"blue\"        \n",
       " [56] \"bold\"         \"boo\"          \"boost\"        \"boss\"         \"bother\"      \n",
       " [61] \"boytoy\"       \"bslvyl\"       \"buck\"         \"bus\"          \"cabin\"       \n",
       " [66] \"callertun\"    \"campus\"       \"cancer\"       \"car\"          \"carlo\"       \n",
       " [71] \"case\"         \"catch\"        \"caus\"         \"celebr\"       \"cell\"        \n",
       " [76] \"centr\"        \"cheer\"        \"chennai\"      \"chikku\"       \"childish\"    \n",
       " [81] \"class\"        \"clean\"        \"clear\"        \"coffe\"        \"cold\"        \n",
       " [86] \"colleagu\"     \"colleg\"       \"comin\"        \"cook\"         \"copi\"        \n",
       " [91] \"cos\"          \"cours\"        \"cover\"        \"coz\"          \"crave\"       \n",
       " [96] \"creat\"        \"cri\"          \"cuddl\"        \"cut\"          \"cuz\"         \n",
       "[101] \"dad\"          \"daddi\"        \"darlin\"       \"darren\"       \"dat\"         \n",
       "[106] \"dead\"         \"decid\"        \"decim\"        \"decis\"        \"deep\"        \n",
       "[111] \"den\"          \"depend\"       \"didnt\"        \"die\"          \"diet\"        \n",
       "[116] \"differ\"       \"difficult\"    \"din\"          \"dinner\"       \"discuss\"     \n",
       "[121] \"disturb\"      \"dnt\"          \"doc\"          \"doctor\"       \"doesnt\"      \n",
       "[126] \"doin\"         \"don\"          \"door\"         \"drop\"         \"drug\"        \n",
       "[131] \"dude\"         \"dun\"          \"dunno\"        \"earli\"        \"earlier\"     \n",
       "[136] \"earth\"        \"eat\"          \"eatin\"        \"els\"          \"embarass\"    \n",
       "[141] \"everybodi\"    \"everyth\"      \"exact\"        \"exam\"         \"excel\"       \n",
       "[146] \"excus\"        \"expect\"       \"experi\"       \"face\"         \"facebook\"    \n",
       "[151] \"fall\"         \"famili\"       \"far\"          \"fat\"          \"father\"      \n",
       "[156] \"fault\"        \"feel\"         \"felt\"         \"fetch\"        \"fight\"       \n",
       "[161] \"figur\"        \"file\"         \"fill\"         \"fine\"         \"finger\"      \n",
       "[166] \"finish\"       \"flat\"         \"food\"         \"forev\"        \"forgot\"      \n",
       "[171] \"found\"        \"freak\"        \"fren\"         \"friday\"       \"friendship\"  \n",
       "[176] \"frm\"          \"frnds\"        \"full\"         \"fullonsmscom\" \"funni\"       \n",
       "[181] \"gal\"          \"gap\"          \"gas\"          \"gave\"         \"gentl\"       \n",
       "[186] \"girlfrnd\"     \"glad\"         \"god\"          \"goe\"          \"goin\"        \n",
       "[191] \"gone\"         \"gonna\"        \"goodmorn\"     \"goodnight\"    \"gotta\"       \n",
       "[196] \"grin\"         \"gud\"          \"gym\"          \"haf\"          \"haha\"        \n",
       "[201] \"hai\"          \"hair\"         \"hand\"         \"hang\"         \"happen\"      \n",
       "[206] \"hate\"         \"hav\"          \"havent\"       \"head\"         \"heavi\"       \n",
       "[211] \"hee\"          \"hell\"         \"hiya\"         \"hmm\"          \"hmmm\"        \n",
       "[216] \"hold\"         \"home\"         \"hook\"         \"hop\"          \"hospit\"      \n",
       "[221] \"how\"          \"howz\"         \"hug\"          \"huh\"          \"hungri\"      \n",
       "[226] \"hurri\"        \"hurt\"         \"ice\"          \"idea\"         \"ill\"         \n",
       "[231] \"insid\"        \"instead\"      \"irrit\"        \"ish\"          \"ive\"         \n",
       "[236] \"izzit\"        \"jay\"          \"job\"          \"john\"         \"joke\"        \n",
       "[241] \"joy\"          \"jus\"          \"juz\"          \"kate\"         \"kid\"         \n",
       "[246] \"kill\"         \"kind\"         \"kiss\"         \"knew\"         \"knw\"         \n",
       "[251] \"laptop\"       \"lar\"          \"later\"        \"lazi\"         \"least\"       \n",
       "[256] \"lect\"         \"left\"         \"leh\"          \"lei\"          \"less\"        \n",
       "[261] \"lesson\"       \"let\"          \"letter\"       \"liao\"         \"librari\"     \n",
       "[266] \"lie\"          \"lift\"         \"light\"        \"list\"         \"lmao\"        \n",
       "[271] \"load\"         \"lol\"          \"long\"         \"longer\"       \"lor\"         \n",
       "[276] \"lovabl\"       \"lunch\"        \"mad\"          \"mah\"          \"mail\"        \n",
       "[281] \"malaria\"      \"man\"          \"march\"        \"mark\"         \"matter\"      \n",
       "[286] \"mean\"         \"meant\"        \"medic\"        \"meh\"          \"merri\"       \n",
       "[291] \"might\"        \"mine\"         \"miracl\"       \"mode\"         \"mom\"         \n",
       "[296] \"moment\"       \"mon\"          \"monday\"       \"morn\"         \"mother\"      \n",
       "[301] \"move\"         \"movi\"         \"mrng\"         \"mrt\"          \"mrw\"         \n",
       "[306] \"mum\"          \"murder\"       \"nah\"          \"nake\"         \"natur\"       \n",
       "[311] \"naughti\"      \"net\"          \"neva\"         \"nice\"         \"nigeria\"     \n",
       "[316] \"nobodi\"       \"noe\"          \"noon\"         \"nope\"         \"num\"         \n",
       "[321] \"obvious\"      \"okay\"         \"oki\"          \"omg\"          \"onlin\"       \n",
       "[326] \"oop\"          \"opinion\"      \"orchard\"      \"oredi\"        \"oso\"         \n",
       "[331] \"other\"        \"otherwis\"     \"outsid\"       \"page\"         \"pain\"        \n",
       "[336] \"paper\"        \"parent\"       \"park\"         \"past\"         \"piss\"        \n",
       "[341] \"pizza\"        \"plan\"         \"pleasur\"      \"plenti\"       \"plz\"         \n",
       "[346] \"poor\"         \"pop\"          \"possess\"      \"possibl\"      \"power\"       \n",
       "[351] \"pray\"         \"present\"      \"pretti\"       \"princess\"     \"prob\"        \n",
       "[356] \"probabl\"      \"problem\"      \"project\"      \"quick\"        \"quit\"        \n",
       "[361] \"rain\"         \"rang\"         \"rather\"       \"read\"         \"reali\"       \n",
       "[366] \"realli\"       \"reason\"       \"relat\"        \"relax\"        \"remain\"      \n",
       "[371] \"rememb\"       \"rent\"         \"respons\"      \"rest\"         \"return\"      \n",
       "[376] \"rite\"         \"road\"         \"role\"         \"room\"         \"roommat\"     \n",
       "[381] \"run\"          \"rush\"         \"sad\"          \"safe\"         \"said\"        \n",
       "[386] \"saw\"          \"sch\"          \"school\"       \"scream\"       \"sea\"         \n",
       "[391] \"second\"       \"seen\"         \"semest\"       \"sens\"         \"serious\"     \n",
       "[396] \"settl\"        \"shall\"        \"share\"        \"shd\"          \"ship\"        \n",
       "[401] \"shirt\"        \"shower\"       \"sick\"         \"side\"         \"sigh\"        \n",
       "[406] \"sight\"        \"silent\"       \"simpl\"        \"sis\"          \"sister\"      \n",
       "[411] \"sit\"          \"situat\"       \"skype\"        \"slave\"        \"sleep\"       \n",
       "[416] \"slept\"        \"slowli\"       \"small\"        \"smile\"        \"smoke\"       \n",
       "[421] \"smth\"         \"snow\"         \"sofa\"         \"someth\"       \"sometim\"     \n",
       "[426] \"somewher\"     \"sound\"        \"south\"        \"spend\"        \"spent\"       \n",
       "[431] \"spoke\"        \"stand\"        \"step\"         \"stone\"        \"student\"     \n",
       "[436] \"studi\"        \"stupid\"       \"style\"        \"success\"      \"suck\"        \n",
       "[441] \"sunday\"       \"sup\"          \"suppos\"       \"sure\"         \"surf\"        \n",
       "[446] \"sweet\"        \"swing\"        \"system\"       \"tampa\"        \"tea\"         \n",
       "[451] \"teach\"        \"tear\"         \"teas\"         \"test\"         \"thanx\"       \n",
       "[456] \"that\"         \"thinkin\"      \"thk\"          \"tho\"          \"though\"      \n",
       "[461] \"throw\"        \"thru\"         \"tht\"          \"tick\"         \"til\"         \n",
       "[466] \"tire\"         \"tmr\"          \"togeth\"       \"told\"         \"tomo\"        \n",
       "[471] \"tonit\"        \"took\"         \"torch\"        \"tot\"          \"tough\"       \n",
       "[476] \"toward\"       \"track\"        \"transact\"     \"travel\"       \"treat\"       \n",
       "[481] \"troubl\"       \"trust\"        \"truth\"        \"ttyl\"         \"tuesday\"     \n",
       "[486] \"twice\"        \"two\"          \"ugh\"          \"ull\"          \"uncl\"        \n",
       "[491] \"understand\"   \"unless\"       \"ure\"          \"urself\"       \"usf\"         \n",
       "[496] \"usual\"        \"vikki\"        \"voic\"         \"vomit\"        \"wake\"        \n",
       "[501] \"wana\"         \"wast\"         \"watch\"        \"water\"        \"weak\"        \n",
       "[506] \"wear\"         \"weather\"      \"wednesday\"    \"weed\"         \"wen\"         \n",
       "[511] \"went\"         \"whatev\"       \"whenev\"       \"whole\"        \"wif\"         \n",
       "[516] \"wife\"         \"wil\"          \"wit\"          \"without\"      \"wnt\"         \n",
       "[521] \"woke\"         \"wonder\"       \"wont\"         \"workin\"       \"worri\"       \n",
       "[526] \"wors\"         \"write\"        \"wrong\"        \"yar\"          \"yep\"         \n",
       "[531] \"yoga\"         \"yup\"         "
      ]
     },
     "metadata": {},
     "output_type": "display_data"
    }
   ],
   "source": [
    "sapply(sms_classifier$tables, \"[\", 2, 2) %>%\n",
    "    magrittr::extract(.==0) %>%\n",
    "    names()"
   ]
  },
  {
   "cell_type": "markdown",
   "metadata": {},
   "source": [
    "Let's select a word here which we think, might signal a spam message, such as \"present\". And let's repeat the steps above including \"present\":"
   ]
  },
  {
   "cell_type": "code",
   "execution_count": 97,
   "metadata": {},
   "outputs": [
    {
     "data": {
      "text/plain": [
       "$free\n",
       "                free\n",
       "sms_train_labels         No        Yes\n",
       "            ham  0.98751734 0.01248266\n",
       "            spam 0.76950355 0.23049645\n",
       "\n",
       "$mobil\n",
       "                mobil\n",
       "sms_train_labels          No         Yes\n",
       "            ham  0.996948682 0.003051318\n",
       "            spam 0.835106383 0.164893617\n",
       "\n",
       "$call\n",
       "                call\n",
       "sms_train_labels         No        Yes\n",
       "            ham  0.94257975 0.05742025\n",
       "            spam 0.55141844 0.44858156\n",
       "\n",
       "$present\n",
       "                present\n",
       "sms_train_labels          No         Yes\n",
       "            ham  0.998613037 0.001386963\n",
       "            spam 1.000000000 0.000000000\n"
      ]
     },
     "metadata": {},
     "output_type": "display_data"
    }
   ],
   "source": [
    "table_spam <- sms_classifier$table[c(\"free\", \"mobil\", \"call\", \"present\")]\n",
    "table_spam"
   ]
  },
  {
   "cell_type": "code",
   "execution_count": 98,
   "metadata": {},
   "outputs": [
    {
     "data": {
      "text/html": [
       "<table>\n",
       "<thead><tr><th></th><th scope=col>free</th><th scope=col>mobil</th><th scope=col>call</th><th scope=col>present</th></tr></thead>\n",
       "<tbody>\n",
       "\t<tr><th scope=row>ham</th><td>0.01248266 </td><td>0.003051318</td><td>0.05742025 </td><td>0.001386963</td></tr>\n",
       "\t<tr><th scope=row>spam</th><td>0.23049645 </td><td>0.164893617</td><td>0.44858156 </td><td>0.000000000</td></tr>\n",
       "</tbody>\n",
       "</table>\n"
      ],
      "text/latex": [
       "\\begin{tabular}{r|llll}\n",
       "  & free & mobil & call & present\\\\\n",
       "\\hline\n",
       "\tham & 0.01248266  & 0.003051318 & 0.05742025  & 0.001386963\\\\\n",
       "\tspam & 0.23049645  & 0.164893617 & 0.44858156  & 0.000000000\\\\\n",
       "\\end{tabular}\n"
      ],
      "text/markdown": [
       "\n",
       "| <!--/--> | free | mobil | call | present | \n",
       "|---|---|\n",
       "| ham | 0.01248266  | 0.003051318 | 0.05742025  | 0.001386963 | \n",
       "| spam | 0.23049645  | 0.164893617 | 0.44858156  | 0.000000000 | \n",
       "\n",
       "\n"
      ],
      "text/plain": [
       "     free       mobil       call       present    \n",
       "ham  0.01248266 0.003051318 0.05742025 0.001386963\n",
       "spam 0.23049645 0.164893617 0.44858156 0.000000000"
      ]
     },
     "metadata": {},
     "output_type": "display_data"
    }
   ],
   "source": [
    "mat_spam <- do.call(cbind, lapply(table_spam, \"[\", 1:2, 2))\n",
    "mat_spam"
   ]
  },
  {
   "cell_type": "code",
   "execution_count": 99,
   "metadata": {},
   "outputs": [
    {
     "data": {
      "text/html": [
       "<dl class=dl-horizontal>\n",
       "\t<dt>ham</dt>\n",
       "\t\t<dd>'0.0000000030'</dd>\n",
       "\t<dt>spam</dt>\n",
       "\t\t<dd>'0.0000000000'</dd>\n",
       "</dl>\n"
      ],
      "text/latex": [
       "\\begin{description*}\n",
       "\\item[ham] '0.0000000030'\n",
       "\\item[spam] '0.0000000000'\n",
       "\\end{description*}\n"
      ],
      "text/markdown": [
       "ham\n",
       ":   '0.0000000030'spam\n",
       ":   '0.0000000000'\n",
       "\n"
      ],
      "text/plain": [
       "           ham           spam \n",
       "\"0.0000000030\" \"0.0000000000\" "
      ]
     },
     "metadata": {},
     "output_type": "display_data"
    }
   ],
   "source": [
    "mat_spam2 <- do.call(cbind, lapply(table_spam, \"[\", 1:2, 2)) %>%\n",
    "    apply(1,prod)\n",
    "\n",
    "# we format the numbers as 6 digits and preserve the names in to vector\n",
    "sprintf(\"%.10f\", mat_spam2) %>%\n",
    "    purrr::set_names(names(mat_spam2))"
   ]
  },
  {
   "cell_type": "code",
   "execution_count": 100,
   "metadata": {},
   "outputs": [
    {
     "data": {
      "text/html": [
       "<dl class=dl-horizontal>\n",
       "\t<dt>ham</dt>\n",
       "\t\t<dd>FALSE</dd>\n",
       "\t<dt>spam</dt>\n",
       "\t\t<dd>TRUE</dd>\n",
       "</dl>\n"
      ],
      "text/latex": [
       "\\begin{description*}\n",
       "\\item[ham] FALSE\n",
       "\\item[spam] TRUE\n",
       "\\end{description*}\n"
      ],
      "text/markdown": [
       "ham\n",
       ":   FALSEspam\n",
       ":   TRUE\n",
       "\n"
      ],
      "text/plain": [
       "  ham  spam \n",
       "FALSE  TRUE "
      ]
     },
     "metadata": {},
     "output_type": "display_data"
    }
   ],
   "source": [
    "mat_spam2 == 0"
   ]
  },
  {
   "cell_type": "markdown",
   "metadata": {},
   "source": [
    "It seems that, with the \"zero\" occurrence word \"present\", our model tend to misclassify mails that contain \"free\", \"mobil\", \"call\" and \"present\" as a ham with full confidence!"
   ]
  },
  {
   "cell_type": "markdown",
   "metadata": {},
   "source": [
    "Multiplication with 0 yields 0. So we have to correct with this using the laplace estimator by adding a very small number to 0 likelihoods:"
   ]
  },
  {
   "cell_type": "code",
   "execution_count": 101,
   "metadata": {},
   "outputs": [],
   "source": [
    "sms_classifier2 <- naiveBayes(sms_train, sms_train_labels, laplace = 1)"
   ]
  },
  {
   "cell_type": "code",
   "execution_count": 102,
   "metadata": {},
   "outputs": [],
   "source": [
    "sms_test_pred2 <- predict(sms_classifier2, sms_test)"
   ]
  },
  {
   "cell_type": "code",
   "execution_count": 103,
   "metadata": {
    "scrolled": false
   },
   "outputs": [
    {
     "name": "stdout",
     "output_type": "stream",
     "text": [
      "\n",
      " \n",
      "   Cell Contents\n",
      "|-------------------------|\n",
      "|                       N |\n",
      "|           N / Col Total |\n",
      "|-------------------------|\n",
      "\n",
      " \n",
      "Total Observations in Table:  1390 \n",
      "\n",
      " \n",
      "             | actual \n",
      "   predicted |       ham |      spam | Row Total | \n",
      "-------------|-----------|-----------|-----------|\n",
      "         ham |      1202 |        28 |      1230 | \n",
      "             |     0.996 |     0.153 |           | \n",
      "-------------|-----------|-----------|-----------|\n",
      "        spam |         5 |       155 |       160 | \n",
      "             |     0.004 |     0.847 |           | \n",
      "-------------|-----------|-----------|-----------|\n",
      "Column Total |      1207 |       183 |      1390 | \n",
      "             |     0.868 |     0.132 |           | \n",
      "-------------|-----------|-----------|-----------|\n",
      "\n",
      " \n"
     ]
    },
    {
     "data": {
      "text/plain": [
       "$t\n",
       "      y\n",
       "x       ham spam\n",
       "  ham  1202   28\n",
       "  spam    5  155\n",
       "\n",
       "$prop.row\n",
       "      y\n",
       "x             ham       spam\n",
       "  ham  0.97723577 0.02276423\n",
       "  spam 0.03125000 0.96875000\n",
       "\n",
       "$prop.col\n",
       "      y\n",
       "x              ham        spam\n",
       "  ham  0.995857498 0.153005464\n",
       "  spam 0.004142502 0.846994536\n",
       "\n",
       "$prop.tbl\n",
       "      y\n",
       "x              ham        spam\n",
       "  ham  0.864748201 0.020143885\n",
       "  spam 0.003597122 0.111510791\n"
      ]
     },
     "metadata": {},
     "output_type": "display_data"
    }
   ],
   "source": [
    "ct_nb2 <- gmodels::CrossTable(sms_test_pred2,\n",
    "           sms_test_labels,\n",
    "           prop.chisq = F,\n",
    "           prop.t = F,\n",
    "           prop.r = F,\n",
    "           dnn = c('predicted', 'actual'))\n",
    "\n",
    "ct_nb2"
   ]
  },
  {
   "cell_type": "code",
   "execution_count": 104,
   "metadata": {},
   "outputs": [
    {
     "name": "stdout",
     "output_type": "stream",
     "text": [
      "Out of a total of 1390 sms's:\n",
      "- 1357 sms's are correctly classified as either ham or spam (97.63%),\n",
      "- while 33 sms's are misclassified (2.37%)"
     ]
    }
   ],
   "source": [
    "sprintf(\"Out of a total of %s sms's:\n",
    "- %s sms's are correctly classified as either ham or spam (%s),\n",
    "- while %s sms's are misclassified (%s)\",\n",
    "        all2 <- ct_nb2$t %>% sum(),\n",
    "        cor2 <- ct_nb2$t %>% diag() %>% sum(),\n",
    "        (cor2 / all2) %>% scales::percent(accuracy = 0.01),\n",
    "        fal2 <- all2 - cor2,\n",
    "        (fal2 / all2) %>% scales::percent(accuracy = 0.01)\n",
    "       ) %>% cat()"
   ]
  },
  {
   "cell_type": "code",
   "execution_count": 105,
   "metadata": {},
   "outputs": [
    {
     "name": "stdout",
     "output_type": "stream",
     "text": [
      "Better performance of new vs. old:\n",
      "(1357 vs. 1354 correct,\n",
      "33 vs. 36 misclassified)"
     ]
    }
   ],
   "source": [
    "perf <- c(\"Worse\", \"Same\", \"Better\")\n",
    "\n",
    "sprintf(\"%s performance of new vs. old:\n",
    "(%s vs. %s correct,\n",
    "%s vs. %s misclassified)\",\n",
    "    perf[sign(cor2 - cor) + 2],\n",
    "    cor2, cor, fal2, fal) %>% cat()"
   ]
  },
  {
   "cell_type": "code",
   "execution_count": null,
   "metadata": {},
   "outputs": [],
   "source": []
  },
  {
   "cell_type": "code",
   "execution_count": 106,
   "metadata": {},
   "outputs": [],
   "source": [
    "save.image(sessionfile)"
   ]
  },
  {
   "cell_type": "code",
   "execution_count": null,
   "metadata": {},
   "outputs": [],
   "source": []
  }
 ],
 "metadata": {
  "kernelspec": {
   "display_name": "R",
   "language": "R",
   "name": "ir"
  },
  "language_info": {
   "codemirror_mode": "r",
   "file_extension": ".r",
   "mimetype": "text/x-r-source",
   "name": "R",
   "pygments_lexer": "r",
   "version": "3.5.1"
  },
  "toc": {
   "nav_menu": {},
   "number_sections": true,
   "sideBar": true,
   "skip_h1_title": false,
   "toc_cell": false,
   "toc_position": {},
   "toc_section_display": "block",
   "toc_window_display": true
  }
 },
 "nbformat": 4,
 "nbformat_minor": 2
}
