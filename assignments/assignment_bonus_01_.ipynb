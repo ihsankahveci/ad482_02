{
 "cells": [
  {
   "cell_type": "markdown",
   "metadata": {},
   "source": [
    "# BONUS ASSIGNMENT 01: INTRODUCTION TO DATA.TABLE AND DPLYR"
   ]
  },
  {
   "cell_type": "markdown",
   "metadata": {},
   "source": [
    "Please enter your student number below and run the cell:"
   ]
  },
  {
   "cell_type": "code",
   "execution_count": 111,
   "metadata": {},
   "outputs": [
    {
     "name": "stdout",
     "output_type": "stream",
     "text": [
      "Please enter your student id: 1111\n"
     ]
    },
    {
     "data": {
      "text/html": [
       "<B>NOW CLOSE THIS NOTEBOOK AND OPEN assignment_bonus_01_1111.ipynb.<p></p>YOU SHOULD SAVE YOUR WORK IN assignment_bonus_01_1111.ipynb AND UPLOAD THAT FILE</B>"
      ]
     },
     "metadata": {},
     "output_type": "display_data"
    }
   ],
   "source": [
    "library(IRdisplay)\n",
    "studentid <- readline(prompt = \"Please enter your student id: \")\n",
    "filename <- \"assignment_bonus_01.ipynb\"\n",
    "newname <- gsub(\"\\\\.ipynb\", sprintf(\"_%s.ipynb\", studentid), filename)\n",
    "system(sprintf(\"cp %s %s\", filename, newname))\n",
    "IRdisplay::display_html(sprintf(\"<B>NOW CLOSE THIS NOTEBOOK AND OPEN %s.<p></p>YOU SHOULD SAVE YOUR WORK IN %s AND UPLOAD THAT FILE</B>\", newname, newname)) "
   ]
  },
  {
   "cell_type": "markdown",
   "metadata": {},
   "source": [
    "**NOTE THAT YOU SHOULD SAVE AND DOWNLOAD THE NOTEBOOK FILE FREQUENTLY SO THAT YOU DON'T USE YOUR WORK IN CASE OF DISCONNECTION OR SESSION TIMEOUT** "
   ]
  },
  {
   "cell_type": "markdown",
   "metadata": {},
   "source": [
    "## JUPYTER MODES AND SHORTCUTS"
   ]
  },
  {
   "cell_type": "markdown",
   "metadata": {},
   "source": [
    "Please watch this short video on how to use the modes and shortcuts in Jupyter notebooks:\n",
    "\n",
    "[![The Data Incubator - Keyboard Shortcuts in Jupyter](https://img.youtube.com/vi/cuHY1o3Cf2s/0.jpg)](https://www.youtube.com/watch?v=cuHY1o3Cf2s&index=4&list=PLjDTd-bDo6Q3nnt7y_GjMaYD79-stYZ-O&t=0s)"
   ]
  },
  {
   "cell_type": "markdown",
   "metadata": {},
   "source": [
    "## INTRODUCTION TO DATA.TABLE"
   ]
  },
  {
   "cell_type": "markdown",
   "metadata": {},
   "source": [
    "- Open [Introduction to data.table](https://cran.r-project.org/web/packages/data.table/vignettes/datatable-intro.html) vignette\n",
    "\n",
    "- Recreate the example in the vignette here below. You may try to change the parameters and try to type the statements yourself instead of copy-paste\n",
    "\n",
    "- You can add or delete cells above/below\n",
    "\n",
    "- You can convert cells to \"markdown\" (\"m\" in command mode) or \"code\" (\"y\" in command mode) and you can add instructions to markdown cells and/or comments starting with \"#\" into code cells as to your liking\n",
    "\n",
    "- To switch to command mode from edit mode, hit \"Esc\"\n",
    "\n",
    "- Do not overwrite 1.2.1 and other sections below!\n",
    "\n",
    "- First load data.table library\n",
    "\n",
    "- The flights14.csv data is under \"data\" directory of this repository. You may enter the path as \"../data/csv/flights.csv\"\n"
   ]
  },
  {
   "cell_type": "code",
   "execution_count": 5,
   "metadata": {},
   "outputs": [
    {
     "name": "stdout",
     "output_type": "stream",
     "text": [
      "[1] \"this line does nothing other than printing this line\"\n"
     ]
    }
   ],
   "source": [
    "# comment as full line in code cell\n",
    "print(\"this line does nothing other than printing this line\") # comment at the end of code line in code cell\n",
    "# you can delete this cell with \"dd\" in command mode"
   ]
  },
  {
   "cell_type": "code",
   "execution_count": null,
   "metadata": {},
   "outputs": [],
   "source": []
  },
  {
   "cell_type": "markdown",
   "metadata": {},
   "source": [
    "### Introduction to data.table exercises"
   ]
  },
  {
   "cell_type": "markdown",
   "metadata": {},
   "source": [
    "First let's set the maximum decimal digits to be printed to 2:"
   ]
  },
  {
   "cell_type": "code",
   "execution_count": 24,
   "metadata": {},
   "outputs": [],
   "source": [
    "options(digits = 2)"
   ]
  },
  {
   "cell_type": "markdown",
   "metadata": {},
   "source": [
    "Please solve the exercises below:"
   ]
  },
  {
   "cell_type": "markdown",
   "metadata": {},
   "source": [
    "**EXERCISE 1:**\n",
    "\n",
    "- Select only those rows where month is between 6 and 8 (you can use %in% operator)\n",
    "- create columns maxdep_del, mindep_del, meandep_del and sddep_del for the max(), min(), mean() and sd() values of dep_delay\n",
    "- group the results first hour and then origin\n",
    "- chain the statment and order the results first by hour and then by origin\n",
    "- Interpret the result with a sentence in a markdown cell"
   ]
  },
  {
   "cell_type": "code",
   "execution_count": null,
   "metadata": {},
   "outputs": [],
   "source": []
  },
  {
   "cell_type": "markdown",
   "metadata": {},
   "source": [
    "**SOLUTION 1:**\n",
    "\n",
    "Assign the password provided to variable pass and run the below code:"
   ]
  },
  {
   "cell_type": "code",
   "execution_count": 51,
   "metadata": {},
   "outputs": [
    {
     "name": "stderr",
     "output_type": "stream",
     "text": [
      "Warning message in system(sprintf(\"echo %s | openssl enc -aes-128-cbc -a -d -salt -pass pass:%s 2> /dev/null\", :\n",
      "“running command 'echo U2FsdGVkX19UprovmQZtlK0jvBZpLEv+px6KGPZnz2pKjm5SYRQv8codJPML3Wzz 2tpHYo5Coqfef6fh6pDiuo7GoII4qMAWE+gsaRCVNYC+I7LS+zfReCNurhDIsINu ULTnjg0wEF+lA+4hPLxDSIktAZjVaAP7ZMOPjF1J4gRq+C5jBKVlNV1nYiiMpNi5 n15VIPC5PQrLgOtAAs5EHfzpf0HjYwj8+QYGX1/e2znpFzf41aFcbQwe3eq2z3ZJ BSU5rCMMaw8OUNqGYSqDRpWZpbz5t858RXA6/YsjFZk0grb5bRsQLZWCyxKr56WZ +srX8qy1GxgAlyFWm6hAjs/szJaflvu6OlOKAcZ03uo= | openssl enc -aes-128-cbc -a -d -salt -pass pass:U2FsdGVkX19UprovmQZtlK0jvBZpLEv+px6KGPZnz2pKjm5SYRQv8codJPML3Wzz 2tpHYo5Coqfef6fh6pDiuo7GoII4qMAWE+gsaRCVNYC+I7LS+zfReCNurhDIsINu ULTnjg0wEF+lA+4hPLxDSIktAZjVaAP7ZMOPjF1J4gRq+C5jBKVlNV1nYiiMpNi5 n15VIPC5PQrLgOtAAs5EHfzpf0HjYwj8+QYGX1/e2znpFzf41aFcbQwe3eq2z3ZJ BSU5rCMMaw8OUNqGYSqDRpWZpbz5t858RXA6/YsjFZk0grb5bRsQLZWCyxKr56WZ +srX8qy1GxgAlyFWm6hAjs/szJaflvu6OlOKAcZ03uo= 2> /dev/null 2>/dev/null' had status 1”"
     ]
    },
    {
     "name": "stdout",
     "output_type": "stream",
     "text": [
      "character(0)\n",
      "attr(,\"status\")\n",
      "[1] 1\n",
      "attr(,\"errmsg\")\n",
      "[1] \"Resource temporarily unavailable\"\n"
     ]
    },
    {
     "data": {
      "text/plain": [
       "expression()"
      ]
     },
     "metadata": {},
     "output_type": "display_data"
    },
    {
     "data": {
      "text/plain": [
       "NULL"
      ]
     },
     "metadata": {},
     "output_type": "display_data"
    }
   ],
   "source": [
    "pass <- \n",
    "encrypt <- \"U2FsdGVkX19UprovmQZtlK0jvBZpLEv+px6KGPZnz2pKjm5SYRQv8codJPML3Wzz 2tpHYo5Coqfef6fh6pDiuo7GoII4qMAWE+gsaRCVNYC+I7LS+zfReCNurhDIsINu ULTnjg0wEF+lA+4hPLxDSIktAZjVaAP7ZMOPjF1J4gRq+C5jBKVlNV1nYiiMpNi5 n15VIPC5PQrLgOtAAs5EHfzpf0HjYwj8+QYGX1/e2znpFzf41aFcbQwe3eq2z3ZJ BSU5rCMMaw8OUNqGYSqDRpWZpbz5t858RXA6/YsjFZk0grb5bRsQLZWCyxKr56WZ +srX8qy1GxgAlyFWm6hAjs/szJaflvu6OlOKAcZ03uo=\"\n",
    "solution <- system(sprintf(\"echo %s | openssl enc -aes-128-cbc -a -d -salt -pass pass:%s 2> /dev/null\", encrypt, pass), intern = T, ignore.stderr = T)\n",
    "print(solution)\n",
    "parse(text = solution)\n",
    "eval(parse(text = solution))"
   ]
  },
  {
   "cell_type": "code",
   "execution_count": 32,
   "metadata": {},
   "outputs": [],
   "source": [
    "?system"
   ]
  },
  {
   "cell_type": "markdown",
   "metadata": {},
   "source": [
    "**EXERCISE 2:**\n",
    "\n",
    "- Select those rows where origin is JFK and destination is LAX,\n",
    "- apply the mean function to dep_delay, arr_delay, air_time and distance columns. Use .SD and .SDcols variables and lapply function\n",
    "- chain the statement to order by dep_delay\n",
    "- Interpret the result by a sentence (inside a markdown cell)"
   ]
  },
  {
   "cell_type": "code",
   "execution_count": null,
   "metadata": {},
   "outputs": [],
   "source": []
  },
  {
   "cell_type": "markdown",
   "metadata": {},
   "source": [
    "**SOLUTION 2:**"
   ]
  },
  {
   "cell_type": "code",
   "execution_count": 53,
   "metadata": {},
   "outputs": [
    {
     "name": "stderr",
     "output_type": "stream",
     "text": [
      "Warning message in system(sprintf(\"echo %s | openssl enc -aes-128-cbc -a -d -salt -pass pass:%s 2> /dev/null\", :\n",
      "“running command 'echo U2FsdGVkX189HWzhlYsSBrN/bdpsuhGLUypQlBFoJ3yeDXZ/f8k2Lwf8AKtOyjis 71pLY/GMgGmXqmMsTVzQE0az9hkRp5bWUPydgOkv0MO1rBBWW6G2NRDPQMvbFkij wfMmBcdbCcIuMMyOGTK6poV3b1DBrgJMlTFE1VgfyJOOlqJYwl0+nAACJ9fCU3sg tPtdM0QFOLEhLCJTkUr2N0Xlf51B0UqH1tvvQ1nEB9/Je5OxwUnqQLXyBNXvuTB8 TXQgVc8fOFk3KRXvIhzIbg== | openssl enc -aes-128-cbc -a -d -salt -pass pass:U2FsdGVkX189HWzhlYsSBrN/bdpsuhGLUypQlBFoJ3yeDXZ/f8k2Lwf8AKtOyjis 71pLY/GMgGmXqmMsTVzQE0az9hkRp5bWUPydgOkv0MO1rBBWW6G2NRDPQMvbFkij wfMmBcdbCcIuMMyOGTK6poV3b1DBrgJMlTFE1VgfyJOOlqJYwl0+nAACJ9fCU3sg tPtdM0QFOLEhLCJTkUr2N0Xlf51B0UqH1tvvQ1nEB9/Je5OxwUnqQLXyBNXvuTB8 TXQgVc8fOFk3KRXvIhzIbg== 2> /dev/null 2>/dev/null' had status 1”"
     ]
    },
    {
     "name": "stdout",
     "output_type": "stream",
     "text": [
      "character(0)\n",
      "attr(,\"status\")\n",
      "[1] 1\n",
      "attr(,\"errmsg\")\n",
      "[1] \"Resource temporarily unavailable\"\n"
     ]
    },
    {
     "data": {
      "text/plain": [
       "expression()"
      ]
     },
     "metadata": {},
     "output_type": "display_data"
    },
    {
     "data": {
      "text/plain": [
       "NULL"
      ]
     },
     "metadata": {},
     "output_type": "display_data"
    }
   ],
   "source": [
    "pass <-\n",
    "encrypt <- \"U2FsdGVkX189HWzhlYsSBrN/bdpsuhGLUypQlBFoJ3yeDXZ/f8k2Lwf8AKtOyjis 71pLY/GMgGmXqmMsTVzQE0az9hkRp5bWUPydgOkv0MO1rBBWW6G2NRDPQMvbFkij wfMmBcdbCcIuMMyOGTK6poV3b1DBrgJMlTFE1VgfyJOOlqJYwl0+nAACJ9fCU3sg tPtdM0QFOLEhLCJTkUr2N0Xlf51B0UqH1tvvQ1nEB9/Je5OxwUnqQLXyBNXvuTB8 TXQgVc8fOFk3KRXvIhzIbg==\"\n",
    "solution <- system(sprintf(\"echo %s | openssl enc -aes-128-cbc -a -d -salt -pass pass:%s 2> /dev/null\", encrypt, pass), intern = T, ignore.stderr = T)\n",
    "print(solution)\n",
    "parse(text = solution)\n",
    "eval(parse(text = solution))"
   ]
  },
  {
   "cell_type": "markdown",
   "metadata": {},
   "source": [
    "## REFERENCE SEMANTICS IN DATA.TABLE"
   ]
  },
  {
   "cell_type": "markdown",
   "metadata": {},
   "source": [
    "- Open [Reference semantics](https://cran.r-project.org/web/packages/data.table/vignettes/datatable-reference-semantics.html) vignette\n",
    "- Continue as above with the same dataset"
   ]
  },
  {
   "cell_type": "code",
   "execution_count": null,
   "metadata": {},
   "outputs": [],
   "source": []
  },
  {
   "cell_type": "markdown",
   "metadata": {},
   "source": [
    "### data.table reference semantics exercises"
   ]
  },
  {
   "cell_type": "markdown",
   "metadata": {},
   "source": [
    "**EXERCISE 3:**\n",
    "\n",
    "Using the information and method in 2e section of the vignette:\n",
    "- Deep copy the flights object into flights2\n",
    "- In flights2, create columns mean_dep_delay, mean_arr_delay, mean_air_time and mean_distance in place (with :=) by calculating the respective means grouping by origin and dest. You may use sprintf or paste functions to create column names easily\n",
    "- Chaining, subset for 1st days and return origin, dest and the difference between dep_delay and mean_dep_delay (by calculating the difference of course) without modifying in place (w/o :=) and as a data.table (so you should use .())"
   ]
  },
  {
   "cell_type": "code",
   "execution_count": null,
   "metadata": {},
   "outputs": [],
   "source": []
  },
  {
   "cell_type": "markdown",
   "metadata": {},
   "source": [
    "**SOLUTION 3**:"
   ]
  },
  {
   "cell_type": "code",
   "execution_count": 61,
   "metadata": {},
   "outputs": [
    {
     "name": "stderr",
     "output_type": "stream",
     "text": [
      "Warning message in system(sprintf(\"echo %s | openssl enc -aes-128-cbc -a -d -salt -pass pass:%s 2> /dev/null\", :\n",
      "“running command 'echo U2FsdGVkX1/rtArVUvnh67sTC44kRUJ3uQOZzAgJ4EumPc9XZ2iAPC0WtNVv33ML DgSAgPPQdQzQlIHV1V23PmtWkCYPlHCYs7PCjkuC0dCmWiS1tQMJcYiTrs5lv+iq QFSLk6WNpauMxq0Wqu3zuIIkeDrACNx/1giElIiQmpbqyNcU8kLuLGlSij9xoJgQ SYbMHTmDDS3T9w8TMhBghyVLqnQk5Z37RQliw5UclgvgBYgHpHwAKbwku6Kp7unf /atSx63ygqVmvj2KfWu+0i03O2RCx7mNzFuphrRpBMlnkBEWKGJE9D9MRhviSHDn hMAd9G6/QAO9PnlFCiPKnYyWPX3SWQHdl0pcm2G0CG7WIVK3USkp30fd14aPJ5DX m9SAtEwjoeF3wvHctrS0dW81XgXBQN8EhJ24H0A7f6k= | openssl enc -aes-128-cbc -a -d -salt -pass pass:U2FsdGVkX1/rtArVUvnh67sTC44kRUJ3uQOZzAgJ4EumPc9XZ2iAPC0WtNVv33ML DgSAgPPQdQzQlIHV1V23PmtWkCYPlHCYs7PCjkuC0dCmWiS1tQMJcYiTrs5lv+iq QFSLk6WNpauMxq0Wqu3zuIIkeDrACNx/1giElIiQmpbqyNcU8kLuLGlSij9xoJgQ SYbMHTmDDS3T9w8TMhBghyVLqnQk5Z37RQliw5UclgvgBYgHpHwAKbwku6Kp7unf /atSx63ygqVmvj2KfWu+0i03O2RCx7mNzFuphrRpBMlnkBEWKGJE9D9MRhviSHDn hMAd9G6/QAO9PnlFCiPKnYyWPX3SWQHdl0pcm2G0CG7WIVK3USkp30fd14aPJ5DX m9SAtEwjoeF3wvHctrS0dW81XgXBQN8EhJ24H0A7f6k= 2> /dev/null 2>/dev/null' had status 1”"
     ]
    },
    {
     "name": "stdout",
     "output_type": "stream",
     "text": [
      "character(0)\n",
      "attr(,\"status\")\n",
      "[1] 1\n",
      "attr(,\"errmsg\")\n",
      "[1] \"Resource temporarily unavailable\"\n"
     ]
    },
    {
     "data": {
      "text/plain": [
       "expression()"
      ]
     },
     "metadata": {},
     "output_type": "display_data"
    },
    {
     "data": {
      "text/plain": [
       "NULL"
      ]
     },
     "metadata": {},
     "output_type": "display_data"
    }
   ],
   "source": [
    "pass <- \n",
    "encrypt <- \"U2FsdGVkX1/rtArVUvnh67sTC44kRUJ3uQOZzAgJ4EumPc9XZ2iAPC0WtNVv33ML DgSAgPPQdQzQlIHV1V23PmtWkCYPlHCYs7PCjkuC0dCmWiS1tQMJcYiTrs5lv+iq QFSLk6WNpauMxq0Wqu3zuIIkeDrACNx/1giElIiQmpbqyNcU8kLuLGlSij9xoJgQ SYbMHTmDDS3T9w8TMhBghyVLqnQk5Z37RQliw5UclgvgBYgHpHwAKbwku6Kp7unf /atSx63ygqVmvj2KfWu+0i03O2RCx7mNzFuphrRpBMlnkBEWKGJE9D9MRhviSHDn hMAd9G6/QAO9PnlFCiPKnYyWPX3SWQHdl0pcm2G0CG7WIVK3USkp30fd14aPJ5DX m9SAtEwjoeF3wvHctrS0dW81XgXBQN8EhJ24H0A7f6k=\"\n",
    "solution <- system(sprintf(\"echo %s | openssl enc -aes-128-cbc -a -d -salt -pass pass:%s 2> /dev/null\", encrypt, pass), intern = T, ignore.stderr = T)\n",
    "print(solution)\n",
    "parse(text = solution)\n",
    "eval(parse(text = solution))"
   ]
  },
  {
   "cell_type": "markdown",
   "metadata": {},
   "source": [
    "## INTRODUCTION TO DPLYR"
   ]
  },
  {
   "cell_type": "markdown",
   "metadata": {},
   "source": [
    "- Open [Introduction to data.table](https://cran.r-project.org/web/packages/data.table/vignettes/datatable-intro.html) vignette\n",
    "\n",
    "\n",
    "- Open [Introduction to dplyr](https://cran.r-project.org/web/packages/dplyr/vignettes/dplyr.html) vignette\n",
    "\n",
    "- Same instructions as above\n",
    "\n",
    "- First load tidyverse library\n",
    "\n",
    "- You can access the flights dataset by loading the installed \"nycflights13\" package\n",
    "\n"
   ]
  },
  {
   "cell_type": "code",
   "execution_count": 88,
   "metadata": {},
   "outputs": [
    {
     "name": "stderr",
     "output_type": "stream",
     "text": [
      "\n",
      "Attaching package: ‘nycflights13’\n",
      "\n",
      "The following object is masked _by_ ‘.GlobalEnv’:\n",
      "\n",
      "    flights\n",
      "\n"
     ]
    },
    {
     "data": {
      "text/html": [
       "<table>\n",
       "<thead><tr><th scope=col>year</th><th scope=col>month</th><th scope=col>day</th><th scope=col>dep_time</th><th scope=col>dep_delay</th><th scope=col>arr_time</th><th scope=col>arr_delay</th><th scope=col>cancelled</th><th scope=col>carrier</th><th scope=col>tailnum</th><th scope=col>flight</th><th scope=col>origin</th><th scope=col>dest</th><th scope=col>air_time</th><th scope=col>distance</th><th scope=col>hour</th><th scope=col>min</th></tr></thead>\n",
       "<tbody>\n",
       "\t<tr><td>2014  </td><td>1     </td><td>1     </td><td> 914  </td><td> 14   </td><td>1238  </td><td> 13   </td><td>0     </td><td>AA    </td><td>N338AA</td><td>  1   </td><td>JFK   </td><td>LAX   </td><td>359   </td><td>2475  </td><td> 9    </td><td>14    </td></tr>\n",
       "\t<tr><td>2014  </td><td>1     </td><td>1     </td><td>1157  </td><td> -3   </td><td>1523  </td><td> 13   </td><td>0     </td><td>AA    </td><td>N335AA</td><td>  3   </td><td>JFK   </td><td>LAX   </td><td>363   </td><td>2475  </td><td>11    </td><td>57    </td></tr>\n",
       "\t<tr><td>2014  </td><td>1     </td><td>1     </td><td>1902  </td><td>  2   </td><td>2224  </td><td>  9   </td><td>0     </td><td>AA    </td><td>N327AA</td><td> 21   </td><td>JFK   </td><td>LAX   </td><td>351   </td><td>2475  </td><td>19    </td><td> 2    </td></tr>\n",
       "\t<tr><td>2014  </td><td>1     </td><td>1     </td><td> 722  </td><td> -8   </td><td>1014  </td><td>-26   </td><td>0     </td><td>AA    </td><td>N3EHAA</td><td> 29   </td><td>LGA   </td><td>PBI   </td><td>157   </td><td>1035  </td><td> 7    </td><td>22    </td></tr>\n",
       "\t<tr><td>2014  </td><td>1     </td><td>1     </td><td>1347  </td><td>  2   </td><td>1706  </td><td>  1   </td><td>0     </td><td>AA    </td><td>N319AA</td><td>117   </td><td>JFK   </td><td>LAX   </td><td>350   </td><td>2475  </td><td>13    </td><td>47    </td></tr>\n",
       "\t<tr><td>2014  </td><td>1     </td><td>1     </td><td>1824  </td><td>  4   </td><td>2145  </td><td>  0   </td><td>0     </td><td>AA    </td><td>N3DEAA</td><td>119   </td><td>EWR   </td><td>LAX   </td><td>339   </td><td>2454  </td><td>18    </td><td>24    </td></tr>\n",
       "\t<tr><td>2014  </td><td>1     </td><td>1     </td><td>2133  </td><td> -2   </td><td>  37  </td><td>-18   </td><td>0     </td><td>AA    </td><td>N323AA</td><td>185   </td><td>JFK   </td><td>LAX   </td><td>338   </td><td>2475  </td><td>21    </td><td>33    </td></tr>\n",
       "\t<tr><td>2014  </td><td>1     </td><td>1     </td><td>1542  </td><td> -3   </td><td>1906  </td><td>-14   </td><td>0     </td><td>AA    </td><td>N328AA</td><td>133   </td><td>JFK   </td><td>LAX   </td><td>356   </td><td>2475  </td><td>15    </td><td>42    </td></tr>\n",
       "\t<tr><td>2014  </td><td>1     </td><td>1     </td><td>1509  </td><td> -1   </td><td>1828  </td><td>-17   </td><td>0     </td><td>AA    </td><td>N5FJAA</td><td>145   </td><td>JFK   </td><td>MIA   </td><td>161   </td><td>1089  </td><td>15    </td><td> 9    </td></tr>\n",
       "\t<tr><td>2014  </td><td>1     </td><td>1     </td><td>1848  </td><td> -2   </td><td>2206  </td><td>-14   </td><td>0     </td><td>AA    </td><td>N3HYAA</td><td>235   </td><td>JFK   </td><td>SEA   </td><td>349   </td><td>2422  </td><td>18    </td><td>48    </td></tr>\n",
       "\t<tr><td>2014  </td><td>1     </td><td>1     </td><td>1655  </td><td> -5   </td><td>2003  </td><td>-17   </td><td>0     </td><td>AA    </td><td>N5CFAA</td><td>172   </td><td>EWR   </td><td>MIA   </td><td>161   </td><td>1085  </td><td>16    </td><td>55    </td></tr>\n",
       "\t<tr><td>2014  </td><td>1     </td><td>1     </td><td>1752  </td><td>  7   </td><td>2120  </td><td> -5   </td><td>0     </td><td>AA    </td><td>N332AA</td><td>177   </td><td>JFK   </td><td>SFO   </td><td>365   </td><td>2586  </td><td>17    </td><td>52    </td></tr>\n",
       "\t<tr><td>2014  </td><td>1     </td><td>1     </td><td>1253  </td><td>  3   </td><td>1351  </td><td>  1   </td><td>0     </td><td>AA    </td><td>N3JWAA</td><td>178   </td><td>JFK   </td><td>BOS   </td><td> 39   </td><td> 187  </td><td>12    </td><td>53    </td></tr>\n",
       "\t<tr><td>2014  </td><td>1     </td><td>1     </td><td>1907  </td><td>142   </td><td>2223  </td><td>133   </td><td>0     </td><td>AA    </td><td>N336AA</td><td>181   </td><td>JFK   </td><td>LAX   </td><td>345   </td><td>2475  </td><td>19    </td><td> 7    </td></tr>\n",
       "\t<tr><td>2014  </td><td>1     </td><td>1     </td><td>1720  </td><td> -5   </td><td>1819  </td><td>-26   </td><td>0     </td><td>AA    </td><td>N3BCAA</td><td>256   </td><td>JFK   </td><td>BOS   </td><td> 35   </td><td> 187  </td><td>17    </td><td>20    </td></tr>\n",
       "\t<tr><td>2014  </td><td>1     </td><td>1     </td><td>1733  </td><td> 18   </td><td>2024  </td><td> 69   </td><td>0     </td><td>AA    </td><td>N3HPAA</td><td>199   </td><td>JFK   </td><td>ORD   </td><td>155   </td><td> 740  </td><td>17    </td><td>33    </td></tr>\n",
       "\t<tr><td>2014  </td><td>1     </td><td>1     </td><td>1640  </td><td> 25   </td><td>2001  </td><td> 36   </td><td>0     </td><td>AA    </td><td>N3HFAA</td><td>211   </td><td>JFK   </td><td>IAH   </td><td>234   </td><td>1417  </td><td>16    </td><td>40    </td></tr>\n",
       "\t<tr><td>2014  </td><td>1     </td><td>1     </td><td>1714  </td><td> -1   </td><td>2036  </td><td>  1   </td><td>0     </td><td>AA    </td><td>N3DVAA</td><td>291   </td><td>JFK   </td><td>AUS   </td><td>232   </td><td>1521  </td><td>17    </td><td>14    </td></tr>\n",
       "\t<tr><td>2014  </td><td>1     </td><td>1     </td><td>1611  </td><td>191   </td><td>1910  </td><td>185   </td><td>0     </td><td>AA    </td><td>N471AA</td><td>300   </td><td>EWR   </td><td>DFW   </td><td>214   </td><td>1372  </td><td>16    </td><td>11    </td></tr>\n",
       "\t<tr><td>2014  </td><td>1     </td><td>1     </td><td> 553  </td><td> -7   </td><td> 739  </td><td> -6   </td><td>0     </td><td>AA    </td><td>N3KHAA</td><td>301   </td><td>LGA   </td><td>ORD   </td><td>142   </td><td> 733  </td><td> 5    </td><td>53    </td></tr>\n",
       "\t<tr><td>2014  </td><td>1     </td><td>1     </td><td> 623  </td><td> -7   </td><td> 815  </td><td>  0   </td><td>0     </td><td>AA    </td><td>N3BSAA</td><td>303   </td><td>LGA   </td><td>ORD   </td><td>143   </td><td> 733  </td><td> 6    </td><td>23    </td></tr>\n",
       "\t<tr><td>2014  </td><td>1     </td><td>1     </td><td> 652  </td><td> -8   </td><td> 833  </td><td>-17   </td><td>0     </td><td>AA    </td><td>N560AA</td><td>305   </td><td>LGA   </td><td>ORD   </td><td>139   </td><td> 733  </td><td> 6    </td><td>52    </td></tr>\n",
       "\t<tr><td>2014  </td><td>1     </td><td>1     </td><td> 738  </td><td> -2   </td><td> 940  </td><td> 15   </td><td>0     </td><td>AA    </td><td>N3GMAA</td><td>307   </td><td>LGA   </td><td>ORD   </td><td>145   </td><td> 733  </td><td> 7    </td><td>38    </td></tr>\n",
       "\t<tr><td>2014  </td><td>1     </td><td>1     </td><td> 847  </td><td> -3   </td><td>1036  </td><td>  1   </td><td>0     </td><td>AA    </td><td>N553AA</td><td>313   </td><td>LGA   </td><td>ORD   </td><td>139   </td><td> 733  </td><td> 8    </td><td>47    </td></tr>\n",
       "\t<tr><td>2014  </td><td>1     </td><td>1     </td><td>1029  </td><td> 44   </td><td>1212  </td><td> 42   </td><td>0     </td><td>AA    </td><td>N3KDAA</td><td>317   </td><td>LGA   </td><td>ORD   </td><td>141   </td><td> 733  </td><td>10    </td><td>29    </td></tr>\n",
       "\t<tr><td>2014  </td><td>1     </td><td>1     </td><td>1449  </td><td> -1   </td><td>1753  </td><td> -2   </td><td>0     </td><td>AA    </td><td>N4WNAA</td><td>320   </td><td>EWR   </td><td>DFW   </td><td>214   </td><td>1372  </td><td>14    </td><td>49    </td></tr>\n",
       "\t<tr><td>2014  </td><td>1     </td><td>1     </td><td>1018  </td><td>  3   </td><td>1202  </td><td> 12   </td><td>0     </td><td>AA    </td><td>N482AA</td><td>325   </td><td>LGA   </td><td>ORD   </td><td>137   </td><td> 733  </td><td>10    </td><td>18    </td></tr>\n",
       "\t<tr><td>2014  </td><td>1     </td><td>1     </td><td>1140  </td><td> -5   </td><td>1349  </td><td> 24   </td><td>0     </td><td>AA    </td><td>N570AA</td><td>327   </td><td>LGA   </td><td>ORD   </td><td>145   </td><td> 733  </td><td>11    </td><td>40    </td></tr>\n",
       "\t<tr><td>2014  </td><td>1     </td><td>1     </td><td>1346  </td><td> 26   </td><td>1541  </td><td> 46   </td><td>0     </td><td>AA    </td><td>N3KRAA</td><td>331   </td><td>LGA   </td><td>ORD   </td><td>132   </td><td> 733  </td><td>13    </td><td>46    </td></tr>\n",
       "\t<tr><td>2014  </td><td>1     </td><td>1     </td><td>1612  </td><td> 52   </td><td>1836  </td><td> 91   </td><td>0     </td><td>AA    </td><td>N553AA</td><td>341   </td><td>LGA   </td><td>ORD   </td><td>136   </td><td> 733  </td><td>16    </td><td>12    </td></tr>\n",
       "\t<tr><td>⋮</td><td>⋮</td><td>⋮</td><td>⋮</td><td>⋮</td><td>⋮</td><td>⋮</td><td>⋮</td><td>⋮</td><td>⋮</td><td>⋮</td><td>⋮</td><td>⋮</td><td>⋮</td><td>⋮</td><td>⋮</td><td>⋮</td></tr>\n",
       "\t<tr><td>2014  </td><td>10    </td><td>31    </td><td>1513  </td><td>  3   </td><td>1801  </td><td> -7   </td><td>0     </td><td>UA    </td><td>N77530</td><td>1218  </td><td>EWR   </td><td>TPA   </td><td>147   </td><td> 997  </td><td>15    </td><td>13    </td></tr>\n",
       "\t<tr><td>2014  </td><td>10    </td><td>31    </td><td>2330  </td><td>271   </td><td> 214  </td><td>236   </td><td>0     </td><td>UA    </td><td>N24706</td><td>1259  </td><td>LGA   </td><td>IAH   </td><td>195   </td><td>1416  </td><td>23    </td><td>30    </td></tr>\n",
       "\t<tr><td>2014  </td><td>10    </td><td>31    </td><td> 659  </td><td> 10   </td><td> 820  </td><td> -5   </td><td>0     </td><td>UA    </td><td>N16713</td><td>1262  </td><td>EWR   </td><td>ORD   </td><td>110   </td><td> 719  </td><td> 6    </td><td>59    </td></tr>\n",
       "\t<tr><td>2014  </td><td>10    </td><td>31    </td><td>1631  </td><td> 21   </td><td>1945  </td><td>  6   </td><td>0     </td><td>UA    </td><td>N37468</td><td>1284  </td><td>EWR   </td><td>SFO   </td><td>340   </td><td>2565  </td><td>16    </td><td>31    </td></tr>\n",
       "\t<tr><td>2014  </td><td>10    </td><td>31    </td><td> 821  </td><td> -9   </td><td>1127  </td><td>-43   </td><td>0     </td><td>UA    </td><td>N41140</td><td>1289  </td><td>EWR   </td><td>SFO   </td><td>334   </td><td>2565  </td><td> 8    </td><td>21    </td></tr>\n",
       "\t<tr><td>2014  </td><td>10    </td><td>31    </td><td>1459  </td><td> 49   </td><td>1823  </td><td> 48   </td><td>0     </td><td>UA    </td><td>N76519</td><td>1293  </td><td>EWR   </td><td>SFO   </td><td>336   </td><td>2565  </td><td>14    </td><td>59    </td></tr>\n",
       "\t<tr><td>2014  </td><td>10    </td><td>31    </td><td> 647  </td><td>  0   </td><td> 945  </td><td>-10   </td><td>0     </td><td>UA    </td><td>N29717</td><td>1299  </td><td>EWR   </td><td>RSW   </td><td>156   </td><td>1068  </td><td> 6    </td><td>47    </td></tr>\n",
       "\t<tr><td>2014  </td><td>10    </td><td>31    </td><td>1039  </td><td>  9   </td><td>1342  </td><td>  4   </td><td>0     </td><td>UA    </td><td>N73276</td><td>1401  </td><td>EWR   </td><td>MIA   </td><td>160   </td><td>1085  </td><td>10    </td><td>39    </td></tr>\n",
       "\t<tr><td>2014  </td><td>10    </td><td>31    </td><td>2028  </td><td>  3   </td><td>2316  </td><td>-32   </td><td>0     </td><td>UA    </td><td>N36447</td><td>1402  </td><td>EWR   </td><td>LAX   </td><td>320   </td><td>2454  </td><td>20    </td><td>28    </td></tr>\n",
       "\t<tr><td>2014  </td><td>10    </td><td>31    </td><td> 624  </td><td> -6   </td><td> 828  </td><td>-31   </td><td>0     </td><td>UA    </td><td>N76523</td><td>1407  </td><td>EWR   </td><td>MSY   </td><td>161   </td><td>1167  </td><td> 6    </td><td>24    </td></tr>\n",
       "\t<tr><td>2014  </td><td>10    </td><td>31    </td><td>1005  </td><td>  5   </td><td>1139  </td><td>  2   </td><td>0     </td><td>UA    </td><td>N34455</td><td>1408  </td><td>EWR   </td><td>ORD   </td><td>132   </td><td> 719  </td><td>10    </td><td> 5    </td></tr>\n",
       "\t<tr><td>2014  </td><td>10    </td><td>31    </td><td>1946  </td><td> 46   </td><td>2247  </td><td> 41   </td><td>0     </td><td>UA    </td><td>N36472</td><td>1416  </td><td>EWR   </td><td>FLL   </td><td>149   </td><td>1065  </td><td>19    </td><td>46    </td></tr>\n",
       "\t<tr><td>2014  </td><td>10    </td><td>31    </td><td> 756  </td><td> -1   </td><td> 921  </td><td>-18   </td><td>0     </td><td>UA    </td><td>N27477</td><td>1417  </td><td>EWR   </td><td>CLE   </td><td> 61   </td><td> 404  </td><td> 7    </td><td>56    </td></tr>\n",
       "\t<tr><td>2014  </td><td>10    </td><td>31    </td><td>1707  </td><td> 14   </td><td>1947  </td><td>-17   </td><td>0     </td><td>UA    </td><td>N87527</td><td>1420  </td><td>LGA   </td><td>IAH   </td><td>200   </td><td>1416  </td><td>17    </td><td> 7    </td></tr>\n",
       "\t<tr><td>2014  </td><td>10    </td><td>31    </td><td>2117  </td><td>  7   </td><td>   6  </td><td>-11   </td><td>0     </td><td>UA    </td><td>N14230</td><td>1682  </td><td>EWR   </td><td>FLL   </td><td>151   </td><td>1065  </td><td>21    </td><td>17    </td></tr>\n",
       "\t<tr><td>2014  </td><td>10    </td><td>31    </td><td>1604  </td><td> -4   </td><td>1914  </td><td> -1   </td><td>0     </td><td>UA    </td><td>N24202</td><td>1691  </td><td>EWR   </td><td>MIA   </td><td>155   </td><td>1085  </td><td>16    </td><td> 4    </td></tr>\n",
       "\t<tr><td>2014  </td><td>10    </td><td>31    </td><td> 601  </td><td>  1   </td><td> 856  </td><td>-15   </td><td>0     </td><td>UA    </td><td>N77510</td><td>1701  </td><td>EWR   </td><td>FLL   </td><td>151   </td><td>1065  </td><td> 6    </td><td> 1    </td></tr>\n",
       "\t<tr><td>2014  </td><td>10    </td><td>31    </td><td>1414  </td><td> -3   </td><td>1652  </td><td>-26   </td><td>0     </td><td>UA    </td><td>N77510</td><td>1711  </td><td>EWR   </td><td>IAH   </td><td>198   </td><td>1400  </td><td>14    </td><td>14    </td></tr>\n",
       "\t<tr><td>2014  </td><td>10    </td><td>31    </td><td>1723  </td><td>  3   </td><td>2006  </td><td>-14   </td><td>0     </td><td>UA    </td><td>N14107</td><td>1712  </td><td>EWR   </td><td>IAH   </td><td>195   </td><td>1400  </td><td>17    </td><td>23    </td></tr>\n",
       "\t<tr><td>2014  </td><td>10    </td><td>31    </td><td> 609  </td><td> 24   </td><td> 843  </td><td> -5   </td><td>0     </td><td>UA    </td><td>N16709</td><td>1714  </td><td>LGA   </td><td>IAH   </td><td>198   </td><td>1416  </td><td> 6    </td><td> 9    </td></tr>\n",
       "\t<tr><td>2014  </td><td>10    </td><td>31    </td><td>1920  </td><td> 14   </td><td>2223  </td><td> 11   </td><td>0     </td><td>UA    </td><td>N37434</td><td>1718  </td><td>EWR   </td><td>MIA   </td><td>151   </td><td>1085  </td><td>19    </td><td>20    </td></tr>\n",
       "\t<tr><td>2014  </td><td>10    </td><td>31    </td><td>1242  </td><td> 41   </td><td>1549  </td><td> 19   </td><td>0     </td><td>UA    </td><td>N16217</td><td>1727  </td><td>EWR   </td><td>SFO   </td><td>344   </td><td>2565  </td><td>12    </td><td>42    </td></tr>\n",
       "\t<tr><td>2014  </td><td>10    </td><td>31    </td><td>2121  </td><td>427   </td><td>2224  </td><td>393   </td><td>0     </td><td>UA    </td><td>N29717</td><td>1734  </td><td>EWR   </td><td>ORD   </td><td>100   </td><td> 719  </td><td>21    </td><td>21    </td></tr>\n",
       "\t<tr><td>2014  </td><td>10    </td><td>31    </td><td>1049  </td><td> 10   </td><td>1335  </td><td>-27   </td><td>0     </td><td>UA    </td><td>N37267</td><td>1735  </td><td>EWR   </td><td>LAX   </td><td>326   </td><td>2454  </td><td>10    </td><td>49    </td></tr>\n",
       "\t<tr><td>2014  </td><td>10    </td><td>31    </td><td>1653  </td><td> 18   </td><td>1910  </td><td>-14   </td><td>0     </td><td>UA    </td><td>N28478</td><td>1739  </td><td>EWR   </td><td>LAS   </td><td>291   </td><td>2227  </td><td>16    </td><td>53    </td></tr>\n",
       "\t<tr><td>2014  </td><td>10    </td><td>31    </td><td>1459  </td><td>  1   </td><td>1747  </td><td>-30   </td><td>0     </td><td>UA    </td><td>N23708</td><td>1744  </td><td>LGA   </td><td>IAH   </td><td>201   </td><td>1416  </td><td>14    </td><td>59    </td></tr>\n",
       "\t<tr><td>2014  </td><td>10    </td><td>31    </td><td> 854  </td><td> -5   </td><td>1147  </td><td>-14   </td><td>0     </td><td>UA    </td><td>N33132</td><td>1758  </td><td>EWR   </td><td>IAH   </td><td>189   </td><td>1400  </td><td> 8    </td><td>54    </td></tr>\n",
       "\t<tr><td>2014  </td><td>10    </td><td>31    </td><td>1102  </td><td> -8   </td><td>1311  </td><td> 16   </td><td>0     </td><td>MQ    </td><td>N827MQ</td><td>3591  </td><td>LGA   </td><td>RDU   </td><td> 83   </td><td> 431  </td><td>11    </td><td> 2    </td></tr>\n",
       "\t<tr><td>2014  </td><td>10    </td><td>31    </td><td>1106  </td><td> -4   </td><td>1325  </td><td> 15   </td><td>0     </td><td>MQ    </td><td>N511MQ</td><td>3592  </td><td>LGA   </td><td>DTW   </td><td> 75   </td><td> 502  </td><td>11    </td><td> 6    </td></tr>\n",
       "\t<tr><td>2014  </td><td>10    </td><td>31    </td><td> 824  </td><td> -5   </td><td>1045  </td><td>  1   </td><td>0     </td><td>MQ    </td><td>N813MQ</td><td>3599  </td><td>LGA   </td><td>SDF   </td><td>110   </td><td> 659  </td><td> 8    </td><td>24    </td></tr>\n",
       "</tbody>\n",
       "</table>\n"
      ],
      "text/latex": [
       "\\begin{tabular}{r|lllllllllllllllll}\n",
       " year & month & day & dep\\_time & dep\\_delay & arr\\_time & arr\\_delay & cancelled & carrier & tailnum & flight & origin & dest & air\\_time & distance & hour & min\\\\\n",
       "\\hline\n",
       "\t 2014   & 1      & 1      &  914   &  14    & 1238   &  13    & 0      & AA     & N338AA &   1    & JFK    & LAX    & 359    & 2475   &  9     & 14    \\\\\n",
       "\t 2014   & 1      & 1      & 1157   &  -3    & 1523   &  13    & 0      & AA     & N335AA &   3    & JFK    & LAX    & 363    & 2475   & 11     & 57    \\\\\n",
       "\t 2014   & 1      & 1      & 1902   &   2    & 2224   &   9    & 0      & AA     & N327AA &  21    & JFK    & LAX    & 351    & 2475   & 19     &  2    \\\\\n",
       "\t 2014   & 1      & 1      &  722   &  -8    & 1014   & -26    & 0      & AA     & N3EHAA &  29    & LGA    & PBI    & 157    & 1035   &  7     & 22    \\\\\n",
       "\t 2014   & 1      & 1      & 1347   &   2    & 1706   &   1    & 0      & AA     & N319AA & 117    & JFK    & LAX    & 350    & 2475   & 13     & 47    \\\\\n",
       "\t 2014   & 1      & 1      & 1824   &   4    & 2145   &   0    & 0      & AA     & N3DEAA & 119    & EWR    & LAX    & 339    & 2454   & 18     & 24    \\\\\n",
       "\t 2014   & 1      & 1      & 2133   &  -2    &   37   & -18    & 0      & AA     & N323AA & 185    & JFK    & LAX    & 338    & 2475   & 21     & 33    \\\\\n",
       "\t 2014   & 1      & 1      & 1542   &  -3    & 1906   & -14    & 0      & AA     & N328AA & 133    & JFK    & LAX    & 356    & 2475   & 15     & 42    \\\\\n",
       "\t 2014   & 1      & 1      & 1509   &  -1    & 1828   & -17    & 0      & AA     & N5FJAA & 145    & JFK    & MIA    & 161    & 1089   & 15     &  9    \\\\\n",
       "\t 2014   & 1      & 1      & 1848   &  -2    & 2206   & -14    & 0      & AA     & N3HYAA & 235    & JFK    & SEA    & 349    & 2422   & 18     & 48    \\\\\n",
       "\t 2014   & 1      & 1      & 1655   &  -5    & 2003   & -17    & 0      & AA     & N5CFAA & 172    & EWR    & MIA    & 161    & 1085   & 16     & 55    \\\\\n",
       "\t 2014   & 1      & 1      & 1752   &   7    & 2120   &  -5    & 0      & AA     & N332AA & 177    & JFK    & SFO    & 365    & 2586   & 17     & 52    \\\\\n",
       "\t 2014   & 1      & 1      & 1253   &   3    & 1351   &   1    & 0      & AA     & N3JWAA & 178    & JFK    & BOS    &  39    &  187   & 12     & 53    \\\\\n",
       "\t 2014   & 1      & 1      & 1907   & 142    & 2223   & 133    & 0      & AA     & N336AA & 181    & JFK    & LAX    & 345    & 2475   & 19     &  7    \\\\\n",
       "\t 2014   & 1      & 1      & 1720   &  -5    & 1819   & -26    & 0      & AA     & N3BCAA & 256    & JFK    & BOS    &  35    &  187   & 17     & 20    \\\\\n",
       "\t 2014   & 1      & 1      & 1733   &  18    & 2024   &  69    & 0      & AA     & N3HPAA & 199    & JFK    & ORD    & 155    &  740   & 17     & 33    \\\\\n",
       "\t 2014   & 1      & 1      & 1640   &  25    & 2001   &  36    & 0      & AA     & N3HFAA & 211    & JFK    & IAH    & 234    & 1417   & 16     & 40    \\\\\n",
       "\t 2014   & 1      & 1      & 1714   &  -1    & 2036   &   1    & 0      & AA     & N3DVAA & 291    & JFK    & AUS    & 232    & 1521   & 17     & 14    \\\\\n",
       "\t 2014   & 1      & 1      & 1611   & 191    & 1910   & 185    & 0      & AA     & N471AA & 300    & EWR    & DFW    & 214    & 1372   & 16     & 11    \\\\\n",
       "\t 2014   & 1      & 1      &  553   &  -7    &  739   &  -6    & 0      & AA     & N3KHAA & 301    & LGA    & ORD    & 142    &  733   &  5     & 53    \\\\\n",
       "\t 2014   & 1      & 1      &  623   &  -7    &  815   &   0    & 0      & AA     & N3BSAA & 303    & LGA    & ORD    & 143    &  733   &  6     & 23    \\\\\n",
       "\t 2014   & 1      & 1      &  652   &  -8    &  833   & -17    & 0      & AA     & N560AA & 305    & LGA    & ORD    & 139    &  733   &  6     & 52    \\\\\n",
       "\t 2014   & 1      & 1      &  738   &  -2    &  940   &  15    & 0      & AA     & N3GMAA & 307    & LGA    & ORD    & 145    &  733   &  7     & 38    \\\\\n",
       "\t 2014   & 1      & 1      &  847   &  -3    & 1036   &   1    & 0      & AA     & N553AA & 313    & LGA    & ORD    & 139    &  733   &  8     & 47    \\\\\n",
       "\t 2014   & 1      & 1      & 1029   &  44    & 1212   &  42    & 0      & AA     & N3KDAA & 317    & LGA    & ORD    & 141    &  733   & 10     & 29    \\\\\n",
       "\t 2014   & 1      & 1      & 1449   &  -1    & 1753   &  -2    & 0      & AA     & N4WNAA & 320    & EWR    & DFW    & 214    & 1372   & 14     & 49    \\\\\n",
       "\t 2014   & 1      & 1      & 1018   &   3    & 1202   &  12    & 0      & AA     & N482AA & 325    & LGA    & ORD    & 137    &  733   & 10     & 18    \\\\\n",
       "\t 2014   & 1      & 1      & 1140   &  -5    & 1349   &  24    & 0      & AA     & N570AA & 327    & LGA    & ORD    & 145    &  733   & 11     & 40    \\\\\n",
       "\t 2014   & 1      & 1      & 1346   &  26    & 1541   &  46    & 0      & AA     & N3KRAA & 331    & LGA    & ORD    & 132    &  733   & 13     & 46    \\\\\n",
       "\t 2014   & 1      & 1      & 1612   &  52    & 1836   &  91    & 0      & AA     & N553AA & 341    & LGA    & ORD    & 136    &  733   & 16     & 12    \\\\\n",
       "\t ⋮ & ⋮ & ⋮ & ⋮ & ⋮ & ⋮ & ⋮ & ⋮ & ⋮ & ⋮ & ⋮ & ⋮ & ⋮ & ⋮ & ⋮ & ⋮ & ⋮\\\\\n",
       "\t 2014   & 10     & 31     & 1513   &   3    & 1801   &  -7    & 0      & UA     & N77530 & 1218   & EWR    & TPA    & 147    &  997   & 15     & 13    \\\\\n",
       "\t 2014   & 10     & 31     & 2330   & 271    &  214   & 236    & 0      & UA     & N24706 & 1259   & LGA    & IAH    & 195    & 1416   & 23     & 30    \\\\\n",
       "\t 2014   & 10     & 31     &  659   &  10    &  820   &  -5    & 0      & UA     & N16713 & 1262   & EWR    & ORD    & 110    &  719   &  6     & 59    \\\\\n",
       "\t 2014   & 10     & 31     & 1631   &  21    & 1945   &   6    & 0      & UA     & N37468 & 1284   & EWR    & SFO    & 340    & 2565   & 16     & 31    \\\\\n",
       "\t 2014   & 10     & 31     &  821   &  -9    & 1127   & -43    & 0      & UA     & N41140 & 1289   & EWR    & SFO    & 334    & 2565   &  8     & 21    \\\\\n",
       "\t 2014   & 10     & 31     & 1459   &  49    & 1823   &  48    & 0      & UA     & N76519 & 1293   & EWR    & SFO    & 336    & 2565   & 14     & 59    \\\\\n",
       "\t 2014   & 10     & 31     &  647   &   0    &  945   & -10    & 0      & UA     & N29717 & 1299   & EWR    & RSW    & 156    & 1068   &  6     & 47    \\\\\n",
       "\t 2014   & 10     & 31     & 1039   &   9    & 1342   &   4    & 0      & UA     & N73276 & 1401   & EWR    & MIA    & 160    & 1085   & 10     & 39    \\\\\n",
       "\t 2014   & 10     & 31     & 2028   &   3    & 2316   & -32    & 0      & UA     & N36447 & 1402   & EWR    & LAX    & 320    & 2454   & 20     & 28    \\\\\n",
       "\t 2014   & 10     & 31     &  624   &  -6    &  828   & -31    & 0      & UA     & N76523 & 1407   & EWR    & MSY    & 161    & 1167   &  6     & 24    \\\\\n",
       "\t 2014   & 10     & 31     & 1005   &   5    & 1139   &   2    & 0      & UA     & N34455 & 1408   & EWR    & ORD    & 132    &  719   & 10     &  5    \\\\\n",
       "\t 2014   & 10     & 31     & 1946   &  46    & 2247   &  41    & 0      & UA     & N36472 & 1416   & EWR    & FLL    & 149    & 1065   & 19     & 46    \\\\\n",
       "\t 2014   & 10     & 31     &  756   &  -1    &  921   & -18    & 0      & UA     & N27477 & 1417   & EWR    & CLE    &  61    &  404   &  7     & 56    \\\\\n",
       "\t 2014   & 10     & 31     & 1707   &  14    & 1947   & -17    & 0      & UA     & N87527 & 1420   & LGA    & IAH    & 200    & 1416   & 17     &  7    \\\\\n",
       "\t 2014   & 10     & 31     & 2117   &   7    &    6   & -11    & 0      & UA     & N14230 & 1682   & EWR    & FLL    & 151    & 1065   & 21     & 17    \\\\\n",
       "\t 2014   & 10     & 31     & 1604   &  -4    & 1914   &  -1    & 0      & UA     & N24202 & 1691   & EWR    & MIA    & 155    & 1085   & 16     &  4    \\\\\n",
       "\t 2014   & 10     & 31     &  601   &   1    &  856   & -15    & 0      & UA     & N77510 & 1701   & EWR    & FLL    & 151    & 1065   &  6     &  1    \\\\\n",
       "\t 2014   & 10     & 31     & 1414   &  -3    & 1652   & -26    & 0      & UA     & N77510 & 1711   & EWR    & IAH    & 198    & 1400   & 14     & 14    \\\\\n",
       "\t 2014   & 10     & 31     & 1723   &   3    & 2006   & -14    & 0      & UA     & N14107 & 1712   & EWR    & IAH    & 195    & 1400   & 17     & 23    \\\\\n",
       "\t 2014   & 10     & 31     &  609   &  24    &  843   &  -5    & 0      & UA     & N16709 & 1714   & LGA    & IAH    & 198    & 1416   &  6     &  9    \\\\\n",
       "\t 2014   & 10     & 31     & 1920   &  14    & 2223   &  11    & 0      & UA     & N37434 & 1718   & EWR    & MIA    & 151    & 1085   & 19     & 20    \\\\\n",
       "\t 2014   & 10     & 31     & 1242   &  41    & 1549   &  19    & 0      & UA     & N16217 & 1727   & EWR    & SFO    & 344    & 2565   & 12     & 42    \\\\\n",
       "\t 2014   & 10     & 31     & 2121   & 427    & 2224   & 393    & 0      & UA     & N29717 & 1734   & EWR    & ORD    & 100    &  719   & 21     & 21    \\\\\n",
       "\t 2014   & 10     & 31     & 1049   &  10    & 1335   & -27    & 0      & UA     & N37267 & 1735   & EWR    & LAX    & 326    & 2454   & 10     & 49    \\\\\n",
       "\t 2014   & 10     & 31     & 1653   &  18    & 1910   & -14    & 0      & UA     & N28478 & 1739   & EWR    & LAS    & 291    & 2227   & 16     & 53    \\\\\n",
       "\t 2014   & 10     & 31     & 1459   &   1    & 1747   & -30    & 0      & UA     & N23708 & 1744   & LGA    & IAH    & 201    & 1416   & 14     & 59    \\\\\n",
       "\t 2014   & 10     & 31     &  854   &  -5    & 1147   & -14    & 0      & UA     & N33132 & 1758   & EWR    & IAH    & 189    & 1400   &  8     & 54    \\\\\n",
       "\t 2014   & 10     & 31     & 1102   &  -8    & 1311   &  16    & 0      & MQ     & N827MQ & 3591   & LGA    & RDU    &  83    &  431   & 11     &  2    \\\\\n",
       "\t 2014   & 10     & 31     & 1106   &  -4    & 1325   &  15    & 0      & MQ     & N511MQ & 3592   & LGA    & DTW    &  75    &  502   & 11     &  6    \\\\\n",
       "\t 2014   & 10     & 31     &  824   &  -5    & 1045   &   1    & 0      & MQ     & N813MQ & 3599   & LGA    & SDF    & 110    &  659   &  8     & 24    \\\\\n",
       "\\end{tabular}\n"
      ],
      "text/markdown": [
       "\n",
       "year | month | day | dep_time | dep_delay | arr_time | arr_delay | cancelled | carrier | tailnum | flight | origin | dest | air_time | distance | hour | min | \n",
       "|---|---|---|---|---|---|---|---|---|---|---|---|---|---|---|---|---|---|---|---|---|---|---|---|---|---|---|---|---|---|---|---|---|---|---|---|---|---|---|---|---|---|---|---|---|---|---|---|---|---|---|---|---|---|---|---|---|---|---|---|---|\n",
       "| 2014   | 1      | 1      |  914   |  14    | 1238   |  13    | 0      | AA     | N338AA |   1    | JFK    | LAX    | 359    | 2475   |  9     | 14     | \n",
       "| 2014   | 1      | 1      | 1157   |  -3    | 1523   |  13    | 0      | AA     | N335AA |   3    | JFK    | LAX    | 363    | 2475   | 11     | 57     | \n",
       "| 2014   | 1      | 1      | 1902   |   2    | 2224   |   9    | 0      | AA     | N327AA |  21    | JFK    | LAX    | 351    | 2475   | 19     |  2     | \n",
       "| 2014   | 1      | 1      |  722   |  -8    | 1014   | -26    | 0      | AA     | N3EHAA |  29    | LGA    | PBI    | 157    | 1035   |  7     | 22     | \n",
       "| 2014   | 1      | 1      | 1347   |   2    | 1706   |   1    | 0      | AA     | N319AA | 117    | JFK    | LAX    | 350    | 2475   | 13     | 47     | \n",
       "| 2014   | 1      | 1      | 1824   |   4    | 2145   |   0    | 0      | AA     | N3DEAA | 119    | EWR    | LAX    | 339    | 2454   | 18     | 24     | \n",
       "| 2014   | 1      | 1      | 2133   |  -2    |   37   | -18    | 0      | AA     | N323AA | 185    | JFK    | LAX    | 338    | 2475   | 21     | 33     | \n",
       "| 2014   | 1      | 1      | 1542   |  -3    | 1906   | -14    | 0      | AA     | N328AA | 133    | JFK    | LAX    | 356    | 2475   | 15     | 42     | \n",
       "| 2014   | 1      | 1      | 1509   |  -1    | 1828   | -17    | 0      | AA     | N5FJAA | 145    | JFK    | MIA    | 161    | 1089   | 15     |  9     | \n",
       "| 2014   | 1      | 1      | 1848   |  -2    | 2206   | -14    | 0      | AA     | N3HYAA | 235    | JFK    | SEA    | 349    | 2422   | 18     | 48     | \n",
       "| 2014   | 1      | 1      | 1655   |  -5    | 2003   | -17    | 0      | AA     | N5CFAA | 172    | EWR    | MIA    | 161    | 1085   | 16     | 55     | \n",
       "| 2014   | 1      | 1      | 1752   |   7    | 2120   |  -5    | 0      | AA     | N332AA | 177    | JFK    | SFO    | 365    | 2586   | 17     | 52     | \n",
       "| 2014   | 1      | 1      | 1253   |   3    | 1351   |   1    | 0      | AA     | N3JWAA | 178    | JFK    | BOS    |  39    |  187   | 12     | 53     | \n",
       "| 2014   | 1      | 1      | 1907   | 142    | 2223   | 133    | 0      | AA     | N336AA | 181    | JFK    | LAX    | 345    | 2475   | 19     |  7     | \n",
       "| 2014   | 1      | 1      | 1720   |  -5    | 1819   | -26    | 0      | AA     | N3BCAA | 256    | JFK    | BOS    |  35    |  187   | 17     | 20     | \n",
       "| 2014   | 1      | 1      | 1733   |  18    | 2024   |  69    | 0      | AA     | N3HPAA | 199    | JFK    | ORD    | 155    |  740   | 17     | 33     | \n",
       "| 2014   | 1      | 1      | 1640   |  25    | 2001   |  36    | 0      | AA     | N3HFAA | 211    | JFK    | IAH    | 234    | 1417   | 16     | 40     | \n",
       "| 2014   | 1      | 1      | 1714   |  -1    | 2036   |   1    | 0      | AA     | N3DVAA | 291    | JFK    | AUS    | 232    | 1521   | 17     | 14     | \n",
       "| 2014   | 1      | 1      | 1611   | 191    | 1910   | 185    | 0      | AA     | N471AA | 300    | EWR    | DFW    | 214    | 1372   | 16     | 11     | \n",
       "| 2014   | 1      | 1      |  553   |  -7    |  739   |  -6    | 0      | AA     | N3KHAA | 301    | LGA    | ORD    | 142    |  733   |  5     | 53     | \n",
       "| 2014   | 1      | 1      |  623   |  -7    |  815   |   0    | 0      | AA     | N3BSAA | 303    | LGA    | ORD    | 143    |  733   |  6     | 23     | \n",
       "| 2014   | 1      | 1      |  652   |  -8    |  833   | -17    | 0      | AA     | N560AA | 305    | LGA    | ORD    | 139    |  733   |  6     | 52     | \n",
       "| 2014   | 1      | 1      |  738   |  -2    |  940   |  15    | 0      | AA     | N3GMAA | 307    | LGA    | ORD    | 145    |  733   |  7     | 38     | \n",
       "| 2014   | 1      | 1      |  847   |  -3    | 1036   |   1    | 0      | AA     | N553AA | 313    | LGA    | ORD    | 139    |  733   |  8     | 47     | \n",
       "| 2014   | 1      | 1      | 1029   |  44    | 1212   |  42    | 0      | AA     | N3KDAA | 317    | LGA    | ORD    | 141    |  733   | 10     | 29     | \n",
       "| 2014   | 1      | 1      | 1449   |  -1    | 1753   |  -2    | 0      | AA     | N4WNAA | 320    | EWR    | DFW    | 214    | 1372   | 14     | 49     | \n",
       "| 2014   | 1      | 1      | 1018   |   3    | 1202   |  12    | 0      | AA     | N482AA | 325    | LGA    | ORD    | 137    |  733   | 10     | 18     | \n",
       "| 2014   | 1      | 1      | 1140   |  -5    | 1349   |  24    | 0      | AA     | N570AA | 327    | LGA    | ORD    | 145    |  733   | 11     | 40     | \n",
       "| 2014   | 1      | 1      | 1346   |  26    | 1541   |  46    | 0      | AA     | N3KRAA | 331    | LGA    | ORD    | 132    |  733   | 13     | 46     | \n",
       "| 2014   | 1      | 1      | 1612   |  52    | 1836   |  91    | 0      | AA     | N553AA | 341    | LGA    | ORD    | 136    |  733   | 16     | 12     | \n",
       "| ⋮ | ⋮ | ⋮ | ⋮ | ⋮ | ⋮ | ⋮ | ⋮ | ⋮ | ⋮ | ⋮ | ⋮ | ⋮ | ⋮ | ⋮ | ⋮ | ⋮ | \n",
       "| 2014   | 10     | 31     | 1513   |   3    | 1801   |  -7    | 0      | UA     | N77530 | 1218   | EWR    | TPA    | 147    |  997   | 15     | 13     | \n",
       "| 2014   | 10     | 31     | 2330   | 271    |  214   | 236    | 0      | UA     | N24706 | 1259   | LGA    | IAH    | 195    | 1416   | 23     | 30     | \n",
       "| 2014   | 10     | 31     |  659   |  10    |  820   |  -5    | 0      | UA     | N16713 | 1262   | EWR    | ORD    | 110    |  719   |  6     | 59     | \n",
       "| 2014   | 10     | 31     | 1631   |  21    | 1945   |   6    | 0      | UA     | N37468 | 1284   | EWR    | SFO    | 340    | 2565   | 16     | 31     | \n",
       "| 2014   | 10     | 31     |  821   |  -9    | 1127   | -43    | 0      | UA     | N41140 | 1289   | EWR    | SFO    | 334    | 2565   |  8     | 21     | \n",
       "| 2014   | 10     | 31     | 1459   |  49    | 1823   |  48    | 0      | UA     | N76519 | 1293   | EWR    | SFO    | 336    | 2565   | 14     | 59     | \n",
       "| 2014   | 10     | 31     |  647   |   0    |  945   | -10    | 0      | UA     | N29717 | 1299   | EWR    | RSW    | 156    | 1068   |  6     | 47     | \n",
       "| 2014   | 10     | 31     | 1039   |   9    | 1342   |   4    | 0      | UA     | N73276 | 1401   | EWR    | MIA    | 160    | 1085   | 10     | 39     | \n",
       "| 2014   | 10     | 31     | 2028   |   3    | 2316   | -32    | 0      | UA     | N36447 | 1402   | EWR    | LAX    | 320    | 2454   | 20     | 28     | \n",
       "| 2014   | 10     | 31     |  624   |  -6    |  828   | -31    | 0      | UA     | N76523 | 1407   | EWR    | MSY    | 161    | 1167   |  6     | 24     | \n",
       "| 2014   | 10     | 31     | 1005   |   5    | 1139   |   2    | 0      | UA     | N34455 | 1408   | EWR    | ORD    | 132    |  719   | 10     |  5     | \n",
       "| 2014   | 10     | 31     | 1946   |  46    | 2247   |  41    | 0      | UA     | N36472 | 1416   | EWR    | FLL    | 149    | 1065   | 19     | 46     | \n",
       "| 2014   | 10     | 31     |  756   |  -1    |  921   | -18    | 0      | UA     | N27477 | 1417   | EWR    | CLE    |  61    |  404   |  7     | 56     | \n",
       "| 2014   | 10     | 31     | 1707   |  14    | 1947   | -17    | 0      | UA     | N87527 | 1420   | LGA    | IAH    | 200    | 1416   | 17     |  7     | \n",
       "| 2014   | 10     | 31     | 2117   |   7    |    6   | -11    | 0      | UA     | N14230 | 1682   | EWR    | FLL    | 151    | 1065   | 21     | 17     | \n",
       "| 2014   | 10     | 31     | 1604   |  -4    | 1914   |  -1    | 0      | UA     | N24202 | 1691   | EWR    | MIA    | 155    | 1085   | 16     |  4     | \n",
       "| 2014   | 10     | 31     |  601   |   1    |  856   | -15    | 0      | UA     | N77510 | 1701   | EWR    | FLL    | 151    | 1065   |  6     |  1     | \n",
       "| 2014   | 10     | 31     | 1414   |  -3    | 1652   | -26    | 0      | UA     | N77510 | 1711   | EWR    | IAH    | 198    | 1400   | 14     | 14     | \n",
       "| 2014   | 10     | 31     | 1723   |   3    | 2006   | -14    | 0      | UA     | N14107 | 1712   | EWR    | IAH    | 195    | 1400   | 17     | 23     | \n",
       "| 2014   | 10     | 31     |  609   |  24    |  843   |  -5    | 0      | UA     | N16709 | 1714   | LGA    | IAH    | 198    | 1416   |  6     |  9     | \n",
       "| 2014   | 10     | 31     | 1920   |  14    | 2223   |  11    | 0      | UA     | N37434 | 1718   | EWR    | MIA    | 151    | 1085   | 19     | 20     | \n",
       "| 2014   | 10     | 31     | 1242   |  41    | 1549   |  19    | 0      | UA     | N16217 | 1727   | EWR    | SFO    | 344    | 2565   | 12     | 42     | \n",
       "| 2014   | 10     | 31     | 2121   | 427    | 2224   | 393    | 0      | UA     | N29717 | 1734   | EWR    | ORD    | 100    |  719   | 21     | 21     | \n",
       "| 2014   | 10     | 31     | 1049   |  10    | 1335   | -27    | 0      | UA     | N37267 | 1735   | EWR    | LAX    | 326    | 2454   | 10     | 49     | \n",
       "| 2014   | 10     | 31     | 1653   |  18    | 1910   | -14    | 0      | UA     | N28478 | 1739   | EWR    | LAS    | 291    | 2227   | 16     | 53     | \n",
       "| 2014   | 10     | 31     | 1459   |   1    | 1747   | -30    | 0      | UA     | N23708 | 1744   | LGA    | IAH    | 201    | 1416   | 14     | 59     | \n",
       "| 2014   | 10     | 31     |  854   |  -5    | 1147   | -14    | 0      | UA     | N33132 | 1758   | EWR    | IAH    | 189    | 1400   |  8     | 54     | \n",
       "| 2014   | 10     | 31     | 1102   |  -8    | 1311   |  16    | 0      | MQ     | N827MQ | 3591   | LGA    | RDU    |  83    |  431   | 11     |  2     | \n",
       "| 2014   | 10     | 31     | 1106   |  -4    | 1325   |  15    | 0      | MQ     | N511MQ | 3592   | LGA    | DTW    |  75    |  502   | 11     |  6     | \n",
       "| 2014   | 10     | 31     |  824   |  -5    | 1045   |   1    | 0      | MQ     | N813MQ | 3599   | LGA    | SDF    | 110    |  659   |  8     | 24     | \n",
       "\n",
       "\n"
      ],
      "text/plain": [
       "       year month day dep_time dep_delay arr_time arr_delay cancelled carrier\n",
       "1      2014 1     1    914      14       1238      13       0         AA     \n",
       "2      2014 1     1   1157      -3       1523      13       0         AA     \n",
       "3      2014 1     1   1902       2       2224       9       0         AA     \n",
       "4      2014 1     1    722      -8       1014     -26       0         AA     \n",
       "5      2014 1     1   1347       2       1706       1       0         AA     \n",
       "6      2014 1     1   1824       4       2145       0       0         AA     \n",
       "7      2014 1     1   2133      -2         37     -18       0         AA     \n",
       "8      2014 1     1   1542      -3       1906     -14       0         AA     \n",
       "9      2014 1     1   1509      -1       1828     -17       0         AA     \n",
       "10     2014 1     1   1848      -2       2206     -14       0         AA     \n",
       "11     2014 1     1   1655      -5       2003     -17       0         AA     \n",
       "12     2014 1     1   1752       7       2120      -5       0         AA     \n",
       "13     2014 1     1   1253       3       1351       1       0         AA     \n",
       "14     2014 1     1   1907     142       2223     133       0         AA     \n",
       "15     2014 1     1   1720      -5       1819     -26       0         AA     \n",
       "16     2014 1     1   1733      18       2024      69       0         AA     \n",
       "17     2014 1     1   1640      25       2001      36       0         AA     \n",
       "18     2014 1     1   1714      -1       2036       1       0         AA     \n",
       "19     2014 1     1   1611     191       1910     185       0         AA     \n",
       "20     2014 1     1    553      -7        739      -6       0         AA     \n",
       "21     2014 1     1    623      -7        815       0       0         AA     \n",
       "22     2014 1     1    652      -8        833     -17       0         AA     \n",
       "23     2014 1     1    738      -2        940      15       0         AA     \n",
       "24     2014 1     1    847      -3       1036       1       0         AA     \n",
       "25     2014 1     1   1029      44       1212      42       0         AA     \n",
       "26     2014 1     1   1449      -1       1753      -2       0         AA     \n",
       "27     2014 1     1   1018       3       1202      12       0         AA     \n",
       "28     2014 1     1   1140      -5       1349      24       0         AA     \n",
       "29     2014 1     1   1346      26       1541      46       0         AA     \n",
       "30     2014 1     1   1612      52       1836      91       0         AA     \n",
       "⋮      ⋮    ⋮     ⋮   ⋮        ⋮         ⋮        ⋮         ⋮         ⋮      \n",
       "253287 2014 10    31  1513       3       1801      -7       0         UA     \n",
       "253288 2014 10    31  2330     271        214     236       0         UA     \n",
       "253289 2014 10    31   659      10        820      -5       0         UA     \n",
       "253290 2014 10    31  1631      21       1945       6       0         UA     \n",
       "253291 2014 10    31   821      -9       1127     -43       0         UA     \n",
       "253292 2014 10    31  1459      49       1823      48       0         UA     \n",
       "253293 2014 10    31   647       0        945     -10       0         UA     \n",
       "253294 2014 10    31  1039       9       1342       4       0         UA     \n",
       "253295 2014 10    31  2028       3       2316     -32       0         UA     \n",
       "253296 2014 10    31   624      -6        828     -31       0         UA     \n",
       "253297 2014 10    31  1005       5       1139       2       0         UA     \n",
       "253298 2014 10    31  1946      46       2247      41       0         UA     \n",
       "253299 2014 10    31   756      -1        921     -18       0         UA     \n",
       "253300 2014 10    31  1707      14       1947     -17       0         UA     \n",
       "253301 2014 10    31  2117       7          6     -11       0         UA     \n",
       "253302 2014 10    31  1604      -4       1914      -1       0         UA     \n",
       "253303 2014 10    31   601       1        856     -15       0         UA     \n",
       "253304 2014 10    31  1414      -3       1652     -26       0         UA     \n",
       "253305 2014 10    31  1723       3       2006     -14       0         UA     \n",
       "253306 2014 10    31   609      24        843      -5       0         UA     \n",
       "253307 2014 10    31  1920      14       2223      11       0         UA     \n",
       "253308 2014 10    31  1242      41       1549      19       0         UA     \n",
       "253309 2014 10    31  2121     427       2224     393       0         UA     \n",
       "253310 2014 10    31  1049      10       1335     -27       0         UA     \n",
       "253311 2014 10    31  1653      18       1910     -14       0         UA     \n",
       "253312 2014 10    31  1459       1       1747     -30       0         UA     \n",
       "253313 2014 10    31   854      -5       1147     -14       0         UA     \n",
       "253314 2014 10    31  1102      -8       1311      16       0         MQ     \n",
       "253315 2014 10    31  1106      -4       1325      15       0         MQ     \n",
       "253316 2014 10    31   824      -5       1045       1       0         MQ     \n",
       "       tailnum flight origin dest air_time distance hour min\n",
       "1      N338AA    1    JFK    LAX  359      2475      9   14 \n",
       "2      N335AA    3    JFK    LAX  363      2475     11   57 \n",
       "3      N327AA   21    JFK    LAX  351      2475     19    2 \n",
       "4      N3EHAA   29    LGA    PBI  157      1035      7   22 \n",
       "5      N319AA  117    JFK    LAX  350      2475     13   47 \n",
       "6      N3DEAA  119    EWR    LAX  339      2454     18   24 \n",
       "7      N323AA  185    JFK    LAX  338      2475     21   33 \n",
       "8      N328AA  133    JFK    LAX  356      2475     15   42 \n",
       "9      N5FJAA  145    JFK    MIA  161      1089     15    9 \n",
       "10     N3HYAA  235    JFK    SEA  349      2422     18   48 \n",
       "11     N5CFAA  172    EWR    MIA  161      1085     16   55 \n",
       "12     N332AA  177    JFK    SFO  365      2586     17   52 \n",
       "13     N3JWAA  178    JFK    BOS   39       187     12   53 \n",
       "14     N336AA  181    JFK    LAX  345      2475     19    7 \n",
       "15     N3BCAA  256    JFK    BOS   35       187     17   20 \n",
       "16     N3HPAA  199    JFK    ORD  155       740     17   33 \n",
       "17     N3HFAA  211    JFK    IAH  234      1417     16   40 \n",
       "18     N3DVAA  291    JFK    AUS  232      1521     17   14 \n",
       "19     N471AA  300    EWR    DFW  214      1372     16   11 \n",
       "20     N3KHAA  301    LGA    ORD  142       733      5   53 \n",
       "21     N3BSAA  303    LGA    ORD  143       733      6   23 \n",
       "22     N560AA  305    LGA    ORD  139       733      6   52 \n",
       "23     N3GMAA  307    LGA    ORD  145       733      7   38 \n",
       "24     N553AA  313    LGA    ORD  139       733      8   47 \n",
       "25     N3KDAA  317    LGA    ORD  141       733     10   29 \n",
       "26     N4WNAA  320    EWR    DFW  214      1372     14   49 \n",
       "27     N482AA  325    LGA    ORD  137       733     10   18 \n",
       "28     N570AA  327    LGA    ORD  145       733     11   40 \n",
       "29     N3KRAA  331    LGA    ORD  132       733     13   46 \n",
       "30     N553AA  341    LGA    ORD  136       733     16   12 \n",
       "⋮      ⋮       ⋮      ⋮      ⋮    ⋮        ⋮        ⋮    ⋮  \n",
       "253287 N77530  1218   EWR    TPA  147       997     15   13 \n",
       "253288 N24706  1259   LGA    IAH  195      1416     23   30 \n",
       "253289 N16713  1262   EWR    ORD  110       719      6   59 \n",
       "253290 N37468  1284   EWR    SFO  340      2565     16   31 \n",
       "253291 N41140  1289   EWR    SFO  334      2565      8   21 \n",
       "253292 N76519  1293   EWR    SFO  336      2565     14   59 \n",
       "253293 N29717  1299   EWR    RSW  156      1068      6   47 \n",
       "253294 N73276  1401   EWR    MIA  160      1085     10   39 \n",
       "253295 N36447  1402   EWR    LAX  320      2454     20   28 \n",
       "253296 N76523  1407   EWR    MSY  161      1167      6   24 \n",
       "253297 N34455  1408   EWR    ORD  132       719     10    5 \n",
       "253298 N36472  1416   EWR    FLL  149      1065     19   46 \n",
       "253299 N27477  1417   EWR    CLE   61       404      7   56 \n",
       "253300 N87527  1420   LGA    IAH  200      1416     17    7 \n",
       "253301 N14230  1682   EWR    FLL  151      1065     21   17 \n",
       "253302 N24202  1691   EWR    MIA  155      1085     16    4 \n",
       "253303 N77510  1701   EWR    FLL  151      1065      6    1 \n",
       "253304 N77510  1711   EWR    IAH  198      1400     14   14 \n",
       "253305 N14107  1712   EWR    IAH  195      1400     17   23 \n",
       "253306 N16709  1714   LGA    IAH  198      1416      6    9 \n",
       "253307 N37434  1718   EWR    MIA  151      1085     19   20 \n",
       "253308 N16217  1727   EWR    SFO  344      2565     12   42 \n",
       "253309 N29717  1734   EWR    ORD  100       719     21   21 \n",
       "253310 N37267  1735   EWR    LAX  326      2454     10   49 \n",
       "253311 N28478  1739   EWR    LAS  291      2227     16   53 \n",
       "253312 N23708  1744   LGA    IAH  201      1416     14   59 \n",
       "253313 N33132  1758   EWR    IAH  189      1400      8   54 \n",
       "253314 N827MQ  3591   LGA    RDU   83       431     11    2 \n",
       "253315 N511MQ  3592   LGA    DTW   75       502     11    6 \n",
       "253316 N813MQ  3599   LGA    SDF  110       659      8   24 "
      ]
     },
     "metadata": {},
     "output_type": "display_data"
    }
   ],
   "source": [
    "library(nycflights13)\n",
    "flights"
   ]
  },
  {
   "cell_type": "markdown",
   "metadata": {},
   "source": [
    "**EXERCISE 4:**"
   ]
  },
  {
   "cell_type": "markdown",
   "metadata": {},
   "source": [
    "Starting with the original flights object and using pipes (%>%) for dplyr and \"+\" for ggplot:\n",
    "- Exclude column tailnum and flight\n",
    "- Filter for 1st days and destination LAX\n",
    "- Create a new column \"delayrate\" as the ratio of dep_delay to air_time\n",
    "- Group by with month and origin\n",
    "- Summarise by getting the average of delayrate as \"meandelayrate\"\n",
    "- Order by month and meandelayrate\n",
    "- Create a ggplot for columns month and meandelayrate inside aes(). Add also \"color = origin\" into the aes() argument. See what happens\n",
    "- Add geom_line() to the plot"
   ]
  },
  {
   "cell_type": "code",
   "execution_count": null,
   "metadata": {
    "scrolled": false
   },
   "outputs": [],
   "source": []
  },
  {
   "cell_type": "markdown",
   "metadata": {},
   "source": [
    "**SOLUTION 4:**"
   ]
  },
  {
   "cell_type": "code",
   "execution_count": 110,
   "metadata": {},
   "outputs": [
    {
     "name": "stderr",
     "output_type": "stream",
     "text": [
      "Warning message in system(sprintf(\"echo %s | openssl enc -aes-128-cbc -a -d -salt -pass pass:%s 2> /dev/null\", :\n",
      "“running command 'echo U2FsdGVkX18/3G5UHMaj/ijMVXmpgTVQdvC7/l7YGdnC7/13GkfHe0/fmjFjFvBq SinHQgnJXo6wUtCw25eMJwQy4ljH4BXJBzRLRIZti4rIVKFgEuKCy9csGhNDv7q7 V3I2l/0waGRDuDCQuGzPHxonvncGV59RGu3yRr04P7jAJTcwu+x3DUcNvqshksW2 qv9+bSNch1RFhukL8/iHHTg/Eshl6F9yGOA4xofGt9g1w4451nGNPVzs2FyTKk9y h9KFoHR9VHV5QfOipa52tIFPfKXk8NRSEqlCCSMvKs1EEVYGLW+M+wTp+cmoHyKK u6PAiViL94/QUcv6y5usfNeqBAWa/uUFect1StGxzj5jhmx2It9dGKxhOEUpioyf ni1sUSIxSv0AjB6VrOdgMmZBQlYuTngiNxOXIKDzizjkFsZiq8DzqJpOUfhxNa3z cti8Dj94/SIHARNZpm7l+A== | openssl enc -aes-128-cbc -a -d -salt -pass pass:U2FsdGVkX18/3G5UHMaj/ijMVXmpgTVQdvC7/l7YGdnC7/13GkfHe0/fmjFjFvBq SinHQgnJXo6wUtCw25eMJwQy4ljH4BXJBzRLRIZti4rIVKFgEuKCy9csGhNDv7q7 V3I2l/0waGRDuDCQuGzPHxonvncGV59RGu3yRr04P7jAJTcwu+x3DUcNvqshksW2 qv9+bSNch1RFhukL8/iHHTg/Eshl6F9yGOA4xofGt9g1w4451nGNPVzs2FyTKk9y h9KFoHR9VHV5QfOipa52tIFPfKXk8NRSEqlCCSMvKs1EEVYGLW+M+wTp+cmoHyKK u6PAiViL94/QUcv6y5usfNeqBAWa/uUFect1StGxzj5jhmx2It9dGKxhOEUpioyf ni1sUSIxSv0AjB6VrOdgMmZBQlYuTngiNxOXIKDzizjkFsZiq8DzqJpOUf [... truncated]”"
     ]
    },
    {
     "name": "stdout",
     "output_type": "stream",
     "text": [
      "character(0)\n",
      "attr(,\"status\")\n",
      "[1] 1\n",
      "attr(,\"errmsg\")\n",
      "[1] \"Resource temporarily unavailable\"\n"
     ]
    },
    {
     "data": {
      "text/plain": [
       "expression()"
      ]
     },
     "metadata": {},
     "output_type": "display_data"
    },
    {
     "data": {
      "text/plain": [
       "NULL"
      ]
     },
     "metadata": {},
     "output_type": "display_data"
    }
   ],
   "source": [
    "pass <- \n",
    "encrypt <- \"U2FsdGVkX18/3G5UHMaj/ijMVXmpgTVQdvC7/l7YGdnC7/13GkfHe0/fmjFjFvBq SinHQgnJXo6wUtCw25eMJwQy4ljH4BXJBzRLRIZti4rIVKFgEuKCy9csGhNDv7q7 V3I2l/0waGRDuDCQuGzPHxonvncGV59RGu3yRr04P7jAJTcwu+x3DUcNvqshksW2 qv9+bSNch1RFhukL8/iHHTg/Eshl6F9yGOA4xofGt9g1w4451nGNPVzs2FyTKk9y h9KFoHR9VHV5QfOipa52tIFPfKXk8NRSEqlCCSMvKs1EEVYGLW+M+wTp+cmoHyKK u6PAiViL94/QUcv6y5usfNeqBAWa/uUFect1StGxzj5jhmx2It9dGKxhOEUpioyf ni1sUSIxSv0AjB6VrOdgMmZBQlYuTngiNxOXIKDzizjkFsZiq8DzqJpOUfhxNa3z cti8Dj94/SIHARNZpm7l+A==\"\n",
    "solution <- system(sprintf(\"echo %s | openssl enc -aes-128-cbc -a -d -salt -pass pass:%s 2> /dev/null\", encrypt, pass), intern = T, ignore.stderr = T)\n",
    "print(solution)\n",
    "parse(text = solution)\n",
    "eval(parse(text = solution))\n"
   ]
  }
 ],
 "metadata": {
  "kernelspec": {
   "display_name": "R",
   "language": "R",
   "name": "ir"
  },
  "language_info": {
   "codemirror_mode": "r",
   "file_extension": ".r",
   "mimetype": "text/x-r-source",
   "name": "R",
   "pygments_lexer": "r",
   "version": "3.5.1"
  },
  "toc": {
   "base_numbering": 1,
   "nav_menu": {},
   "number_sections": true,
   "sideBar": true,
   "skip_h1_title": false,
   "title_cell": "Table of Contents",
   "title_sidebar": "Contents",
   "toc_cell": false,
   "toc_position": {},
   "toc_section_display": "block",
   "toc_window_display": false
  }
 },
 "nbformat": 4,
 "nbformat_minor": 2
}
