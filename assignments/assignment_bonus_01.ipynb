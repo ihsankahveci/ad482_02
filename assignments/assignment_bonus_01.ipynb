{
 "cells": [
  {
   "cell_type": "markdown",
   "metadata": {},
   "source": [
    "# BONUS ASSIGNMENT 01: INTRODUCTION TO DATA.TABLE AND DPLYR"
   ]
  },
  {
   "cell_type": "markdown",
   "metadata": {},
   "source": [
    "**Please enter your student number below and run the cell:**"
   ]
  },
  {
   "cell_type": "code",
   "execution_count": null,
   "metadata": {},
   "outputs": [],
   "source": [
    "library(IRdisplay)\n",
    "studentid <- readline(prompt = \"Please enter your student id: \")\n",
    "filename <- \"assignment_bonus_01.ipynb\"\n",
    "newname <- gsub(\"\\\\.ipynb\", sprintf(\"_%s.ipynb\", studentid), filename)\n",
    "system(sprintf(\"cp %s %s\", filename, newname))\n",
    "IRdisplay::display_html(sprintf(\"<B>NOW CLOSE THIS NOTEBOOK AND OPEN %s.<p></p>YOU SHOULD SAVE YOUR WORK IN %s AND UPLOAD THAT FILE</B>\", newname, newname)) "
   ]
  },
  {
   "cell_type": "markdown",
   "metadata": {},
   "source": [
    "**NOTE THAT YOU SHOULD SAVE AND DOWNLOAD THE NOTEBOOK FILE FREQUENTLY SO THAT YOU DON'T USE YOUR WORK IN CASE OF DISCONNECTION OR SESSION TIMEOUT** "
   ]
  },
  {
   "cell_type": "markdown",
   "metadata": {},
   "source": [
    "## JUPYTER MODES AND SHORTCUTS"
   ]
  },
  {
   "cell_type": "markdown",
   "metadata": {},
   "source": [
    "Please watch this short video on how to use the modes and shortcuts in Jupyter notebooks:\n",
    "\n",
    "[![The Data Incubator - Keyboard Shortcuts in Jupyter](https://img.youtube.com/vi/cuHY1o3Cf2s/0.jpg)](https://www.youtube.com/watch?v=cuHY1o3Cf2s&index=4&list=PLjDTd-bDo6Q3nnt7y_GjMaYD79-stYZ-O&t=0s)"
   ]
  },
  {
   "cell_type": "markdown",
   "metadata": {},
   "source": [
    "## INTRODUCTION TO DATA.TABLE"
   ]
  },
  {
   "cell_type": "markdown",
   "metadata": {},
   "source": [
    "- Open [Introduction to data.table](https://cran.r-project.org/web/packages/data.table/vignettes/datatable-intro.html) vignette\n",
    "\n",
    "- Recreate the example in the vignette here below. You may try to change the parameters and try to type the statements yourself instead of copy-paste\n",
    "\n",
    "- You can add or delete cells above/below\n",
    "\n",
    "- You can convert cells to \"markdown\" (\"m\" in command mode) or \"code\" (\"y\" in command mode) and you can add instructions to markdown cells and/or comments starting with \"#\" into code cells as to your liking\n",
    "\n",
    "- To switch to command mode from edit mode, hit \"Esc\"\n",
    "\n",
    "- Do not overwrite 1.2.1 and other sections below!\n",
    "\n",
    "- First load data.table library\n",
    "\n",
    "- The flights14.csv data is under \"data\" directory of this repository. You may enter the path as \"../data/csv/flights.csv\"\n"
   ]
  },
  {
   "cell_type": "code",
   "execution_count": null,
   "metadata": {},
   "outputs": [],
   "source": [
    "# comment as full line in code cell\n",
    "print(\"this line does nothing other than printing this line\") # comment at the end of code line in code cell\n",
    "# you can delete this cell with \"dd\" in command mode"
   ]
  },
  {
   "cell_type": "code",
   "execution_count": null,
   "metadata": {},
   "outputs": [],
   "source": []
  },
  {
   "cell_type": "markdown",
   "metadata": {},
   "source": [
    "### Introduction to data.table exercises"
   ]
  },
  {
   "cell_type": "markdown",
   "metadata": {},
   "source": [
    "First let's set the maximum decimal digits to be printed to 2:"
   ]
  },
  {
   "cell_type": "code",
   "execution_count": null,
   "metadata": {},
   "outputs": [],
   "source": [
    "options(digits = 2)"
   ]
  },
  {
   "cell_type": "markdown",
   "metadata": {},
   "source": [
    "Please solve the exercises below:"
   ]
  },
  {
   "cell_type": "markdown",
   "metadata": {},
   "source": [
    "**EXERCISE 1:**\n",
    "\n",
    "- Select only those rows where month is between 6 and 8 (you can use %in% operator)\n",
    "- create columns maxdep_del, mindep_del, meandep_del and sddep_del for the max(), min(), mean() and sd() values of dep_delay\n",
    "- group the results first hour and then origin\n",
    "- chain the statment and order the results first by hour and then by origin\n",
    "- Interpret the result with a sentence in a markdown cell"
   ]
  },
  {
   "cell_type": "code",
   "execution_count": null,
   "metadata": {},
   "outputs": [],
   "source": []
  },
  {
   "cell_type": "markdown",
   "metadata": {},
   "source": [
    "**SOLUTION 1:**\n",
    "\n",
    "Assign the password provided by the instructors into variable \"pass\" and run the below code:"
   ]
  },
  {
   "cell_type": "code",
   "execution_count": null,
   "metadata": {},
   "outputs": [],
   "source": [
    "pass <- \n",
    "encrypt <- \"U2FsdGVkX19UprovmQZtlK0jvBZpLEv+px6KGPZnz2pKjm5SYRQv8codJPML3Wzz 2tpHYo5Coqfef6fh6pDiuo7GoII4qMAWE+gsaRCVNYC+I7LS+zfReCNurhDIsINu ULTnjg0wEF+lA+4hPLxDSIktAZjVaAP7ZMOPjF1J4gRq+C5jBKVlNV1nYiiMpNi5 n15VIPC5PQrLgOtAAs5EHfzpf0HjYwj8+QYGX1/e2znpFzf41aFcbQwe3eq2z3ZJ BSU5rCMMaw8OUNqGYSqDRpWZpbz5t858RXA6/YsjFZk0grb5bRsQLZWCyxKr56WZ +srX8qy1GxgAlyFWm6hAjs/szJaflvu6OlOKAcZ03uo=\"\n",
    "solution <- system(sprintf(\"echo %s | openssl enc -aes-128-cbc -a -d -salt -pass pass:%s 2> /dev/null\", encrypt, pass), intern = T, ignore.stderr = T)\n",
    "print(solution)\n",
    "parse(text = solution)\n",
    "eval(parse(text = solution))"
   ]
  },
  {
   "cell_type": "markdown",
   "metadata": {},
   "source": [
    "**EXERCISE 2:**\n",
    "\n",
    "- Select those rows where origin is JFK and destination is LAX,\n",
    "- apply the mean function to dep_delay, arr_delay, air_time and distance columns. Use .SD and .SDcols variables and lapply function\n",
    "- chain the statement to order by dep_delay\n",
    "- Interpret the result by a sentence (inside a markdown cell)"
   ]
  },
  {
   "cell_type": "code",
   "execution_count": null,
   "metadata": {},
   "outputs": [],
   "source": []
  },
  {
   "cell_type": "markdown",
   "metadata": {},
   "source": [
    "**SOLUTION 2:**"
   ]
  },
  {
   "cell_type": "code",
   "execution_count": null,
   "metadata": {},
   "outputs": [],
   "source": [
    "pass <-\n",
    "encrypt <- \"U2FsdGVkX189HWzhlYsSBrN/bdpsuhGLUypQlBFoJ3yeDXZ/f8k2Lwf8AKtOyjis 71pLY/GMgGmXqmMsTVzQE0az9hkRp5bWUPydgOkv0MO1rBBWW6G2NRDPQMvbFkij wfMmBcdbCcIuMMyOGTK6poV3b1DBrgJMlTFE1VgfyJOOlqJYwl0+nAACJ9fCU3sg tPtdM0QFOLEhLCJTkUr2N0Xlf51B0UqH1tvvQ1nEB9/Je5OxwUnqQLXyBNXvuTB8 TXQgVc8fOFk3KRXvIhzIbg==\"\n",
    "solution <- system(sprintf(\"echo %s | openssl enc -aes-128-cbc -a -d -salt -pass pass:%s 2> /dev/null\", encrypt, pass), intern = T, ignore.stderr = T)\n",
    "print(solution)\n",
    "parse(text = solution)\n",
    "eval(parse(text = solution))"
   ]
  },
  {
   "cell_type": "markdown",
   "metadata": {},
   "source": [
    "## REFERENCE SEMANTICS IN DATA.TABLE"
   ]
  },
  {
   "cell_type": "markdown",
   "metadata": {},
   "source": [
    "- Open [Reference semantics](https://cran.r-project.org/web/packages/data.table/vignettes/datatable-reference-semantics.html) vignette\n",
    "- Continue with the same dataset\n",
    "- Same instructions as above (reproduce the steps in the vignette below, create new markdown/code cells when necessary)\n"
   ]
  },
  {
   "cell_type": "code",
   "execution_count": null,
   "metadata": {},
   "outputs": [],
   "source": []
  },
  {
   "cell_type": "markdown",
   "metadata": {},
   "source": [
    "### data.table reference semantics exercises"
   ]
  },
  {
   "cell_type": "markdown",
   "metadata": {},
   "source": [
    "**EXERCISE 3:**\n",
    "\n",
    "Using the information and method in 2e section of the vignette:\n",
    "- Deep copy the flights object into flights2\n",
    "- In flights2, create columns mean_dep_delay, mean_arr_delay, mean_air_time and mean_distance in place (with :=) by calculating the respective means grouping by origin and dest. You may use sprintf or paste functions to create column names easily\n",
    "- Chaining, subset for 1st days and return origin, dest and the difference between dep_delay and mean_dep_delay (by calculating the difference of course) without modifying in place (w/o :=) and as a data.table (so you should use .())"
   ]
  },
  {
   "cell_type": "code",
   "execution_count": null,
   "metadata": {},
   "outputs": [],
   "source": []
  },
  {
   "cell_type": "markdown",
   "metadata": {},
   "source": [
    "**SOLUTION 3**:"
   ]
  },
  {
   "cell_type": "code",
   "execution_count": null,
   "metadata": {},
   "outputs": [],
   "source": [
    "pass <- \n",
    "encrypt <- \"U2FsdGVkX1/rtArVUvnh67sTC44kRUJ3uQOZzAgJ4EumPc9XZ2iAPC0WtNVv33ML DgSAgPPQdQzQlIHV1V23PmtWkCYPlHCYs7PCjkuC0dCmWiS1tQMJcYiTrs5lv+iq QFSLk6WNpauMxq0Wqu3zuIIkeDrACNx/1giElIiQmpbqyNcU8kLuLGlSij9xoJgQ SYbMHTmDDS3T9w8TMhBghyVLqnQk5Z37RQliw5UclgvgBYgHpHwAKbwku6Kp7unf /atSx63ygqVmvj2KfWu+0i03O2RCx7mNzFuphrRpBMlnkBEWKGJE9D9MRhviSHDn hMAd9G6/QAO9PnlFCiPKnYyWPX3SWQHdl0pcm2G0CG7WIVK3USkp30fd14aPJ5DX m9SAtEwjoeF3wvHctrS0dW81XgXBQN8EhJ24H0A7f6k=\"\n",
    "solution <- system(sprintf(\"echo %s | openssl enc -aes-128-cbc -a -d -salt -pass pass:%s 2> /dev/null\", encrypt, pass), intern = T, ignore.stderr = T)\n",
    "print(solution)\n",
    "parse(text = solution)\n",
    "eval(parse(text = solution))"
   ]
  },
  {
   "cell_type": "markdown",
   "metadata": {},
   "source": [
    "## INTRODUCTION TO DPLYR"
   ]
  },
  {
   "cell_type": "markdown",
   "metadata": {},
   "source": [
    "- Open [Introduction to data.table](https://cran.r-project.org/web/packages/data.table/vignettes/datatable-intro.html) vignette\n",
    "\n",
    "\n",
    "- Open [Introduction to dplyr](https://cran.r-project.org/web/packages/dplyr/vignettes/dplyr.html) vignette\n",
    "\n",
    "- Same instructions as above (reproduce the steps in the vignette below, create new markdown/code cells when necessary)\n",
    "\n",
    "- First load tidyverse library\n",
    "\n",
    "- You can access the flights dataset by loading the installed \"nycflights13\" package\n",
    "\n"
   ]
  },
  {
   "cell_type": "code",
   "execution_count": null,
   "metadata": {},
   "outputs": [],
   "source": []
  },
  {
   "cell_type": "markdown",
   "metadata": {},
   "source": [
    "**EXERCISE 4:**"
   ]
  },
  {
   "cell_type": "markdown",
   "metadata": {},
   "source": [
    "Starting with the original flights object and using pipes (%>%) for dplyr and \"+\" for ggplot:\n",
    "- Exclude column tailnum and flight\n",
    "- Filter for 1st days and destination LAX\n",
    "- Create a new column \"delayrate\" as the ratio of dep_delay to air_time\n",
    "- Group by with month and origin\n",
    "- Summarise by getting the average of delayrate as \"meandelayrate\"\n",
    "- Order by month and meandelayrate\n",
    "- Create a ggplot for columns month and meandelayrate inside aes(). Add also \"color = origin\" into the aes() argument. See what happens\n",
    "- Add geom_line() to the plot"
   ]
  },
  {
   "cell_type": "code",
   "execution_count": null,
   "metadata": {
    "scrolled": false
   },
   "outputs": [],
   "source": []
  },
  {
   "cell_type": "markdown",
   "metadata": {},
   "source": [
    "**SOLUTION 4:**"
   ]
  },
  {
   "cell_type": "code",
   "execution_count": null,
   "metadata": {},
   "outputs": [],
   "source": [
    "pass <- \n",
    "encrypt <- \"U2FsdGVkX18/3G5UHMaj/ijMVXmpgTVQdvC7/l7YGdnC7/13GkfHe0/fmjFjFvBq SinHQgnJXo6wUtCw25eMJwQy4ljH4BXJBzRLRIZti4rIVKFgEuKCy9csGhNDv7q7 V3I2l/0waGRDuDCQuGzPHxonvncGV59RGu3yRr04P7jAJTcwu+x3DUcNvqshksW2 qv9+bSNch1RFhukL8/iHHTg/Eshl6F9yGOA4xofGt9g1w4451nGNPVzs2FyTKk9y h9KFoHR9VHV5QfOipa52tIFPfKXk8NRSEqlCCSMvKs1EEVYGLW+M+wTp+cmoHyKK u6PAiViL94/QUcv6y5usfNeqBAWa/uUFect1StGxzj5jhmx2It9dGKxhOEUpioyf ni1sUSIxSv0AjB6VrOdgMmZBQlYuTngiNxOXIKDzizjkFsZiq8DzqJpOUfhxNa3z cti8Dj94/SIHARNZpm7l+A==\"\n",
    "solution <- system(sprintf(\"echo %s | openssl enc -aes-128-cbc -a -d -salt -pass pass:%s 2> /dev/null\", encrypt, pass), intern = T, ignore.stderr = T)\n",
    "print(solution)\n",
    "parse(text = solution)\n",
    "eval(parse(text = solution))\n"
   ]
  }
 ],
 "metadata": {
  "kernelspec": {
   "display_name": "R",
   "language": "R",
   "name": "ir"
  },
  "language_info": {
   "codemirror_mode": "r",
   "file_extension": ".r",
   "mimetype": "text/x-r-source",
   "name": "R",
   "pygments_lexer": "r",
   "version": "3.5.1"
  },
  "toc": {
   "base_numbering": 1,
   "nav_menu": {},
   "number_sections": true,
   "sideBar": true,
   "skip_h1_title": false,
   "title_cell": "Table of Contents",
   "title_sidebar": "Contents",
   "toc_cell": false,
   "toc_position": {},
   "toc_section_display": "block",
   "toc_window_display": false
  }
 },
 "nbformat": 4,
 "nbformat_minor": 2
}
